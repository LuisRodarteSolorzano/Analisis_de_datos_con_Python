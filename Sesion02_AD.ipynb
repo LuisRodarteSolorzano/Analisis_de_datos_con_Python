{
  "nbformat": 4,
  "nbformat_minor": 0,
  "metadata": {
    "colab": {
      "provenance": []
    },
    "kernelspec": {
      "name": "python3",
      "display_name": "Python 3"
    },
    "language_info": {
      "name": "python"
    }
  },
  "cells": [
    {
      "cell_type": "markdown",
      "source": [
        "# **Sesión 02: Introducción a la visualización de datos: Distribuciones**"
      ],
      "metadata": {
        "id": "ypASzVutflhy"
      }
    },
    {
      "cell_type": "markdown",
      "source": [
        "***\n",
        "***\n",
        "***"
      ],
      "metadata": {
        "id": "VQ-NQo2yi2Ar"
      }
    },
    {
      "cell_type": "markdown",
      "source": [
        "## **Prework**"
      ],
      "metadata": {
        "id": "-9pl0ReqfrA3"
      }
    },
    {
      "cell_type": "code",
      "execution_count": null,
      "metadata": {
        "id": "k2s_Rjmmf_0R"
      },
      "outputs": [],
      "source": [
        "import pandas as pd"
      ]
    },
    {
      "cell_type": "code",
      "execution_count": null,
      "metadata": {
        "id": "J_QRo2MZf_0T"
      },
      "outputs": [],
      "source": [
        "df = pd.read_csv('/content/drive/MyDrive/BEDU2023F3/Remoto_Datasets/Remoto melbourne_housing-clean.csv', index_col=0)"
      ]
    },
    {
      "cell_type": "code",
      "execution_count": null,
      "metadata": {
        "id": "GmFSDDf5f_0T",
        "outputId": "6abda121-b9de-41e4-94a6-b83068df946d",
        "colab": {
          "base_uri": "https://localhost:8080/",
          "height": 409
        }
      },
      "outputs": [
        {
          "output_type": "execute_result",
          "data": {
            "text/plain": [
              "             suburb               address  rooms type      price method  \\\n",
              "11641    Whittlesea         30 Sherwin St      3    h   601000.0      S   \n",
              "11642  Williamstown           87 Pasco St      3    h  1285000.0      S   \n",
              "11643    Yarraville           2 Adeney St      2    h   750000.0     SP   \n",
              "11644    Yarraville       54 Pentland Pde      6    h  2450000.0     VB   \n",
              "11645    Yarraville  10/127 Somerville Rd      3    t   645000.0     SP   \n",
              "\n",
              "            seller_g        date  distance  postcode  bedroom_2  bathroom  \\\n",
              "11641            Ray  29/07/2017      35.5    3757.0        3.0       2.0   \n",
              "11642            Jas  29/07/2017       6.8    3016.0        2.0       1.0   \n",
              "11643  hockingstuart  29/07/2017       6.3    3013.0        3.0       2.0   \n",
              "11644        Village  29/07/2017       6.3    3013.0        3.0       2.0   \n",
              "11645            Jas  29/07/2017       6.3    3013.0        2.0       1.0   \n",
              "\n",
              "       car  land_size council_area  latitude  longitude           region_name  \\\n",
              "11641  2.0     1970.0   Manningham -37.76311  145.10494     Northern Victoria   \n",
              "11642  1.0     2010.0   Whittlesea -37.68199  145.01744  Western Metropolitan   \n",
              "11643  2.0     1999.0      Darebin -37.75948  144.99615  Western Metropolitan   \n",
              "11644  1.0     2011.0         Hume -37.70322  144.88236  Western Metropolitan   \n",
              "11645  1.0     1980.0         Hume -37.69815  144.88019  Western Metropolitan   \n",
              "\n",
              "       property_count  \n",
              "11641          2170.0  \n",
              "11642          6380.0  \n",
              "11643          6543.0  \n",
              "11644          6543.0  \n",
              "11645          6543.0  "
            ],
            "text/html": [
              "\n",
              "  <div id=\"df-19826cff-e8aa-429e-9fe5-d48cede96d66\">\n",
              "    <div class=\"colab-df-container\">\n",
              "      <div>\n",
              "<style scoped>\n",
              "    .dataframe tbody tr th:only-of-type {\n",
              "        vertical-align: middle;\n",
              "    }\n",
              "\n",
              "    .dataframe tbody tr th {\n",
              "        vertical-align: top;\n",
              "    }\n",
              "\n",
              "    .dataframe thead th {\n",
              "        text-align: right;\n",
              "    }\n",
              "</style>\n",
              "<table border=\"1\" class=\"dataframe\">\n",
              "  <thead>\n",
              "    <tr style=\"text-align: right;\">\n",
              "      <th></th>\n",
              "      <th>suburb</th>\n",
              "      <th>address</th>\n",
              "      <th>rooms</th>\n",
              "      <th>type</th>\n",
              "      <th>price</th>\n",
              "      <th>method</th>\n",
              "      <th>seller_g</th>\n",
              "      <th>date</th>\n",
              "      <th>distance</th>\n",
              "      <th>postcode</th>\n",
              "      <th>bedroom_2</th>\n",
              "      <th>bathroom</th>\n",
              "      <th>car</th>\n",
              "      <th>land_size</th>\n",
              "      <th>council_area</th>\n",
              "      <th>latitude</th>\n",
              "      <th>longitude</th>\n",
              "      <th>region_name</th>\n",
              "      <th>property_count</th>\n",
              "    </tr>\n",
              "  </thead>\n",
              "  <tbody>\n",
              "    <tr>\n",
              "      <th>11641</th>\n",
              "      <td>Whittlesea</td>\n",
              "      <td>30 Sherwin St</td>\n",
              "      <td>3</td>\n",
              "      <td>h</td>\n",
              "      <td>601000.0</td>\n",
              "      <td>S</td>\n",
              "      <td>Ray</td>\n",
              "      <td>29/07/2017</td>\n",
              "      <td>35.5</td>\n",
              "      <td>3757.0</td>\n",
              "      <td>3.0</td>\n",
              "      <td>2.0</td>\n",
              "      <td>2.0</td>\n",
              "      <td>1970.0</td>\n",
              "      <td>Manningham</td>\n",
              "      <td>-37.76311</td>\n",
              "      <td>145.10494</td>\n",
              "      <td>Northern Victoria</td>\n",
              "      <td>2170.0</td>\n",
              "    </tr>\n",
              "    <tr>\n",
              "      <th>11642</th>\n",
              "      <td>Williamstown</td>\n",
              "      <td>87 Pasco St</td>\n",
              "      <td>3</td>\n",
              "      <td>h</td>\n",
              "      <td>1285000.0</td>\n",
              "      <td>S</td>\n",
              "      <td>Jas</td>\n",
              "      <td>29/07/2017</td>\n",
              "      <td>6.8</td>\n",
              "      <td>3016.0</td>\n",
              "      <td>2.0</td>\n",
              "      <td>1.0</td>\n",
              "      <td>1.0</td>\n",
              "      <td>2010.0</td>\n",
              "      <td>Whittlesea</td>\n",
              "      <td>-37.68199</td>\n",
              "      <td>145.01744</td>\n",
              "      <td>Western Metropolitan</td>\n",
              "      <td>6380.0</td>\n",
              "    </tr>\n",
              "    <tr>\n",
              "      <th>11643</th>\n",
              "      <td>Yarraville</td>\n",
              "      <td>2 Adeney St</td>\n",
              "      <td>2</td>\n",
              "      <td>h</td>\n",
              "      <td>750000.0</td>\n",
              "      <td>SP</td>\n",
              "      <td>hockingstuart</td>\n",
              "      <td>29/07/2017</td>\n",
              "      <td>6.3</td>\n",
              "      <td>3013.0</td>\n",
              "      <td>3.0</td>\n",
              "      <td>2.0</td>\n",
              "      <td>2.0</td>\n",
              "      <td>1999.0</td>\n",
              "      <td>Darebin</td>\n",
              "      <td>-37.75948</td>\n",
              "      <td>144.99615</td>\n",
              "      <td>Western Metropolitan</td>\n",
              "      <td>6543.0</td>\n",
              "    </tr>\n",
              "    <tr>\n",
              "      <th>11644</th>\n",
              "      <td>Yarraville</td>\n",
              "      <td>54 Pentland Pde</td>\n",
              "      <td>6</td>\n",
              "      <td>h</td>\n",
              "      <td>2450000.0</td>\n",
              "      <td>VB</td>\n",
              "      <td>Village</td>\n",
              "      <td>29/07/2017</td>\n",
              "      <td>6.3</td>\n",
              "      <td>3013.0</td>\n",
              "      <td>3.0</td>\n",
              "      <td>2.0</td>\n",
              "      <td>1.0</td>\n",
              "      <td>2011.0</td>\n",
              "      <td>Hume</td>\n",
              "      <td>-37.70322</td>\n",
              "      <td>144.88236</td>\n",
              "      <td>Western Metropolitan</td>\n",
              "      <td>6543.0</td>\n",
              "    </tr>\n",
              "    <tr>\n",
              "      <th>11645</th>\n",
              "      <td>Yarraville</td>\n",
              "      <td>10/127 Somerville Rd</td>\n",
              "      <td>3</td>\n",
              "      <td>t</td>\n",
              "      <td>645000.0</td>\n",
              "      <td>SP</td>\n",
              "      <td>Jas</td>\n",
              "      <td>29/07/2017</td>\n",
              "      <td>6.3</td>\n",
              "      <td>3013.0</td>\n",
              "      <td>2.0</td>\n",
              "      <td>1.0</td>\n",
              "      <td>1.0</td>\n",
              "      <td>1980.0</td>\n",
              "      <td>Hume</td>\n",
              "      <td>-37.69815</td>\n",
              "      <td>144.88019</td>\n",
              "      <td>Western Metropolitan</td>\n",
              "      <td>6543.0</td>\n",
              "    </tr>\n",
              "  </tbody>\n",
              "</table>\n",
              "</div>\n",
              "      <button class=\"colab-df-convert\" onclick=\"convertToInteractive('df-19826cff-e8aa-429e-9fe5-d48cede96d66')\"\n",
              "              title=\"Convert this dataframe to an interactive table.\"\n",
              "              style=\"display:none;\">\n",
              "        \n",
              "  <svg xmlns=\"http://www.w3.org/2000/svg\" height=\"24px\"viewBox=\"0 0 24 24\"\n",
              "       width=\"24px\">\n",
              "    <path d=\"M0 0h24v24H0V0z\" fill=\"none\"/>\n",
              "    <path d=\"M18.56 5.44l.94 2.06.94-2.06 2.06-.94-2.06-.94-.94-2.06-.94 2.06-2.06.94zm-11 1L8.5 8.5l.94-2.06 2.06-.94-2.06-.94L8.5 2.5l-.94 2.06-2.06.94zm10 10l.94 2.06.94-2.06 2.06-.94-2.06-.94-.94-2.06-.94 2.06-2.06.94z\"/><path d=\"M17.41 7.96l-1.37-1.37c-.4-.4-.92-.59-1.43-.59-.52 0-1.04.2-1.43.59L10.3 9.45l-7.72 7.72c-.78.78-.78 2.05 0 2.83L4 21.41c.39.39.9.59 1.41.59.51 0 1.02-.2 1.41-.59l7.78-7.78 2.81-2.81c.8-.78.8-2.07 0-2.86zM5.41 20L4 18.59l7.72-7.72 1.47 1.35L5.41 20z\"/>\n",
              "  </svg>\n",
              "      </button>\n",
              "      \n",
              "  <style>\n",
              "    .colab-df-container {\n",
              "      display:flex;\n",
              "      flex-wrap:wrap;\n",
              "      gap: 12px;\n",
              "    }\n",
              "\n",
              "    .colab-df-convert {\n",
              "      background-color: #E8F0FE;\n",
              "      border: none;\n",
              "      border-radius: 50%;\n",
              "      cursor: pointer;\n",
              "      display: none;\n",
              "      fill: #1967D2;\n",
              "      height: 32px;\n",
              "      padding: 0 0 0 0;\n",
              "      width: 32px;\n",
              "    }\n",
              "\n",
              "    .colab-df-convert:hover {\n",
              "      background-color: #E2EBFA;\n",
              "      box-shadow: 0px 1px 2px rgba(60, 64, 67, 0.3), 0px 1px 3px 1px rgba(60, 64, 67, 0.15);\n",
              "      fill: #174EA6;\n",
              "    }\n",
              "\n",
              "    [theme=dark] .colab-df-convert {\n",
              "      background-color: #3B4455;\n",
              "      fill: #D2E3FC;\n",
              "    }\n",
              "\n",
              "    [theme=dark] .colab-df-convert:hover {\n",
              "      background-color: #434B5C;\n",
              "      box-shadow: 0px 1px 3px 1px rgba(0, 0, 0, 0.15);\n",
              "      filter: drop-shadow(0px 1px 2px rgba(0, 0, 0, 0.3));\n",
              "      fill: #FFFFFF;\n",
              "    }\n",
              "  </style>\n",
              "\n",
              "      <script>\n",
              "        const buttonEl =\n",
              "          document.querySelector('#df-19826cff-e8aa-429e-9fe5-d48cede96d66 button.colab-df-convert');\n",
              "        buttonEl.style.display =\n",
              "          google.colab.kernel.accessAllowed ? 'block' : 'none';\n",
              "\n",
              "        async function convertToInteractive(key) {\n",
              "          const element = document.querySelector('#df-19826cff-e8aa-429e-9fe5-d48cede96d66');\n",
              "          const dataTable =\n",
              "            await google.colab.kernel.invokeFunction('convertToInteractive',\n",
              "                                                     [key], {});\n",
              "          if (!dataTable) return;\n",
              "\n",
              "          const docLinkHtml = 'Like what you see? Visit the ' +\n",
              "            '<a target=\"_blank\" href=https://colab.research.google.com/notebooks/data_table.ipynb>data table notebook</a>'\n",
              "            + ' to learn more about interactive tables.';\n",
              "          element.innerHTML = '';\n",
              "          dataTable['output_type'] = 'display_data';\n",
              "          await google.colab.output.renderOutput(dataTable, element);\n",
              "          const docLink = document.createElement('div');\n",
              "          docLink.innerHTML = docLinkHtml;\n",
              "          element.appendChild(docLink);\n",
              "        }\n",
              "      </script>\n",
              "    </div>\n",
              "  </div>\n",
              "  "
            ]
          },
          "metadata": {},
          "execution_count": 4
        }
      ],
      "source": [
        "df.tail()"
      ]
    },
    {
      "cell_type": "code",
      "execution_count": null,
      "metadata": {
        "id": "l5rIrx7Sf_0U",
        "outputId": "b236c2d9-73d9-45d1-fbe3-dbda6ba405d8",
        "colab": {
          "base_uri": "https://localhost:8080/"
        }
      },
      "outputs": [
        {
          "output_type": "execute_result",
          "data": {
            "text/plain": [
              "(11646, 19)"
            ]
          },
          "metadata": {},
          "execution_count": 5
        }
      ],
      "source": [
        "df.shape"
      ]
    },
    {
      "cell_type": "code",
      "execution_count": null,
      "metadata": {
        "id": "VcOlvgn6f_0V",
        "outputId": "5afe279d-ca88-40a6-aac3-fcc808f8be9f",
        "colab": {
          "base_uri": "https://localhost:8080/"
        }
      },
      "outputs": [
        {
          "output_type": "execute_result",
          "data": {
            "text/plain": [
              "price\n",
              "(76085.0, 530750.0]       1747\n",
              "(530750.0, 976500.0]      4835\n",
              "(976500.0, 1422250.0]     2664\n",
              "(1422250.0, 1868000.0]    1278\n",
              "(1868000.0, 2313750.0]     570\n",
              "(2313750.0, 2759500.0]     261\n",
              "(2759500.0, 3205250.0]     141\n",
              "(3205250.0, 3651000.0]      67\n",
              "(3651000.0, 4096750.0]      40\n",
              "(4096750.0, 4542500.0]      16\n",
              "(4542500.0, 4988250.0]      10\n",
              "(4988250.0, 5434000.0]       5\n",
              "(5434000.0, 5879750.0]       7\n",
              "(5879750.0, 6325500.0]       1\n",
              "(6325500.0, 6771250.0]       1\n",
              "(6771250.0, 7217000.0]       0\n",
              "(7217000.0, 7662750.0]       1\n",
              "(7662750.0, 8108500.0]       1\n",
              "(8108500.0, 8554250.0]       0\n",
              "(8554250.0, 9000000.0]       1\n",
              "Name: price, dtype: int64"
            ]
          },
          "metadata": {},
          "execution_count": 6
        }
      ],
      "source": [
        "df['price'].groupby(pd.cut(df['price'], 20)).count()"
      ]
    },
    {
      "cell_type": "code",
      "execution_count": null,
      "metadata": {
        "id": "WvPc2xbqf_0V",
        "outputId": "9fe78301-e9ea-4661-aef0-a33dd84ffdcd",
        "colab": {
          "base_uri": "https://localhost:8080/"
        }
      },
      "outputs": [
        {
          "output_type": "stream",
          "name": "stdout",
          "text": [
            "0        (1422250.0, 1868000.0]\n",
            "1         (976500.0, 1422250.0]\n",
            "2        (1422250.0, 1868000.0]\n",
            "3          (530750.0, 976500.0]\n",
            "4        (1422250.0, 1868000.0]\n",
            "                  ...          \n",
            "11641      (530750.0, 976500.0]\n",
            "11642     (976500.0, 1422250.0]\n",
            "11643      (530750.0, 976500.0]\n",
            "11644    (2313750.0, 2759500.0]\n",
            "11645      (530750.0, 976500.0]\n",
            "Name: price, Length: 11646, dtype: category\n",
            "Categories (20, interval[float64, right]): [(76085.0, 530750.0] < (530750.0, 976500.0] <\n",
            "                                            (976500.0, 1422250.0] < (1422250.0, 1868000.0] < ... <\n",
            "                                            (7217000.0, 7662750.0] < (7662750.0, 8108500.0] <\n",
            "                                            (8108500.0, 8554250.0] < (8554250.0, 9000000.0]]\n"
          ]
        }
      ],
      "source": [
        "print(pd.cut(df['price'], 20))"
      ]
    },
    {
      "cell_type": "code",
      "execution_count": null,
      "metadata": {
        "id": "9cYLfF5gf_0V"
      },
      "outputs": [],
      "source": [
        "import seaborn as sns"
      ]
    },
    {
      "cell_type": "code",
      "execution_count": null,
      "metadata": {
        "id": "bqVdhRoxf_0V",
        "outputId": "522791c5-2e7f-42f2-c0de-1adfcb526d1d",
        "colab": {
          "base_uri": "https://localhost:8080/",
          "height": 351
        }
      },
      "outputs": [
        {
          "output_type": "stream",
          "name": "stderr",
          "text": [
            "/usr/local/lib/python3.8/dist-packages/seaborn/distributions.py:2619: FutureWarning: `distplot` is a deprecated function and will be removed in a future version. Please adapt your code to use either `displot` (a figure-level function with similar flexibility) or `histplot` (an axes-level function for histograms).\n",
            "  warnings.warn(msg, FutureWarning)\n"
          ]
        },
        {
          "output_type": "execute_result",
          "data": {
            "text/plain": [
              "<matplotlib.axes._subplots.AxesSubplot at 0x7fa6da322400>"
            ]
          },
          "metadata": {},
          "execution_count": 9
        },
        {
          "output_type": "display_data",
          "data": {
            "text/plain": [
              "<Figure size 432x288 with 1 Axes>"
            ],
            "image/png": "[encoded data removed]"
          },
          "metadata": {
            "needs_background": "light"
          }
        }
      ],
      "source": [
        "sns.distplot(df['price'], bins=100, kde=False)"
      ]
    },
    {
      "cell_type": "code",
      "execution_count": null,
      "metadata": {
        "id": "8tPKj7k4f_0W",
        "outputId": "0320bc3b-bb4c-49d5-e408-de92f0d150f3",
        "colab": {
          "base_uri": "https://localhost:8080/",
          "height": 307
        }
      },
      "outputs": [
        {
          "output_type": "execute_result",
          "data": {
            "text/plain": [
              "<matplotlib.axes._subplots.AxesSubplot at 0x7fa6d9ce5cd0>"
            ]
          },
          "metadata": {},
          "execution_count": 10
        },
        {
          "output_type": "display_data",
          "data": {
            "text/plain": [
              "<Figure size 432x288 with 1 Axes>"
            ],
            "image/png": "[encoded data removed]"
          },
          "metadata": {
            "needs_background": "light"
          }
        }
      ],
      "source": [
        "sns.distplot(df['price'], bins=10)"
      ]
    },
    {
      "cell_type": "code",
      "execution_count": null,
      "metadata": {
        "id": "qLTf4FIDf_0W"
      },
      "outputs": [],
      "source": [
        "serie = pd.Series([1, 1, 1, 1, 1, 1, 2, 1, 1, 1, 3, 3, 3, 3, 4, 4, 4, 4, 4, 4])\n",
        "serie_2 = pd.Series([1, 3, 4, 4, 4, 3, 1, 3, 1, 3, 2, 2, 3, 4, 4, 5, 5, 4, 4])\n",
        "serie_3 = pd.Series([1, 7, 7, 7, 8, 8, 8, 8, 6, 6, 6, 5, 5, 4, 7, 7, 5, 4, 4])"
      ]
    },
    {
      "cell_type": "code",
      "execution_count": null,
      "metadata": {
        "id": "5YZNadKAf_0W",
        "outputId": "2b4cd624-2466-42a3-cdf6-09440e5d8b2c",
        "colab": {
          "base_uri": "https://localhost:8080/",
          "height": 337
        }
      },
      "outputs": [
        {
          "output_type": "stream",
          "name": "stderr",
          "text": [
            "/usr/local/lib/python3.8/dist-packages/seaborn/distributions.py:2619: FutureWarning: `distplot` is a deprecated function and will be removed in a future version. Please adapt your code to use either `displot` (a figure-level function with similar flexibility) or `histplot` (an axes-level function for histograms).\n",
            "  warnings.warn(msg, FutureWarning)\n"
          ]
        },
        {
          "output_type": "execute_result",
          "data": {
            "text/plain": [
              "<matplotlib.axes._subplots.AxesSubplot at 0x7fa6d547d580>"
            ]
          },
          "metadata": {},
          "execution_count": 12
        },
        {
          "output_type": "display_data",
          "data": {
            "text/plain": [
              "<Figure size 432x288 with 1 Axes>"
            ],
            "image/png": "[encoded data removed]"
          },
          "metadata": {
            "needs_background": "light"
          }
        }
      ],
      "source": [
        "sns.distplot(serie, bins=4, norm_hist=True)"
      ]
    },
    {
      "cell_type": "code",
      "execution_count": null,
      "metadata": {
        "id": "_em8_VlCf_0X",
        "outputId": "7de70eee-0a0e-4e60-b07f-1e2d410da8d7",
        "colab": {
          "base_uri": "https://localhost:8080/",
          "height": 406
        }
      },
      "outputs": [
        {
          "output_type": "stream",
          "name": "stderr",
          "text": [
            "/usr/local/lib/python3.8/dist-packages/seaborn/distributions.py:2619: FutureWarning: `distplot` is a deprecated function and will be removed in a future version. Please adapt your code to use either `displot` (a figure-level function with similar flexibility) or `kdeplot` (an axes-level function for kernel density plots).\n",
            "  warnings.warn(msg, FutureWarning)\n",
            "/usr/local/lib/python3.8/dist-packages/seaborn/distributions.py:2619: FutureWarning: `distplot` is a deprecated function and will be removed in a future version. Please adapt your code to use either `displot` (a figure-level function with similar flexibility) or `kdeplot` (an axes-level function for kernel density plots).\n",
            "  warnings.warn(msg, FutureWarning)\n",
            "/usr/local/lib/python3.8/dist-packages/seaborn/distributions.py:2619: FutureWarning: `distplot` is a deprecated function and will be removed in a future version. Please adapt your code to use either `displot` (a figure-level function with similar flexibility) or `kdeplot` (an axes-level function for kernel density plots).\n",
            "  warnings.warn(msg, FutureWarning)\n"
          ]
        },
        {
          "output_type": "execute_result",
          "data": {
            "text/plain": [
              "<matplotlib.axes._subplots.AxesSubplot at 0x7fa6d5470370>"
            ]
          },
          "metadata": {},
          "execution_count": 13
        },
        {
          "output_type": "display_data",
          "data": {
            "text/plain": [
              "<Figure size 432x288 with 1 Axes>"
            ],
            "image/png": "[encoded data removed]"
          },
          "metadata": {
            "needs_background": "light"
          }
        }
      ],
      "source": [
        "sns.distplot(serie, hist = False, kde = True,\n",
        "                 kde_kws = {'shade': True, 'linewidth': 3}, \n",
        "                  label = '')\n",
        "sns.distplot(serie_2, hist = False, kde = True,\n",
        "                 kde_kws = {'shade': True, 'linewidth': 3}, \n",
        "                  label = '')\n",
        "sns.distplot(serie_3, hist = False, kde = True,\n",
        "                 kde_kws = {'shade': True, 'linewidth': 3}, \n",
        "                  label = '')"
      ]
    },
    {
      "cell_type": "code",
      "execution_count": null,
      "metadata": {
        "id": "O5GFeW5uf_0X"
      },
      "outputs": [],
      "source": []
    },
    {
      "cell_type": "markdown",
      "source": [
        "***\n",
        "***\n",
        "***"
      ],
      "metadata": {
        "id": "Y_ABClYugizf"
      }
    },
    {
      "cell_type": "markdown",
      "source": [
        "## **Work**"
      ],
      "metadata": {
        "id": "FuoEaT4QglWX"
      }
    },
    {
      "cell_type": "markdown",
      "source": [
        "## **Sesión 02: Introducción a la visualización de datos: Distribuciones**\n",
        "\n",
        "### **1. Objetivos**\n",
        "\n",
        "- Comprender el cocncepto de distribución e identificar la distribución de nuestros datos junto con su importancia.\n",
        "- Utilizar la librería Seaborn.\n",
        "- Conocer los boxplots y aprender a generarlos.\n",
        "- Conocer las tablas de frecuencias y los histogramas como maneras de visualizar distribuciones.\n",
        "- Clasificar algunas de las formas que generan los histogramas.\n",
        "- Conocer las gráficas de densidad como una alternativa a los histogramas clásicos.\n",
        "\n",
        "### **2. Contenido**\n",
        "\n",
        "<ins>Distribuciones de Datos</ins>\n",
        "\n",
        "Si tomamos el valor mínimo y el valor máximo de nuestro conjunto de datos tenemos el rango dentro del cual están contenidos todos nuestros datos. Pero dentro de ese rango los valores pueden estar distribuidos de muchas maneras distintas. A veces están muy cerca del valor mínimo, a veces están muy cerca del valor máximo; a veces se amontonan casi todos alrededor de la mediana y sólo unos pocos toman los valores extremos; a veces generan incluso dos \"montículos\" alrededor de los cuales se concentran la mayoría de los datos. Hay muchísimas posibilidades.\n",
        "\n",
        "Usando valores individuales es imposible tener una idea general de nuestro conjunto y es por eso que solemos utilizar algunas técnicas que toman en cuenta todo el conjunto de datos al mismo tiempo. Hoy vamos a aprender cómo a través de la visualización de datos podemos darnos una idea mucho más precisa de cómo están organizados los datos en nuestro conjunto.\n",
        "\n",
        ">\n",
        "---\n",
        "\n",
        "<ins>Boxplots</ins>\n",
        "\n",
        "Los Boxplots (o diagramas de caja) son una manera de visualizar nuestros datos de forma que la organización de los percentiles se haga muy evidente.\n",
        "\n",
        "Los Boxplots nos ayudan a discernir si nuestros datos están sesgados (si tienen una tendencia), si están dispersos o agrupados y si existen valores atípicos con valores extremos.\n",
        "\n",
        "> \n"
      ],
      "metadata": {
        "id": "ME7CWWzIiUSL"
      }
    },
    {
      "cell_type": "markdown",
      "metadata": {
        "id": "upQDTxJ-j4Qj"
      },
      "source": [
        "## Ejemplo 1: Boxplots\n",
        "\n",
        "### 1. Objetivos:\n",
        "    - Aprender a graficar e interpretar boxplots utilizando Seaborn\n",
        "    - Aprender a lidiar con valores atípicos usando IQR-Score\n",
        " \n",
        "---\n",
        "    \n",
        "### 2. Desarrollo:"
      ]
    },
    {
      "cell_type": "markdown",
      "metadata": {
        "id": "IDybCSkfj4Qm"
      },
      "source": [
        "Los boxplots son una manera de visualizar la distribución de nuestros datos usando percentiles. Vamos a utilizar una librería de visualización de datos llamada Seaborn que hace muy sencilla la creación de boxplots."
      ]
    },
    {
      "cell_type": "code",
      "execution_count": null,
      "metadata": {
        "id": "82PV5bXLj4Qn"
      },
      "outputs": [],
      "source": [
        "import seaborn as sns\n",
        "import matplotlib.pyplot as plt\n",
        "import pandas as pd"
      ]
    },
    {
      "cell_type": "code",
      "execution_count": null,
      "metadata": {
        "id": "XvKRF6odj4Qo"
      },
      "outputs": [],
      "source": [
        "df = pd.read_csv('/content/drive/MyDrive/BEDU2023F3/Remoto_Datasets/Remoto melbourne_housing-clean.csv', index_col=0)"
      ]
    },
    {
      "cell_type": "code",
      "execution_count": null,
      "metadata": {
        "id": "6OQ6Xm6Rj4Qo",
        "outputId": "755cf599-dcfa-4767-85a6-eb744ac44341",
        "colab": {
          "base_uri": "https://localhost:8080/",
          "height": 391
        }
      },
      "outputs": [
        {
          "output_type": "execute_result",
          "data": {
            "text/plain": [
              "       suburb           address  rooms type      price method seller_g  \\\n",
              "0  Abbotsford      85 Turner St      2    h  1480000.0      S   Biggin   \n",
              "1  Abbotsford   25 Bloomburg St      2    h  1035000.0      S   Biggin   \n",
              "2  Abbotsford      5 Charles St      3    h  1465000.0     SP   Biggin   \n",
              "3  Abbotsford  40 Federation La      3    h   850000.0     PI   Biggin   \n",
              "4  Abbotsford       55a Park St      4    h  1600000.0     VB   Nelson   \n",
              "\n",
              "        date  distance  postcode  bedroom_2  bathroom  car  land_size  \\\n",
              "0  3/12/2016       2.5    3067.0        2.0       1.0  1.0      202.0   \n",
              "1  4/02/2016       2.5    3067.0        2.0       1.0  0.0      156.0   \n",
              "2  4/03/2017       2.5    3067.0        3.0       2.0  0.0      134.0   \n",
              "3  4/03/2017       2.5    3067.0        3.0       2.0  1.0       94.0   \n",
              "4  4/06/2016       2.5    3067.0        3.0       1.0  2.0      120.0   \n",
              "\n",
              "  council_area  latitude  longitude            region_name  property_count  \n",
              "0        Yarra  -37.7996   144.9984  Northern Metropolitan          4019.0  \n",
              "1        Yarra  -37.8079   144.9934  Northern Metropolitan          4019.0  \n",
              "2        Yarra  -37.8093   144.9944  Northern Metropolitan          4019.0  \n",
              "3        Yarra  -37.7969   144.9969  Northern Metropolitan          4019.0  \n",
              "4        Yarra  -37.8072   144.9941  Northern Metropolitan          4019.0  "
            ],
            "text/html": [
              "\n",
              "  <div id=\"df-46969337-ad9d-450b-be1c-eedfe232ab0d\">\n",
              "    <div class=\"colab-df-container\">\n",
              "      <div>\n",
              "<style scoped>\n",
              "    .dataframe tbody tr th:only-of-type {\n",
              "        vertical-align: middle;\n",
              "    }\n",
              "\n",
              "    .dataframe tbody tr th {\n",
              "        vertical-align: top;\n",
              "    }\n",
              "\n",
              "    .dataframe thead th {\n",
              "        text-align: right;\n",
              "    }\n",
              "</style>\n",
              "<table border=\"1\" class=\"dataframe\">\n",
              "  <thead>\n",
              "    <tr style=\"text-align: right;\">\n",
              "      <th></th>\n",
              "      <th>suburb</th>\n",
              "      <th>address</th>\n",
              "      <th>rooms</th>\n",
              "      <th>type</th>\n",
              "      <th>price</th>\n",
              "      <th>method</th>\n",
              "      <th>seller_g</th>\n",
              "      <th>date</th>\n",
              "      <th>distance</th>\n",
              "      <th>postcode</th>\n",
              "      <th>bedroom_2</th>\n",
              "      <th>bathroom</th>\n",
              "      <th>car</th>\n",
              "      <th>land_size</th>\n",
              "      <th>council_area</th>\n",
              "      <th>latitude</th>\n",
              "      <th>longitude</th>\n",
              "      <th>region_name</th>\n",
              "      <th>property_count</th>\n",
              "    </tr>\n",
              "  </thead>\n",
              "  <tbody>\n",
              "    <tr>\n",
              "      <th>0</th>\n",
              "      <td>Abbotsford</td>\n",
              "      <td>85 Turner St</td>\n",
              "      <td>2</td>\n",
              "      <td>h</td>\n",
              "      <td>1480000.0</td>\n",
              "      <td>S</td>\n",
              "      <td>Biggin</td>\n",
              "      <td>3/12/2016</td>\n",
              "      <td>2.5</td>\n",
              "      <td>3067.0</td>\n",
              "      <td>2.0</td>\n",
              "      <td>1.0</td>\n",
              "      <td>1.0</td>\n",
              "      <td>202.0</td>\n",
              "      <td>Yarra</td>\n",
              "      <td>-37.7996</td>\n",
              "      <td>144.9984</td>\n",
              "      <td>Northern Metropolitan</td>\n",
              "      <td>4019.0</td>\n",
              "    </tr>\n",
              "    <tr>\n",
              "      <th>1</th>\n",
              "      <td>Abbotsford</td>\n",
              "      <td>25 Bloomburg St</td>\n",
              "      <td>2</td>\n",
              "      <td>h</td>\n",
              "      <td>1035000.0</td>\n",
              "      <td>S</td>\n",
              "      <td>Biggin</td>\n",
              "      <td>4/02/2016</td>\n",
              "      <td>2.5</td>\n",
              "      <td>3067.0</td>\n",
              "      <td>2.0</td>\n",
              "      <td>1.0</td>\n",
              "      <td>0.0</td>\n",
              "      <td>156.0</td>\n",
              "      <td>Yarra</td>\n",
              "      <td>-37.8079</td>\n",
              "      <td>144.9934</td>\n",
              "      <td>Northern Metropolitan</td>\n",
              "      <td>4019.0</td>\n",
              "    </tr>\n",
              "    <tr>\n",
              "      <th>2</th>\n",
              "      <td>Abbotsford</td>\n",
              "      <td>5 Charles St</td>\n",
              "      <td>3</td>\n",
              "      <td>h</td>\n",
              "      <td>1465000.0</td>\n",
              "      <td>SP</td>\n",
              "      <td>Biggin</td>\n",
              "      <td>4/03/2017</td>\n",
              "      <td>2.5</td>\n",
              "      <td>3067.0</td>\n",
              "      <td>3.0</td>\n",
              "      <td>2.0</td>\n",
              "      <td>0.0</td>\n",
              "      <td>134.0</td>\n",
              "      <td>Yarra</td>\n",
              "      <td>-37.8093</td>\n",
              "      <td>144.9944</td>\n",
              "      <td>Northern Metropolitan</td>\n",
              "      <td>4019.0</td>\n",
              "    </tr>\n",
              "    <tr>\n",
              "      <th>3</th>\n",
              "      <td>Abbotsford</td>\n",
              "      <td>40 Federation La</td>\n",
              "      <td>3</td>\n",
              "      <td>h</td>\n",
              "      <td>850000.0</td>\n",
              "      <td>PI</td>\n",
              "      <td>Biggin</td>\n",
              "      <td>4/03/2017</td>\n",
              "      <td>2.5</td>\n",
              "      <td>3067.0</td>\n",
              "      <td>3.0</td>\n",
              "      <td>2.0</td>\n",
              "      <td>1.0</td>\n",
              "      <td>94.0</td>\n",
              "      <td>Yarra</td>\n",
              "      <td>-37.7969</td>\n",
              "      <td>144.9969</td>\n",
              "      <td>Northern Metropolitan</td>\n",
              "      <td>4019.0</td>\n",
              "    </tr>\n",
              "    <tr>\n",
              "      <th>4</th>\n",
              "      <td>Abbotsford</td>\n",
              "      <td>55a Park St</td>\n",
              "      <td>4</td>\n",
              "      <td>h</td>\n",
              "      <td>1600000.0</td>\n",
              "      <td>VB</td>\n",
              "      <td>Nelson</td>\n",
              "      <td>4/06/2016</td>\n",
              "      <td>2.5</td>\n",
              "      <td>3067.0</td>\n",
              "      <td>3.0</td>\n",
              "      <td>1.0</td>\n",
              "      <td>2.0</td>\n",
              "      <td>120.0</td>\n",
              "      <td>Yarra</td>\n",
              "      <td>-37.8072</td>\n",
              "      <td>144.9941</td>\n",
              "      <td>Northern Metropolitan</td>\n",
              "      <td>4019.0</td>\n",
              "    </tr>\n",
              "  </tbody>\n",
              "</table>\n",
              "</div>\n",
              "      <button class=\"colab-df-convert\" onclick=\"convertToInteractive('df-46969337-ad9d-450b-be1c-eedfe232ab0d')\"\n",
              "              title=\"Convert this dataframe to an interactive table.\"\n",
              "              style=\"display:none;\">\n",
              "        \n",
              "  <svg xmlns=\"http://www.w3.org/2000/svg\" height=\"24px\"viewBox=\"0 0 24 24\"\n",
              "       width=\"24px\">\n",
              "    <path d=\"M0 0h24v24H0V0z\" fill=\"none\"/>\n",
              "    <path d=\"M18.56 5.44l.94 2.06.94-2.06 2.06-.94-2.06-.94-.94-2.06-.94 2.06-2.06.94zm-11 1L8.5 8.5l.94-2.06 2.06-.94-2.06-.94L8.5 2.5l-.94 2.06-2.06.94zm10 10l.94 2.06.94-2.06 2.06-.94-2.06-.94-.94-2.06-.94 2.06-2.06.94z\"/><path d=\"M17.41 7.96l-1.37-1.37c-.4-.4-.92-.59-1.43-.59-.52 0-1.04.2-1.43.59L10.3 9.45l-7.72 7.72c-.78.78-.78 2.05 0 2.83L4 21.41c.39.39.9.59 1.41.59.51 0 1.02-.2 1.41-.59l7.78-7.78 2.81-2.81c.8-.78.8-2.07 0-2.86zM5.41 20L4 18.59l7.72-7.72 1.47 1.35L5.41 20z\"/>\n",
              "  </svg>\n",
              "      </button>\n",
              "      \n",
              "  <style>\n",
              "    .colab-df-container {\n",
              "      display:flex;\n",
              "      flex-wrap:wrap;\n",
              "      gap: 12px;\n",
              "    }\n",
              "\n",
              "    .colab-df-convert {\n",
              "      background-color: #E8F0FE;\n",
              "      border: none;\n",
              "      border-radius: 50%;\n",
              "      cursor: pointer;\n",
              "      display: none;\n",
              "      fill: #1967D2;\n",
              "      height: 32px;\n",
              "      padding: 0 0 0 0;\n",
              "      width: 32px;\n",
              "    }\n",
              "\n",
              "    .colab-df-convert:hover {\n",
              "      background-color: #E2EBFA;\n",
              "      box-shadow: 0px 1px 2px rgba(60, 64, 67, 0.3), 0px 1px 3px 1px rgba(60, 64, 67, 0.15);\n",
              "      fill: #174EA6;\n",
              "    }\n",
              "\n",
              "    [theme=dark] .colab-df-convert {\n",
              "      background-color: #3B4455;\n",
              "      fill: #D2E3FC;\n",
              "    }\n",
              "\n",
              "    [theme=dark] .colab-df-convert:hover {\n",
              "      background-color: #434B5C;\n",
              "      box-shadow: 0px 1px 3px 1px rgba(0, 0, 0, 0.15);\n",
              "      filter: drop-shadow(0px 1px 2px rgba(0, 0, 0, 0.3));\n",
              "      fill: #FFFFFF;\n",
              "    }\n",
              "  </style>\n",
              "\n",
              "      <script>\n",
              "        const buttonEl =\n",
              "          document.querySelector('#df-46969337-ad9d-450b-be1c-eedfe232ab0d button.colab-df-convert');\n",
              "        buttonEl.style.display =\n",
              "          google.colab.kernel.accessAllowed ? 'block' : 'none';\n",
              "\n",
              "        async function convertToInteractive(key) {\n",
              "          const element = document.querySelector('#df-46969337-ad9d-450b-be1c-eedfe232ab0d');\n",
              "          const dataTable =\n",
              "            await google.colab.kernel.invokeFunction('convertToInteractive',\n",
              "                                                     [key], {});\n",
              "          if (!dataTable) return;\n",
              "\n",
              "          const docLinkHtml = 'Like what you see? Visit the ' +\n",
              "            '<a target=\"_blank\" href=https://colab.research.google.com/notebooks/data_table.ipynb>data table notebook</a>'\n",
              "            + ' to learn more about interactive tables.';\n",
              "          element.innerHTML = '';\n",
              "          dataTable['output_type'] = 'display_data';\n",
              "          await google.colab.output.renderOutput(dataTable, element);\n",
              "          const docLink = document.createElement('div');\n",
              "          docLink.innerHTML = docLinkHtml;\n",
              "          element.appendChild(docLink);\n",
              "        }\n",
              "      </script>\n",
              "    </div>\n",
              "  </div>\n",
              "  "
            ]
          },
          "metadata": {},
          "execution_count": 28
        }
      ],
      "source": [
        "df.head()"
      ]
    },
    {
      "cell_type": "code",
      "execution_count": null,
      "metadata": {
        "id": "RC3bJPz1j4Qp",
        "outputId": "07dcfa5b-fbc9-43ab-fab7-ee2eefc405ca",
        "colab": {
          "base_uri": "https://localhost:8080/",
          "height": 302
        }
      },
      "outputs": [
        {
          "output_type": "execute_result",
          "data": {
            "text/plain": [
              "<matplotlib.axes._subplots.AxesSubplot at 0x7f46f5f602b0>"
            ]
          },
          "metadata": {},
          "execution_count": 29
        },
        {
          "output_type": "display_data",
          "data": {
            "text/plain": [
              "<Figure size 432x288 with 1 Axes>"
            ],
            "image/png": "[encoded data removed]"
          },
          "metadata": {}
        }
      ],
      "source": [
        "sns.set(style=\"whitegrid\")\n",
        "sns.boxplot(x=df['price'])"
      ]
    },
    {
      "cell_type": "markdown",
      "metadata": {
        "id": "g4FUI0M-j4Qq"
      },
      "source": [
        "¿Qué significa todo esto?\n",
        "\n",
        "- La caja está delimitada por 2 valores: El percentil 25 y el percentil 75.\n",
        "- La línea vertical dentro de la caja indica el percentil 50 (o sea, la mediana).\n",
        "- Los \"bigotes\" intentan abarcar el resto de los datos a la izquierda y derecha de la caja, PERO no se extienden más allá de una distancia equivalente a 1.5 * Rango Intercuartílico. Como bien recordarás, el rango intercuartílico es la diferencia entre el percentil 75 y el percentil 25. Si multiplicamos 1.5 por ese Rango Intercuartílico obtenemos el tamaño máximo de los bigotes.\n",
        "- Los puntos individuales que están fuera de los bigotes son, obviamente, las muestras cuyo valor excede el tamaño máximo de los bigotes. No podemos tomar esto como una \"Regla Absoluta\", pero en general se considera que estos valores son los valores atípicos de nuestro conjunto.\n",
        "\n",
        "Como puedes ver, esta gráfica nos da muchísima información muy útil.\n",
        "\n",
        "- Ahora sabemos que la mayoría de nuestros datos están concentrados en valores menores a 2 000 000 y que los precios muy altos son anomalías en nuestro conjunto.\n",
        "- Sabemos que, dentro del rango total de los datos, tenemos una distribución que tiende hacia los valores más pequeños.\n",
        "- También sabemos que nuestros datos en general están muy concentrados (o sea, poco dispersos), pero que hay una \"colita\" de datos hacia la derecha que se extiende bastante lejos.\n",
        "\n",
        "Vamos a ver qué pasa si graficamos una línea vertical justo donde está el promedio de nuestros datos. Para esto vamos a usar matplotlib, otra librería de visualizaciones de datos que aprenderemos a detalle más adelante:"
      ]
    },
    {
      "cell_type": "code",
      "execution_count": null,
      "metadata": {
        "id": "LGaBV7glj4Qq",
        "outputId": "00c414c0-80d6-4210-d41b-ce225fa9be4f",
        "colab": {
          "base_uri": "https://localhost:8080/",
          "height": 302
        }
      },
      "outputs": [
        {
          "output_type": "execute_result",
          "data": {
            "text/plain": [
              "<matplotlib.lines.Line2D at 0x7f46f44c8100>"
            ]
          },
          "metadata": {},
          "execution_count": 31
        },
        {
          "output_type": "display_data",
          "data": {
            "text/plain": [
              "<Figure size 432x288 with 1 Axes>"
            ],
            "image/png": "[encoded data removed]"
          },
          "metadata": {}
        }
      ],
      "source": [
        "sns.set(style=\"whitegrid\")\n",
        "sns.boxplot(x=df['price'])\n",
        "plt.axvline(df['price'].mean(), c='r')"
      ]
    },
    {
      "cell_type": "markdown",
      "metadata": {
        "id": "RyYL41Z8j4Qq"
      },
      "source": [
        "Como puedes ver, a pesar de los valores atípicos tan extremos, tenemos tantos valores en el rango menor de nuestros datos que el promedio queda bastante cercano a la mediana.\n",
        "\n",
        "Los valores atípicos pueden significar múltiples cosas:\n",
        "\n",
        "- A veces son errores de medición\n",
        "- A veces son errores humanos de transcripción\n",
        "- Podrían ser simplemente anomalías naturales causadas por fenómenos aleatorios\n",
        "- O podrían tener un significado más profundo: por ejemplo, la riqueza de alguien como Carlos Slim es una anomalía en este país, pero que es un indicador de desigualdad muy fuerte que nos da información útil acerca de la distribución de la riqueza\n",
        "\n",
        "Decidir cómo lidiar con estos valores atípicos (si eliminarlos o dejarlos) depende totalmente del contexto.\n",
        "\n",
        "Dado que nuestro análisis de este conjunto aún no es muy profundo, por el momento vamos a asumir la posición de eliminar estos datos, solamente para ver cómo se haría este proceso."
      ]
    },
    {
      "cell_type": "markdown",
      "metadata": {
        "id": "vC3Mjjcpj4Qr"
      },
      "source": [
        "### Rango Intercuartílico y valores atípicos\n",
        "\n",
        "Podemos utilizar la medida que utiliza el boxplot para limitar el tamaño de los bigotes y filtrar todos los datos que excedan ese límite. A esta medida se le suele llamar el **Score de Rango Intercuartílico (IQR-Score)**. De esa manera estamos filtrando los valores atípicos (al menos lo que se considera valores atípicos bajo este esquema)."
      ]
    },
    {
      "cell_type": "code",
      "execution_count": null,
      "metadata": {
        "id": "WEqtwyC6j4Qr"
      },
      "outputs": [],
      "source": [
        "iqr = df['price'].quantile(0.75) - df['price'].quantile(0.25)\n",
        "filtro_inferior = df['price'] > df['price'].quantile(0.25) - (iqr * 1.5)\n",
        "filtro_superior = df['price'] < df['price'].quantile(0.75) + (iqr * 1.5)\n",
        "\n",
        "df_filtrado = df[filtro_inferior & filtro_superior]"
      ]
    },
    {
      "cell_type": "code",
      "execution_count": null,
      "metadata": {
        "id": "MqbS9v5mj4Qr",
        "outputId": "ae907ea1-8c8d-4a28-fc1d-b69691a2969e",
        "colab": {
          "base_uri": "https://localhost:8080/",
          "height": 357
        }
      },
      "outputs": [
        {
          "output_type": "stream",
          "name": "stderr",
          "text": [
            "/usr/local/lib/python3.8/dist-packages/seaborn/_decorators.py:36: FutureWarning: Pass the following variable as a keyword arg: x. From version 0.12, the only valid positional argument will be `data`, and passing other arguments without an explicit keyword will result in an error or misinterpretation.\n",
            "  warnings.warn(\n"
          ]
        },
        {
          "output_type": "execute_result",
          "data": {
            "text/plain": [
              "<matplotlib.axes._subplots.AxesSubplot at 0x7f46f4a92790>"
            ]
          },
          "metadata": {},
          "execution_count": 33
        },
        {
          "output_type": "display_data",
          "data": {
            "text/plain": [
              "<Figure size 432x288 with 1 Axes>"
            ],
            "image/png": "[encoded data removed]"
          },
          "metadata": {}
        }
      ],
      "source": [
        "sns.boxplot(df_filtrado['price'])"
      ]
    },
    {
      "cell_type": "markdown",
      "metadata": {
        "id": "CUBcp7O7j4Qr"
      },
      "source": [
        "Como ves, el algoritmo de Seaborn debe de ser ligeramente distinto al nuestro, pero el resultado fue prácticamente lo que queríamos. Ahora tenemos un conjunto de datos sin valores atípicos."
      ]
    },
    {
      "cell_type": "code",
      "source": [],
      "metadata": {
        "id": "SsvBngsbkHJ5"
      },
      "execution_count": null,
      "outputs": []
    },
    {
      "cell_type": "markdown",
      "metadata": {
        "id": "73JEtIj9kOaW"
      },
      "source": [
        "## Reto 1: Boxplots\n",
        "\n",
        "### 1. Objetivos:\n",
        "    - Aprender a graficar e interpretar boxplots utilizando Seaborn\n",
        "    - Aprender a lidiar con valores atípicos usando IQR-Score\n",
        " \n",
        "---\n",
        "    \n",
        "### 2. Desarrollo:"
      ]
    },
    {
      "cell_type": "markdown",
      "metadata": {
        "id": "jE9Fvb7OkOaX"
      },
      "source": [
        "#### a) Usando boxplots para analizar la distribución de nuestros datos\n",
        "\n",
        "Vamos a hacer algunas gráficas de boxplot y describirlas en equipo. Usa Seaborn para generar gráficas boxplot de los siguientes datasets y columnas:\n",
        "\n",
        "1. Dataset: 'near_earth_objects-jan_feb_1995-clean.csv'\n",
        "    - Columnas a graficar: 'estimated_diameter.meters.estimated_diameter_max' y 'relative_velocity.kilometers_per_second'\n",
        "2. Dataset: 'new_york_times_bestsellers-clean.json'\n",
        "    - Columnas a graficar: 'price.numberDouble'\n",
        "3. Dataset: 'melbourne_housing-clean.csv'\n",
        "    - Columnas a graficar: 'land_size'\n",
        "    \n",
        "> Para conocer más detalles acerca de estos datasets, ve a Datasets/Readme.md y visita los links de las fuentes de donde provienen. Es una gran idea hacer esto para que entiendas el contexto alrededor de los análisis que vamos a estar realizando.\n",
        "    \n",
        "Realiza estas 4 visualizaciones y comenta con la experta y tus compañeros qué conclusiones o hipótesis podemos hacer sobre nuestros datos. Para profundizar en el análisis puedes obtener también el rango, la mediana, el valor mínimo y máximo, el percentil 25 y el percentil 75. De esta manera tendrás valores concretos con los que realizar tu análisis."
      ]
    },
    {
      "cell_type": "code",
      "execution_count": null,
      "metadata": {
        "id": "fcHDXiFikOaY"
      },
      "outputs": [],
      "source": [
        "# Tu código va aquí\n",
        "# Se importan las librerías necesarias\n",
        "import seaborn as sns\n",
        "import matplotlib.pyplot as plt\n",
        "import pandas as pd"
      ]
    },
    {
      "cell_type": "code",
      "source": [
        "df_meteoritos = pd.read_csv('/content/drive/MyDrive/BEDU2023F3/Remoto_Datasets/Remoto near_earth_objects-jan_feb_1995-clean.csv', index_col=0)\n",
        "sns.set(style=\"whitegrid\")\n",
        "sns.boxplot(x=df_meteoritos['estimated_diameter.meters.estimated_diameter_max'])\n",
        "plt.axvline(df_meteoritos['estimated_diameter.meters.estimated_diameter_max'].mean(), c='r')"
      ],
      "metadata": {
        "colab": {
          "base_uri": "https://localhost:8080/",
          "height": 302
        },
        "id": "HpxG2_04IRf5",
        "outputId": "e0469923-bb41-4596-8a38-30013ddd3846"
      },
      "execution_count": null,
      "outputs": [
        {
          "output_type": "execute_result",
          "data": {
            "text/plain": [
              "<matplotlib.lines.Line2D at 0x7f46f1a36e50>"
            ]
          },
          "metadata": {},
          "execution_count": 101
        },
        {
          "output_type": "display_data",
          "data": {
            "text/plain": [
              "<Figure size 432x288 with 1 Axes>"
            ],
            "image/png": "[encoded data removed]"
          },
          "metadata": {}
        }
      ]
    },
    {
      "cell_type": "code",
      "source": [
        "sns.set(style=\"whitegrid\")\n",
        "sns.boxplot(x=df_meteoritos['relative_velocity.kilometers_per_second'])\n",
        "plt.axvline(df_meteoritos['relative_velocity.kilometers_per_second'].mean(), c='r')"
      ],
      "metadata": {
        "colab": {
          "base_uri": "https://localhost:8080/",
          "height": 302
        },
        "id": "8kC-UwoTHjv9",
        "outputId": "9f01fc3b-f59d-4421-984f-f7a39673727a"
      },
      "execution_count": null,
      "outputs": [
        {
          "output_type": "execute_result",
          "data": {
            "text/plain": [
              "<matplotlib.lines.Line2D at 0x7f46f5a51370>"
            ]
          },
          "metadata": {},
          "execution_count": 102
        },
        {
          "output_type": "display_data",
          "data": {
            "text/plain": [
              "<Figure size 432x288 with 1 Axes>"
            ],
            "image/png": "[encoded data removed]"
          },
          "metadata": {}
        }
      ]
    },
    {
      "cell_type": "code",
      "source": [
        "df_bestsellers = pd.read_json('/content/drive/MyDrive/BEDU2023F3/Remoto_Datasets/Remoto new_york_times_bestsellers-clean.json')\n",
        "sns.set(style=\"whitegrid\")\n",
        "sns.boxplot(x=df_bestsellers['price.numberDouble'])\n",
        "plt.axvline(df_bestsellers['price.numberDouble'].mean(), c='r')"
      ],
      "metadata": {
        "colab": {
          "base_uri": "https://localhost:8080/",
          "height": 302
        },
        "id": "qC3iI7ZVIL8X",
        "outputId": "36b39fe6-ac19-4759-808c-d7180ce0f83b"
      },
      "execution_count": null,
      "outputs": [
        {
          "output_type": "execute_result",
          "data": {
            "text/plain": [
              "<matplotlib.lines.Line2D at 0x7f46f4820370>"
            ]
          },
          "metadata": {},
          "execution_count": 103
        },
        {
          "output_type": "display_data",
          "data": {
            "text/plain": [
              "<Figure size 432x288 with 1 Axes>"
            ],
            "image/png": "[encoded data removed]"
          },
          "metadata": {}
        }
      ]
    },
    {
      "cell_type": "code",
      "source": [
        "df_housing = pd.read_csv('/content/drive/MyDrive/BEDU2023F3/Remoto_Datasets/Remoto melbourne_housing-clean.csv', index_col=0)\n",
        "sns.set(style=\"whitegrid\")\n",
        "sns.boxplot(x=df_housing['land_size'])\n",
        "plt.axvline(df_housing['land_size'].mean(), c='r')"
      ],
      "metadata": {
        "colab": {
          "base_uri": "https://localhost:8080/",
          "height": 302
        },
        "id": "VKJxidkiI53-",
        "outputId": "e5c18eaf-79bf-4556-9b40-3d17cb5b9a4c"
      },
      "execution_count": null,
      "outputs": [
        {
          "output_type": "execute_result",
          "data": {
            "text/plain": [
              "<matplotlib.lines.Line2D at 0x7f46f1e593d0>"
            ]
          },
          "metadata": {},
          "execution_count": 104
        },
        {
          "output_type": "display_data",
          "data": {
            "text/plain": [
              "<Figure size 432x288 with 1 Axes>"
            ],
            "image/png": "[encoded data removed]"
          },
          "metadata": {}
        }
      ]
    },
    {
      "cell_type": "code",
      "source": [],
      "metadata": {
        "id": "OqfgECERI5sa"
      },
      "execution_count": null,
      "outputs": []
    },
    {
      "cell_type": "markdown",
      "metadata": {
        "id": "uPuf1yF0kOaZ"
      },
      "source": [
        "#### b) Eliminando valores atípicos\n",
        "\n",
        "A partir de las visualizaciones que realizaste en el punto anterior, decide en cuáles columnas tenemos valores atípicos que pueden estorbarnos en nuestro análisis. Elimina dichos valores atípicos usando el Score de Rango Intercuartílico. Puedes probar variando un poco la medida del Score (1.5 * IQR) para eliminar solamente los valores que tú consideras como extremos.\n",
        "\n",
        "Para observar los cambios a detalle, obtén la mediana, la media y la desviación estándar de tus datos *antes* y *después* de eliminar los valores atípicos. Compara estos valores y explica qué es lo que está pasando.\n",
        "\n",
        "Grafica de nuevo tus datos sin valores atípicos para compararlos con las gráficas anteriores.\n",
        "\n",
        "Comenta con la experta y tus compañeros tus hallazgos."
      ]
    },
    {
      "cell_type": "code",
      "execution_count": null,
      "metadata": {
        "id": "eHob2pIFkOaZ",
        "colab": {
          "base_uri": "https://localhost:8080/",
          "height": 357
        },
        "outputId": "59274f44-2aa9-482b-8f36-186ef74eb3f2"
      },
      "outputs": [
        {
          "output_type": "stream",
          "name": "stderr",
          "text": [
            "/usr/local/lib/python3.8/dist-packages/seaborn/_decorators.py:36: FutureWarning: Pass the following variable as a keyword arg: x. From version 0.12, the only valid positional argument will be `data`, and passing other arguments without an explicit keyword will result in an error or misinterpretation.\n",
            "  warnings.warn(\n"
          ]
        },
        {
          "output_type": "execute_result",
          "data": {
            "text/plain": [
              "<matplotlib.lines.Line2D at 0x7f46f1c08430>"
            ]
          },
          "metadata": {},
          "execution_count": 105
        },
        {
          "output_type": "display_data",
          "data": {
            "text/plain": [
              "<Figure size 432x288 with 1 Axes>"
            ],
            "image/png": "[encoded data removed]"
          },
          "metadata": {}
        }
      ],
      "source": [
        "# Tu código va aquí\n",
        "\n",
        "iqr = df_meteoritos['estimated_diameter.meters.estimated_diameter_max'].quantile(0.75) - df_meteoritos['estimated_diameter.meters.estimated_diameter_max'].quantile(0.25)\n",
        "filtro_inferior = df_meteoritos['estimated_diameter.meters.estimated_diameter_max'] > df_meteoritos['estimated_diameter.meters.estimated_diameter_max'].quantile(0.25) - (iqr * 1.5)\n",
        "filtro_superior = df_meteoritos['estimated_diameter.meters.estimated_diameter_max'] < df_meteoritos['estimated_diameter.meters.estimated_diameter_max'].quantile(0.75) + (iqr * 1.5)\n",
        "\n",
        "df_filtrado = df_meteoritos[filtro_inferior & filtro_superior]\n",
        "\n",
        "sns.boxplot(df_filtrado['estimated_diameter.meters.estimated_diameter_max'])\n",
        "plt.axvline(df_filtrado['estimated_diameter.meters.estimated_diameter_max'].mean(), c='r')"
      ]
    },
    {
      "cell_type": "code",
      "source": [
        "iqr = df_meteoritos['relative_velocity.kilometers_per_second'].quantile(0.75) - df_meteoritos['relative_velocity.kilometers_per_second'].quantile(0.25)\n",
        "filtro_inferior = df_meteoritos['relative_velocity.kilometers_per_second'] > df_meteoritos['relative_velocity.kilometers_per_second'].quantile(0.25) - (iqr * 1.5)\n",
        "filtro_superior = df_meteoritos['relative_velocity.kilometers_per_second'] < df_meteoritos['relative_velocity.kilometers_per_second'].quantile(0.75) + (iqr * 1.5)\n",
        "\n",
        "df_filtrado = df_meteoritos[filtro_inferior & filtro_superior]\n",
        "\n",
        "sns.boxplot(df_filtrado['relative_velocity.kilometers_per_second'])\n",
        "plt.axvline(df_filtrado['relative_velocity.kilometers_per_second'].mean(), c='r')"
      ],
      "metadata": {
        "id": "vq5Zp3iIlWSC",
        "colab": {
          "base_uri": "https://localhost:8080/",
          "height": 357
        },
        "outputId": "9d1d7bff-cab9-4259-e2a7-12f27dab57cc"
      },
      "execution_count": null,
      "outputs": [
        {
          "output_type": "stream",
          "name": "stderr",
          "text": [
            "/usr/local/lib/python3.8/dist-packages/seaborn/_decorators.py:36: FutureWarning: Pass the following variable as a keyword arg: x. From version 0.12, the only valid positional argument will be `data`, and passing other arguments without an explicit keyword will result in an error or misinterpretation.\n",
            "  warnings.warn(\n"
          ]
        },
        {
          "output_type": "execute_result",
          "data": {
            "text/plain": [
              "<matplotlib.lines.Line2D at 0x7f46f19d2d90>"
            ]
          },
          "metadata": {},
          "execution_count": 106
        },
        {
          "output_type": "display_data",
          "data": {
            "text/plain": [
              "<Figure size 432x288 with 1 Axes>"
            ],
            "image/png": "[encoded data removed]"
          },
          "metadata": {}
        }
      ]
    },
    {
      "cell_type": "code",
      "source": [
        "iqr = df_bestsellers['price.numberDouble'].quantile(0.75) - df_bestsellers['price.numberDouble'].quantile(0.25)\n",
        "filtro_inferior = df_bestsellers['price.numberDouble'] > df_bestsellers['price.numberDouble'].quantile(0.25) - (iqr * 1.5)\n",
        "filtro_superior = df_bestsellers['price.numberDouble'] < df_bestsellers['price.numberDouble'].quantile(0.75) + (iqr * 1.5)\n",
        "\n",
        "df_filtrado = df_bestsellers[filtro_inferior & filtro_superior]\n",
        "\n",
        "sns.boxplot(df_filtrado['price.numberDouble'])\n",
        "plt.axvline(df_filtrado['price.numberDouble'].mean(), c='r')"
      ],
      "metadata": {
        "colab": {
          "base_uri": "https://localhost:8080/",
          "height": 357
        },
        "id": "SHTa0LIinSw9",
        "outputId": "0168a00e-9f3d-4e86-e466-8d5687ec7fb8"
      },
      "execution_count": null,
      "outputs": [
        {
          "output_type": "stream",
          "name": "stderr",
          "text": [
            "/usr/local/lib/python3.8/dist-packages/seaborn/_decorators.py:36: FutureWarning: Pass the following variable as a keyword arg: x. From version 0.12, the only valid positional argument will be `data`, and passing other arguments without an explicit keyword will result in an error or misinterpretation.\n",
            "  warnings.warn(\n"
          ]
        },
        {
          "output_type": "execute_result",
          "data": {
            "text/plain": [
              "<matplotlib.lines.Line2D at 0x7f46f43c6370>"
            ]
          },
          "metadata": {},
          "execution_count": 107
        },
        {
          "output_type": "display_data",
          "data": {
            "text/plain": [
              "<Figure size 432x288 with 1 Axes>"
            ],
            "image/png": "[encoded data removed]"
          },
          "metadata": {}
        }
      ]
    },
    {
      "cell_type": "code",
      "source": [
        "iqr = df_housing['land_size'].quantile(0.75) - df_housing['land_size'].quantile(0.25)\n",
        "filtro_inferior = df_housing['land_size'] > df_housing['land_size'].quantile(0.25) - (iqr * 1.5)\n",
        "filtro_superior = df_housing['land_size'] < df_housing['land_size'].quantile(0.75) + (iqr * 1.5)\n",
        "\n",
        "df_filtrado = df_housing[filtro_inferior & filtro_superior]\n",
        "\n",
        "sns.boxplot(df_filtrado['land_size'])\n",
        "plt.axvline(df_filtrado['land_size'].mean(), c='r')"
      ],
      "metadata": {
        "colab": {
          "base_uri": "https://localhost:8080/",
          "height": 357
        },
        "id": "_VO251U-nSqS",
        "outputId": "30d59280-bd90-4bdc-e0c4-40bf49ff5e44"
      },
      "execution_count": null,
      "outputs": [
        {
          "output_type": "stream",
          "name": "stderr",
          "text": [
            "/usr/local/lib/python3.8/dist-packages/seaborn/_decorators.py:36: FutureWarning: Pass the following variable as a keyword arg: x. From version 0.12, the only valid positional argument will be `data`, and passing other arguments without an explicit keyword will result in an error or misinterpretation.\n",
            "  warnings.warn(\n"
          ]
        },
        {
          "output_type": "execute_result",
          "data": {
            "text/plain": [
              "<matplotlib.lines.Line2D at 0x7f46f1cb5a00>"
            ]
          },
          "metadata": {},
          "execution_count": 108
        },
        {
          "output_type": "display_data",
          "data": {
            "text/plain": [
              "<Figure size 432x288 with 1 Axes>"
            ],
            "image/png": "[encoded data removed]"
          },
          "metadata": {}
        }
      ]
    },
    {
      "cell_type": "markdown",
      "source": [
        "***\n",
        "***"
      ],
      "metadata": {
        "id": "7JHI_mKPkTeb"
      }
    },
    {
      "cell_type": "markdown",
      "source": [
        "<ins>Tabla de frecuencias</ins>\n",
        "\n",
        "Los percentiles segmentan nuestros datos en segmentos de distinto tamaño en los que tenemos el mismo número de muestras. En cambio, las tablas de frecuencias segmentan nuestros datos en segmentos que miden lo mismo pero que contienen una cantidad distinta de muestras.\n",
        "\n",
        "Esto puede darnos otra perspectiva de nuestros datos que también resulta muy útil. Vamos a aprender a generar una tabla de frecuencias usando pandas.\n",
        "\n",
        "> "
      ],
      "metadata": {
        "id": "kAVpTnIwkWS-"
      }
    },
    {
      "cell_type": "markdown",
      "metadata": {
        "id": "WIZxGMhWkyrP"
      },
      "source": [
        "## Ejemplo 2: Tabla de frecuencias\n",
        "\n",
        "### 1. Objetivos:\n",
        "    - Aprender a generar una tabla de frecuencias usando pd.cut\n",
        " \n",
        "---\n",
        "    \n",
        "### 2. Desarrollo:"
      ]
    },
    {
      "cell_type": "markdown",
      "metadata": {
        "id": "NqysI6DvkyrS"
      },
      "source": [
        "Como ya dijimos, las tablas de frecuencias dividen nuestro conjunto en segmentos de igual tamaño que contiene un número variable de muestras.\n",
        "\n",
        "Para generar una tabla de frecuencias, lo primero que hay que hacer es decidir en cuántos segmentos vamos a dividir nuestros datos."
      ]
    },
    {
      "cell_type": "code",
      "execution_count": null,
      "metadata": {
        "id": "zT6HNzWWkyrT"
      },
      "outputs": [],
      "source": [
        "import pandas as pd"
      ]
    },
    {
      "cell_type": "code",
      "execution_count": null,
      "metadata": {
        "id": "IMhUSzvGkyrU",
        "outputId": "74bc5205-1e79-4ed8-df57-9ead0dc7257e",
        "colab": {
          "base_uri": "https://localhost:8080/",
          "height": 391
        }
      },
      "outputs": [
        {
          "output_type": "execute_result",
          "data": {
            "text/plain": [
              "       suburb           address  rooms type      price method seller_g  \\\n",
              "0  Abbotsford      85 Turner St      2    h  1480000.0      S   Biggin   \n",
              "1  Abbotsford   25 Bloomburg St      2    h  1035000.0      S   Biggin   \n",
              "2  Abbotsford      5 Charles St      3    h  1465000.0     SP   Biggin   \n",
              "3  Abbotsford  40 Federation La      3    h   850000.0     PI   Biggin   \n",
              "4  Abbotsford       55a Park St      4    h  1600000.0     VB   Nelson   \n",
              "\n",
              "        date  distance  postcode  bedroom_2  bathroom  car  land_size  \\\n",
              "0  3/12/2016       2.5    3067.0        2.0       1.0  1.0      202.0   \n",
              "1  4/02/2016       2.5    3067.0        2.0       1.0  0.0      156.0   \n",
              "2  4/03/2017       2.5    3067.0        3.0       2.0  0.0      134.0   \n",
              "3  4/03/2017       2.5    3067.0        3.0       2.0  1.0       94.0   \n",
              "4  4/06/2016       2.5    3067.0        3.0       1.0  2.0      120.0   \n",
              "\n",
              "  council_area  latitude  longitude            region_name  property_count  \n",
              "0        Yarra  -37.7996   144.9984  Northern Metropolitan          4019.0  \n",
              "1        Yarra  -37.8079   144.9934  Northern Metropolitan          4019.0  \n",
              "2        Yarra  -37.8093   144.9944  Northern Metropolitan          4019.0  \n",
              "3        Yarra  -37.7969   144.9969  Northern Metropolitan          4019.0  \n",
              "4        Yarra  -37.8072   144.9941  Northern Metropolitan          4019.0  "
            ],
            "text/html": [
              "\n",
              "  <div id=\"df-7262abc7-5a18-4d1f-b361-c9e7ad21d7eb\">\n",
              "    <div class=\"colab-df-container\">\n",
              "      <div>\n",
              "<style scoped>\n",
              "    .dataframe tbody tr th:only-of-type {\n",
              "        vertical-align: middle;\n",
              "    }\n",
              "\n",
              "    .dataframe tbody tr th {\n",
              "        vertical-align: top;\n",
              "    }\n",
              "\n",
              "    .dataframe thead th {\n",
              "        text-align: right;\n",
              "    }\n",
              "</style>\n",
              "<table border=\"1\" class=\"dataframe\">\n",
              "  <thead>\n",
              "    <tr style=\"text-align: right;\">\n",
              "      <th></th>\n",
              "      <th>suburb</th>\n",
              "      <th>address</th>\n",
              "      <th>rooms</th>\n",
              "      <th>type</th>\n",
              "      <th>price</th>\n",
              "      <th>method</th>\n",
              "      <th>seller_g</th>\n",
              "      <th>date</th>\n",
              "      <th>distance</th>\n",
              "      <th>postcode</th>\n",
              "      <th>bedroom_2</th>\n",
              "      <th>bathroom</th>\n",
              "      <th>car</th>\n",
              "      <th>land_size</th>\n",
              "      <th>council_area</th>\n",
              "      <th>latitude</th>\n",
              "      <th>longitude</th>\n",
              "      <th>region_name</th>\n",
              "      <th>property_count</th>\n",
              "    </tr>\n",
              "  </thead>\n",
              "  <tbody>\n",
              "    <tr>\n",
              "      <th>0</th>\n",
              "      <td>Abbotsford</td>\n",
              "      <td>85 Turner St</td>\n",
              "      <td>2</td>\n",
              "      <td>h</td>\n",
              "      <td>1480000.0</td>\n",
              "      <td>S</td>\n",
              "      <td>Biggin</td>\n",
              "      <td>3/12/2016</td>\n",
              "      <td>2.5</td>\n",
              "      <td>3067.0</td>\n",
              "      <td>2.0</td>\n",
              "      <td>1.0</td>\n",
              "      <td>1.0</td>\n",
              "      <td>202.0</td>\n",
              "      <td>Yarra</td>\n",
              "      <td>-37.7996</td>\n",
              "      <td>144.9984</td>\n",
              "      <td>Northern Metropolitan</td>\n",
              "      <td>4019.0</td>\n",
              "    </tr>\n",
              "    <tr>\n",
              "      <th>1</th>\n",
              "      <td>Abbotsford</td>\n",
              "      <td>25 Bloomburg St</td>\n",
              "      <td>2</td>\n",
              "      <td>h</td>\n",
              "      <td>1035000.0</td>\n",
              "      <td>S</td>\n",
              "      <td>Biggin</td>\n",
              "      <td>4/02/2016</td>\n",
              "      <td>2.5</td>\n",
              "      <td>3067.0</td>\n",
              "      <td>2.0</td>\n",
              "      <td>1.0</td>\n",
              "      <td>0.0</td>\n",
              "      <td>156.0</td>\n",
              "      <td>Yarra</td>\n",
              "      <td>-37.8079</td>\n",
              "      <td>144.9934</td>\n",
              "      <td>Northern Metropolitan</td>\n",
              "      <td>4019.0</td>\n",
              "    </tr>\n",
              "    <tr>\n",
              "      <th>2</th>\n",
              "      <td>Abbotsford</td>\n",
              "      <td>5 Charles St</td>\n",
              "      <td>3</td>\n",
              "      <td>h</td>\n",
              "      <td>1465000.0</td>\n",
              "      <td>SP</td>\n",
              "      <td>Biggin</td>\n",
              "      <td>4/03/2017</td>\n",
              "      <td>2.5</td>\n",
              "      <td>3067.0</td>\n",
              "      <td>3.0</td>\n",
              "      <td>2.0</td>\n",
              "      <td>0.0</td>\n",
              "      <td>134.0</td>\n",
              "      <td>Yarra</td>\n",
              "      <td>-37.8093</td>\n",
              "      <td>144.9944</td>\n",
              "      <td>Northern Metropolitan</td>\n",
              "      <td>4019.0</td>\n",
              "    </tr>\n",
              "    <tr>\n",
              "      <th>3</th>\n",
              "      <td>Abbotsford</td>\n",
              "      <td>40 Federation La</td>\n",
              "      <td>3</td>\n",
              "      <td>h</td>\n",
              "      <td>850000.0</td>\n",
              "      <td>PI</td>\n",
              "      <td>Biggin</td>\n",
              "      <td>4/03/2017</td>\n",
              "      <td>2.5</td>\n",
              "      <td>3067.0</td>\n",
              "      <td>3.0</td>\n",
              "      <td>2.0</td>\n",
              "      <td>1.0</td>\n",
              "      <td>94.0</td>\n",
              "      <td>Yarra</td>\n",
              "      <td>-37.7969</td>\n",
              "      <td>144.9969</td>\n",
              "      <td>Northern Metropolitan</td>\n",
              "      <td>4019.0</td>\n",
              "    </tr>\n",
              "    <tr>\n",
              "      <th>4</th>\n",
              "      <td>Abbotsford</td>\n",
              "      <td>55a Park St</td>\n",
              "      <td>4</td>\n",
              "      <td>h</td>\n",
              "      <td>1600000.0</td>\n",
              "      <td>VB</td>\n",
              "      <td>Nelson</td>\n",
              "      <td>4/06/2016</td>\n",
              "      <td>2.5</td>\n",
              "      <td>3067.0</td>\n",
              "      <td>3.0</td>\n",
              "      <td>1.0</td>\n",
              "      <td>2.0</td>\n",
              "      <td>120.0</td>\n",
              "      <td>Yarra</td>\n",
              "      <td>-37.8072</td>\n",
              "      <td>144.9941</td>\n",
              "      <td>Northern Metropolitan</td>\n",
              "      <td>4019.0</td>\n",
              "    </tr>\n",
              "  </tbody>\n",
              "</table>\n",
              "</div>\n",
              "      <button class=\"colab-df-convert\" onclick=\"convertToInteractive('df-7262abc7-5a18-4d1f-b361-c9e7ad21d7eb')\"\n",
              "              title=\"Convert this dataframe to an interactive table.\"\n",
              "              style=\"display:none;\">\n",
              "        \n",
              "  <svg xmlns=\"http://www.w3.org/2000/svg\" height=\"24px\"viewBox=\"0 0 24 24\"\n",
              "       width=\"24px\">\n",
              "    <path d=\"M0 0h24v24H0V0z\" fill=\"none\"/>\n",
              "    <path d=\"M18.56 5.44l.94 2.06.94-2.06 2.06-.94-2.06-.94-.94-2.06-.94 2.06-2.06.94zm-11 1L8.5 8.5l.94-2.06 2.06-.94-2.06-.94L8.5 2.5l-.94 2.06-2.06.94zm10 10l.94 2.06.94-2.06 2.06-.94-2.06-.94-.94-2.06-.94 2.06-2.06.94z\"/><path d=\"M17.41 7.96l-1.37-1.37c-.4-.4-.92-.59-1.43-.59-.52 0-1.04.2-1.43.59L10.3 9.45l-7.72 7.72c-.78.78-.78 2.05 0 2.83L4 21.41c.39.39.9.59 1.41.59.51 0 1.02-.2 1.41-.59l7.78-7.78 2.81-2.81c.8-.78.8-2.07 0-2.86zM5.41 20L4 18.59l7.72-7.72 1.47 1.35L5.41 20z\"/>\n",
              "  </svg>\n",
              "      </button>\n",
              "      \n",
              "  <style>\n",
              "    .colab-df-container {\n",
              "      display:flex;\n",
              "      flex-wrap:wrap;\n",
              "      gap: 12px;\n",
              "    }\n",
              "\n",
              "    .colab-df-convert {\n",
              "      background-color: #E8F0FE;\n",
              "      border: none;\n",
              "      border-radius: 50%;\n",
              "      cursor: pointer;\n",
              "      display: none;\n",
              "      fill: #1967D2;\n",
              "      height: 32px;\n",
              "      padding: 0 0 0 0;\n",
              "      width: 32px;\n",
              "    }\n",
              "\n",
              "    .colab-df-convert:hover {\n",
              "      background-color: #E2EBFA;\n",
              "      box-shadow: 0px 1px 2px rgba(60, 64, 67, 0.3), 0px 1px 3px 1px rgba(60, 64, 67, 0.15);\n",
              "      fill: #174EA6;\n",
              "    }\n",
              "\n",
              "    [theme=dark] .colab-df-convert {\n",
              "      background-color: #3B4455;\n",
              "      fill: #D2E3FC;\n",
              "    }\n",
              "\n",
              "    [theme=dark] .colab-df-convert:hover {\n",
              "      background-color: #434B5C;\n",
              "      box-shadow: 0px 1px 3px 1px rgba(0, 0, 0, 0.15);\n",
              "      filter: drop-shadow(0px 1px 2px rgba(0, 0, 0, 0.3));\n",
              "      fill: #FFFFFF;\n",
              "    }\n",
              "  </style>\n",
              "\n",
              "      <script>\n",
              "        const buttonEl =\n",
              "          document.querySelector('#df-7262abc7-5a18-4d1f-b361-c9e7ad21d7eb button.colab-df-convert');\n",
              "        buttonEl.style.display =\n",
              "          google.colab.kernel.accessAllowed ? 'block' : 'none';\n",
              "\n",
              "        async function convertToInteractive(key) {\n",
              "          const element = document.querySelector('#df-7262abc7-5a18-4d1f-b361-c9e7ad21d7eb');\n",
              "          const dataTable =\n",
              "            await google.colab.kernel.invokeFunction('convertToInteractive',\n",
              "                                                     [key], {});\n",
              "          if (!dataTable) return;\n",
              "\n",
              "          const docLinkHtml = 'Like what you see? Visit the ' +\n",
              "            '<a target=\"_blank\" href=https://colab.research.google.com/notebooks/data_table.ipynb>data table notebook</a>'\n",
              "            + ' to learn more about interactive tables.';\n",
              "          element.innerHTML = '';\n",
              "          dataTable['output_type'] = 'display_data';\n",
              "          await google.colab.output.renderOutput(dataTable, element);\n",
              "          const docLink = document.createElement('div');\n",
              "          docLink.innerHTML = docLinkHtml;\n",
              "          element.appendChild(docLink);\n",
              "        }\n",
              "      </script>\n",
              "    </div>\n",
              "  </div>\n",
              "  "
            ]
          },
          "metadata": {},
          "execution_count": 35
        }
      ],
      "source": [
        "df = pd.read_csv('/content/drive/MyDrive/BEDU2023F3/Remoto_Datasets/Remoto melbourne_housing-clean.csv', index_col=0)\n",
        "df.head()"
      ]
    },
    {
      "cell_type": "code",
      "execution_count": null,
      "metadata": {
        "id": "k2Yg3AhskyrV",
        "outputId": "abf53202-62af-4662-b661-6361219036ff",
        "colab": {
          "base_uri": "https://localhost:8080/"
        }
      },
      "outputs": [
        {
          "output_type": "execute_result",
          "data": {
            "text/plain": [
              "8915000.0"
            ]
          },
          "metadata": {},
          "execution_count": 36
        }
      ],
      "source": [
        "prices = df['price']\n",
        "prices.max() - prices.min()"
      ]
    },
    {
      "cell_type": "markdown",
      "metadata": {
        "id": "kKWt7K4AkyrV"
      },
      "source": [
        "Tomando en cuenta nuestro rango, vamos a decidir dividir nuestro conjunto en 20 segmentos. Usemos ahora nuestro método `cut` para segmentar nuestros datos."
      ]
    },
    {
      "cell_type": "code",
      "execution_count": null,
      "metadata": {
        "id": "SlqDXAUdkyrV",
        "outputId": "9ecb14ce-1bdf-442b-c3fc-75bf85ba1a3d",
        "colab": {
          "base_uri": "https://localhost:8080/"
        }
      },
      "outputs": [
        {
          "output_type": "execute_result",
          "data": {
            "text/plain": [
              "0        (1422250.0, 1868000.0]\n",
              "1         (976500.0, 1422250.0]\n",
              "2        (1422250.0, 1868000.0]\n",
              "3          (530750.0, 976500.0]\n",
              "4        (1422250.0, 1868000.0]\n",
              "                  ...          \n",
              "11641      (530750.0, 976500.0]\n",
              "11642     (976500.0, 1422250.0]\n",
              "11643      (530750.0, 976500.0]\n",
              "11644    (2313750.0, 2759500.0]\n",
              "11645      (530750.0, 976500.0]\n",
              "Name: price, Length: 11646, dtype: category\n",
              "Categories (20, interval[float64, right]): [(76085.0, 530750.0] < (530750.0, 976500.0] <\n",
              "                                            (976500.0, 1422250.0] < (1422250.0, 1868000.0] < ... <\n",
              "                                            (7217000.0, 7662750.0] < (7662750.0, 8108500.0] <\n",
              "                                            (8108500.0, 8554250.0] < (8554250.0, 9000000.0]]"
            ]
          },
          "metadata": {},
          "execution_count": 39
        }
      ],
      "source": [
        "pd.cut(prices, 20)"
      ]
    },
    {
      "cell_type": "markdown",
      "metadata": {
        "id": "f2grWQwukyrV"
      },
      "source": [
        "Ok... ¿Qué acaba de suceder? `pd.cut` toma el rango completo de nuestros datos, y luego crea 20 segmentos de igual tamaño. Después, revisa uno por uno nuestros datos, los ubica en uno de los segmentos y nos regresa una `Serie` donde tenemos cada índice clasificado en el segmento que lo toca.\n",
        "\n",
        "Ahora, para dividir nuestro dataset por segmentos, podemos utilizar `pd.groupby` y pasarle la `Serie` que obtuvimos. Lo que hace `groupby` en este caso es leer la clasificación de cada índice y agruparlos de manera que todas las muestras que pertencen a la misma clasificación queden juntas.\n",
        "\n",
        "Después de agruparlos, podemos usar un `count` para saber cuántas muestras hay en cada grupo:"
      ]
    },
    {
      "cell_type": "code",
      "execution_count": null,
      "metadata": {
        "id": "bPYHxHKQkyrW",
        "outputId": "6e3f0c54-50e1-4337-cade-abed8c382866",
        "colab": {
          "base_uri": "https://localhost:8080/"
        }
      },
      "outputs": [
        {
          "output_type": "execute_result",
          "data": {
            "text/plain": [
              "price\n",
              "(76085.0, 530750.0]       1747\n",
              "(530750.0, 976500.0]      4835\n",
              "(976500.0, 1422250.0]     2664\n",
              "(1422250.0, 1868000.0]    1278\n",
              "(1868000.0, 2313750.0]     570\n",
              "(2313750.0, 2759500.0]     261\n",
              "(2759500.0, 3205250.0]     141\n",
              "(3205250.0, 3651000.0]      67\n",
              "(3651000.0, 4096750.0]      40\n",
              "(4096750.0, 4542500.0]      16\n",
              "(4542500.0, 4988250.0]      10\n",
              "(4988250.0, 5434000.0]       5\n",
              "(5434000.0, 5879750.0]       7\n",
              "(5879750.0, 6325500.0]       1\n",
              "(6325500.0, 6771250.0]       1\n",
              "(6771250.0, 7217000.0]       0\n",
              "(7217000.0, 7662750.0]       1\n",
              "(7662750.0, 8108500.0]       1\n",
              "(8108500.0, 8554250.0]       0\n",
              "(8554250.0, 9000000.0]       1\n",
              "Name: price, dtype: int64"
            ]
          },
          "metadata": {},
          "execution_count": 40
        }
      ],
      "source": [
        "segmentos = pd.cut(prices, 20)\n",
        "\n",
        "df['price'].groupby(segmentos).count()"
      ]
    },
    {
      "cell_type": "markdown",
      "metadata": {
        "id": "lzaORm4MkyrW"
      },
      "source": [
        "¡Y Listo! Tenemos una tabla donde los índices son los 20 rangos en los que se dividió nuestro dataset y los valores de la tabla son los conteos de cada agrupación. De esta manera quedan aún en más evidencia los valores atípicos, ya que podemos ver varios segmentos donde la cantidad de muestras es muy baja.\n",
        "\n",
        "Ésta podría ser aún otra manera de eliminar valores atípicos, ya que podríamos, por ejemplo, decidir eliminar todos los datos que se encuentran en segmentos con menos de 50 muestras."
      ]
    },
    {
      "cell_type": "markdown",
      "metadata": {
        "id": "en1EzjetlIUm"
      },
      "source": [
        "## Reto 2: Tablas de frecuencias\n",
        "\n",
        "### 1. Objetivos:\n",
        "    - Aprender a generar tablas de frecuencias segmentando nuestros datos\n",
        " \n",
        "---\n",
        "    \n",
        "### 2. Desarrollo:"
      ]
    },
    {
      "cell_type": "markdown",
      "metadata": {
        "id": "-RTmmUTklIUo"
      },
      "source": [
        "#### a) Analizando distribución con tablas de frecuencias\n",
        "\n",
        "Vamos a generar tablas de frecuencias de los siguientes datasets y columnas:\n",
        "\n",
        "1. Dataset: 'near_earth_objects-jan_feb_1995-clean.csv'\n",
        "    - Columnas a graficar: 'estimated_diameter.meters.estimated_diameter_max' y 'relative_velocity.kilometers_per_second'\n",
        "2. Dataset: 'new_york_times_bestsellers-clean.json'\n",
        "    - Columnas a graficar: 'price.numberDouble'\n",
        "3. Dataset: 'melbourne_housing-clean.csv'\n",
        "    - Columnas a graficar: 'land_size'\n",
        "    \n",
        "Estos conjuntos de datos son los mismos que graficamos en el Reto anterior. Antes de generar las tablas de frecuencias, revisa el rango de tus conjuntos de datos y decide el número de segmentos adecuado para cada uno.\n",
        "\n",
        "Después, genera las tablas de frecuencias para cada uno de estos conjuntos de datos y compáralos con las gráficas de caja que realizaste en el Reto anterior. ¿Hay información nueva? ¿Qué ventajas o desventajas nos da esta nueva perspectiva?\n",
        "\n",
        "Piensa cuál de las dos aproximaciones (boxplots y tablas de frecuencia) resulta más útil para detectar valores atípicos. ¿O simplemente son útiles en diferentes contextos?"
      ]
    },
    {
      "cell_type": "code",
      "source": [
        "df_meteoritos = pd.read_csv('/content/drive/MyDrive/BEDU2023F3/Remoto_Datasets/Remoto near_earth_objects-jan_feb_1995-clean.csv', index_col=0)\n",
        "diameters = df_meteoritos['estimated_diameter.meters.estimated_diameter_max']\n",
        "diameters.max() - diameters.min()\n",
        "\n",
        "segmentos = pd.cut(diameters, 10)\n",
        "df_meteoritos['estimated_diameter.meters.estimated_diameter_max'].groupby(segmentos).count()"
      ],
      "metadata": {
        "id": "WNUpAv3flS7_",
        "colab": {
          "base_uri": "https://localhost:8080/"
        },
        "outputId": "c560c10e-d979-4b1a-f7ae-5830706da8a6"
      },
      "execution_count": null,
      "outputs": [
        {
          "output_type": "execute_result",
          "data": {
            "text/plain": [
              "estimated_diameter.meters.estimated_diameter_max\n",
              "(-3.535, 654.369]       274\n",
              "(654.369, 1305.76]       42\n",
              "(1305.76, 1957.15]       10\n",
              "(1957.15, 2608.541]       2\n",
              "(2608.541, 3259.931]      2\n",
              "(3259.931, 3911.322]      2\n",
              "(3911.322, 4562.712]      0\n",
              "(4562.712, 5214.103]      0\n",
              "(5214.103, 5865.493]      0\n",
              "(5865.493, 6516.884]      1\n",
              "Name: estimated_diameter.meters.estimated_diameter_max, dtype: int64"
            ]
          },
          "metadata": {},
          "execution_count": 3
        }
      ]
    },
    {
      "cell_type": "code",
      "source": [
        "df_meteoritos = pd.read_csv('/content/drive/MyDrive/BEDU2023F3/Remoto_Datasets/Remoto near_earth_objects-jan_feb_1995-clean.csv', index_col=0)\n",
        "velocities = df_meteoritos['relative_velocity.kilometers_per_second']\n",
        "velocities.max() - velocities.min()\n",
        "\n",
        "segmentos = pd.cut(velocities, 10)\n",
        "df_meteoritos['relative_velocity.kilometers_per_second'].groupby(segmentos).count()"
      ],
      "metadata": {
        "colab": {
          "base_uri": "https://localhost:8080/"
        },
        "id": "pmPMrmHWpYW7",
        "outputId": "e6fccc74-2933-408e-e283-4e9347c5f675"
      },
      "execution_count": null,
      "outputs": [
        {
          "output_type": "execute_result",
          "data": {
            "text/plain": [
              "relative_velocity.kilometers_per_second\n",
              "(0.642, 4.666]      19\n",
              "(4.666, 8.651]      66\n",
              "(8.651, 12.635]     59\n",
              "(12.635, 16.62]     67\n",
              "(16.62, 20.604]     54\n",
              "(20.604, 24.589]    25\n",
              "(24.589, 28.574]    17\n",
              "(28.574, 32.558]    16\n",
              "(32.558, 36.543]     5\n",
              "(36.543, 40.527]     5\n",
              "Name: relative_velocity.kilometers_per_second, dtype: int64"
            ]
          },
          "metadata": {},
          "execution_count": 4
        }
      ]
    },
    {
      "cell_type": "code",
      "source": [
        "df_bestsellers = pd.read_json('/content/drive/MyDrive/BEDU2023F3/Remoto_Datasets/Remoto new_york_times_bestsellers-clean.json')\n",
        "prices = df_bestsellers['price.numberDouble']\n",
        "prices.max() - prices.min()\n",
        "\n",
        "segmentos = pd.cut(prices, 10)\n",
        "df_bestsellers['price.numberDouble'].groupby(segmentos).count()"
      ],
      "metadata": {
        "id": "S45xh67VlSqq",
        "colab": {
          "base_uri": "https://localhost:8080/"
        },
        "outputId": "4db16a6c-545d-4029-e1d1-88bfac4c639e"
      },
      "execution_count": null,
      "outputs": [
        {
          "output_type": "execute_result",
          "data": {
            "text/plain": [
              "price.numberDouble\n",
              "(14.97, 16.99]      14\n",
              "(16.99, 18.99]       0\n",
              "(18.99, 20.99]      33\n",
              "(20.99, 22.99]      33\n",
              "(22.99, 24.99]     446\n",
              "(24.99, 26.99]    1257\n",
              "(26.99, 28.99]    1154\n",
              "(28.99, 30.99]      84\n",
              "(30.99, 32.99]       0\n",
              "(32.99, 34.99]      12\n",
              "Name: price.numberDouble, dtype: int64"
            ]
          },
          "metadata": {},
          "execution_count": 5
        }
      ]
    },
    {
      "cell_type": "code",
      "source": [
        "df_housing = pd.read_csv('/content/drive/MyDrive/BEDU2023F3/Remoto_Datasets/Remoto melbourne_housing-clean.csv', index_col=0)\n",
        "land = df_housing['land_size']\n",
        "land.max() - land.min()\n",
        "\n",
        "segmentos = pd.cut(land, 10)\n",
        "df_housing['land_size'].groupby(segmentos).count()"
      ],
      "metadata": {
        "colab": {
          "base_uri": "https://localhost:8080/"
        },
        "id": "9ZmUUq3jozcz",
        "outputId": "dc73f96f-fe4b-4463-cb6c-c0c05c24bda5"
      },
      "execution_count": null,
      "outputs": [
        {
          "output_type": "execute_result",
          "data": {
            "text/plain": [
              "land_size\n",
              "(-76.0, 7600.0]       11619\n",
              "(7600.0, 15200.0]        12\n",
              "(15200.0, 22800.0]        9\n",
              "(22800.0, 30400.0]        0\n",
              "(30400.0, 38000.0]        2\n",
              "(38000.0, 45600.0]        2\n",
              "(45600.0, 53200.0]        0\n",
              "(53200.0, 60800.0]        0\n",
              "(60800.0, 68400.0]        0\n",
              "(68400.0, 76000.0]        2\n",
              "Name: land_size, dtype: int64"
            ]
          },
          "metadata": {},
          "execution_count": 6
        }
      ]
    },
    {
      "cell_type": "markdown",
      "source": [
        "***\n",
        "***"
      ],
      "metadata": {
        "id": "AQEZ7DUQljPh"
      }
    },
    {
      "cell_type": "markdown",
      "source": [
        "<ins>Histogramas</ins>\n",
        "\n",
        "Los histogramas son una manera de visualizar nuestras tablas de frecuencias.\n",
        "\n",
        "El eje x es el rango de nuestros datos y se divide por segmentos (como los que generamos en el Ejemplo pasado).\n",
        "\n",
        "El eje y indica el conteo de muestras en cada segmento.\n",
        "\n",
        "> "
      ],
      "metadata": {
        "id": "qvqfhIjrlRA5"
      }
    },
    {
      "cell_type": "markdown",
      "metadata": {
        "id": "Ut44wiS4mAf9"
      },
      "source": [
        "## Ejemplo 3: Histogramas\n",
        "\n",
        "### 1. Objetivos:\n",
        "    - Aprender a generar histogramas usando seaborn\n",
        " \n",
        "---\n",
        "    \n",
        "### 2. Desarrollo:"
      ]
    },
    {
      "cell_type": "markdown",
      "metadata": {
        "id": "-xa7eyglmAgA"
      },
      "source": [
        "Vamos a generar un histograma segmentando nuestros datos en 20 segmentos (o bins)."
      ]
    },
    {
      "cell_type": "code",
      "execution_count": null,
      "metadata": {
        "id": "AEhI95rMmAgB"
      },
      "outputs": [],
      "source": [
        "import pandas as pd\n",
        "import seaborn as sns"
      ]
    },
    {
      "cell_type": "code",
      "execution_count": null,
      "metadata": {
        "id": "5UY_H3dImAgH",
        "outputId": "0580d3e5-0687-4d55-c986-6659cb315b44",
        "colab": {
          "base_uri": "https://localhost:8080/",
          "height": 391
        }
      },
      "outputs": [
        {
          "output_type": "execute_result",
          "data": {
            "text/plain": [
              "       suburb           address  rooms type      price method seller_g  \\\n",
              "0  Abbotsford      85 Turner St      2    h  1480000.0      S   Biggin   \n",
              "1  Abbotsford   25 Bloomburg St      2    h  1035000.0      S   Biggin   \n",
              "2  Abbotsford      5 Charles St      3    h  1465000.0     SP   Biggin   \n",
              "3  Abbotsford  40 Federation La      3    h   850000.0     PI   Biggin   \n",
              "4  Abbotsford       55a Park St      4    h  1600000.0     VB   Nelson   \n",
              "\n",
              "        date  distance  postcode  bedroom_2  bathroom  car  land_size  \\\n",
              "0  3/12/2016       2.5    3067.0        2.0       1.0  1.0      202.0   \n",
              "1  4/02/2016       2.5    3067.0        2.0       1.0  0.0      156.0   \n",
              "2  4/03/2017       2.5    3067.0        3.0       2.0  0.0      134.0   \n",
              "3  4/03/2017       2.5    3067.0        3.0       2.0  1.0       94.0   \n",
              "4  4/06/2016       2.5    3067.0        3.0       1.0  2.0      120.0   \n",
              "\n",
              "  council_area  latitude  longitude            region_name  property_count  \n",
              "0        Yarra  -37.7996   144.9984  Northern Metropolitan          4019.0  \n",
              "1        Yarra  -37.8079   144.9934  Northern Metropolitan          4019.0  \n",
              "2        Yarra  -37.8093   144.9944  Northern Metropolitan          4019.0  \n",
              "3        Yarra  -37.7969   144.9969  Northern Metropolitan          4019.0  \n",
              "4        Yarra  -37.8072   144.9941  Northern Metropolitan          4019.0  "
            ],
            "text/html": [
              "\n",
              "  <div id=\"df-46ed0969-da5c-4f07-bd1e-c7c3471f46cb\">\n",
              "    <div class=\"colab-df-container\">\n",
              "      <div>\n",
              "<style scoped>\n",
              "    .dataframe tbody tr th:only-of-type {\n",
              "        vertical-align: middle;\n",
              "    }\n",
              "\n",
              "    .dataframe tbody tr th {\n",
              "        vertical-align: top;\n",
              "    }\n",
              "\n",
              "    .dataframe thead th {\n",
              "        text-align: right;\n",
              "    }\n",
              "</style>\n",
              "<table border=\"1\" class=\"dataframe\">\n",
              "  <thead>\n",
              "    <tr style=\"text-align: right;\">\n",
              "      <th></th>\n",
              "      <th>suburb</th>\n",
              "      <th>address</th>\n",
              "      <th>rooms</th>\n",
              "      <th>type</th>\n",
              "      <th>price</th>\n",
              "      <th>method</th>\n",
              "      <th>seller_g</th>\n",
              "      <th>date</th>\n",
              "      <th>distance</th>\n",
              "      <th>postcode</th>\n",
              "      <th>bedroom_2</th>\n",
              "      <th>bathroom</th>\n",
              "      <th>car</th>\n",
              "      <th>land_size</th>\n",
              "      <th>council_area</th>\n",
              "      <th>latitude</th>\n",
              "      <th>longitude</th>\n",
              "      <th>region_name</th>\n",
              "      <th>property_count</th>\n",
              "    </tr>\n",
              "  </thead>\n",
              "  <tbody>\n",
              "    <tr>\n",
              "      <th>0</th>\n",
              "      <td>Abbotsford</td>\n",
              "      <td>85 Turner St</td>\n",
              "      <td>2</td>\n",
              "      <td>h</td>\n",
              "      <td>1480000.0</td>\n",
              "      <td>S</td>\n",
              "      <td>Biggin</td>\n",
              "      <td>3/12/2016</td>\n",
              "      <td>2.5</td>\n",
              "      <td>3067.0</td>\n",
              "      <td>2.0</td>\n",
              "      <td>1.0</td>\n",
              "      <td>1.0</td>\n",
              "      <td>202.0</td>\n",
              "      <td>Yarra</td>\n",
              "      <td>-37.7996</td>\n",
              "      <td>144.9984</td>\n",
              "      <td>Northern Metropolitan</td>\n",
              "      <td>4019.0</td>\n",
              "    </tr>\n",
              "    <tr>\n",
              "      <th>1</th>\n",
              "      <td>Abbotsford</td>\n",
              "      <td>25 Bloomburg St</td>\n",
              "      <td>2</td>\n",
              "      <td>h</td>\n",
              "      <td>1035000.0</td>\n",
              "      <td>S</td>\n",
              "      <td>Biggin</td>\n",
              "      <td>4/02/2016</td>\n",
              "      <td>2.5</td>\n",
              "      <td>3067.0</td>\n",
              "      <td>2.0</td>\n",
              "      <td>1.0</td>\n",
              "      <td>0.0</td>\n",
              "      <td>156.0</td>\n",
              "      <td>Yarra</td>\n",
              "      <td>-37.8079</td>\n",
              "      <td>144.9934</td>\n",
              "      <td>Northern Metropolitan</td>\n",
              "      <td>4019.0</td>\n",
              "    </tr>\n",
              "    <tr>\n",
              "      <th>2</th>\n",
              "      <td>Abbotsford</td>\n",
              "      <td>5 Charles St</td>\n",
              "      <td>3</td>\n",
              "      <td>h</td>\n",
              "      <td>1465000.0</td>\n",
              "      <td>SP</td>\n",
              "      <td>Biggin</td>\n",
              "      <td>4/03/2017</td>\n",
              "      <td>2.5</td>\n",
              "      <td>3067.0</td>\n",
              "      <td>3.0</td>\n",
              "      <td>2.0</td>\n",
              "      <td>0.0</td>\n",
              "      <td>134.0</td>\n",
              "      <td>Yarra</td>\n",
              "      <td>-37.8093</td>\n",
              "      <td>144.9944</td>\n",
              "      <td>Northern Metropolitan</td>\n",
              "      <td>4019.0</td>\n",
              "    </tr>\n",
              "    <tr>\n",
              "      <th>3</th>\n",
              "      <td>Abbotsford</td>\n",
              "      <td>40 Federation La</td>\n",
              "      <td>3</td>\n",
              "      <td>h</td>\n",
              "      <td>850000.0</td>\n",
              "      <td>PI</td>\n",
              "      <td>Biggin</td>\n",
              "      <td>4/03/2017</td>\n",
              "      <td>2.5</td>\n",
              "      <td>3067.0</td>\n",
              "      <td>3.0</td>\n",
              "      <td>2.0</td>\n",
              "      <td>1.0</td>\n",
              "      <td>94.0</td>\n",
              "      <td>Yarra</td>\n",
              "      <td>-37.7969</td>\n",
              "      <td>144.9969</td>\n",
              "      <td>Northern Metropolitan</td>\n",
              "      <td>4019.0</td>\n",
              "    </tr>\n",
              "    <tr>\n",
              "      <th>4</th>\n",
              "      <td>Abbotsford</td>\n",
              "      <td>55a Park St</td>\n",
              "      <td>4</td>\n",
              "      <td>h</td>\n",
              "      <td>1600000.0</td>\n",
              "      <td>VB</td>\n",
              "      <td>Nelson</td>\n",
              "      <td>4/06/2016</td>\n",
              "      <td>2.5</td>\n",
              "      <td>3067.0</td>\n",
              "      <td>3.0</td>\n",
              "      <td>1.0</td>\n",
              "      <td>2.0</td>\n",
              "      <td>120.0</td>\n",
              "      <td>Yarra</td>\n",
              "      <td>-37.8072</td>\n",
              "      <td>144.9941</td>\n",
              "      <td>Northern Metropolitan</td>\n",
              "      <td>4019.0</td>\n",
              "    </tr>\n",
              "  </tbody>\n",
              "</table>\n",
              "</div>\n",
              "      <button class=\"colab-df-convert\" onclick=\"convertToInteractive('df-46ed0969-da5c-4f07-bd1e-c7c3471f46cb')\"\n",
              "              title=\"Convert this dataframe to an interactive table.\"\n",
              "              style=\"display:none;\">\n",
              "        \n",
              "  <svg xmlns=\"http://www.w3.org/2000/svg\" height=\"24px\"viewBox=\"0 0 24 24\"\n",
              "       width=\"24px\">\n",
              "    <path d=\"M0 0h24v24H0V0z\" fill=\"none\"/>\n",
              "    <path d=\"M18.56 5.44l.94 2.06.94-2.06 2.06-.94-2.06-.94-.94-2.06-.94 2.06-2.06.94zm-11 1L8.5 8.5l.94-2.06 2.06-.94-2.06-.94L8.5 2.5l-.94 2.06-2.06.94zm10 10l.94 2.06.94-2.06 2.06-.94-2.06-.94-.94-2.06-.94 2.06-2.06.94z\"/><path d=\"M17.41 7.96l-1.37-1.37c-.4-.4-.92-.59-1.43-.59-.52 0-1.04.2-1.43.59L10.3 9.45l-7.72 7.72c-.78.78-.78 2.05 0 2.83L4 21.41c.39.39.9.59 1.41.59.51 0 1.02-.2 1.41-.59l7.78-7.78 2.81-2.81c.8-.78.8-2.07 0-2.86zM5.41 20L4 18.59l7.72-7.72 1.47 1.35L5.41 20z\"/>\n",
              "  </svg>\n",
              "      </button>\n",
              "      \n",
              "  <style>\n",
              "    .colab-df-container {\n",
              "      display:flex;\n",
              "      flex-wrap:wrap;\n",
              "      gap: 12px;\n",
              "    }\n",
              "\n",
              "    .colab-df-convert {\n",
              "      background-color: #E8F0FE;\n",
              "      border: none;\n",
              "      border-radius: 50%;\n",
              "      cursor: pointer;\n",
              "      display: none;\n",
              "      fill: #1967D2;\n",
              "      height: 32px;\n",
              "      padding: 0 0 0 0;\n",
              "      width: 32px;\n",
              "    }\n",
              "\n",
              "    .colab-df-convert:hover {\n",
              "      background-color: #E2EBFA;\n",
              "      box-shadow: 0px 1px 2px rgba(60, 64, 67, 0.3), 0px 1px 3px 1px rgba(60, 64, 67, 0.15);\n",
              "      fill: #174EA6;\n",
              "    }\n",
              "\n",
              "    [theme=dark] .colab-df-convert {\n",
              "      background-color: #3B4455;\n",
              "      fill: #D2E3FC;\n",
              "    }\n",
              "\n",
              "    [theme=dark] .colab-df-convert:hover {\n",
              "      background-color: #434B5C;\n",
              "      box-shadow: 0px 1px 3px 1px rgba(0, 0, 0, 0.15);\n",
              "      filter: drop-shadow(0px 1px 2px rgba(0, 0, 0, 0.3));\n",
              "      fill: #FFFFFF;\n",
              "    }\n",
              "  </style>\n",
              "\n",
              "      <script>\n",
              "        const buttonEl =\n",
              "          document.querySelector('#df-46ed0969-da5c-4f07-bd1e-c7c3471f46cb button.colab-df-convert');\n",
              "        buttonEl.style.display =\n",
              "          google.colab.kernel.accessAllowed ? 'block' : 'none';\n",
              "\n",
              "        async function convertToInteractive(key) {\n",
              "          const element = document.querySelector('#df-46ed0969-da5c-4f07-bd1e-c7c3471f46cb');\n",
              "          const dataTable =\n",
              "            await google.colab.kernel.invokeFunction('convertToInteractive',\n",
              "                                                     [key], {});\n",
              "          if (!dataTable) return;\n",
              "\n",
              "          const docLinkHtml = 'Like what you see? Visit the ' +\n",
              "            '<a target=\"_blank\" href=https://colab.research.google.com/notebooks/data_table.ipynb>data table notebook</a>'\n",
              "            + ' to learn more about interactive tables.';\n",
              "          element.innerHTML = '';\n",
              "          dataTable['output_type'] = 'display_data';\n",
              "          await google.colab.output.renderOutput(dataTable, element);\n",
              "          const docLink = document.createElement('div');\n",
              "          docLink.innerHTML = docLinkHtml;\n",
              "          element.appendChild(docLink);\n",
              "        }\n",
              "      </script>\n",
              "    </div>\n",
              "  </div>\n",
              "  "
            ]
          },
          "metadata": {},
          "execution_count": 42
        }
      ],
      "source": [
        "df = pd.read_csv('/content/drive/MyDrive/BEDU2023F3/Remoto_Datasets/Remoto melbourne_housing-clean.csv', index_col=0)\n",
        "df.head()"
      ]
    },
    {
      "cell_type": "code",
      "execution_count": null,
      "metadata": {
        "id": "oMCxDsvcmAgH"
      },
      "outputs": [],
      "source": [
        "sns.set(style='white')"
      ]
    },
    {
      "cell_type": "code",
      "execution_count": null,
      "metadata": {
        "id": "Gt9YVSokmAgI",
        "outputId": "65a77fd5-9d29-4e06-d18e-9eb191e22ee8",
        "colab": {
          "base_uri": "https://localhost:8080/",
          "height": 358
        }
      },
      "outputs": [
        {
          "output_type": "stream",
          "name": "stderr",
          "text": [
            "/usr/local/lib/python3.8/dist-packages/seaborn/distributions.py:2619: FutureWarning: `distplot` is a deprecated function and will be removed in a future version. Please adapt your code to use either `displot` (a figure-level function with similar flexibility) or `histplot` (an axes-level function for histograms).\n",
            "  warnings.warn(msg, FutureWarning)\n"
          ]
        },
        {
          "output_type": "execute_result",
          "data": {
            "text/plain": [
              "<matplotlib.axes._subplots.AxesSubplot at 0x7f46f40bc880>"
            ]
          },
          "metadata": {},
          "execution_count": 47
        },
        {
          "output_type": "display_data",
          "data": {
            "text/plain": [
              "<Figure size 432x288 with 1 Axes>"
            ],
            "image/png": "[encoded data removed]"
          },
          "metadata": {}
        }
      ],
      "source": [
        "sns.distplot(df['price'], kde=False, norm_hist=False, bins=20)"
      ]
    },
    {
      "cell_type": "markdown",
      "metadata": {
        "id": "BWiuqL9lmAgI"
      },
      "source": [
        "- La bandera `kde=False` evita que se grafique también la densidad de probabilidad (que veremos más adelante).\n",
        "- `norm_hist=False` sirve para que nuestro eje y indique los conteos de nuestros segmentos.\n",
        "- `bins=20` indica el número de segmentos.\n",
        "\n",
        "Esta gráfica indica con mucha claridad hacia donde \"tienden\" nuestros datos, ¿no es así?\n",
        "\n",
        "Podemos ver mucha más granularidad incluso si aumentamos el tamaño de nuestros `bins`:"
      ]
    },
    {
      "cell_type": "code",
      "execution_count": null,
      "metadata": {
        "id": "yKDBmriUmAgI",
        "outputId": "b768152b-4746-44b8-cbd7-f0fce89b8353",
        "colab": {
          "base_uri": "https://localhost:8080/",
          "height": 302
        }
      },
      "outputs": [
        {
          "output_type": "execute_result",
          "data": {
            "text/plain": [
              "<matplotlib.axes._subplots.AxesSubplot at 0x7f46f4335880>"
            ]
          },
          "metadata": {},
          "execution_count": 48
        },
        {
          "output_type": "display_data",
          "data": {
            "text/plain": [
              "<Figure size 432x288 with 1 Axes>"
            ],
            "image/png": "[encoded data removed]"
          },
          "metadata": {}
        }
      ],
      "source": [
        "sns.set(style='ticks')\n",
        "sns.distplot(df['price'], kde=False, norm_hist=False, bins=100)"
      ]
    },
    {
      "cell_type": "markdown",
      "source": [
        "***\n",
        "***"
      ],
      "metadata": {
        "id": "sEwudlUpmF5F"
      }
    },
    {
      "cell_type": "markdown",
      "source": [
        "<ins>Describiendo histogramas</ins>\n",
        "\n",
        "Ya que sabemos cómo generar histogramas con nuestros datos, necesitamos ahora algo de vocabulario para describir lo que vemos en ellos.\n",
        "\n",
        "Describir nuestras distribuciones nos ayuda a comunicar nuestros hallazgos, así como también a encontrar técnicas específicas que podamos utilizar para analizar a más profundidad nuestros datos.\n",
        "\n",
        "Aprendamos algunos de los términos más comunes.\n",
        "\n",
        "> "
      ],
      "metadata": {
        "id": "3_V2nJ4kmHma"
      }
    },
    {
      "cell_type": "markdown",
      "metadata": {
        "id": "Pr2_bFE-mnFU"
      },
      "source": [
        "## Ejemplo 4: Describiendo histogramas\n",
        "\n",
        "### 1. Objetivos:\n",
        "    - Aprender algunos términos importantes para describir nuestros histogramas\n",
        " \n",
        "---\n",
        "    \n",
        "### 2. Desarrollo:"
      ]
    },
    {
      "cell_type": "code",
      "execution_count": null,
      "metadata": {
        "id": "uVKdLNOzmnFW"
      },
      "outputs": [],
      "source": [
        "import numpy as np\n",
        "import seaborn as sns\n",
        "from scipy.stats import skew, kurtosis\n",
        "\n",
        "sns.set(style='white')"
      ]
    },
    {
      "cell_type": "markdown",
      "metadata": {
        "id": "Rxc-iizymnFX"
      },
      "source": [
        "Vamos a ver algunas formas comunes que pueden tener nuestros histogramas. Normalmente las gráficas que obtengamos con datos provenientes del mundo real no encajan a la perfección con estas formas, pero ayuda tener referencias para poder describir nuestras gráficas.\n",
        "\n",
        "Solemos describir nuestros datos utilizando dos parámetros: asimetría y curtosis."
      ]
    },
    {
      "cell_type": "markdown",
      "metadata": {
        "id": "3Q_j1moimnFY"
      },
      "source": [
        "#### a) Asimetría (skewness)\n",
        "\n",
        "La asimetría nos da una medida de la falta de simetría en una distribución (duh). Una distribución es simétrica si se ve igual a la izquierda y derecha del punto central.\n",
        "\n",
        "- Una asimetría de 0 indica que la simetría de la distribución es perfecta.\n",
        "\n",
        "- Números positivos indican que hay una asimetría positiva, es decir que la cola de la derecha es más larga que la cola de la izquierda.\n",
        "\n",
        "- Números negativos indican que hay una asimetría negativa, es decir que la cola de la izquierda es más larga que la cola de la derecha."
      ]
    },
    {
      "cell_type": "markdown",
      "metadata": {
        "id": "8-coEHnomnFY"
      },
      "source": [
        "#### b) Curtosis (kurtosis)\n",
        "\n",
        "La curtosis es una medida de la dispersión de nuestros datos. La curtosis nos dice qué tan escarpada o achatada está nuestra distribución.\n",
        "\n",
        "- Curtosis de 0 indica que la dispersión de nuestros datos es normal (más adelante aprenderemos exactamente qué significa esto).\n",
        "\n",
        "- Curtosis positiva indica que nuestra distribución está achatada. Esto implica que hay más dispersión de nuestros datos, que están más lejanos de nuestro punto central y que por lo tanto tenemos colas largas (comparadas con la cola normal).\n",
        "\n",
        "- Curtosis negativa indica que nuestra distribución está escarpada. Esto implica que hay menos dispersión de nuestros datos, que están más cercanos a nuestro punto central y que por lo tanto tenemos colas cortas (comparadas con la cola normal).\n",
        "\n",
        "No todas las técnicas para medida curtosis establecen la normalidad en 0, pero nosotros vamos a utilizar la default en `scipy` y `pandas`."
      ]
    },
    {
      "cell_type": "markdown",
      "metadata": {
        "id": "tyo_JqeCmnFY"
      },
      "source": [
        "---\n",
        "\n",
        "Para calcular las medidas de curtosis y asimetría usaremos los métodos `kurtosis` y `skew` de la librería `scipy.stats`.\n",
        "\n",
        "Usando estas definiciones estamos listos para visualizar algunas distribuciones con características distintas:"
      ]
    },
    {
      "cell_type": "markdown",
      "metadata": {
        "id": "kJu1cGdpmnFY"
      },
      "source": [
        "### Distribución Normal (Standard Normal)"
      ]
    },
    {
      "cell_type": "markdown",
      "metadata": {
        "id": "F8Ny0nRgmnFZ"
      },
      "source": [
        "La distribución normal es una de las más famosas y más utilizadas. Muchos de los análisis estadísticos que hacemos toman a la distribución normal como un \"estándar\". Hay algunas medidas que incluso requieren que la distribución sea normal para funcionar. A través de este módulo nos toparemos varias veces con esta distribución y la exploraremos más a profundidad. Por el momento basta saber que la distribución normal tiene una asimetría de 0 y una curtosis de 0 (usando el método default de `scipy` y `pandas`.\n",
        "\n",
        "Otra cosa interesante es que la distribución normal estándar tiene un promedio de 0, una mediana de 0, una moda de 0 y una desviación estándar de 1. Esto implica que el 68% de los datos están a 1 desviación estándar de la media y el 95% de los datos están a 2 desviaciones estándares de la media.\n",
        "\n",
        "Esta distribución se ve así:"
      ]
    },
    {
      "cell_type": "code",
      "execution_count": null,
      "metadata": {
        "id": "QJapjmThmnFZ"
      },
      "outputs": [],
      "source": [
        "normal = np.random.normal(loc=0, scale=5, size=10000)"
      ]
    },
    {
      "cell_type": "code",
      "execution_count": null,
      "metadata": {
        "id": "m2qBH71QmnFZ",
        "outputId": "71ee67f9-d8b8-45fd-94e3-18019706dc9d",
        "colab": {
          "base_uri": "https://localhost:8080/",
          "height": 268
        }
      },
      "outputs": [
        {
          "output_type": "display_data",
          "data": {
            "text/plain": [
              "<Figure size 432x288 with 1 Axes>"
            ],
            "image/png": "[encoded data removed]"
          },
          "metadata": {}
        }
      ],
      "source": [
        "sns.distplot(normal, kde=False, norm_hist=False);"
      ]
    },
    {
      "cell_type": "code",
      "execution_count": null,
      "metadata": {
        "id": "Hh7-l6s3mnFa",
        "outputId": "57d32dbe-a05b-470f-ac8e-de7171fa176f",
        "colab": {
          "base_uri": "https://localhost:8080/"
        }
      },
      "outputs": [
        {
          "output_type": "stream",
          "name": "stdout",
          "text": [
            "Curtosis: 0.030828369203116157\n",
            "Asimetría: 0.024850521444626416\n"
          ]
        }
      ],
      "source": [
        "print(f'Curtosis: {kurtosis(normal)}')\n",
        "print(f'Asimetría: {skew(normal)}')"
      ]
    },
    {
      "cell_type": "markdown",
      "metadata": {
        "id": "y7UjdfNomnFa"
      },
      "source": [
        "#### Distribuciones de cola corta (short-tailed)\n",
        "\n",
        "Las distribuciones de cola corta se concentran mucho en el punto central y casi no se extienden hacia los lados. Es raro en realidad encontrar distribuciones de cola corta, pero así se vería una:"
      ]
    },
    {
      "cell_type": "code",
      "execution_count": null,
      "metadata": {
        "id": "z4jZ_2XEmnFa"
      },
      "outputs": [],
      "source": [
        "cola_corta = np.array([2, 2, 3, 3, 3, 3, 3, 3, 4, 4, 4, 4, 4, 4, 4, 4, 5, 5, 5, 5, 5, 5, 5, 5, 6, 6, 6, 6, 6, 6, 6, 7, 7, 7, 7, 7, 8, 8, 8])"
      ]
    },
    {
      "cell_type": "code",
      "execution_count": null,
      "metadata": {
        "id": "bHZcJftMmnFa",
        "outputId": "08ce7c8a-aaa9-4978-83f7-5eec8331581e",
        "colab": {
          "base_uri": "https://localhost:8080/",
          "height": 268
        }
      },
      "outputs": [
        {
          "output_type": "display_data",
          "data": {
            "text/plain": [
              "<Figure size 432x288 with 1 Axes>"
            ],
            "image/png": "[encoded data removed]"
          },
          "metadata": {}
        }
      ],
      "source": [
        "sns.distplot(cola_corta, kde=False, norm_hist=False, bins=7);"
      ]
    },
    {
      "cell_type": "code",
      "execution_count": null,
      "metadata": {
        "id": "J_1cNexymnFb",
        "outputId": "ec759573-6c3b-45f2-99bc-adc4983e6f15"
      },
      "outputs": [
        {
          "name": "stdout",
          "output_type": "stream",
          "text": [
            "Curtosis: -0.8177383847138642\n",
            "Asimetría: 0.08996251301661412\n"
          ]
        }
      ],
      "source": [
        "print(f'Curtosis: {kurtosis(cola_corta)}')\n",
        "print(f'Asimetría: {skew(cola_corta)}')"
      ]
    },
    {
      "cell_type": "markdown",
      "metadata": {
        "id": "u1cSzUiYmnFb"
      },
      "source": [
        "### Distribuciones de cola larga (fat-tailed)\n",
        "\n",
        "Estas distribuciones se extienden mucho hacia los lados (o hacia uno de los dos lados) a partir del punto central. Muchos fenómenos naturales y sociales tienen distribuciones de cola larga."
      ]
    },
    {
      "cell_type": "code",
      "execution_count": null,
      "metadata": {
        "id": "UZZDGAOkmnFb"
      },
      "outputs": [],
      "source": [
        "cola_larga = np.random.laplace(loc=0.0, scale=1, size=10000)"
      ]
    },
    {
      "cell_type": "code",
      "execution_count": null,
      "metadata": {
        "id": "vw2MUt4mmnFb",
        "outputId": "671dee62-0708-439d-cb8e-051f9527d3e4",
        "colab": {
          "base_uri": "https://localhost:8080/",
          "height": 268
        }
      },
      "outputs": [
        {
          "output_type": "display_data",
          "data": {
            "text/plain": [
              "<Figure size 432x288 with 1 Axes>"
            ],
            "image/png": "[encoded data removed]"
          },
          "metadata": {}
        }
      ],
      "source": [
        "sns.distplot(cola_larga, kde=False, norm_hist=False);"
      ]
    },
    {
      "cell_type": "code",
      "execution_count": null,
      "metadata": {
        "id": "QUnE2zjwmnFb",
        "outputId": "56a28faa-8b66-4c05-d0fc-16a926930476",
        "colab": {
          "base_uri": "https://localhost:8080/"
        }
      },
      "outputs": [
        {
          "output_type": "stream",
          "name": "stdout",
          "text": [
            "Curtosis: 2.8270976721696757\n",
            "Asimetría: 0.05317275092016364\n"
          ]
        }
      ],
      "source": [
        "print(f'Curtosis: {kurtosis(cola_larga)}')\n",
        "print(f'Asimetría: {skew(cola_larga)}')"
      ]
    },
    {
      "cell_type": "markdown",
      "metadata": {
        "id": "lqPrVHP2mnFb"
      },
      "source": [
        "### Asimetría Positiva (right-skewed)\n",
        "\n",
        "Las distribuciones con asimetría positiva tienen colas más largas hacia el lado derecho del punto central."
      ]
    },
    {
      "cell_type": "code",
      "execution_count": null,
      "metadata": {
        "id": "p-I8ghDJmnFb"
      },
      "outputs": [],
      "source": [
        "asimetria_positiva = np.random.exponential(scale=1.0, size=10000)"
      ]
    },
    {
      "cell_type": "code",
      "execution_count": null,
      "metadata": {
        "id": "dilRIVsRmnFc",
        "outputId": "55de1c0e-5ef6-40d2-e266-3c2a57c2efe3",
        "colab": {
          "base_uri": "https://localhost:8080/",
          "height": 270
        }
      },
      "outputs": [
        {
          "output_type": "display_data",
          "data": {
            "text/plain": [
              "<Figure size 432x288 with 1 Axes>"
            ],
            "image/png": "[encoded data removed]"
          },
          "metadata": {}
        }
      ],
      "source": [
        "sns.distplot(asimetria_positiva, kde=False, norm_hist=False);"
      ]
    },
    {
      "cell_type": "code",
      "execution_count": null,
      "metadata": {
        "id": "M9loCT5TmnFc",
        "outputId": "a3b4321a-78f3-4968-dce7-e4a315bbf32b",
        "colab": {
          "base_uri": "https://localhost:8080/"
        }
      },
      "outputs": [
        {
          "output_type": "stream",
          "name": "stdout",
          "text": [
            "Curtosis: 6.394184416861425\n",
            "Asimetría: 2.0476730320731122\n"
          ]
        }
      ],
      "source": [
        "print(f'Curtosis: {kurtosis(asimetria_positiva)}')\n",
        "print(f'Asimetría: {skew(asimetria_positiva)}')"
      ]
    },
    {
      "cell_type": "markdown",
      "metadata": {
        "id": "Io3zDGfDmnFc"
      },
      "source": [
        "### Asimetría negativa (left-skewed)\n",
        "\n",
        "Las distribuciones con asimetría negativa tienen colas más largas hacia el lado izquierdo del punto central."
      ]
    },
    {
      "cell_type": "code",
      "execution_count": null,
      "metadata": {
        "id": "xfbgC1tHmnFc"
      },
      "outputs": [],
      "source": [
        "asimetria_negativa = np.random.chisquare(4, size=10000) * -1"
      ]
    },
    {
      "cell_type": "code",
      "execution_count": null,
      "metadata": {
        "id": "KqYqSDXUmnFc",
        "outputId": "42fe8e3f-4801-4a57-8f14-063ba1ac31be",
        "colab": {
          "base_uri": "https://localhost:8080/",
          "height": 268
        }
      },
      "outputs": [
        {
          "output_type": "display_data",
          "data": {
            "text/plain": [
              "<Figure size 432x288 with 1 Axes>"
            ],
            "image/png": "[encoded data removed]"
          },
          "metadata": {}
        }
      ],
      "source": [
        "sns.distplot(asimetria_negativa, kde=False, norm_hist=False);"
      ]
    },
    {
      "cell_type": "code",
      "execution_count": null,
      "metadata": {
        "id": "iJmOe-v1mnFc",
        "outputId": "d3582284-ccdc-46e8-f9c6-468c36d9607d",
        "colab": {
          "base_uri": "https://localhost:8080/"
        }
      },
      "outputs": [
        {
          "output_type": "stream",
          "name": "stdout",
          "text": [
            "Curtosis: 2.9443770104389895\n",
            "Asimetría: -1.385377216234474\n"
          ]
        }
      ],
      "source": [
        "print(f'Curtosis: {kurtosis(asimetria_negativa)}')\n",
        "print(f'Asimetría: {skew(asimetria_negativa)}')"
      ]
    },
    {
      "cell_type": "markdown",
      "metadata": {
        "id": "bFmgEurAmnFc"
      },
      "source": [
        "Hay algunas distribuciones que tienen valores muy extremos tanto de curtosis como de asimetría:"
      ]
    },
    {
      "cell_type": "markdown",
      "metadata": {
        "id": "DhyKsMxYmnFd"
      },
      "source": [
        "cauchy = np.random.standard_cauchy(size=10000)"
      ]
    },
    {
      "cell_type": "code",
      "source": [
        "cauchy = np.random.standard_cauchy(size=10000)"
      ],
      "metadata": {
        "id": "XOJiVn7RK9p8"
      },
      "execution_count": null,
      "outputs": []
    },
    {
      "cell_type": "code",
      "execution_count": null,
      "metadata": {
        "id": "y5jP6PUbmnFd",
        "outputId": "8b2c31fe-b5d7-4785-cace-d61e3372f489",
        "colab": {
          "base_uri": "https://localhost:8080/",
          "height": 270
        }
      },
      "outputs": [
        {
          "output_type": "display_data",
          "data": {
            "text/plain": [
              "<Figure size 432x288 with 1 Axes>"
            ],
            "image/png": "[encoded data removed]"
          },
          "metadata": {}
        }
      ],
      "source": [
        "sns.distplot(cauchy, kde=False, norm_hist=False);"
      ]
    },
    {
      "cell_type": "code",
      "execution_count": null,
      "metadata": {
        "id": "x4R8vzERmnFd",
        "outputId": "98cf9417-0cbf-4112-cd65-0e8745214b61",
        "colab": {
          "base_uri": "https://localhost:8080/"
        }
      },
      "outputs": [
        {
          "output_type": "stream",
          "name": "stdout",
          "text": [
            "Curtosis: 1059.9980199738384\n",
            "Asimetría: -19.310211883005987\n"
          ]
        }
      ],
      "source": [
        "print(f'Curtosis: {kurtosis(cauchy)}')\n",
        "print(f'Asimetría: {skew(cauchy)}')"
      ]
    },
    {
      "cell_type": "markdown",
      "metadata": {
        "id": "MbFs2VfbmnFd"
      },
      "source": [
        "### Distribución uniforme (uniform distribution)\n",
        "\n",
        "Una distribución uniforme se genera cuando todos los valores tienen la misma probabilidad (o casi) de suceder. Esto genera una gráfica bastante plana en la parte superior que además tiene una curtosis negativa (porque tiene \"colas\" muy gruesas):"
      ]
    },
    {
      "cell_type": "code",
      "execution_count": null,
      "metadata": {
        "id": "zFRLc_6gmnFd"
      },
      "outputs": [],
      "source": [
        "uniform = np.random.uniform(low=-1, high=0, size=10000)"
      ]
    },
    {
      "cell_type": "code",
      "execution_count": null,
      "metadata": {
        "id": "2-q0yFuXmnFd",
        "outputId": "03fc312d-bdc2-4132-ef17-1e7a08d507d1",
        "colab": {
          "base_uri": "https://localhost:8080/",
          "height": 268
        }
      },
      "outputs": [
        {
          "output_type": "display_data",
          "data": {
            "text/plain": [
              "<Figure size 432x288 with 1 Axes>"
            ],
            "image/png": "[encoded data removed]"
          },
          "metadata": {}
        }
      ],
      "source": [
        "sns.distplot(uniform, bins=15, kde=False, norm_hist=False);"
      ]
    },
    {
      "cell_type": "code",
      "execution_count": null,
      "metadata": {
        "id": "GsnjFtMHmnFd",
        "outputId": "0fa9e8df-4319-4114-c9bb-96e80fbb393d",
        "colab": {
          "base_uri": "https://localhost:8080/"
        }
      },
      "outputs": [
        {
          "output_type": "stream",
          "name": "stdout",
          "text": [
            "Curtosis: -1.204549366530069\n",
            "Asimetría: -0.019272362823055885\n"
          ]
        }
      ],
      "source": [
        "print(f'Curtosis: {kurtosis(uniform)}')\n",
        "print(f'Asimetría: {skew(uniform)}')"
      ]
    },
    {
      "cell_type": "markdown",
      "metadata": {
        "id": "O38tHp6EmnFd"
      },
      "source": [
        "### Distribución bimodal y multimodal\n",
        "\n",
        "Hay veces que no tenemos un solo pico en nuestros datos. Puede suceder que haya dos o más concentraciones de valores en nuestros datos. A esto le llamamos distribuciones bimodales (cuando hay 2 concentraciones) y multimodales (cuando hay más de 2).\n",
        "\n",
        "Debemos de ser muy cuidadosos al usar las medidas de curtosis y asimetría con este tipo de distribuciones, ya que pueden darnos ideas erróneas de lo que realmente está sucediendo."
      ]
    },
    {
      "cell_type": "code",
      "execution_count": null,
      "metadata": {
        "id": "OmvdL87kmnFe"
      },
      "outputs": [],
      "source": [
        "normal_left = np.random.normal(loc=-2.5, scale=1, size=10000)\n",
        "normal_right = np.random.normal(loc=2.5, scale=1, size=10000)\n",
        "bimodal = np.concatenate([normal_left, normal_right])"
      ]
    },
    {
      "cell_type": "code",
      "execution_count": null,
      "metadata": {
        "id": "wISHCfBEmnFe",
        "outputId": "2bed1da8-4ed4-4489-ce01-f84a4aadc273",
        "colab": {
          "base_uri": "https://localhost:8080/",
          "height": 268
        }
      },
      "outputs": [
        {
          "output_type": "display_data",
          "data": {
            "text/plain": [
              "<Figure size 432x288 with 1 Axes>"
            ],
            "image/png": "[encoded data removed]"
          },
          "metadata": {}
        }
      ],
      "source": [
        "sns.distplot(bimodal, kde=False, norm_hist=False);"
      ]
    },
    {
      "cell_type": "code",
      "execution_count": null,
      "metadata": {
        "id": "gwoAP791mnFe",
        "outputId": "029a2e03-1aca-4933-ff22-4ede6831f041",
        "colab": {
          "base_uri": "https://localhost:8080/"
        }
      },
      "outputs": [
        {
          "output_type": "stream",
          "name": "stdout",
          "text": [
            "Curtosis: -1.4878244581444793\n",
            "Asimetría: -0.006636342518950927\n"
          ]
        }
      ],
      "source": [
        "print(f'Curtosis: {kurtosis(bimodal)}')\n",
        "print(f'Asimetría: {skew(bimodal)}')"
      ]
    },
    {
      "cell_type": "markdown",
      "metadata": {
        "id": "0rXe6OeBm9fM"
      },
      "source": [
        "## Reto 3: Describiendo histogramas\n",
        "\n",
        "### 1. Objetivos:\n",
        "    - Generar histogramas y caracterizarlos utilizando las herramientas que hemos aprendido hasta el momento\n",
        " \n",
        "---\n",
        "    \n",
        "### 2. Desarrollo:"
      ]
    },
    {
      "cell_type": "markdown",
      "metadata": {
        "id": "WZReFkhvm9fO"
      },
      "source": [
        "#### a) Pima Indians Diabetes Database\n",
        "\n",
        "Vamos a analizar un conjunto de datos que contiene datos acerca del estado de salud de mujeres menores de 21 años de ascendencia [pima](https://es.wikipedia.org/wiki/Pueblo_pima). El conjunto también tiene una columna 'outcome' que indica si las pacientes fueron diagnosticadas con diabetes o no. Puedes ver la descripción completa [aquí](https://www.kaggle.com/uciml/pima-indians-diabetes-database).  El dataset está guardado con el nombre de `diabetes-clean.csv`.\n",
        "\n",
        "- Todas las variables independientes en este dataset son numéricas. Genera histogramas de todas las variables independientes para observar la distribución de estas variables. Un valor aceptable para el número de `bins` es `10`. Después de generar el histograma, caracterízalo con una descripción utilizando los términos que has aprendido en esta sesión.\n",
        "\n",
        "- Intenta también discernir a simple vista la asimetría y curtosis de tus histogramas, y después confirma tus hipótesis utilizando las funciones `kurtosis` y `skew` del módulo `scipy.stats`.\n",
        "\n",
        "- Ve si te es posible identificar la cantidad y magnitud de los valores atípicos usando histogramas. ¿Cuál ha sido la técnica que te ha facilitado más la identificación de valores atípicos? ¿Boxplots, tablas de frecuencias o histogramas?\n",
        "\n",
        "Comenta con la experta y con tus compañeros por qué crees que esas variables tengan la distribución que tienen."
      ]
    },
    {
      "cell_type": "code",
      "source": [
        "import pandas as pd\n",
        "import numpy as np\n",
        "import seaborn as sns\n",
        "import matplotlib.pyplot as plt\n",
        "from scipy.stats import skew, kurtosis"
      ],
      "metadata": {
        "id": "XTePUBM1nCyu"
      },
      "execution_count": null,
      "outputs": []
    },
    {
      "cell_type": "code",
      "source": [
        "df_diabetes = pd.read_csv('/content/drive/MyDrive/BEDU2023F3/Remoto_Datasets/Remoto diabetes-clean.csv', index_col=0)\n",
        "df_diabetes.head()"
      ],
      "metadata": {
        "colab": {
          "base_uri": "https://localhost:8080/",
          "height": 206
        },
        "id": "r5HHLj-AOeoz",
        "outputId": "29ae5931-baa2-4783-89f7-8542f2ce9ee7"
      },
      "execution_count": null,
      "outputs": [
        {
          "output_type": "execute_result",
          "data": {
            "text/plain": [
              "   pregnancies  glucose  blood_pressure  skin_thickness  insulin   bmi  \\\n",
              "0            6      148              72              35        0  33.6   \n",
              "1            1       85              66              29        0  26.6   \n",
              "2            8      183              64               0        0  23.3   \n",
              "3            1       89              66              23       94  28.1   \n",
              "4            0      137              40              35      168  43.1   \n",
              "\n",
              "   diabetes_pedigree_function  age  outcome  \n",
              "0                       0.627   50        1  \n",
              "1                       0.351   31        0  \n",
              "2                       0.672   32        1  \n",
              "3                       0.167   21        0  \n",
              "4                       2.288   33        1  "
            ],
            "text/html": [
              "\n",
              "  <div id=\"df-173f86f5-bda8-455f-aa59-1e579c537ad3\">\n",
              "    <div class=\"colab-df-container\">\n",
              "      <div>\n",
              "<style scoped>\n",
              "    .dataframe tbody tr th:only-of-type {\n",
              "        vertical-align: middle;\n",
              "    }\n",
              "\n",
              "    .dataframe tbody tr th {\n",
              "        vertical-align: top;\n",
              "    }\n",
              "\n",
              "    .dataframe thead th {\n",
              "        text-align: right;\n",
              "    }\n",
              "</style>\n",
              "<table border=\"1\" class=\"dataframe\">\n",
              "  <thead>\n",
              "    <tr style=\"text-align: right;\">\n",
              "      <th></th>\n",
              "      <th>pregnancies</th>\n",
              "      <th>glucose</th>\n",
              "      <th>blood_pressure</th>\n",
              "      <th>skin_thickness</th>\n",
              "      <th>insulin</th>\n",
              "      <th>bmi</th>\n",
              "      <th>diabetes_pedigree_function</th>\n",
              "      <th>age</th>\n",
              "      <th>outcome</th>\n",
              "    </tr>\n",
              "  </thead>\n",
              "  <tbody>\n",
              "    <tr>\n",
              "      <th>0</th>\n",
              "      <td>6</td>\n",
              "      <td>148</td>\n",
              "      <td>72</td>\n",
              "      <td>35</td>\n",
              "      <td>0</td>\n",
              "      <td>33.6</td>\n",
              "      <td>0.627</td>\n",
              "      <td>50</td>\n",
              "      <td>1</td>\n",
              "    </tr>\n",
              "    <tr>\n",
              "      <th>1</th>\n",
              "      <td>1</td>\n",
              "      <td>85</td>\n",
              "      <td>66</td>\n",
              "      <td>29</td>\n",
              "      <td>0</td>\n",
              "      <td>26.6</td>\n",
              "      <td>0.351</td>\n",
              "      <td>31</td>\n",
              "      <td>0</td>\n",
              "    </tr>\n",
              "    <tr>\n",
              "      <th>2</th>\n",
              "      <td>8</td>\n",
              "      <td>183</td>\n",
              "      <td>64</td>\n",
              "      <td>0</td>\n",
              "      <td>0</td>\n",
              "      <td>23.3</td>\n",
              "      <td>0.672</td>\n",
              "      <td>32</td>\n",
              "      <td>1</td>\n",
              "    </tr>\n",
              "    <tr>\n",
              "      <th>3</th>\n",
              "      <td>1</td>\n",
              "      <td>89</td>\n",
              "      <td>66</td>\n",
              "      <td>23</td>\n",
              "      <td>94</td>\n",
              "      <td>28.1</td>\n",
              "      <td>0.167</td>\n",
              "      <td>21</td>\n",
              "      <td>0</td>\n",
              "    </tr>\n",
              "    <tr>\n",
              "      <th>4</th>\n",
              "      <td>0</td>\n",
              "      <td>137</td>\n",
              "      <td>40</td>\n",
              "      <td>35</td>\n",
              "      <td>168</td>\n",
              "      <td>43.1</td>\n",
              "      <td>2.288</td>\n",
              "      <td>33</td>\n",
              "      <td>1</td>\n",
              "    </tr>\n",
              "  </tbody>\n",
              "</table>\n",
              "</div>\n",
              "      <button class=\"colab-df-convert\" onclick=\"convertToInteractive('df-173f86f5-bda8-455f-aa59-1e579c537ad3')\"\n",
              "              title=\"Convert this dataframe to an interactive table.\"\n",
              "              style=\"display:none;\">\n",
              "        \n",
              "  <svg xmlns=\"http://www.w3.org/2000/svg\" height=\"24px\"viewBox=\"0 0 24 24\"\n",
              "       width=\"24px\">\n",
              "    <path d=\"M0 0h24v24H0V0z\" fill=\"none\"/>\n",
              "    <path d=\"M18.56 5.44l.94 2.06.94-2.06 2.06-.94-2.06-.94-.94-2.06-.94 2.06-2.06.94zm-11 1L8.5 8.5l.94-2.06 2.06-.94-2.06-.94L8.5 2.5l-.94 2.06-2.06.94zm10 10l.94 2.06.94-2.06 2.06-.94-2.06-.94-.94-2.06-.94 2.06-2.06.94z\"/><path d=\"M17.41 7.96l-1.37-1.37c-.4-.4-.92-.59-1.43-.59-.52 0-1.04.2-1.43.59L10.3 9.45l-7.72 7.72c-.78.78-.78 2.05 0 2.83L4 21.41c.39.39.9.59 1.41.59.51 0 1.02-.2 1.41-.59l7.78-7.78 2.81-2.81c.8-.78.8-2.07 0-2.86zM5.41 20L4 18.59l7.72-7.72 1.47 1.35L5.41 20z\"/>\n",
              "  </svg>\n",
              "      </button>\n",
              "      \n",
              "  <style>\n",
              "    .colab-df-container {\n",
              "      display:flex;\n",
              "      flex-wrap:wrap;\n",
              "      gap: 12px;\n",
              "    }\n",
              "\n",
              "    .colab-df-convert {\n",
              "      background-color: #E8F0FE;\n",
              "      border: none;\n",
              "      border-radius: 50%;\n",
              "      cursor: pointer;\n",
              "      display: none;\n",
              "      fill: #1967D2;\n",
              "      height: 32px;\n",
              "      padding: 0 0 0 0;\n",
              "      width: 32px;\n",
              "    }\n",
              "\n",
              "    .colab-df-convert:hover {\n",
              "      background-color: #E2EBFA;\n",
              "      box-shadow: 0px 1px 2px rgba(60, 64, 67, 0.3), 0px 1px 3px 1px rgba(60, 64, 67, 0.15);\n",
              "      fill: #174EA6;\n",
              "    }\n",
              "\n",
              "    [theme=dark] .colab-df-convert {\n",
              "      background-color: #3B4455;\n",
              "      fill: #D2E3FC;\n",
              "    }\n",
              "\n",
              "    [theme=dark] .colab-df-convert:hover {\n",
              "      background-color: #434B5C;\n",
              "      box-shadow: 0px 1px 3px 1px rgba(0, 0, 0, 0.15);\n",
              "      filter: drop-shadow(0px 1px 2px rgba(0, 0, 0, 0.3));\n",
              "      fill: #FFFFFF;\n",
              "    }\n",
              "  </style>\n",
              "\n",
              "      <script>\n",
              "        const buttonEl =\n",
              "          document.querySelector('#df-173f86f5-bda8-455f-aa59-1e579c537ad3 button.colab-df-convert');\n",
              "        buttonEl.style.display =\n",
              "          google.colab.kernel.accessAllowed ? 'block' : 'none';\n",
              "\n",
              "        async function convertToInteractive(key) {\n",
              "          const element = document.querySelector('#df-173f86f5-bda8-455f-aa59-1e579c537ad3');\n",
              "          const dataTable =\n",
              "            await google.colab.kernel.invokeFunction('convertToInteractive',\n",
              "                                                     [key], {});\n",
              "          if (!dataTable) return;\n",
              "\n",
              "          const docLinkHtml = 'Like what you see? Visit the ' +\n",
              "            '<a target=\"_blank\" href=https://colab.research.google.com/notebooks/data_table.ipynb>data table notebook</a>'\n",
              "            + ' to learn more about interactive tables.';\n",
              "          element.innerHTML = '';\n",
              "          dataTable['output_type'] = 'display_data';\n",
              "          await google.colab.output.renderOutput(dataTable, element);\n",
              "          const docLink = document.createElement('div');\n",
              "          docLink.innerHTML = docLinkHtml;\n",
              "          element.appendChild(docLink);\n",
              "        }\n",
              "      </script>\n",
              "    </div>\n",
              "  </div>\n",
              "  "
            ]
          },
          "metadata": {},
          "execution_count": 8
        }
      ]
    },
    {
      "cell_type": "code",
      "source": [
        "variables_numericas = ['pregnancies', 'glucose', 'blood_pressure', 'skin_thickness', 'insulin', 'bmi', 'diabetes_pedigree_function', 'age']"
      ],
      "metadata": {
        "id": "aAxVjhwy6Gt0"
      },
      "execution_count": null,
      "outputs": []
    },
    {
      "cell_type": "code",
      "source": [
        "df_diabetes[variables_numericas].hist(bins = 10, figsize = (15, 15))"
      ],
      "metadata": {
        "colab": {
          "base_uri": "https://localhost:8080/",
          "height": 1000
        },
        "id": "S_R832HcWk6J",
        "outputId": "ccc26e08-7981-42a7-cce1-56c1ca83f403"
      },
      "execution_count": null,
      "outputs": [
        {
          "output_type": "execute_result",
          "data": {
            "text/plain": [
              "array([[<AxesSubplot:title={'center':'pregnancies'}>,\n",
              "        <AxesSubplot:title={'center':'glucose'}>,\n",
              "        <AxesSubplot:title={'center':'blood_pressure'}>],\n",
              "       [<AxesSubplot:title={'center':'skin_thickness'}>,\n",
              "        <AxesSubplot:title={'center':'insulin'}>,\n",
              "        <AxesSubplot:title={'center':'bmi'}>],\n",
              "       [<AxesSubplot:title={'center':'diabetes_pedigree_function'}>,\n",
              "        <AxesSubplot:title={'center':'age'}>, <AxesSubplot:>]],\n",
              "      dtype=object)"
            ]
          },
          "metadata": {},
          "execution_count": 10
        },
        {
          "output_type": "display_data",
          "data": {
            "text/plain": [
              "<Figure size 1080x1080 with 9 Axes>"
            ],
            "image/png": "[encoded data removed]"
          },
          "metadata": {
            "needs_background": "light"
          }
        }
      ]
    },
    {
      "cell_type": "code",
      "source": [
        "for i in variables_numericas:\n",
        "  print(f'----------'*10)\n",
        "  print(f'Curtosis de {i}: {kurtosis(df_diabetes[i])}')\n",
        "  print(f'Asimetría de {i}: {skew(df_diabetes[i])}')"
      ],
      "metadata": {
        "colab": {
          "base_uri": "https://localhost:8080/"
        },
        "id": "Lwjglt7Y8nQj",
        "outputId": "470d71e1-8d73-4f7e-eab8-7416dbd2e148"
      },
      "execution_count": null,
      "outputs": [
        {
          "output_type": "stream",
          "name": "stdout",
          "text": [
            "----------------------------------------------------------------------------------------------------\n",
            "Curtosis de pregnancies: 0.15038273760948462\n",
            "Asimetría de pregnancies: 0.8999119408414357\n",
            "----------------------------------------------------------------------------------------------------\n",
            "Curtosis de glucose: 0.6288133337300685\n",
            "Asimetría de glucose: 0.17341395519987735\n",
            "----------------------------------------------------------------------------------------------------\n",
            "Curtosis de blood_pressure: 5.138690662525438\n",
            "Asimetría de blood_pressure: -1.8400052311728738\n",
            "----------------------------------------------------------------------------------------------------\n",
            "Curtosis de skin_thickness: -0.5244944887652805\n",
            "Asimetría de skin_thickness: 0.109158762323673\n",
            "----------------------------------------------------------------------------------------------------\n",
            "Curtosis de insulin: 7.159574916971424\n",
            "Asimetría de insulin: 2.2678104585131753\n",
            "----------------------------------------------------------------------------------------------------\n",
            "Curtosis de bmi: 3.2612574203612645\n",
            "Asimetría de bmi: -0.42814327880861786\n",
            "----------------------------------------------------------------------------------------------------\n",
            "Curtosis de diabetes_pedigree_function: 5.550792047551205\n",
            "Asimetría de diabetes_pedigree_function: 1.9161592037386292\n",
            "----------------------------------------------------------------------------------------------------\n",
            "Curtosis de age: 0.6311769413798585\n",
            "Asimetría de age: 1.127389259531697\n"
          ]
        }
      ]
    },
    {
      "cell_type": "code",
      "source": [],
      "metadata": {
        "id": "h-XVSe0b8mkz"
      },
      "execution_count": null,
      "outputs": []
    },
    {
      "cell_type": "markdown",
      "source": [
        "***\n",
        "***"
      ],
      "metadata": {
        "id": "KwQ6mc6jnDzo"
      }
    },
    {
      "cell_type": "markdown",
      "source": [
        "<ins>Gráficas de densidad</ins>\n",
        "\n",
        "Las gráficas de densidad son una manera de obtener la densidad de probabilidad de un conjunto de datos. Saber cómo obtener una densidad de probabilidad y cómo se genera una gráfica de densidad está fuera del alcance de este curso. Pero lo que nos interesa a nosotros es que utilizando gráficas de densidad se vuelven mucho más evidentes las distribuciones de nuestros datos.\n",
        "\n",
        "De igual manera, las gráficas de densidad son una gran herramienta para comparar distribuciones en una misma gráfica.\n",
        "\n",
        "> "
      ],
      "metadata": {
        "id": "E_8BpEzFnFCJ"
      }
    },
    {
      "cell_type": "markdown",
      "metadata": {
        "id": "HNHKmCFrn9J3"
      },
      "source": [
        "## Ejemplo 5: Gráficas de densidad\n",
        "\n",
        "### 1. Objetivos:\n",
        "    - Aprender a generar gráficas de densidad usando Seaborn.\n",
        "    - Aprender a usar gráficas de densidad para comparar distribuciones de datos.\n",
        " \n",
        "---\n",
        "    \n",
        "### 2. Desarrollo:"
      ]
    },
    {
      "cell_type": "markdown",
      "metadata": {
        "id": "HpS90cCtn9J5"
      },
      "source": [
        "Podemos obtener gráficas de densidad usando el método `distplot` de Seaborn, sólo cambiando los argumentos que le pasamos:"
      ]
    },
    {
      "cell_type": "code",
      "execution_count": null,
      "metadata": {
        "id": "NyvmPh5Wn9J6"
      },
      "outputs": [],
      "source": [
        "import numpy as np\n",
        "import seaborn as sns\n",
        "\n",
        "sns.set(style='whitegrid')"
      ]
    },
    {
      "cell_type": "code",
      "execution_count": null,
      "metadata": {
        "id": "b8jXlfbDn9J7",
        "outputId": "2ce2b904-7fab-48f5-cd71-f37eb73f5c28",
        "colab": {
          "base_uri": "https://localhost:8080/",
          "height": 323
        }
      },
      "outputs": [
        {
          "output_type": "stream",
          "name": "stderr",
          "text": [
            "/usr/local/lib/python3.8/dist-packages/seaborn/distributions.py:2619: FutureWarning: `distplot` is a deprecated function and will be removed in a future version. Please adapt your code to use either `displot` (a figure-level function with similar flexibility) or `kdeplot` (an axes-level function for kernel density plots).\n",
            "  warnings.warn(msg, FutureWarning)\n"
          ]
        },
        {
          "output_type": "display_data",
          "data": {
            "text/plain": [
              "<Figure size 432x288 with 1 Axes>"
            ],
            "image/png": "[encoded data removed]"
          },
          "metadata": {}
        }
      ],
      "source": [
        "laplace = np.random.laplace(loc=0.0, scale=1, size=10000)\n",
        "sns.distplot(laplace, hist=False);"
      ]
    },
    {
      "cell_type": "code",
      "execution_count": null,
      "metadata": {
        "id": "VxaGG_vFn9J7",
        "outputId": "6162d948-c2ce-4bbe-b913-d2ab2db150fe",
        "colab": {
          "base_uri": "https://localhost:8080/",
          "height": 340
        }
      },
      "outputs": [
        {
          "output_type": "stream",
          "name": "stderr",
          "text": [
            "/usr/local/lib/python3.8/dist-packages/seaborn/distributions.py:2619: FutureWarning: `distplot` is a deprecated function and will be removed in a future version. Please adapt your code to use either `displot` (a figure-level function with similar flexibility) or `kdeplot` (an axes-level function for kernel density plots).\n",
            "  warnings.warn(msg, FutureWarning)\n"
          ]
        },
        {
          "output_type": "execute_result",
          "data": {
            "text/plain": [
              "<matplotlib.axes._subplots.AxesSubplot at 0x7f46f4610b50>"
            ]
          },
          "metadata": {},
          "execution_count": 81
        },
        {
          "output_type": "display_data",
          "data": {
            "text/plain": [
              "<Figure size 432x288 with 1 Axes>"
            ],
            "image/png": "[encoded data removed]"
          },
          "metadata": {}
        }
      ],
      "source": [
        "chisquare = np.random.chisquare(4, size=10000)\n",
        "sns.distplot(chisquare, hist=False)"
      ]
    },
    {
      "cell_type": "markdown",
      "metadata": {
        "id": "E1HReHxhn9J8"
      },
      "source": [
        "Las gráficas de densidad son muy útiles para graficar varias distribuciones en la misma gráfica y poderlas comparar:"
      ]
    },
    {
      "cell_type": "code",
      "execution_count": null,
      "metadata": {
        "id": "XoW0tVq6n9J8",
        "outputId": "5a6724b0-389f-4b49-d3a8-306248043e80",
        "colab": {
          "base_uri": "https://localhost:8080/",
          "height": 409
        }
      },
      "outputs": [
        {
          "output_type": "stream",
          "name": "stderr",
          "text": [
            "/usr/local/lib/python3.8/dist-packages/seaborn/distributions.py:2619: FutureWarning: `distplot` is a deprecated function and will be removed in a future version. Please adapt your code to use either `displot` (a figure-level function with similar flexibility) or `kdeplot` (an axes-level function for kernel density plots).\n",
            "  warnings.warn(msg, FutureWarning)\n",
            "/usr/local/lib/python3.8/dist-packages/seaborn/distributions.py:2619: FutureWarning: `distplot` is a deprecated function and will be removed in a future version. Please adapt your code to use either `displot` (a figure-level function with similar flexibility) or `kdeplot` (an axes-level function for kernel density plots).\n",
            "  warnings.warn(msg, FutureWarning)\n",
            "/usr/local/lib/python3.8/dist-packages/seaborn/distributions.py:2619: FutureWarning: `distplot` is a deprecated function and will be removed in a future version. Please adapt your code to use either `displot` (a figure-level function with similar flexibility) or `kdeplot` (an axes-level function for kernel density plots).\n",
            "  warnings.warn(msg, FutureWarning)\n"
          ]
        },
        {
          "output_type": "execute_result",
          "data": {
            "text/plain": [
              "<matplotlib.axes._subplots.AxesSubplot at 0x7f46f1fe1dc0>"
            ]
          },
          "metadata": {},
          "execution_count": 82
        },
        {
          "output_type": "display_data",
          "data": {
            "text/plain": [
              "<Figure size 432x288 with 1 Axes>"
            ],
            "image/png": "[encoded data removed]"
          },
          "metadata": {}
        }
      ],
      "source": [
        "sns.set(style='white')\n",
        "\n",
        "normal_1 = np.random.normal(loc=-2, scale=3, size=10000)\n",
        "normal_2 = np.random.normal(loc=4.5, scale=1, size=10000)\n",
        "exponential = np.random.exponential(scale=1.0, size=10000) - 1\n",
        "\n",
        "sns.distplot(normal_1, hist = False, kde_kws = {'shade': True})\n",
        "sns.distplot(normal_2, hist = False, kde_kws = {'shade': True})\n",
        "sns.distplot(exponential, hist = False, kde_kws = {'shade': True})"
      ]
    },
    {
      "cell_type": "markdown",
      "metadata": {
        "id": "A7okXT1Rn9J8"
      },
      "source": [
        "Como puedes ver, usando gráficas de densidad obtenemos mucha claridad en la comparación. En este ejemplo agregamos la bandera `kde_kws = {'shade': True}` para obtener el color de relleno de cada distribución. En una sesión posterior aprenderemos cómo estilizar nuestras gráficas a profundidad."
      ]
    },
    {
      "cell_type": "markdown",
      "metadata": {
        "id": "dwB4dHw3oLEH"
      },
      "source": [
        "## Reto 4: Gráficas de densidad\n",
        "\n",
        "### 1. Objetivos:\n",
        "    - Utilizar gráficas de densidad para realizar comparaciones entre conjuntos de datos.\n",
        " \n",
        "---\n",
        "    \n",
        "### 2. Desarrollo:"
      ]
    },
    {
      "cell_type": "markdown",
      "metadata": {
        "id": "z34D3HjnoLEI"
      },
      "source": [
        "#### a) Comparando histogramas de diferentes categorías\n",
        "\n",
        "Dijimos que las gráficas de densidad nos pueden ser útiles para comparar dos o más distribuciones. ¿En qué contexto podríamos utilizar esto? Para practicar este tipo de comparaciones vamos a utilizar un dataset llamado `athlete_olympic_events-clean.csv`. Este dataset contiene datos sobre participaciones de atletas en las Olimpiadas. Cada fila es la participación de un atleta una Olimpiada. Los atletas, obviamente, pueden repetirse, ya que es posible que hayan participado varias veces en una Olimpiada o que hayan asistido a múltiples Olimpiadas.\n",
        "\n",
        "La columna 'sex' clasifica a los atletas en dos categorías: 'M' (male) y 'F' (female). En las columnas 'age', 'height' y 'weight' tenemos datos numéricos. Lo que queremos es comparar las edades, alturas y pesos de hombres y mujeres atletas usando gráficas de densidad. Para lograr esto, realiza los siguientes pasos:\n",
        "\n",
        "1. Lee el dataset athlete_olympic_events-clean.csv\n",
        "2. Recuerda que hay filas en las que los atletas se repiten. Afortunadamente, el índice es un id único para cada atleta. Hay varias formas de agrupar nuestros datos para que sólo haya una sola entrada por atleta. Vamos a usar una que utiliza varias herramientas que ya conocemos:\n",
        "    - Primero agrupa tus datos usando el índice (esto se puede lograr con el método `groupby(level=0)`, indexa solamente las columnas 'age', 'height' y 'weight' y aplica la función `mean`. Esto nos va a dar un `DataFrame` con el promedio de edad, peso y altura de cada atleta a través de todas sus participaciones en Olimpiadas\n",
        "    - Después tenemos que agregar la columna 'sex' para poder separar nuestros datos en categorías (no pudimos pedirla también en el paso anterior por que no es posible sacar un promedio de las letras 'M' y 'F'). Para eso, primero extrae tu columna 'sex' y realiza de nuevo una agrupación por índice aplicando la agregación 'last'. Esto te dará una `Serie` de la columna 'sex' agrupada por atleta.\n",
        "    - Ahora, usando el método `pd.merge` agrega la información de 'sex' a la agrupación de promedios que realizamos anteriormente.\n",
        "    - Listo ahora tenemos un `DataFrame` con nuestra columnas 'sex', 'age', 'height' y 'weight' donde los atletas no se repiten.\n",
        "3. Ahora usa filtros para separar tus datos en atletas hombre y mujeres.\n",
        "4. Finalmente usa gráficas de densidad para graficar las columnas 'age', 'height' y 'weight' (cada una en una gráfica distinta) y comparar las distribuciones de ambos sexos en diferentes variables. Por ejemplo, en una gráfica tendrás la distribución de las edades de los atletas hombres al lado de la distribución de las edades de las atletas mujeres."
      ]
    },
    {
      "cell_type": "code",
      "execution_count": 14,
      "metadata": {
        "id": "Gg7Fe0fvoLEJ"
      },
      "outputs": [],
      "source": [
        "import pandas as pd\n",
        "import numpy as np\n",
        "import seaborn as sns\n",
        "from matplotlib import pyplot as plt"
      ]
    },
    {
      "cell_type": "markdown",
      "source": [
        "Lee el dataset athlete_olympic_events-clean.csv"
      ],
      "metadata": {
        "id": "7LwO9yE_BL8t"
      }
    },
    {
      "cell_type": "code",
      "source": [
        "df_olympic = pd.read_csv('/content/drive/MyDrive/BEDU2023F3/Remoto_Datasets/Remoto athlete_olympic_events-clean.csv', index_col=0)\n",
        "df_olympic.head()"
      ],
      "metadata": {
        "id": "pFvYVdx0oQFE",
        "colab": {
          "base_uri": "https://localhost:8080/",
          "height": 238
        },
        "outputId": "1a913b04-4adb-4f10-abdf-cd0d79809174"
      },
      "execution_count": 15,
      "outputs": [
        {
          "output_type": "execute_result",
          "data": {
            "text/plain": [
              "                                name sex   age  height  weight         team  \\\n",
              "athlete_id                                                                    \n",
              "1                          A Dijiang   M  24.0   180.0    80.0        China   \n",
              "2                           A Lamusi   M  23.0   170.0    60.0        China   \n",
              "5           Christine Jacoba Aaftink   F  21.0   185.0    82.0  Netherlands   \n",
              "5           Christine Jacoba Aaftink   F  21.0   185.0    82.0  Netherlands   \n",
              "5           Christine Jacoba Aaftink   F  25.0   185.0    82.0  Netherlands   \n",
              "\n",
              "            noc        games  year  season         city          sport  \\\n",
              "athlete_id                                                               \n",
              "1           CHN  1992 Summer  1992  Summer    Barcelona     Basketball   \n",
              "2           CHN  2012 Summer  2012  Summer       London           Judo   \n",
              "5           NED  1988 Winter  1988  Winter      Calgary  Speed Skating   \n",
              "5           NED  1988 Winter  1988  Winter      Calgary  Speed Skating   \n",
              "5           NED  1992 Winter  1992  Winter  Albertville  Speed Skating   \n",
              "\n",
              "                                         event medal  \n",
              "athlete_id                                            \n",
              "1                  Basketball Men's Basketball  None  \n",
              "2                 Judo Men's Extra-Lightweight  None  \n",
              "5             Speed Skating Women's 500 metres  None  \n",
              "5           Speed Skating Women's 1,000 metres  None  \n",
              "5             Speed Skating Women's 500 metres  None  "
            ],
            "text/html": [
              "\n",
              "  <div id=\"df-59889a3a-a697-46b8-884c-668cf4c0c240\">\n",
              "    <div class=\"colab-df-container\">\n",
              "      <div>\n",
              "<style scoped>\n",
              "    .dataframe tbody tr th:only-of-type {\n",
              "        vertical-align: middle;\n",
              "    }\n",
              "\n",
              "    .dataframe tbody tr th {\n",
              "        vertical-align: top;\n",
              "    }\n",
              "\n",
              "    .dataframe thead th {\n",
              "        text-align: right;\n",
              "    }\n",
              "</style>\n",
              "<table border=\"1\" class=\"dataframe\">\n",
              "  <thead>\n",
              "    <tr style=\"text-align: right;\">\n",
              "      <th></th>\n",
              "      <th>name</th>\n",
              "      <th>sex</th>\n",
              "      <th>age</th>\n",
              "      <th>height</th>\n",
              "      <th>weight</th>\n",
              "      <th>team</th>\n",
              "      <th>noc</th>\n",
              "      <th>games</th>\n",
              "      <th>year</th>\n",
              "      <th>season</th>\n",
              "      <th>city</th>\n",
              "      <th>sport</th>\n",
              "      <th>event</th>\n",
              "      <th>medal</th>\n",
              "    </tr>\n",
              "    <tr>\n",
              "      <th>athlete_id</th>\n",
              "      <th></th>\n",
              "      <th></th>\n",
              "      <th></th>\n",
              "      <th></th>\n",
              "      <th></th>\n",
              "      <th></th>\n",
              "      <th></th>\n",
              "      <th></th>\n",
              "      <th></th>\n",
              "      <th></th>\n",
              "      <th></th>\n",
              "      <th></th>\n",
              "      <th></th>\n",
              "      <th></th>\n",
              "    </tr>\n",
              "  </thead>\n",
              "  <tbody>\n",
              "    <tr>\n",
              "      <th>1</th>\n",
              "      <td>A Dijiang</td>\n",
              "      <td>M</td>\n",
              "      <td>24.0</td>\n",
              "      <td>180.0</td>\n",
              "      <td>80.0</td>\n",
              "      <td>China</td>\n",
              "      <td>CHN</td>\n",
              "      <td>1992 Summer</td>\n",
              "      <td>1992</td>\n",
              "      <td>Summer</td>\n",
              "      <td>Barcelona</td>\n",
              "      <td>Basketball</td>\n",
              "      <td>Basketball Men's Basketball</td>\n",
              "      <td>None</td>\n",
              "    </tr>\n",
              "    <tr>\n",
              "      <th>2</th>\n",
              "      <td>A Lamusi</td>\n",
              "      <td>M</td>\n",
              "      <td>23.0</td>\n",
              "      <td>170.0</td>\n",
              "      <td>60.0</td>\n",
              "      <td>China</td>\n",
              "      <td>CHN</td>\n",
              "      <td>2012 Summer</td>\n",
              "      <td>2012</td>\n",
              "      <td>Summer</td>\n",
              "      <td>London</td>\n",
              "      <td>Judo</td>\n",
              "      <td>Judo Men's Extra-Lightweight</td>\n",
              "      <td>None</td>\n",
              "    </tr>\n",
              "    <tr>\n",
              "      <th>5</th>\n",
              "      <td>Christine Jacoba Aaftink</td>\n",
              "      <td>F</td>\n",
              "      <td>21.0</td>\n",
              "      <td>185.0</td>\n",
              "      <td>82.0</td>\n",
              "      <td>Netherlands</td>\n",
              "      <td>NED</td>\n",
              "      <td>1988 Winter</td>\n",
              "      <td>1988</td>\n",
              "      <td>Winter</td>\n",
              "      <td>Calgary</td>\n",
              "      <td>Speed Skating</td>\n",
              "      <td>Speed Skating Women's 500 metres</td>\n",
              "      <td>None</td>\n",
              "    </tr>\n",
              "    <tr>\n",
              "      <th>5</th>\n",
              "      <td>Christine Jacoba Aaftink</td>\n",
              "      <td>F</td>\n",
              "      <td>21.0</td>\n",
              "      <td>185.0</td>\n",
              "      <td>82.0</td>\n",
              "      <td>Netherlands</td>\n",
              "      <td>NED</td>\n",
              "      <td>1988 Winter</td>\n",
              "      <td>1988</td>\n",
              "      <td>Winter</td>\n",
              "      <td>Calgary</td>\n",
              "      <td>Speed Skating</td>\n",
              "      <td>Speed Skating Women's 1,000 metres</td>\n",
              "      <td>None</td>\n",
              "    </tr>\n",
              "    <tr>\n",
              "      <th>5</th>\n",
              "      <td>Christine Jacoba Aaftink</td>\n",
              "      <td>F</td>\n",
              "      <td>25.0</td>\n",
              "      <td>185.0</td>\n",
              "      <td>82.0</td>\n",
              "      <td>Netherlands</td>\n",
              "      <td>NED</td>\n",
              "      <td>1992 Winter</td>\n",
              "      <td>1992</td>\n",
              "      <td>Winter</td>\n",
              "      <td>Albertville</td>\n",
              "      <td>Speed Skating</td>\n",
              "      <td>Speed Skating Women's 500 metres</td>\n",
              "      <td>None</td>\n",
              "    </tr>\n",
              "  </tbody>\n",
              "</table>\n",
              "</div>\n",
              "      <button class=\"colab-df-convert\" onclick=\"convertToInteractive('df-59889a3a-a697-46b8-884c-668cf4c0c240')\"\n",
              "              title=\"Convert this dataframe to an interactive table.\"\n",
              "              style=\"display:none;\">\n",
              "        \n",
              "  <svg xmlns=\"http://www.w3.org/2000/svg\" height=\"24px\"viewBox=\"0 0 24 24\"\n",
              "       width=\"24px\">\n",
              "    <path d=\"M0 0h24v24H0V0z\" fill=\"none\"/>\n",
              "    <path d=\"M18.56 5.44l.94 2.06.94-2.06 2.06-.94-2.06-.94-.94-2.06-.94 2.06-2.06.94zm-11 1L8.5 8.5l.94-2.06 2.06-.94-2.06-.94L8.5 2.5l-.94 2.06-2.06.94zm10 10l.94 2.06.94-2.06 2.06-.94-2.06-.94-.94-2.06-.94 2.06-2.06.94z\"/><path d=\"M17.41 7.96l-1.37-1.37c-.4-.4-.92-.59-1.43-.59-.52 0-1.04.2-1.43.59L10.3 9.45l-7.72 7.72c-.78.78-.78 2.05 0 2.83L4 21.41c.39.39.9.59 1.41.59.51 0 1.02-.2 1.41-.59l7.78-7.78 2.81-2.81c.8-.78.8-2.07 0-2.86zM5.41 20L4 18.59l7.72-7.72 1.47 1.35L5.41 20z\"/>\n",
              "  </svg>\n",
              "      </button>\n",
              "      \n",
              "  <style>\n",
              "    .colab-df-container {\n",
              "      display:flex;\n",
              "      flex-wrap:wrap;\n",
              "      gap: 12px;\n",
              "    }\n",
              "\n",
              "    .colab-df-convert {\n",
              "      background-color: #E8F0FE;\n",
              "      border: none;\n",
              "      border-radius: 50%;\n",
              "      cursor: pointer;\n",
              "      display: none;\n",
              "      fill: #1967D2;\n",
              "      height: 32px;\n",
              "      padding: 0 0 0 0;\n",
              "      width: 32px;\n",
              "    }\n",
              "\n",
              "    .colab-df-convert:hover {\n",
              "      background-color: #E2EBFA;\n",
              "      box-shadow: 0px 1px 2px rgba(60, 64, 67, 0.3), 0px 1px 3px 1px rgba(60, 64, 67, 0.15);\n",
              "      fill: #174EA6;\n",
              "    }\n",
              "\n",
              "    [theme=dark] .colab-df-convert {\n",
              "      background-color: #3B4455;\n",
              "      fill: #D2E3FC;\n",
              "    }\n",
              "\n",
              "    [theme=dark] .colab-df-convert:hover {\n",
              "      background-color: #434B5C;\n",
              "      box-shadow: 0px 1px 3px 1px rgba(0, 0, 0, 0.15);\n",
              "      filter: drop-shadow(0px 1px 2px rgba(0, 0, 0, 0.3));\n",
              "      fill: #FFFFFF;\n",
              "    }\n",
              "  </style>\n",
              "\n",
              "      <script>\n",
              "        const buttonEl =\n",
              "          document.querySelector('#df-59889a3a-a697-46b8-884c-668cf4c0c240 button.colab-df-convert');\n",
              "        buttonEl.style.display =\n",
              "          google.colab.kernel.accessAllowed ? 'block' : 'none';\n",
              "\n",
              "        async function convertToInteractive(key) {\n",
              "          const element = document.querySelector('#df-59889a3a-a697-46b8-884c-668cf4c0c240');\n",
              "          const dataTable =\n",
              "            await google.colab.kernel.invokeFunction('convertToInteractive',\n",
              "                                                     [key], {});\n",
              "          if (!dataTable) return;\n",
              "\n",
              "          const docLinkHtml = 'Like what you see? Visit the ' +\n",
              "            '<a target=\"_blank\" href=https://colab.research.google.com/notebooks/data_table.ipynb>data table notebook</a>'\n",
              "            + ' to learn more about interactive tables.';\n",
              "          element.innerHTML = '';\n",
              "          dataTable['output_type'] = 'display_data';\n",
              "          await google.colab.output.renderOutput(dataTable, element);\n",
              "          const docLink = document.createElement('div');\n",
              "          docLink.innerHTML = docLinkHtml;\n",
              "          element.appendChild(docLink);\n",
              "        }\n",
              "      </script>\n",
              "    </div>\n",
              "  </div>\n",
              "  "
            ]
          },
          "metadata": {},
          "execution_count": 15
        }
      ]
    },
    {
      "cell_type": "markdown",
      "source": [
        "Primero agrupa tus datos usando el índice (esto se puede lograr con el método groupby(level=0), indexa solamente las columnas 'age', 'height' y 'weight' y aplica la función mean. Esto nos va a dar un DataFrame con el promedio de edad, peso y altura de cada atleta a través de todas sus participaciones en Olimpiadas"
      ],
      "metadata": {
        "id": "vRvNCnttBQTK"
      }
    },
    {
      "cell_type": "code",
      "source": [
        "by_athlete = df_olympic.groupby(level=0)[['age', 'height', 'weight']].mean()\n",
        "by_athlete"
      ],
      "metadata": {
        "id": "5JK4PBG-BC8j",
        "colab": {
          "base_uri": "https://localhost:8080/",
          "height": 455
        },
        "outputId": "e05ed927-e82a-452a-e1e0-552b420e248f"
      },
      "execution_count": 16,
      "outputs": [
        {
          "output_type": "execute_result",
          "data": {
            "text/plain": [
              "                  age  height  weight\n",
              "athlete_id                           \n",
              "1           24.000000   180.0    80.0\n",
              "2           23.000000   170.0    60.0\n",
              "5           24.333333   185.0    82.0\n",
              "6           32.000000   188.0    75.0\n",
              "7           32.000000   183.0    72.0\n",
              "...               ...     ...     ...\n",
              "135567      26.000000   183.0    72.0\n",
              "135568      33.000000   171.0    69.0\n",
              "135569      29.000000   179.0    89.0\n",
              "135570      27.000000   176.0    59.0\n",
              "135571      32.000000   185.0    96.0\n",
              "\n",
              "[99088 rows x 3 columns]"
            ],
            "text/html": [
              "\n",
              "  <div id=\"df-848d6dba-dc20-4327-9221-542abc8b61a2\">\n",
              "    <div class=\"colab-df-container\">\n",
              "      <div>\n",
              "<style scoped>\n",
              "    .dataframe tbody tr th:only-of-type {\n",
              "        vertical-align: middle;\n",
              "    }\n",
              "\n",
              "    .dataframe tbody tr th {\n",
              "        vertical-align: top;\n",
              "    }\n",
              "\n",
              "    .dataframe thead th {\n",
              "        text-align: right;\n",
              "    }\n",
              "</style>\n",
              "<table border=\"1\" class=\"dataframe\">\n",
              "  <thead>\n",
              "    <tr style=\"text-align: right;\">\n",
              "      <th></th>\n",
              "      <th>age</th>\n",
              "      <th>height</th>\n",
              "      <th>weight</th>\n",
              "    </tr>\n",
              "    <tr>\n",
              "      <th>athlete_id</th>\n",
              "      <th></th>\n",
              "      <th></th>\n",
              "      <th></th>\n",
              "    </tr>\n",
              "  </thead>\n",
              "  <tbody>\n",
              "    <tr>\n",
              "      <th>1</th>\n",
              "      <td>24.000000</td>\n",
              "      <td>180.0</td>\n",
              "      <td>80.0</td>\n",
              "    </tr>\n",
              "    <tr>\n",
              "      <th>2</th>\n",
              "      <td>23.000000</td>\n",
              "      <td>170.0</td>\n",
              "      <td>60.0</td>\n",
              "    </tr>\n",
              "    <tr>\n",
              "      <th>5</th>\n",
              "      <td>24.333333</td>\n",
              "      <td>185.0</td>\n",
              "      <td>82.0</td>\n",
              "    </tr>\n",
              "    <tr>\n",
              "      <th>6</th>\n",
              "      <td>32.000000</td>\n",
              "      <td>188.0</td>\n",
              "      <td>75.0</td>\n",
              "    </tr>\n",
              "    <tr>\n",
              "      <th>7</th>\n",
              "      <td>32.000000</td>\n",
              "      <td>183.0</td>\n",
              "      <td>72.0</td>\n",
              "    </tr>\n",
              "    <tr>\n",
              "      <th>...</th>\n",
              "      <td>...</td>\n",
              "      <td>...</td>\n",
              "      <td>...</td>\n",
              "    </tr>\n",
              "    <tr>\n",
              "      <th>135567</th>\n",
              "      <td>26.000000</td>\n",
              "      <td>183.0</td>\n",
              "      <td>72.0</td>\n",
              "    </tr>\n",
              "    <tr>\n",
              "      <th>135568</th>\n",
              "      <td>33.000000</td>\n",
              "      <td>171.0</td>\n",
              "      <td>69.0</td>\n",
              "    </tr>\n",
              "    <tr>\n",
              "      <th>135569</th>\n",
              "      <td>29.000000</td>\n",
              "      <td>179.0</td>\n",
              "      <td>89.0</td>\n",
              "    </tr>\n",
              "    <tr>\n",
              "      <th>135570</th>\n",
              "      <td>27.000000</td>\n",
              "      <td>176.0</td>\n",
              "      <td>59.0</td>\n",
              "    </tr>\n",
              "    <tr>\n",
              "      <th>135571</th>\n",
              "      <td>32.000000</td>\n",
              "      <td>185.0</td>\n",
              "      <td>96.0</td>\n",
              "    </tr>\n",
              "  </tbody>\n",
              "</table>\n",
              "<p>99088 rows × 3 columns</p>\n",
              "</div>\n",
              "      <button class=\"colab-df-convert\" onclick=\"convertToInteractive('df-848d6dba-dc20-4327-9221-542abc8b61a2')\"\n",
              "              title=\"Convert this dataframe to an interactive table.\"\n",
              "              style=\"display:none;\">\n",
              "        \n",
              "  <svg xmlns=\"http://www.w3.org/2000/svg\" height=\"24px\"viewBox=\"0 0 24 24\"\n",
              "       width=\"24px\">\n",
              "    <path d=\"M0 0h24v24H0V0z\" fill=\"none\"/>\n",
              "    <path d=\"M18.56 5.44l.94 2.06.94-2.06 2.06-.94-2.06-.94-.94-2.06-.94 2.06-2.06.94zm-11 1L8.5 8.5l.94-2.06 2.06-.94-2.06-.94L8.5 2.5l-.94 2.06-2.06.94zm10 10l.94 2.06.94-2.06 2.06-.94-2.06-.94-.94-2.06-.94 2.06-2.06.94z\"/><path d=\"M17.41 7.96l-1.37-1.37c-.4-.4-.92-.59-1.43-.59-.52 0-1.04.2-1.43.59L10.3 9.45l-7.72 7.72c-.78.78-.78 2.05 0 2.83L4 21.41c.39.39.9.59 1.41.59.51 0 1.02-.2 1.41-.59l7.78-7.78 2.81-2.81c.8-.78.8-2.07 0-2.86zM5.41 20L4 18.59l7.72-7.72 1.47 1.35L5.41 20z\"/>\n",
              "  </svg>\n",
              "      </button>\n",
              "      \n",
              "  <style>\n",
              "    .colab-df-container {\n",
              "      display:flex;\n",
              "      flex-wrap:wrap;\n",
              "      gap: 12px;\n",
              "    }\n",
              "\n",
              "    .colab-df-convert {\n",
              "      background-color: #E8F0FE;\n",
              "      border: none;\n",
              "      border-radius: 50%;\n",
              "      cursor: pointer;\n",
              "      display: none;\n",
              "      fill: #1967D2;\n",
              "      height: 32px;\n",
              "      padding: 0 0 0 0;\n",
              "      width: 32px;\n",
              "    }\n",
              "\n",
              "    .colab-df-convert:hover {\n",
              "      background-color: #E2EBFA;\n",
              "      box-shadow: 0px 1px 2px rgba(60, 64, 67, 0.3), 0px 1px 3px 1px rgba(60, 64, 67, 0.15);\n",
              "      fill: #174EA6;\n",
              "    }\n",
              "\n",
              "    [theme=dark] .colab-df-convert {\n",
              "      background-color: #3B4455;\n",
              "      fill: #D2E3FC;\n",
              "    }\n",
              "\n",
              "    [theme=dark] .colab-df-convert:hover {\n",
              "      background-color: #434B5C;\n",
              "      box-shadow: 0px 1px 3px 1px rgba(0, 0, 0, 0.15);\n",
              "      filter: drop-shadow(0px 1px 2px rgba(0, 0, 0, 0.3));\n",
              "      fill: #FFFFFF;\n",
              "    }\n",
              "  </style>\n",
              "\n",
              "      <script>\n",
              "        const buttonEl =\n",
              "          document.querySelector('#df-848d6dba-dc20-4327-9221-542abc8b61a2 button.colab-df-convert');\n",
              "        buttonEl.style.display =\n",
              "          google.colab.kernel.accessAllowed ? 'block' : 'none';\n",
              "\n",
              "        async function convertToInteractive(key) {\n",
              "          const element = document.querySelector('#df-848d6dba-dc20-4327-9221-542abc8b61a2');\n",
              "          const dataTable =\n",
              "            await google.colab.kernel.invokeFunction('convertToInteractive',\n",
              "                                                     [key], {});\n",
              "          if (!dataTable) return;\n",
              "\n",
              "          const docLinkHtml = 'Like what you see? Visit the ' +\n",
              "            '<a target=\"_blank\" href=https://colab.research.google.com/notebooks/data_table.ipynb>data table notebook</a>'\n",
              "            + ' to learn more about interactive tables.';\n",
              "          element.innerHTML = '';\n",
              "          dataTable['output_type'] = 'display_data';\n",
              "          await google.colab.output.renderOutput(dataTable, element);\n",
              "          const docLink = document.createElement('div');\n",
              "          docLink.innerHTML = docLinkHtml;\n",
              "          element.appendChild(docLink);\n",
              "        }\n",
              "      </script>\n",
              "    </div>\n",
              "  </div>\n",
              "  "
            ]
          },
          "metadata": {},
          "execution_count": 16
        }
      ]
    },
    {
      "cell_type": "markdown",
      "source": [
        "Después tenemos que agregar la columna 'sex' para poder separar nuestros datos en categorías (no pudimos pedirla también en el paso anterior por que no es posible sacar un promedio de las letras 'M' y 'F'). Para eso, primero extrae tu columna 'sex' y realiza de nuevo una agrupación por índice aplicando la agregación 'last'. Esto te dará una Serie de la columna 'sex' agrupada por atleta."
      ],
      "metadata": {
        "id": "p1wldZa8BRpj"
      }
    },
    {
      "cell_type": "code",
      "source": [
        "sex = df_olympic.groupby(level=0)['sex'].last()\n",
        "sex"
      ],
      "metadata": {
        "id": "lS22PZ-VBWoz",
        "colab": {
          "base_uri": "https://localhost:8080/"
        },
        "outputId": "02f7736c-085f-491e-bd55-2fbe9cbd43d1"
      },
      "execution_count": 17,
      "outputs": [
        {
          "output_type": "execute_result",
          "data": {
            "text/plain": [
              "athlete_id\n",
              "1         M\n",
              "2         M\n",
              "5         F\n",
              "6         M\n",
              "7         M\n",
              "         ..\n",
              "135567    M\n",
              "135568    F\n",
              "135569    M\n",
              "135570    M\n",
              "135571    M\n",
              "Name: sex, Length: 99088, dtype: object"
            ]
          },
          "metadata": {},
          "execution_count": 17
        }
      ]
    },
    {
      "cell_type": "markdown",
      "source": [
        "Ahora, usando el método pd.merge agrega la información de 'sex' a la agrupación de promedios que realizamos anteriormente."
      ],
      "metadata": {
        "id": "2aJmd0PfBXMB"
      }
    },
    {
      "cell_type": "code",
      "source": [
        "merged = by_athlete.merge(sex, left_index=True, right_index=True)"
      ],
      "metadata": {
        "id": "NYTIT6q6BdIY"
      },
      "execution_count": 18,
      "outputs": []
    },
    {
      "cell_type": "markdown",
      "source": [
        "Listo ahora tenemos un DataFrame con nuestra columnas 'sex', 'age', 'height' y 'weight' donde los atletas no se repiten."
      ],
      "metadata": {
        "id": "3BUR4qgFBiKz"
      }
    },
    {
      "cell_type": "code",
      "source": [
        "merged.head()"
      ],
      "metadata": {
        "id": "99FErPnnBjIG",
        "colab": {
          "base_uri": "https://localhost:8080/",
          "height": 238
        },
        "outputId": "f234324d-419d-434f-dd3a-49794434fc70"
      },
      "execution_count": 19,
      "outputs": [
        {
          "output_type": "execute_result",
          "data": {
            "text/plain": [
              "                  age  height  weight sex\n",
              "athlete_id                               \n",
              "1           24.000000   180.0    80.0   M\n",
              "2           23.000000   170.0    60.0   M\n",
              "5           24.333333   185.0    82.0   F\n",
              "6           32.000000   188.0    75.0   M\n",
              "7           32.000000   183.0    72.0   M"
            ],
            "text/html": [
              "\n",
              "  <div id=\"df-7554fe93-1229-49fe-8370-804ae3978505\">\n",
              "    <div class=\"colab-df-container\">\n",
              "      <div>\n",
              "<style scoped>\n",
              "    .dataframe tbody tr th:only-of-type {\n",
              "        vertical-align: middle;\n",
              "    }\n",
              "\n",
              "    .dataframe tbody tr th {\n",
              "        vertical-align: top;\n",
              "    }\n",
              "\n",
              "    .dataframe thead th {\n",
              "        text-align: right;\n",
              "    }\n",
              "</style>\n",
              "<table border=\"1\" class=\"dataframe\">\n",
              "  <thead>\n",
              "    <tr style=\"text-align: right;\">\n",
              "      <th></th>\n",
              "      <th>age</th>\n",
              "      <th>height</th>\n",
              "      <th>weight</th>\n",
              "      <th>sex</th>\n",
              "    </tr>\n",
              "    <tr>\n",
              "      <th>athlete_id</th>\n",
              "      <th></th>\n",
              "      <th></th>\n",
              "      <th></th>\n",
              "      <th></th>\n",
              "    </tr>\n",
              "  </thead>\n",
              "  <tbody>\n",
              "    <tr>\n",
              "      <th>1</th>\n",
              "      <td>24.000000</td>\n",
              "      <td>180.0</td>\n",
              "      <td>80.0</td>\n",
              "      <td>M</td>\n",
              "    </tr>\n",
              "    <tr>\n",
              "      <th>2</th>\n",
              "      <td>23.000000</td>\n",
              "      <td>170.0</td>\n",
              "      <td>60.0</td>\n",
              "      <td>M</td>\n",
              "    </tr>\n",
              "    <tr>\n",
              "      <th>5</th>\n",
              "      <td>24.333333</td>\n",
              "      <td>185.0</td>\n",
              "      <td>82.0</td>\n",
              "      <td>F</td>\n",
              "    </tr>\n",
              "    <tr>\n",
              "      <th>6</th>\n",
              "      <td>32.000000</td>\n",
              "      <td>188.0</td>\n",
              "      <td>75.0</td>\n",
              "      <td>M</td>\n",
              "    </tr>\n",
              "    <tr>\n",
              "      <th>7</th>\n",
              "      <td>32.000000</td>\n",
              "      <td>183.0</td>\n",
              "      <td>72.0</td>\n",
              "      <td>M</td>\n",
              "    </tr>\n",
              "  </tbody>\n",
              "</table>\n",
              "</div>\n",
              "      <button class=\"colab-df-convert\" onclick=\"convertToInteractive('df-7554fe93-1229-49fe-8370-804ae3978505')\"\n",
              "              title=\"Convert this dataframe to an interactive table.\"\n",
              "              style=\"display:none;\">\n",
              "        \n",
              "  <svg xmlns=\"http://www.w3.org/2000/svg\" height=\"24px\"viewBox=\"0 0 24 24\"\n",
              "       width=\"24px\">\n",
              "    <path d=\"M0 0h24v24H0V0z\" fill=\"none\"/>\n",
              "    <path d=\"M18.56 5.44l.94 2.06.94-2.06 2.06-.94-2.06-.94-.94-2.06-.94 2.06-2.06.94zm-11 1L8.5 8.5l.94-2.06 2.06-.94-2.06-.94L8.5 2.5l-.94 2.06-2.06.94zm10 10l.94 2.06.94-2.06 2.06-.94-2.06-.94-.94-2.06-.94 2.06-2.06.94z\"/><path d=\"M17.41 7.96l-1.37-1.37c-.4-.4-.92-.59-1.43-.59-.52 0-1.04.2-1.43.59L10.3 9.45l-7.72 7.72c-.78.78-.78 2.05 0 2.83L4 21.41c.39.39.9.59 1.41.59.51 0 1.02-.2 1.41-.59l7.78-7.78 2.81-2.81c.8-.78.8-2.07 0-2.86zM5.41 20L4 18.59l7.72-7.72 1.47 1.35L5.41 20z\"/>\n",
              "  </svg>\n",
              "      </button>\n",
              "      \n",
              "  <style>\n",
              "    .colab-df-container {\n",
              "      display:flex;\n",
              "      flex-wrap:wrap;\n",
              "      gap: 12px;\n",
              "    }\n",
              "\n",
              "    .colab-df-convert {\n",
              "      background-color: #E8F0FE;\n",
              "      border: none;\n",
              "      border-radius: 50%;\n",
              "      cursor: pointer;\n",
              "      display: none;\n",
              "      fill: #1967D2;\n",
              "      height: 32px;\n",
              "      padding: 0 0 0 0;\n",
              "      width: 32px;\n",
              "    }\n",
              "\n",
              "    .colab-df-convert:hover {\n",
              "      background-color: #E2EBFA;\n",
              "      box-shadow: 0px 1px 2px rgba(60, 64, 67, 0.3), 0px 1px 3px 1px rgba(60, 64, 67, 0.15);\n",
              "      fill: #174EA6;\n",
              "    }\n",
              "\n",
              "    [theme=dark] .colab-df-convert {\n",
              "      background-color: #3B4455;\n",
              "      fill: #D2E3FC;\n",
              "    }\n",
              "\n",
              "    [theme=dark] .colab-df-convert:hover {\n",
              "      background-color: #434B5C;\n",
              "      box-shadow: 0px 1px 3px 1px rgba(0, 0, 0, 0.15);\n",
              "      filter: drop-shadow(0px 1px 2px rgba(0, 0, 0, 0.3));\n",
              "      fill: #FFFFFF;\n",
              "    }\n",
              "  </style>\n",
              "\n",
              "      <script>\n",
              "        const buttonEl =\n",
              "          document.querySelector('#df-7554fe93-1229-49fe-8370-804ae3978505 button.colab-df-convert');\n",
              "        buttonEl.style.display =\n",
              "          google.colab.kernel.accessAllowed ? 'block' : 'none';\n",
              "\n",
              "        async function convertToInteractive(key) {\n",
              "          const element = document.querySelector('#df-7554fe93-1229-49fe-8370-804ae3978505');\n",
              "          const dataTable =\n",
              "            await google.colab.kernel.invokeFunction('convertToInteractive',\n",
              "                                                     [key], {});\n",
              "          if (!dataTable) return;\n",
              "\n",
              "          const docLinkHtml = 'Like what you see? Visit the ' +\n",
              "            '<a target=\"_blank\" href=https://colab.research.google.com/notebooks/data_table.ipynb>data table notebook</a>'\n",
              "            + ' to learn more about interactive tables.';\n",
              "          element.innerHTML = '';\n",
              "          dataTable['output_type'] = 'display_data';\n",
              "          await google.colab.output.renderOutput(dataTable, element);\n",
              "          const docLink = document.createElement('div');\n",
              "          docLink.innerHTML = docLinkHtml;\n",
              "          element.appendChild(docLink);\n",
              "        }\n",
              "      </script>\n",
              "    </div>\n",
              "  </div>\n",
              "  "
            ]
          },
          "metadata": {},
          "execution_count": 19
        }
      ]
    },
    {
      "cell_type": "markdown",
      "source": [
        "Ahora usa filtros para separar tus datos en atletas hombre y mujeres."
      ],
      "metadata": {
        "id": "W770L06EBjna"
      }
    },
    {
      "cell_type": "code",
      "source": [
        "males = by_athlete[merged['sex'] == 'M']\n",
        "males"
      ],
      "metadata": {
        "id": "PP7DK9NZBp9H",
        "colab": {
          "base_uri": "https://localhost:8080/",
          "height": 455
        },
        "outputId": "e93e8d83-beaf-4332-bbf7-35ad927c4e61"
      },
      "execution_count": 20,
      "outputs": [
        {
          "output_type": "execute_result",
          "data": {
            "text/plain": [
              "             age  height  weight\n",
              "athlete_id                      \n",
              "1           24.0   180.0    80.0\n",
              "2           23.0   170.0    60.0\n",
              "6           32.0   188.0    75.0\n",
              "7           32.0   183.0    72.0\n",
              "9           26.0   186.0    96.0\n",
              "...          ...     ...     ...\n",
              "135566      21.0   175.0    75.0\n",
              "135567      26.0   183.0    72.0\n",
              "135569      29.0   179.0    89.0\n",
              "135570      27.0   176.0    59.0\n",
              "135571      32.0   185.0    96.0\n",
              "\n",
              "[69279 rows x 3 columns]"
            ],
            "text/html": [
              "\n",
              "  <div id=\"df-0579dfee-442d-405b-b36b-bfb8bf68346e\">\n",
              "    <div class=\"colab-df-container\">\n",
              "      <div>\n",
              "<style scoped>\n",
              "    .dataframe tbody tr th:only-of-type {\n",
              "        vertical-align: middle;\n",
              "    }\n",
              "\n",
              "    .dataframe tbody tr th {\n",
              "        vertical-align: top;\n",
              "    }\n",
              "\n",
              "    .dataframe thead th {\n",
              "        text-align: right;\n",
              "    }\n",
              "</style>\n",
              "<table border=\"1\" class=\"dataframe\">\n",
              "  <thead>\n",
              "    <tr style=\"text-align: right;\">\n",
              "      <th></th>\n",
              "      <th>age</th>\n",
              "      <th>height</th>\n",
              "      <th>weight</th>\n",
              "    </tr>\n",
              "    <tr>\n",
              "      <th>athlete_id</th>\n",
              "      <th></th>\n",
              "      <th></th>\n",
              "      <th></th>\n",
              "    </tr>\n",
              "  </thead>\n",
              "  <tbody>\n",
              "    <tr>\n",
              "      <th>1</th>\n",
              "      <td>24.0</td>\n",
              "      <td>180.0</td>\n",
              "      <td>80.0</td>\n",
              "    </tr>\n",
              "    <tr>\n",
              "      <th>2</th>\n",
              "      <td>23.0</td>\n",
              "      <td>170.0</td>\n",
              "      <td>60.0</td>\n",
              "    </tr>\n",
              "    <tr>\n",
              "      <th>6</th>\n",
              "      <td>32.0</td>\n",
              "      <td>188.0</td>\n",
              "      <td>75.0</td>\n",
              "    </tr>\n",
              "    <tr>\n",
              "      <th>7</th>\n",
              "      <td>32.0</td>\n",
              "      <td>183.0</td>\n",
              "      <td>72.0</td>\n",
              "    </tr>\n",
              "    <tr>\n",
              "      <th>9</th>\n",
              "      <td>26.0</td>\n",
              "      <td>186.0</td>\n",
              "      <td>96.0</td>\n",
              "    </tr>\n",
              "    <tr>\n",
              "      <th>...</th>\n",
              "      <td>...</td>\n",
              "      <td>...</td>\n",
              "      <td>...</td>\n",
              "    </tr>\n",
              "    <tr>\n",
              "      <th>135566</th>\n",
              "      <td>21.0</td>\n",
              "      <td>175.0</td>\n",
              "      <td>75.0</td>\n",
              "    </tr>\n",
              "    <tr>\n",
              "      <th>135567</th>\n",
              "      <td>26.0</td>\n",
              "      <td>183.0</td>\n",
              "      <td>72.0</td>\n",
              "    </tr>\n",
              "    <tr>\n",
              "      <th>135569</th>\n",
              "      <td>29.0</td>\n",
              "      <td>179.0</td>\n",
              "      <td>89.0</td>\n",
              "    </tr>\n",
              "    <tr>\n",
              "      <th>135570</th>\n",
              "      <td>27.0</td>\n",
              "      <td>176.0</td>\n",
              "      <td>59.0</td>\n",
              "    </tr>\n",
              "    <tr>\n",
              "      <th>135571</th>\n",
              "      <td>32.0</td>\n",
              "      <td>185.0</td>\n",
              "      <td>96.0</td>\n",
              "    </tr>\n",
              "  </tbody>\n",
              "</table>\n",
              "<p>69279 rows × 3 columns</p>\n",
              "</div>\n",
              "      <button class=\"colab-df-convert\" onclick=\"convertToInteractive('df-0579dfee-442d-405b-b36b-bfb8bf68346e')\"\n",
              "              title=\"Convert this dataframe to an interactive table.\"\n",
              "              style=\"display:none;\">\n",
              "        \n",
              "  <svg xmlns=\"http://www.w3.org/2000/svg\" height=\"24px\"viewBox=\"0 0 24 24\"\n",
              "       width=\"24px\">\n",
              "    <path d=\"M0 0h24v24H0V0z\" fill=\"none\"/>\n",
              "    <path d=\"M18.56 5.44l.94 2.06.94-2.06 2.06-.94-2.06-.94-.94-2.06-.94 2.06-2.06.94zm-11 1L8.5 8.5l.94-2.06 2.06-.94-2.06-.94L8.5 2.5l-.94 2.06-2.06.94zm10 10l.94 2.06.94-2.06 2.06-.94-2.06-.94-.94-2.06-.94 2.06-2.06.94z\"/><path d=\"M17.41 7.96l-1.37-1.37c-.4-.4-.92-.59-1.43-.59-.52 0-1.04.2-1.43.59L10.3 9.45l-7.72 7.72c-.78.78-.78 2.05 0 2.83L4 21.41c.39.39.9.59 1.41.59.51 0 1.02-.2 1.41-.59l7.78-7.78 2.81-2.81c.8-.78.8-2.07 0-2.86zM5.41 20L4 18.59l7.72-7.72 1.47 1.35L5.41 20z\"/>\n",
              "  </svg>\n",
              "      </button>\n",
              "      \n",
              "  <style>\n",
              "    .colab-df-container {\n",
              "      display:flex;\n",
              "      flex-wrap:wrap;\n",
              "      gap: 12px;\n",
              "    }\n",
              "\n",
              "    .colab-df-convert {\n",
              "      background-color: #E8F0FE;\n",
              "      border: none;\n",
              "      border-radius: 50%;\n",
              "      cursor: pointer;\n",
              "      display: none;\n",
              "      fill: #1967D2;\n",
              "      height: 32px;\n",
              "      padding: 0 0 0 0;\n",
              "      width: 32px;\n",
              "    }\n",
              "\n",
              "    .colab-df-convert:hover {\n",
              "      background-color: #E2EBFA;\n",
              "      box-shadow: 0px 1px 2px rgba(60, 64, 67, 0.3), 0px 1px 3px 1px rgba(60, 64, 67, 0.15);\n",
              "      fill: #174EA6;\n",
              "    }\n",
              "\n",
              "    [theme=dark] .colab-df-convert {\n",
              "      background-color: #3B4455;\n",
              "      fill: #D2E3FC;\n",
              "    }\n",
              "\n",
              "    [theme=dark] .colab-df-convert:hover {\n",
              "      background-color: #434B5C;\n",
              "      box-shadow: 0px 1px 3px 1px rgba(0, 0, 0, 0.15);\n",
              "      filter: drop-shadow(0px 1px 2px rgba(0, 0, 0, 0.3));\n",
              "      fill: #FFFFFF;\n",
              "    }\n",
              "  </style>\n",
              "\n",
              "      <script>\n",
              "        const buttonEl =\n",
              "          document.querySelector('#df-0579dfee-442d-405b-b36b-bfb8bf68346e button.colab-df-convert');\n",
              "        buttonEl.style.display =\n",
              "          google.colab.kernel.accessAllowed ? 'block' : 'none';\n",
              "\n",
              "        async function convertToInteractive(key) {\n",
              "          const element = document.querySelector('#df-0579dfee-442d-405b-b36b-bfb8bf68346e');\n",
              "          const dataTable =\n",
              "            await google.colab.kernel.invokeFunction('convertToInteractive',\n",
              "                                                     [key], {});\n",
              "          if (!dataTable) return;\n",
              "\n",
              "          const docLinkHtml = 'Like what you see? Visit the ' +\n",
              "            '<a target=\"_blank\" href=https://colab.research.google.com/notebooks/data_table.ipynb>data table notebook</a>'\n",
              "            + ' to learn more about interactive tables.';\n",
              "          element.innerHTML = '';\n",
              "          dataTable['output_type'] = 'display_data';\n",
              "          await google.colab.output.renderOutput(dataTable, element);\n",
              "          const docLink = document.createElement('div');\n",
              "          docLink.innerHTML = docLinkHtml;\n",
              "          element.appendChild(docLink);\n",
              "        }\n",
              "      </script>\n",
              "    </div>\n",
              "  </div>\n",
              "  "
            ]
          },
          "metadata": {},
          "execution_count": 20
        }
      ]
    },
    {
      "cell_type": "code",
      "source": [
        "females = by_athlete[merged['sex'] == 'F']\n",
        "females"
      ],
      "metadata": {
        "colab": {
          "base_uri": "https://localhost:8080/",
          "height": 455
        },
        "id": "-VgTvG-G95uP",
        "outputId": "47221d90-472a-45d7-98d8-44be583902a8"
      },
      "execution_count": 22,
      "outputs": [
        {
          "output_type": "execute_result",
          "data": {
            "text/plain": [
              "                  age  height  weight\n",
              "athlete_id                           \n",
              "5           24.333333   185.0    82.0\n",
              "13          32.000000   159.0    55.5\n",
              "14          32.000000   171.0    65.0\n",
              "22          22.000000   170.0   125.0\n",
              "26          17.000000   169.0    65.0\n",
              "...               ...     ...     ...\n",
              "135550      27.000000   161.0    53.0\n",
              "135553      25.800000   168.0    80.0\n",
              "135560      36.000000   171.0    63.0\n",
              "135563      21.000000   171.0    64.0\n",
              "135568      33.000000   171.0    69.0\n",
              "\n",
              "[29809 rows x 3 columns]"
            ],
            "text/html": [
              "\n",
              "  <div id=\"df-9a36479d-3637-470d-9d6d-b179b23c10a0\">\n",
              "    <div class=\"colab-df-container\">\n",
              "      <div>\n",
              "<style scoped>\n",
              "    .dataframe tbody tr th:only-of-type {\n",
              "        vertical-align: middle;\n",
              "    }\n",
              "\n",
              "    .dataframe tbody tr th {\n",
              "        vertical-align: top;\n",
              "    }\n",
              "\n",
              "    .dataframe thead th {\n",
              "        text-align: right;\n",
              "    }\n",
              "</style>\n",
              "<table border=\"1\" class=\"dataframe\">\n",
              "  <thead>\n",
              "    <tr style=\"text-align: right;\">\n",
              "      <th></th>\n",
              "      <th>age</th>\n",
              "      <th>height</th>\n",
              "      <th>weight</th>\n",
              "    </tr>\n",
              "    <tr>\n",
              "      <th>athlete_id</th>\n",
              "      <th></th>\n",
              "      <th></th>\n",
              "      <th></th>\n",
              "    </tr>\n",
              "  </thead>\n",
              "  <tbody>\n",
              "    <tr>\n",
              "      <th>5</th>\n",
              "      <td>24.333333</td>\n",
              "      <td>185.0</td>\n",
              "      <td>82.0</td>\n",
              "    </tr>\n",
              "    <tr>\n",
              "      <th>13</th>\n",
              "      <td>32.000000</td>\n",
              "      <td>159.0</td>\n",
              "      <td>55.5</td>\n",
              "    </tr>\n",
              "    <tr>\n",
              "      <th>14</th>\n",
              "      <td>32.000000</td>\n",
              "      <td>171.0</td>\n",
              "      <td>65.0</td>\n",
              "    </tr>\n",
              "    <tr>\n",
              "      <th>22</th>\n",
              "      <td>22.000000</td>\n",
              "      <td>170.0</td>\n",
              "      <td>125.0</td>\n",
              "    </tr>\n",
              "    <tr>\n",
              "      <th>26</th>\n",
              "      <td>17.000000</td>\n",
              "      <td>169.0</td>\n",
              "      <td>65.0</td>\n",
              "    </tr>\n",
              "    <tr>\n",
              "      <th>...</th>\n",
              "      <td>...</td>\n",
              "      <td>...</td>\n",
              "      <td>...</td>\n",
              "    </tr>\n",
              "    <tr>\n",
              "      <th>135550</th>\n",
              "      <td>27.000000</td>\n",
              "      <td>161.0</td>\n",
              "      <td>53.0</td>\n",
              "    </tr>\n",
              "    <tr>\n",
              "      <th>135553</th>\n",
              "      <td>25.800000</td>\n",
              "      <td>168.0</td>\n",
              "      <td>80.0</td>\n",
              "    </tr>\n",
              "    <tr>\n",
              "      <th>135560</th>\n",
              "      <td>36.000000</td>\n",
              "      <td>171.0</td>\n",
              "      <td>63.0</td>\n",
              "    </tr>\n",
              "    <tr>\n",
              "      <th>135563</th>\n",
              "      <td>21.000000</td>\n",
              "      <td>171.0</td>\n",
              "      <td>64.0</td>\n",
              "    </tr>\n",
              "    <tr>\n",
              "      <th>135568</th>\n",
              "      <td>33.000000</td>\n",
              "      <td>171.0</td>\n",
              "      <td>69.0</td>\n",
              "    </tr>\n",
              "  </tbody>\n",
              "</table>\n",
              "<p>29809 rows × 3 columns</p>\n",
              "</div>\n",
              "      <button class=\"colab-df-convert\" onclick=\"convertToInteractive('df-9a36479d-3637-470d-9d6d-b179b23c10a0')\"\n",
              "              title=\"Convert this dataframe to an interactive table.\"\n",
              "              style=\"display:none;\">\n",
              "        \n",
              "  <svg xmlns=\"http://www.w3.org/2000/svg\" height=\"24px\"viewBox=\"0 0 24 24\"\n",
              "       width=\"24px\">\n",
              "    <path d=\"M0 0h24v24H0V0z\" fill=\"none\"/>\n",
              "    <path d=\"M18.56 5.44l.94 2.06.94-2.06 2.06-.94-2.06-.94-.94-2.06-.94 2.06-2.06.94zm-11 1L8.5 8.5l.94-2.06 2.06-.94-2.06-.94L8.5 2.5l-.94 2.06-2.06.94zm10 10l.94 2.06.94-2.06 2.06-.94-2.06-.94-.94-2.06-.94 2.06-2.06.94z\"/><path d=\"M17.41 7.96l-1.37-1.37c-.4-.4-.92-.59-1.43-.59-.52 0-1.04.2-1.43.59L10.3 9.45l-7.72 7.72c-.78.78-.78 2.05 0 2.83L4 21.41c.39.39.9.59 1.41.59.51 0 1.02-.2 1.41-.59l7.78-7.78 2.81-2.81c.8-.78.8-2.07 0-2.86zM5.41 20L4 18.59l7.72-7.72 1.47 1.35L5.41 20z\"/>\n",
              "  </svg>\n",
              "      </button>\n",
              "      \n",
              "  <style>\n",
              "    .colab-df-container {\n",
              "      display:flex;\n",
              "      flex-wrap:wrap;\n",
              "      gap: 12px;\n",
              "    }\n",
              "\n",
              "    .colab-df-convert {\n",
              "      background-color: #E8F0FE;\n",
              "      border: none;\n",
              "      border-radius: 50%;\n",
              "      cursor: pointer;\n",
              "      display: none;\n",
              "      fill: #1967D2;\n",
              "      height: 32px;\n",
              "      padding: 0 0 0 0;\n",
              "      width: 32px;\n",
              "    }\n",
              "\n",
              "    .colab-df-convert:hover {\n",
              "      background-color: #E2EBFA;\n",
              "      box-shadow: 0px 1px 2px rgba(60, 64, 67, 0.3), 0px 1px 3px 1px rgba(60, 64, 67, 0.15);\n",
              "      fill: #174EA6;\n",
              "    }\n",
              "\n",
              "    [theme=dark] .colab-df-convert {\n",
              "      background-color: #3B4455;\n",
              "      fill: #D2E3FC;\n",
              "    }\n",
              "\n",
              "    [theme=dark] .colab-df-convert:hover {\n",
              "      background-color: #434B5C;\n",
              "      box-shadow: 0px 1px 3px 1px rgba(0, 0, 0, 0.15);\n",
              "      filter: drop-shadow(0px 1px 2px rgba(0, 0, 0, 0.3));\n",
              "      fill: #FFFFFF;\n",
              "    }\n",
              "  </style>\n",
              "\n",
              "      <script>\n",
              "        const buttonEl =\n",
              "          document.querySelector('#df-9a36479d-3637-470d-9d6d-b179b23c10a0 button.colab-df-convert');\n",
              "        buttonEl.style.display =\n",
              "          google.colab.kernel.accessAllowed ? 'block' : 'none';\n",
              "\n",
              "        async function convertToInteractive(key) {\n",
              "          const element = document.querySelector('#df-9a36479d-3637-470d-9d6d-b179b23c10a0');\n",
              "          const dataTable =\n",
              "            await google.colab.kernel.invokeFunction('convertToInteractive',\n",
              "                                                     [key], {});\n",
              "          if (!dataTable) return;\n",
              "\n",
              "          const docLinkHtml = 'Like what you see? Visit the ' +\n",
              "            '<a target=\"_blank\" href=https://colab.research.google.com/notebooks/data_table.ipynb>data table notebook</a>'\n",
              "            + ' to learn more about interactive tables.';\n",
              "          element.innerHTML = '';\n",
              "          dataTable['output_type'] = 'display_data';\n",
              "          await google.colab.output.renderOutput(dataTable, element);\n",
              "          const docLink = document.createElement('div');\n",
              "          docLink.innerHTML = docLinkHtml;\n",
              "          element.appendChild(docLink);\n",
              "        }\n",
              "      </script>\n",
              "    </div>\n",
              "  </div>\n",
              "  "
            ]
          },
          "metadata": {},
          "execution_count": 22
        }
      ]
    },
    {
      "cell_type": "markdown",
      "source": [
        "Finalmente usa gráficas de densidad para graficar las columnas 'age', 'height' y 'weight' (cada una en una gráfica distinta) y comparar las distribuciones de ambos sexos en diferentes variables. Por ejemplo, en una gráfica tendrás la distribución de las edades de los atletas hombres al lado de la distribución de las edades de las atletas mujeres."
      ],
      "metadata": {
        "id": "x89KP8a2Bqbh"
      }
    },
    {
      "cell_type": "code",
      "source": [
        "plt.figure(figsize=(7,7))\n",
        "ax = sns.distplot(males['age'], hist=False, kde_kws = {'shade': True}, label='hombres')\n",
        "sns.distplot(females['age'], hist=False, kde_kws = {'shade': True}, ax=ax, label='mujeres')\n",
        "\n",
        "ax.set_title('Distribuciones de edades de atletas masculinos y femeninos');\n",
        "ax.set(xlabel='Edad');\n",
        "ax.legend(loc='upper right');"
      ],
      "metadata": {
        "colab": {
          "base_uri": "https://localhost:8080/",
          "height": 547
        },
        "id": "YE4AYKLt8PuP",
        "outputId": "104ad1dd-5817-44ea-9f5f-c642aa94d302"
      },
      "execution_count": 23,
      "outputs": [
        {
          "output_type": "stream",
          "name": "stderr",
          "text": [
            "/usr/local/lib/python3.8/dist-packages/seaborn/distributions.py:2619: FutureWarning: `distplot` is a deprecated function and will be removed in a future version. Please adapt your code to use either `displot` (a figure-level function with similar flexibility) or `kdeplot` (an axes-level function for kernel density plots).\n",
            "  warnings.warn(msg, FutureWarning)\n",
            "/usr/local/lib/python3.8/dist-packages/seaborn/distributions.py:2619: FutureWarning: `distplot` is a deprecated function and will be removed in a future version. Please adapt your code to use either `displot` (a figure-level function with similar flexibility) or `kdeplot` (an axes-level function for kernel density plots).\n",
            "  warnings.warn(msg, FutureWarning)\n"
          ]
        },
        {
          "output_type": "display_data",
          "data": {
            "text/plain": [
              "<Figure size 504x504 with 1 Axes>"
            ],
            "image/png": "[encoded data removed]"
          },
          "metadata": {
            "needs_background": "light"
          }
        }
      ]
    },
    {
      "cell_type": "code",
      "source": [
        "plt.figure(figsize=(7,7))\n",
        "ax = sns.distplot(males['height'], hist=False, kde_kws = {'shade': True}, label='hombres')\n",
        "sns.distplot(females['height'], hist=False, kde_kws = {'shade': True}, ax=ax, label='mujeres')\n",
        "\n",
        "ax.set_title('Distribuciones de edades de atletas masculinos y femeninos');\n",
        "ax.set(xlabel='Altura');\n",
        "ax.legend(loc='upper right');"
      ],
      "metadata": {
        "colab": {
          "base_uri": "https://localhost:8080/",
          "height": 547
        },
        "id": "G3UvIBOVM-y0",
        "outputId": "d5f1b445-68bb-4a69-b7a3-d0f585418261"
      },
      "execution_count": 24,
      "outputs": [
        {
          "output_type": "stream",
          "name": "stderr",
          "text": [
            "/usr/local/lib/python3.8/dist-packages/seaborn/distributions.py:2619: FutureWarning: `distplot` is a deprecated function and will be removed in a future version. Please adapt your code to use either `displot` (a figure-level function with similar flexibility) or `kdeplot` (an axes-level function for kernel density plots).\n",
            "  warnings.warn(msg, FutureWarning)\n",
            "/usr/local/lib/python3.8/dist-packages/seaborn/distributions.py:2619: FutureWarning: `distplot` is a deprecated function and will be removed in a future version. Please adapt your code to use either `displot` (a figure-level function with similar flexibility) or `kdeplot` (an axes-level function for kernel density plots).\n",
            "  warnings.warn(msg, FutureWarning)\n"
          ]
        },
        {
          "output_type": "display_data",
          "data": {
            "text/plain": [
              "<Figure size 504x504 with 1 Axes>"
            ],
            "image/png": "[encoded data removed]"
          },
          "metadata": {
            "needs_background": "light"
          }
        }
      ]
    },
    {
      "cell_type": "code",
      "source": [
        "plt.figure(figsize=(7,7))\n",
        "ax = sns.distplot(males['weight'], hist=False, kde_kws = {'shade': True}, label='hombres')\n",
        "sns.distplot(females['weight'], hist=False, kde_kws = {'shade': True}, ax=ax, label='mujeres')\n",
        "\n",
        "ax.set_title('Distribuciones de edades de atletas masculinos y femeninos');\n",
        "ax.set(xlabel='Peso');\n",
        "ax.legend(loc='upper right');"
      ],
      "metadata": {
        "colab": {
          "base_uri": "https://localhost:8080/",
          "height": 547
        },
        "id": "woW0oNPyM-q0",
        "outputId": "11cd5444-e585-4b8f-a37c-41ac6c365b45"
      },
      "execution_count": 25,
      "outputs": [
        {
          "output_type": "stream",
          "name": "stderr",
          "text": [
            "/usr/local/lib/python3.8/dist-packages/seaborn/distributions.py:2619: FutureWarning: `distplot` is a deprecated function and will be removed in a future version. Please adapt your code to use either `displot` (a figure-level function with similar flexibility) or `kdeplot` (an axes-level function for kernel density plots).\n",
            "  warnings.warn(msg, FutureWarning)\n",
            "/usr/local/lib/python3.8/dist-packages/seaborn/distributions.py:2619: FutureWarning: `distplot` is a deprecated function and will be removed in a future version. Please adapt your code to use either `displot` (a figure-level function with similar flexibility) or `kdeplot` (an axes-level function for kernel density plots).\n",
            "  warnings.warn(msg, FutureWarning)\n"
          ]
        },
        {
          "output_type": "display_data",
          "data": {
            "text/plain": [
              "<Figure size 504x504 with 1 Axes>"
            ],
            "image/png": "[encoded data removed]"
          },
          "metadata": {
            "needs_background": "light"
          }
        }
      ]
    },
    {
      "cell_type": "markdown",
      "source": [
        "***\n",
        "***\n",
        "***"
      ],
      "metadata": {
        "id": "RcCoJBWgoRIh"
      }
    },
    {
      "cell_type": "markdown",
      "source": [
        "# **Retos** (otras formas de solución)"
      ],
      "metadata": {
        "id": "1XrVZKrrVZkL"
      }
    },
    {
      "cell_type": "markdown",
      "metadata": {
        "id": "qSfl87LKMKe5"
      },
      "source": [
        "# Reto 1: Boxplots\n",
        "\n",
        "## 1. Objetivos:\n",
        "- Aprender a graficar e interpretar boxplots utilizando Seaborn\n",
        "- Aprender a lidiar con valores atípicos usando IQR-Score\n",
        " \n",
        "---\n",
        "    \n",
        "## 2. Desarrollo:"
      ]
    },
    {
      "cell_type": "markdown",
      "metadata": {
        "id": "d4g3Ux7gMKe9"
      },
      "source": [
        "### a) Usando boxplots para analizar la distribución de nuestros datos\n",
        "\n",
        "Vamos a hacer algunas gráficas de boxplot y describirlas en equipo. Usa Seaborn para generar gráficas boxplot de los siguientes datasets y columnas:\n",
        "\n",
        "1. Dataset: 'near_earth_objects-jan_feb_1995-clean.csv'\n",
        "    - Columnas a graficar: 'estimated_diameter.meters.estimated_diameter_max' y 'relative_velocity.kilometers_per_second'\n",
        "2. Dataset: 'new_york_times_bestsellers-clean.json'\n",
        "    - Columnas a graficar: 'price.numberDouble'\n",
        "3. Dataset: 'melbourne_housing-clean.csv'\n",
        "    - Columnas a graficar: 'land_size'\n",
        "    \n",
        "> Para conocer más detalles acerca de estos datasets, ve a Datasets/Readme.md y visita los links de las fuentes de donde provienen. Es una gran idea hacer esto para que entiendas el contexto alrededor de los análisis que vamos a estar realizando.\n",
        "    \n",
        "Realiza estas 4 visualizaciones y comenta con la experta y tus compañeros qué conclusiones o hipótesis podemos hacer sobre nuestros datos. Para profundizar en el análisis puedes obtener también el rango, la mediana, el valor mínimo y máximo, el percentil 25 y el percentil 75. De esta manera tendrás valores concretos con los que realizar tu análisis."
      ]
    },
    {
      "cell_type": "code",
      "execution_count": null,
      "metadata": {
        "id": "lRT97XlaMKe9"
      },
      "outputs": [],
      "source": [
        "# Importar bibliotecas y datos\n",
        "import pandas as pd\n",
        "import matplotlib.pyplot as plt\n",
        "import seaborn as sns\n",
        "\n",
        "df_earth_objects = pd.read_csv(\"https://raw.githubusercontent.com/jaeem006/beduadp/master/Datasets/near_earth_objects-jan_feb_1995-clean.csv\", index_col=0)\n",
        "df_nyt = pd.read_json(\"https://raw.githubusercontent.com/jaeem006/beduadp/master/Datasets/new_york_times_bestsellers-clean.json\")\n",
        "df_housing = pd.read_csv(\"https://raw.githubusercontent.com/jaeem006/beduadp/master/Datasets/melbourne_housing-clean.csv\", index_col=0)"
      ]
    },
    {
      "cell_type": "code",
      "source": [
        "# Función para visualizar\n",
        "def visualize(dataframe, column, title_plot, whiskers=1.5):\n",
        "    sns.boxplot(data=dataframe, x=column, whis=whiskers)\n",
        "    plt.title(title_plot)\n",
        "    print(dataframe[column].describe().T)"
      ],
      "metadata": {
        "id": "-3S3OdHAQ__m"
      },
      "execution_count": null,
      "outputs": []
    },
    {
      "cell_type": "markdown",
      "source": [
        "#### Visualizaciones ➡ Nearh Earth Objects"
      ],
      "metadata": {
        "id": "qPpQLGDXNbV3"
      }
    },
    {
      "cell_type": "code",
      "source": [
        "visualize(df_earth_objects, 'estimated_diameter.meters.estimated_diameter_max', \"Estimated diameter\")"
      ],
      "metadata": {
        "id": "_gtOUp4ZNSS6",
        "colab": {
          "base_uri": "https://localhost:8080/",
          "height": 452
        },
        "outputId": "fa651c39-85e3-42e4-8c31-e426c2d14204"
      },
      "execution_count": null,
      "outputs": [
        {
          "output_type": "stream",
          "name": "stdout",
          "text": [
            "count     333.000000\n",
            "mean      410.086042\n",
            "std       614.691592\n",
            "min         2.978791\n",
            "25%        62.235757\n",
            "50%       215.794305\n",
            "75%       517.654482\n",
            "max      6516.883822\n",
            "Name: estimated_diameter.meters.estimated_diameter_max, dtype: float64\n"
          ]
        },
        {
          "output_type": "display_data",
          "data": {
            "text/plain": [
              "<Figure size 432x288 with 1 Axes>"
            ],
            "image/png": "[encoded data removed]"
          },
          "metadata": {
            "needs_background": "light"
          }
        }
      ]
    },
    {
      "cell_type": "code",
      "source": [
        "visualize(df_earth_objects, 'relative_velocity.kilometers_per_second', \"Relative velocity (km/s)\" )"
      ],
      "metadata": {
        "id": "VUM7fvyNN5WS",
        "colab": {
          "base_uri": "https://localhost:8080/",
          "height": 452
        },
        "outputId": "56d01b53-fa7e-4f20-ef2a-9233ad4edcd6"
      },
      "execution_count": null,
      "outputs": [
        {
          "output_type": "stream",
          "name": "stdout",
          "text": [
            "count    333.000000\n",
            "mean      14.984228\n",
            "std        7.995994\n",
            "min        0.681437\n",
            "25%        8.599443\n",
            "50%       14.257166\n",
            "75%       18.782546\n",
            "max       40.527428\n",
            "Name: relative_velocity.kilometers_per_second, dtype: float64\n"
          ]
        },
        {
          "output_type": "display_data",
          "data": {
            "text/plain": [
              "<Figure size 432x288 with 1 Axes>"
            ],
            "image/png": "[encoded data removed]"
          },
          "metadata": {
            "needs_background": "light"
          }
        }
      ]
    },
    {
      "cell_type": "markdown",
      "source": [
        "#### Visualizaciones ➡ NYT Best sellers"
      ],
      "metadata": {
        "id": "jCzXQM61N51c"
      }
    },
    {
      "cell_type": "code",
      "source": [
        "visualize(df_nyt, 'price.numberDouble', \"Price\")"
      ],
      "metadata": {
        "id": "iiEdpTccN5TY",
        "colab": {
          "base_uri": "https://localhost:8080/",
          "height": 451
        },
        "outputId": "e71085f3-07d2-4a5c-b6ce-6fd4f0063424"
      },
      "execution_count": null,
      "outputs": [
        {
          "output_type": "stream",
          "name": "stdout",
          "text": [
            "count    3033.000000\n",
            "mean       26.818368\n",
            "std         1.787720\n",
            "min        14.990000\n",
            "25%        25.950000\n",
            "50%        26.950000\n",
            "75%        27.990000\n",
            "max        34.990000\n",
            "Name: price.numberDouble, dtype: float64\n"
          ]
        },
        {
          "output_type": "display_data",
          "data": {
            "text/plain": [
              "<Figure size 432x288 with 1 Axes>"
            ],
            "image/png": "[encoded data removed]"
          },
          "metadata": {
            "needs_background": "light"
          }
        }
      ]
    },
    {
      "cell_type": "markdown",
      "source": [
        "#### Visualizaciones ➡ Melbourne Housing"
      ],
      "metadata": {
        "id": "2r-QhMd7OCtu"
      }
    },
    {
      "cell_type": "code",
      "source": [
        "visualize(df_housing, 'land_size', \"Land size\")"
      ],
      "metadata": {
        "id": "qumdSUjaN5I6",
        "colab": {
          "base_uri": "https://localhost:8080/",
          "height": 452
        },
        "outputId": "4d8d9823-c023-4950-abf5-932f6322a358"
      },
      "execution_count": null,
      "outputs": [
        {
          "output_type": "stream",
          "name": "stdout",
          "text": [
            "count    11646.000000\n",
            "mean       554.458097\n",
            "std       1460.432326\n",
            "min          0.000000\n",
            "25%        162.000000\n",
            "50%        412.000000\n",
            "75%        656.000000\n",
            "max      76000.000000\n",
            "Name: land_size, dtype: float64\n"
          ]
        },
        {
          "output_type": "display_data",
          "data": {
            "text/plain": [
              "<Figure size 432x288 with 1 Axes>"
            ],
            "image/png": "[encoded data removed]"
          },
          "metadata": {
            "needs_background": "light"
          }
        }
      ]
    },
    {
      "cell_type": "code",
      "source": [],
      "metadata": {
        "id": "JTSD7SrGN5Fh"
      },
      "execution_count": null,
      "outputs": []
    },
    {
      "cell_type": "markdown",
      "metadata": {
        "id": "4XbzXmcHMKe_"
      },
      "source": [
        "### b) Eliminando valores atípicos\n",
        "\n",
        "A partir de las visualizaciones que realizaste en el punto anterior, decide en cuáles columnas tenemos valores atípicos que pueden estorbarnos en nuestro análisis. Elimina dichos valores atípicos usando el Score de Rango Intercuartílico. Puedes probar variando un poco la medida del Score (1.5 * IQR) para eliminar solamente los valores que tú consideras como extremos.\n",
        "\n",
        "Para observar los cambios a detalle, obtén la mediana, la media y la desviación estándar de tus datos *antes* y *después* de eliminar los valores atípicos. Compara estos valores y explica qué es lo que está pasando.\n",
        "\n",
        "Grafica de nuevo tus datos sin valores atípicos para compararlos con las gráficas anteriores.\n",
        "\n",
        "Comenta con la experta y tus compañeros tus hallazgos."
      ]
    },
    {
      "cell_type": "code",
      "source": [
        "# Eliminar datos que se encuentren fuera de el precentil 10 y 90\n",
        "#def filter_percentiles(dataframe, column, perc_inf = 0.10, perc_sup = 0.90):\n",
        "#    lower_perc, upper_perc = dataframe[column].quantile([perc_inf, perc_sup]).values\n",
        "#    mask_1 = dataframe[column] >= lower_perc\n",
        "#    mask_2 = dataframe[column] <= upper_perc\n",
        "#    mask_3 = mask_1 & mask_2\n",
        "#    new_dataframe = dataframe[mask_3]\n",
        "#    return new_dataframe\n"
      ],
      "metadata": {
        "id": "-lhrf9PIPtQk"
      },
      "execution_count": null,
      "outputs": []
    },
    {
      "cell_type": "code",
      "source": [
        "def filter_percentiles(dataframe, column, score = 1.5):\n",
        "    iqr = dataframe[column].quantile(0.75) - dataframe[column].quantile(0.25)\n",
        "    mask_1 = dataframe[column] > dataframe[column].quantile(0.25) - (iqr * score)\n",
        "    mask_2 = dataframe[column] < dataframe[column].quantile(0.75) + (iqr * score)\n",
        "    mask_3 = mask_1 & mask_2\n",
        "    new_dataframe = dataframe[mask_3]\n",
        "    return new_dataframe"
      ],
      "metadata": {
        "id": "mVHM-J-DS1pW"
      },
      "execution_count": null,
      "outputs": []
    },
    {
      "cell_type": "markdown",
      "source": [
        "#### Visualizaciones ➡ Nearh Earth Objects - 2"
      ],
      "metadata": {
        "id": "ErhTLir2V_1g"
      }
    },
    {
      "cell_type": "code",
      "source": [
        "new_df_earth_objects_01 = filter_percentiles(dataframe = df_earth_objects, column = 'estimated_diameter.meters.estimated_diameter_max')\n",
        "new_df_earth_objects_02 = filter_percentiles(dataframe = df_earth_objects, column = 'relative_velocity.kilometers_per_second')"
      ],
      "metadata": {
        "id": "75x6BBugV5e6"
      },
      "execution_count": null,
      "outputs": []
    },
    {
      "cell_type": "code",
      "source": [
        "visualize(new_df_earth_objects_01, 'estimated_diameter.meters.estimated_diameter_max', \"(New) Estimated diameter\")"
      ],
      "metadata": {
        "id": "O-mJB3NyV8YP",
        "colab": {
          "base_uri": "https://localhost:8080/",
          "height": 452
        },
        "outputId": "c3b12c24-4b52-421a-bb05-49584bc4b0e1"
      },
      "execution_count": null,
      "outputs": [
        {
          "output_type": "stream",
          "name": "stdout",
          "text": [
            "count     314.000000\n",
            "mean      297.202205\n",
            "std       292.320047\n",
            "min         2.978791\n",
            "25%        59.434687\n",
            "50%       196.806745\n",
            "75%       450.858206\n",
            "max      1185.877909\n",
            "Name: estimated_diameter.meters.estimated_diameter_max, dtype: float64\n"
          ]
        },
        {
          "output_type": "display_data",
          "data": {
            "text/plain": [
              "<Figure size 432x288 with 1 Axes>"
            ],
            "image/png": "[encoded data removed]"
          },
          "metadata": {
            "needs_background": "light"
          }
        }
      ]
    },
    {
      "cell_type": "code",
      "source": [
        "visualize(new_df_earth_objects_02, 'relative_velocity.kilometers_per_second', \"(New) Relative velocity (km/s)\")"
      ],
      "metadata": {
        "id": "LT1bZsOzW5Vr",
        "colab": {
          "base_uri": "https://localhost:8080/",
          "height": 452
        },
        "outputId": "6e4e9f4d-f10b-47fb-8146-7d93c4e9689e"
      },
      "execution_count": null,
      "outputs": [
        {
          "output_type": "stream",
          "name": "stdout",
          "text": [
            "count    324.000000\n",
            "mean      14.373121\n",
            "std        7.193906\n",
            "min        0.681437\n",
            "25%        8.454582\n",
            "50%       14.043307\n",
            "75%       18.349862\n",
            "max       33.931711\n",
            "Name: relative_velocity.kilometers_per_second, dtype: float64\n"
          ]
        },
        {
          "output_type": "display_data",
          "data": {
            "text/plain": [
              "<Figure size 432x288 with 1 Axes>"
            ],
            "image/png": "[encoded data removed]"
          },
          "metadata": {
            "needs_background": "light"
          }
        }
      ]
    },
    {
      "cell_type": "markdown",
      "source": [
        "#### Visualizaciones ➡ NYT Best sellers - 2"
      ],
      "metadata": {
        "id": "6bhh5Yp5WFpS"
      }
    },
    {
      "cell_type": "code",
      "source": [
        "new_df_nyt = filter_percentiles(dataframe = df_nyt, column = 'price.numberDouble', score = 1.5)\n",
        "visualize(new_df_nyt, 'price.numberDouble', \"(New) Price\")"
      ],
      "metadata": {
        "id": "Sd1Dh4QkV8Tu",
        "colab": {
          "base_uri": "https://localhost:8080/",
          "height": 451
        },
        "outputId": "b6fc74cf-19ea-4bfe-d3a7-fed15e2e7683"
      },
      "execution_count": null,
      "outputs": [
        {
          "output_type": "stream",
          "name": "stdout",
          "text": [
            "count    2950.000000\n",
            "mean       26.949634\n",
            "std         1.334044\n",
            "min        22.950000\n",
            "25%        25.950000\n",
            "50%        26.990000\n",
            "75%        27.990000\n",
            "max        30.500000\n",
            "Name: price.numberDouble, dtype: float64\n"
          ]
        },
        {
          "output_type": "display_data",
          "data": {
            "text/plain": [
              "<Figure size 432x288 with 1 Axes>"
            ],
            "image/png": "[encoded data removed]"
          },
          "metadata": {
            "needs_background": "light"
          }
        }
      ]
    },
    {
      "cell_type": "markdown",
      "source": [
        "#### Visualizaciones ➡ Melbourne Housing"
      ],
      "metadata": {
        "id": "UDcoOOzDWIOo"
      }
    },
    {
      "cell_type": "code",
      "source": [
        "new_df_housing = filter_percentiles(dataframe = df_housing, column = 'land_size', score = 1.3)\n",
        "visualize(new_df_housing, 'land_size', \"(New) Land size\")"
      ],
      "metadata": {
        "id": "fVFs9nK_V78m",
        "colab": {
          "base_uri": "https://localhost:8080/",
          "height": 452
        },
        "outputId": "27500288-bd5b-41e6-d2e0-a3a54d2c8bf1"
      },
      "execution_count": null,
      "outputs": [
        {
          "output_type": "stream",
          "name": "stdout",
          "text": [
            "count    10907.000000\n",
            "mean       390.967360\n",
            "std        287.377292\n",
            "min          0.000000\n",
            "25%        150.000000\n",
            "50%        366.000000\n",
            "75%        620.000000\n",
            "max       1294.000000\n",
            "Name: land_size, dtype: float64\n"
          ]
        },
        {
          "output_type": "display_data",
          "data": {
            "text/plain": [
              "<Figure size 432x288 with 1 Axes>"
            ],
            "image/png": "[encoded data removed]"
          },
          "metadata": {
            "needs_background": "light"
          }
        }
      ]
    },
    {
      "cell_type": "markdown",
      "metadata": {
        "id": "Cx1953FUZyyV"
      },
      "source": [
        "# Reto 2: Tablas de frecuencias\n",
        "\n",
        "## 1. Objetivos:\n",
        "- Aprender a generar tablas de frecuencias segmentando nuestros datos\n",
        " \n",
        "---\n",
        "    \n",
        "## 2. Desarrollo:"
      ]
    },
    {
      "cell_type": "markdown",
      "metadata": {
        "id": "kl38FqrZZyyZ"
      },
      "source": [
        "#### a) Analizando distribución con tablas de frecuencias\n",
        "\n",
        "Vamos a generar tablas de frecuencias de los siguientes datasets y columnas:\n",
        "\n",
        "1. Dataset: 'near_earth_objects-jan_feb_1995-clean.csv'\n",
        "    - Columnas a graficar: 'estimated_diameter.meters.estimated_diameter_max' y 'relative_velocity.kilometers_per_second'\n",
        "2. Dataset: 'new_york_times_bestsellers-clean.json'\n",
        "    - Columnas a graficar: 'price.numberDouble'\n",
        "3. Dataset: 'melbourne_housing-clean.csv'\n",
        "    - Columnas a graficar: 'land_size'\n",
        "    \n",
        "Estos conjuntos de datos son los mismos que graficamos en el Reto anterior. Antes de generar las tablas de frecuencias, revisa el rango de tus conjuntos de datos y decide el número de segmentos adecuado para cada uno.\n",
        "\n",
        "Después, genera las tablas de frecuencias para cada uno de estos conjuntos de datos y compáralos con las gráficas de caja que realizaste en el Reto anterior. ¿Hay información nueva? ¿Qué ventajas o desventajas nos da esta nueva perspectiva?\n",
        "\n",
        "Piensa cuál de las dos aproximaciones (boxplots y tablas de frecuencia) resulta más útil para detectar valores atípicos. ¿O simplemente son útiles en diferentes contextos?"
      ]
    },
    {
      "cell_type": "code",
      "execution_count": null,
      "metadata": {
        "id": "PVrriVu8Zyya"
      },
      "outputs": [],
      "source": [
        "# Importar bibliotecas y datos\n",
        "import pandas as pd\n",
        "import matplotlib.pyplot as plt\n",
        "import seaborn as sns\n",
        "\n",
        "df_earth_objects = pd.read_csv(\"https://raw.githubusercontent.com/jaeem006/beduadp/master/Datasets/near_earth_objects-jan_feb_1995-clean.csv\", index_col=0)\n",
        "df_nyt = pd.read_json(\"https://raw.githubusercontent.com/jaeem006/beduadp/master/Datasets/new_york_times_bestsellers-clean.json\")\n",
        "df_housing = pd.read_csv(\"https://raw.githubusercontent.com/jaeem006/beduadp/master/Datasets/melbourne_housing-clean.csv\", index_col=0)"
      ]
    },
    {
      "cell_type": "code",
      "source": [
        "series_earth_objects_diameter = df_earth_objects['estimated_diameter.meters.estimated_diameter_max']\n",
        "series_earth_objects_velocity = df_earth_objects['relative_velocity.kilometers_per_second']\n",
        "series_nyt_price = df_nyt['price.numberDouble']\n",
        "series_housing_land_size = df_housing['land_size']"
      ],
      "metadata": {
        "id": "WVo4LryscJPw"
      },
      "execution_count": null,
      "outputs": []
    },
    {
      "cell_type": "code",
      "source": [
        "# Calcular rangos\n",
        "print(\"Rango de Earth Objects (diameter)\", series_earth_objects_diameter.max() - \\\n",
        "                                           series_earth_objects_diameter.min())\n",
        "print(\"Rango de Earth Objects (velocity)\", series_earth_objects_velocity.max() - \\\n",
        "                                           series_earth_objects_velocity.min())\n",
        "print(\"Rango de NYT Best Sellers (price)\", series_nyt_price.max() - series_nyt_price.min())\n",
        "print(\"Rango de Melbourne Housing (land size)\", series_housing_land_size.max() - series_housing_land_size.min())"
      ],
      "metadata": {
        "colab": {
          "base_uri": "https://localhost:8080/"
        },
        "id": "G5isYNzLamUz",
        "outputId": "93e86cb8-feea-49f1-ebb0-64d419e888d1"
      },
      "execution_count": null,
      "outputs": [
        {
          "output_type": "stream",
          "name": "stdout",
          "text": [
            "Rango de Earth Objects (diameter) 6513.905031051\n",
            "Rango de Earth Objects (velocity) 39.8459916905\n",
            "Rango de NYT Best Sellers (price) 20.0\n",
            "Rango de Melbourne Housing (land size) 76000.0\n"
          ]
        }
      ]
    },
    {
      "cell_type": "code",
      "source": [
        "# Crear los cuts\n",
        "cuts_series_earth_objects_diameter = pd.cut(series_earth_objects_diameter, 20)\n",
        "cuts_series_earth_objects_velocity = pd.cut(series_earth_objects_velocity, 10)\n",
        "cuts_series_nyt_price = pd.cut(series_nyt_price, 10)\n",
        "cuts_series_housing_land_size = pd.cut(x = series_housing_land_size, bins = 25, precision = 0)"
      ],
      "metadata": {
        "id": "-2xcmcx8b1UA"
      },
      "execution_count": null,
      "outputs": []
    },
    {
      "cell_type": "code",
      "source": [
        " cuts_series_housing_land_size"
      ],
      "metadata": {
        "colab": {
          "base_uri": "https://localhost:8080/"
        },
        "id": "d55SUy4h7R1c",
        "outputId": "7d66a3f7-c613-4e6c-92e1-1b2dd71075f9"
      },
      "execution_count": null,
      "outputs": [
        {
          "output_type": "execute_result",
          "data": {
            "text/plain": [
              "0        (-76.0, 3040.0]\n",
              "1        (-76.0, 3040.0]\n",
              "2        (-76.0, 3040.0]\n",
              "3        (-76.0, 3040.0]\n",
              "4        (-76.0, 3040.0]\n",
              "              ...       \n",
              "11641    (-76.0, 3040.0]\n",
              "11642    (-76.0, 3040.0]\n",
              "11643    (-76.0, 3040.0]\n",
              "11644    (-76.0, 3040.0]\n",
              "11645    (-76.0, 3040.0]\n",
              "Name: land_size, Length: 11646, dtype: category\n",
              "Categories (25, interval[float64, right]): [(-76.0, 3040.0] < (3040.0, 6080.0] < (6080.0, 9120.0] <\n",
              "                                            (9120.0, 12160.0] ... (63840.0, 66880.0] <\n",
              "                                            (66880.0, 69920.0] < (69920.0, 72960.0] <\n",
              "                                            (72960.0, 76000.0]]"
            ]
          },
          "metadata": {},
          "execution_count": 5
        }
      ]
    },
    {
      "cell_type": "code",
      "source": [
        "# Hacer agrupaciones\n",
        "grouped_series_earth_objects_diameter = series_earth_objects_diameter.groupby(cuts_series_earth_objects_diameter).count()\n",
        "grouped_series_earth_objects_velocity = series_earth_objects_velocity.groupby(cuts_series_earth_objects_velocity).count()\n",
        "grouped_series_nyt_price = series_nyt_price.groupby(cuts_series_nyt_price).count()\n",
        "grouped_series_housing_land_size = series_housing_land_size.groupby(cuts_series_housing_land_size).count()"
      ],
      "metadata": {
        "id": "gjMR3UbKa1Q6"
      },
      "execution_count": null,
      "outputs": []
    },
    {
      "cell_type": "code",
      "source": [
        "grouped_series_housing_land_size"
      ],
      "metadata": {
        "id": "XIaahzfsd6GD",
        "colab": {
          "base_uri": "https://localhost:8080/"
        },
        "outputId": "4544cc7c-f4c7-46ba-acd1-c1aedcb8ff9c"
      },
      "execution_count": null,
      "outputs": [
        {
          "output_type": "execute_result",
          "data": {
            "text/plain": [
              "land_size\n",
              "(-76.0, 3040.0]       11541\n",
              "(3040.0, 6080.0]         64\n",
              "(6080.0, 9120.0]         21\n",
              "(9120.0, 12160.0]         2\n",
              "(12160.0, 15200.0]        3\n",
              "(15200.0, 18240.0]        7\n",
              "(18240.0, 21280.0]        0\n",
              "(21280.0, 24320.0]        2\n",
              "(24320.0, 27360.0]        0\n",
              "(27360.0, 30400.0]        0\n",
              "(30400.0, 33440.0]        0\n",
              "(33440.0, 36480.0]        0\n",
              "(36480.0, 39520.0]        3\n",
              "(39520.0, 42560.0]        1\n",
              "(42560.0, 45600.0]        0\n",
              "(45600.0, 48640.0]        0\n",
              "(48640.0, 51680.0]        0\n",
              "(51680.0, 54720.0]        0\n",
              "(54720.0, 57760.0]        0\n",
              "(57760.0, 60800.0]        0\n",
              "(60800.0, 63840.0]        0\n",
              "(63840.0, 66880.0]        0\n",
              "(66880.0, 69920.0]        0\n",
              "(69920.0, 72960.0]        0\n",
              "(72960.0, 76000.0]        2\n",
              "Name: land_size, dtype: int64"
            ]
          },
          "metadata": {},
          "execution_count": 7
        }
      ]
    },
    {
      "cell_type": "markdown",
      "source": [
        "### Nota\n",
        "Como podemos darnos cuenta, hay un rango o categoría que tiene valor negativo del lado izquierdo. Es extraño porque el valor mínimo es 0.\n",
        "\n",
        "Por el momento no cuento con alguna solución pero veo que puedes cambiar esas categorías de manera _manual_, después de usar `pandas.cut`:\n",
        "\n",
        "Aquí la duda y la respuesta ➡️ [_pandas.cut function gave me negative values when it is suppose to be 0_](https://stackoverflow.com/questions/71614724/pandas-cut-function-gave-me-negative-values-when-it-is-suppose-to-be-0)"
      ],
      "metadata": {
        "id": "q_8vgebYdJR9"
      }
    },
    {
      "cell_type": "markdown",
      "metadata": {
        "id": "O68iXxOWekxP"
      },
      "source": [
        "# Reto 3: Describiendo histogramas\n",
        "\n",
        "## 1. Objetivos:\n",
        "- Generar histogramas y caracterizarlos utilizando las herramientas que hemos aprendido hasta el momento\n",
        " \n",
        "---\n",
        "    \n",
        "## 2. Desarrollo:"
      ]
    },
    {
      "cell_type": "markdown",
      "metadata": {
        "id": "FtydjtKIekxS"
      },
      "source": [
        "#### a) Pima Indians Diabetes Database\n",
        "\n",
        "Vamos a analizar un conjunto de datos que contiene datos acerca del estado de salud de mujeres menores de 21 años de ascendencia [pima](https://es.wikipedia.org/wiki/Pueblo_pima). El conjunto también tiene una columna 'outcome' que indica si las pacientes fueron diagnosticadas con diabetes o no. Puedes ver la descripción completa [aquí](https://www.kaggle.com/uciml/pima-indians-diabetes-database).  El dataset está guardado con el nombre de `diabetes-clean.csv`.\n",
        "\n",
        "- Todas las variables independientes en este dataset son numéricas. Genera histogramas de todas las variables independientes para observar la distribución de estas variables. Un valor aceptable para el número de `bins` es `10`. Después de generar el histograma, caracterízalo con una descripción utilizando los términos que has aprendido en esta sesión.\n",
        "\n",
        "- Intenta también discernir a simple vista la asimetría y curtosis de tus histogramas, y después confirma tus hipótesis utilizando las funciones `kurtosis` y `skew` del módulo `scipy.stats`.\n",
        "\n",
        "- Ve si te es posible identificar la cantidad y magnitud de los valores atípicos usando histogramas. ¿Cuál ha sido la técnica que te ha facilitado más la identificación de valores atípicos? ¿Boxplots, tablas de frecuencias o histogramas?\n",
        "\n",
        "Comenta con la experta y con tus compañeros por qué crees que esas variables tengan la distribución que tienen."
      ]
    },
    {
      "cell_type": "code",
      "execution_count": 1,
      "metadata": {
        "id": "VVuG5F12ekxT"
      },
      "outputs": [],
      "source": [
        "import pandas as pd\n",
        "import numpy as np\n",
        "from scipy.stats import skew, kurtosis\n",
        "import matplotlib.pyplot as plt\n",
        "import seaborn as sns\n",
        "\n",
        "df = pd.read_csv(\"https://raw.githubusercontent.com/jaeem006/beduadp/master/Datasets/diabetes-clean.csv\", index_col=0)"
      ]
    },
    {
      "cell_type": "code",
      "source": [
        "numeric_vars = ['pregnancies', 'glucose','blood_pressure','skin_thickness','insulin','bmi','diabetes_pedigree_function','age']\n",
        "df[numeric_vars].hist(bins=10, figsize=(10,10))\n",
        "plt.show()"
      ],
      "metadata": {
        "colab": {
          "base_uri": "https://localhost:8080/",
          "height": 607
        },
        "id": "ft39TI-ifR_k",
        "outputId": "610011b2-3aa3-42ba-fdbc-ea6b592821ee"
      },
      "execution_count": 2,
      "outputs": [
        {
          "output_type": "display_data",
          "data": {
            "text/plain": [
              "<Figure size 720x720 with 9 Axes>"
            ],
            "image/png": "[encoded data removed]"
          },
          "metadata": {
            "needs_background": "light"
          }
        }
      ]
    },
    {
      "cell_type": "code",
      "source": [
        "df['glucose'].values"
      ],
      "metadata": {
        "id": "B6gGHv5waYWR",
        "colab": {
          "base_uri": "https://localhost:8080/"
        },
        "outputId": "7bfea461-406c-4f24-c2fb-fa9135b9da66"
      },
      "execution_count": 3,
      "outputs": [
        {
          "output_type": "execute_result",
          "data": {
            "text/plain": [
              "array([148,  85, 183,  89, 137, 116,  78, 115, 197, 125, 110, 168, 139,\n",
              "       189, 166, 100, 118, 107, 103, 115, 126,  99, 196, 119, 143, 125,\n",
              "       147,  97, 145, 117, 109, 158,  88,  92, 122, 103, 138, 102,  90,\n",
              "       111, 180, 133, 106, 171, 159, 180, 146,  71, 103, 105, 103, 101,\n",
              "        88, 176, 150,  73, 187, 100, 146, 105,  84, 133,  44, 141, 114,\n",
              "        99, 109, 109,  95, 146, 100, 139, 126, 129,  79,   0,  62,  95,\n",
              "       131, 112, 113,  74,  83, 101, 137, 110, 106, 100, 136, 107,  80,\n",
              "       123,  81, 134, 142, 144,  92,  71,  93, 122, 163, 151, 125,  81,\n",
              "        85, 126,  96, 144,  83,  95, 171, 155,  89,  76, 160, 146, 124,\n",
              "        78,  97,  99, 162, 111, 107, 132, 113,  88, 120, 118, 117, 105,\n",
              "       173, 122, 170,  84,  96, 125, 100,  93, 129, 105, 128, 106, 108,\n",
              "       108, 154, 102,  57, 106, 147,  90, 136, 114, 156, 153, 188, 152,\n",
              "        99, 109,  88, 163, 151, 102, 114, 100, 131, 104, 148, 120, 110,\n",
              "       111, 102, 134,  87,  79,  75, 179,  85, 129, 143, 130,  87, 119,\n",
              "         0,  73, 141, 194, 181, 128, 109, 139, 111, 123, 159, 135,  85,\n",
              "       158, 105, 107, 109, 148, 113, 138, 108,  99, 103, 111, 196, 162,\n",
              "        96, 184,  81, 147, 179, 140, 112, 151, 109, 125,  85, 112, 177,\n",
              "       158, 119, 142, 100,  87, 101, 162, 197, 117, 142, 134,  79, 122,\n",
              "        74, 171, 181, 179, 164, 104,  91,  91, 139, 119, 146, 184, 122,\n",
              "       165, 124, 111, 106, 129,  90,  86,  92, 113, 111, 114, 193, 155,\n",
              "       191, 141,  95, 142, 123,  96, 138, 128, 102, 146, 101, 108, 122,\n",
              "        71, 106, 100, 106, 104, 114, 108, 146, 129, 133, 161, 108, 136,\n",
              "       155, 119,  96, 108,  78, 107, 128, 128, 161, 151, 146, 126, 100,\n",
              "       112, 167, 144,  77, 115, 150, 120, 161, 137, 128, 124,  80, 106,\n",
              "       155, 113, 109, 112,  99, 182, 115, 194, 129, 112, 124, 152, 112,\n",
              "       157, 122, 179, 102, 105, 118,  87, 180, 106,  95, 165, 117, 115,\n",
              "       152, 178, 130,  95,   0, 122,  95, 126, 139, 116,  99,   0,  92,\n",
              "       137,  61,  90,  90, 165, 125, 129,  88, 196, 189, 158, 103, 146,\n",
              "       147,  99, 124, 101,  81, 133, 173, 118,  84, 105, 122, 140,  98,\n",
              "        87, 156,  93, 107, 105, 109,  90, 125, 119, 116, 105, 144, 100,\n",
              "       100, 166, 131, 116, 158, 127,  96, 131,  82, 193,  95, 137, 136,\n",
              "        72, 168, 123, 115, 101, 197, 172, 102, 112, 143, 143, 138, 173,\n",
              "        97, 144,  83, 129, 119,  94, 102, 115, 151, 184,  94, 181, 135,\n",
              "        95,  99,  89,  80, 139,  90, 141, 140, 147,  97, 107, 189,  83,\n",
              "       117, 108, 117, 180, 100,  95, 104, 120,  82, 134,  91, 119, 100,\n",
              "       175, 135,  86, 148, 134, 120,  71,  74,  88, 115, 124,  74,  97,\n",
              "       120, 154, 144, 137, 119, 136, 114, 137, 105, 114, 126, 132, 158,\n",
              "       123,  85,  84, 145, 135, 139, 173,  99, 194,  83,  89,  99, 125,\n",
              "        80, 166, 110,  81, 195, 154, 117,  84,   0,  94,  96,  75, 180,\n",
              "       130,  84, 120,  84, 139,  91,  91,  99, 163, 145, 125,  76, 129,\n",
              "        68, 124, 114, 130, 125,  87,  97, 116, 117, 111, 122, 107,  86,\n",
              "        91,  77, 132, 105,  57, 127, 129, 100, 128,  90,  84,  88, 186,\n",
              "       187, 131, 164, 189, 116,  84, 114,  88,  84, 124,  97, 110, 103,\n",
              "        85, 125, 198,  87,  99,  91,  95,  99,  92, 154, 121,  78, 130,\n",
              "       111,  98, 143, 119, 108, 118, 133, 197, 151, 109, 121, 100, 124,\n",
              "        93, 143, 103, 176,  73, 111, 112, 132,  82, 123, 188,  67,  89,\n",
              "       173, 109, 108,  96, 124, 150, 183, 124, 181,  92, 152, 111, 106,\n",
              "       174, 168, 105, 138, 106, 117,  68, 112, 119, 112,  92, 183,  94,\n",
              "       108,  90, 125, 132, 128,  94, 114, 102, 111, 128,  92, 104, 104,\n",
              "        94,  97, 100, 102, 128, 147,  90, 103, 157, 167, 179, 136, 107,\n",
              "        91, 117, 123, 120, 106, 155, 101, 120, 127,  80, 162, 199, 167,\n",
              "       145, 115, 112, 145, 111,  98, 154, 165,  99,  68, 123,  91, 195,\n",
              "       156,  93, 121, 101,  56, 162,  95, 125, 136, 129, 130, 107, 140,\n",
              "       144, 107, 158, 121, 129,  90, 142, 169,  99, 127, 118, 122, 125,\n",
              "       168, 129, 110,  80, 115, 127, 164,  93, 158, 126, 129, 134, 102,\n",
              "       187, 173,  94, 108,  97,  83, 114, 149, 117, 111, 112, 116, 141,\n",
              "       175,  92, 130, 120, 174, 106, 105,  95, 126,  65,  99, 102, 120,\n",
              "       102, 109, 140, 153, 100, 147,  81, 187, 162, 136, 121, 108, 181,\n",
              "       154, 128, 137, 123, 106, 190,  88, 170,  89, 101, 122, 121, 126,\n",
              "        93])"
            ]
          },
          "metadata": {},
          "execution_count": 3
        }
      ]
    },
    {
      "cell_type": "code",
      "source": [
        "# Calcular kurtosis y skewness\n",
        "dict_kurtosis = dict()\n",
        "dict_skweness = dict()\n",
        "for var in numeric_vars:\n",
        "    dict_kurtosis[var] = kurtosis(df[var].values)\n",
        "    dict_skweness[var] = skew(df[var].values)"
      ],
      "metadata": {
        "id": "aKgMJcEYffez"
      },
      "execution_count": 4,
      "outputs": []
    },
    {
      "cell_type": "code",
      "source": [
        "print(\"kurtosis\",dict_kurtosis['insulin'])\n",
        "print(\"asimetria\",dict_skweness['insulin'])"
      ],
      "metadata": {
        "id": "h6FDAlEiZqDo",
        "colab": {
          "base_uri": "https://localhost:8080/"
        },
        "outputId": "8f79ff7a-6328-4cff-a824-5e9d3910f26a"
      },
      "execution_count": 5,
      "outputs": [
        {
          "output_type": "stream",
          "name": "stdout",
          "text": [
            "kurtosis 7.159574916971424\n",
            "asimetria 2.2678104585131753\n"
          ]
        }
      ]
    },
    {
      "cell_type": "markdown",
      "metadata": {
        "id": "Hvr0T02FizgF"
      },
      "source": [
        "# Reto 4: Gráficas de densidad\n",
        "\n",
        "## 1. Objetivos:\n",
        "- Utilizar gráficas de densidad para realizar comparaciones entre conjuntos de datos.\n",
        " \n",
        "---\n",
        "    \n",
        "## 2. Desarrollo:"
      ]
    },
    {
      "cell_type": "markdown",
      "metadata": {
        "id": "Xzc4f8ARizgK"
      },
      "source": [
        "#### a) Comparando histogramas de diferentes categorías\n",
        "\n",
        "Dijimos que las gráficas de densidad nos pueden ser útiles para comparar dos o más distribuciones. ¿En qué contexto podríamos utilizar esto? Para practicar este tipo de comparaciones vamos a utilizar un dataset llamado `athlete_olympic_events-clean.csv`. Este dataset contiene datos sobre participaciones de atletas en las Olimpiadas. Cada fila es la participación de un atleta una Olimpiada. Los atletas, obviamente, pueden repetirse, ya que es posible que hayan participado varias veces en una Olimpiada o que hayan asistido a múltiples Olimpiadas.\n",
        "\n",
        "La columna 'sex' clasifica a los atletas en dos categorías: 'M' (male) y 'F' (female). En las columnas 'age', 'height' y 'weight' tenemos datos numéricos. Lo que queremos es comparar las edades, alturas y pesos de hombres y mujeres atletas usando gráficas de densidad. Para lograr esto, realiza los siguientes pasos:\n",
        "\n",
        "1. Lee el dataset athlete_olympic_events-clean.csv\n",
        "2. Recuerda que hay filas en las que los atletas se repiten. Afortunadamente, el índice es un id único para cada atleta. Hay varias formas de agrupar nuestros datos para que sólo haya una sola entrada por atleta. Vamos a usar una que utiliza varias herramientas que ya conocemos:\n",
        "    - Primero agrupa tus datos usando el índice (esto se puede lograr con el método `groupby(level=0)`, indexa solamente las columnas 'age', 'height' y 'weight' y aplica la función `mean`. Esto nos va a dar un `DataFrame` con el promedio de edad, peso y altura de cada atleta a través de todas sus participaciones en Olimpiadas\n",
        "    - Después tenemos que agregar la columna 'sex' para poder separar nuestros datos en categorías (no pudimos pedirla también en el paso anterior por que no es posible sacar un promedio de las letras 'M' y 'F'). Para eso, primero extrae tu columna 'sex' y realiza de nuevo una agrupación por índice aplicando la agregación 'last'. Esto te dará una `Serie` de la columna 'sex' agrupada por atleta.\n",
        "    - Ahora, usando el método `pd.merge` agrega la información de 'sex' a la agrupación de promedios que realizamos anteriormente.\n",
        "    - Listo ahora tenemos un `DataFrame` con nuestra columnas 'sex', 'age', 'height' y 'weight' donde los atletas no se repiten.\n",
        "3. Ahora usa filtros para separar tus datos en atletas hombre y mujeres.\n",
        "4. Finalmente usa gráficas de densidad para graficar las columnas 'age', 'height' y 'weight' (cada una en una gráfica distinta) y comparar las distribuciones de ambos sexos en diferentes variables. Por ejemplo, en una gráfica tendrás la distribución de las edades de los atletas hombres al lado de la distribución de las edades de las atletas mujeres."
      ]
    },
    {
      "cell_type": "code",
      "execution_count": 6,
      "metadata": {
        "id": "zUu0bVL0izgL",
        "colab": {
          "base_uri": "https://localhost:8080/",
          "height": 112
        },
        "outputId": "94dbf189-f483-486e-f1d1-fb9317ea316e"
      },
      "outputs": [
        {
          "output_type": "execute_result",
          "data": {
            "text/plain": [
              "   athlete_id       name sex   age  height  weight   team  noc        games  \\\n",
              "0           1  A Dijiang   M  24.0   180.0    80.0  China  CHN  1992 Summer   \n",
              "1           2   A Lamusi   M  23.0   170.0    60.0  China  CHN  2012 Summer   \n",
              "\n",
              "   year  season       city       sport                         event medal  \n",
              "0  1992  Summer  Barcelona  Basketball   Basketball Men's Basketball  None  \n",
              "1  2012  Summer     London        Judo  Judo Men's Extra-Lightweight  None  "
            ],
            "text/html": [
              "\n",
              "  <div id=\"df-8e9bfe72-1fbe-4e33-aca2-1c1645b33d50\">\n",
              "    <div class=\"colab-df-container\">\n",
              "      <div>\n",
              "<style scoped>\n",
              "    .dataframe tbody tr th:only-of-type {\n",
              "        vertical-align: middle;\n",
              "    }\n",
              "\n",
              "    .dataframe tbody tr th {\n",
              "        vertical-align: top;\n",
              "    }\n",
              "\n",
              "    .dataframe thead th {\n",
              "        text-align: right;\n",
              "    }\n",
              "</style>\n",
              "<table border=\"1\" class=\"dataframe\">\n",
              "  <thead>\n",
              "    <tr style=\"text-align: right;\">\n",
              "      <th></th>\n",
              "      <th>athlete_id</th>\n",
              "      <th>name</th>\n",
              "      <th>sex</th>\n",
              "      <th>age</th>\n",
              "      <th>height</th>\n",
              "      <th>weight</th>\n",
              "      <th>team</th>\n",
              "      <th>noc</th>\n",
              "      <th>games</th>\n",
              "      <th>year</th>\n",
              "      <th>season</th>\n",
              "      <th>city</th>\n",
              "      <th>sport</th>\n",
              "      <th>event</th>\n",
              "      <th>medal</th>\n",
              "    </tr>\n",
              "  </thead>\n",
              "  <tbody>\n",
              "    <tr>\n",
              "      <th>0</th>\n",
              "      <td>1</td>\n",
              "      <td>A Dijiang</td>\n",
              "      <td>M</td>\n",
              "      <td>24.0</td>\n",
              "      <td>180.0</td>\n",
              "      <td>80.0</td>\n",
              "      <td>China</td>\n",
              "      <td>CHN</td>\n",
              "      <td>1992 Summer</td>\n",
              "      <td>1992</td>\n",
              "      <td>Summer</td>\n",
              "      <td>Barcelona</td>\n",
              "      <td>Basketball</td>\n",
              "      <td>Basketball Men's Basketball</td>\n",
              "      <td>None</td>\n",
              "    </tr>\n",
              "    <tr>\n",
              "      <th>1</th>\n",
              "      <td>2</td>\n",
              "      <td>A Lamusi</td>\n",
              "      <td>M</td>\n",
              "      <td>23.0</td>\n",
              "      <td>170.0</td>\n",
              "      <td>60.0</td>\n",
              "      <td>China</td>\n",
              "      <td>CHN</td>\n",
              "      <td>2012 Summer</td>\n",
              "      <td>2012</td>\n",
              "      <td>Summer</td>\n",
              "      <td>London</td>\n",
              "      <td>Judo</td>\n",
              "      <td>Judo Men's Extra-Lightweight</td>\n",
              "      <td>None</td>\n",
              "    </tr>\n",
              "  </tbody>\n",
              "</table>\n",
              "</div>\n",
              "      <button class=\"colab-df-convert\" onclick=\"convertToInteractive('df-8e9bfe72-1fbe-4e33-aca2-1c1645b33d50')\"\n",
              "              title=\"Convert this dataframe to an interactive table.\"\n",
              "              style=\"display:none;\">\n",
              "        \n",
              "  <svg xmlns=\"http://www.w3.org/2000/svg\" height=\"24px\"viewBox=\"0 0 24 24\"\n",
              "       width=\"24px\">\n",
              "    <path d=\"M0 0h24v24H0V0z\" fill=\"none\"/>\n",
              "    <path d=\"M18.56 5.44l.94 2.06.94-2.06 2.06-.94-2.06-.94-.94-2.06-.94 2.06-2.06.94zm-11 1L8.5 8.5l.94-2.06 2.06-.94-2.06-.94L8.5 2.5l-.94 2.06-2.06.94zm10 10l.94 2.06.94-2.06 2.06-.94-2.06-.94-.94-2.06-.94 2.06-2.06.94z\"/><path d=\"M17.41 7.96l-1.37-1.37c-.4-.4-.92-.59-1.43-.59-.52 0-1.04.2-1.43.59L10.3 9.45l-7.72 7.72c-.78.78-.78 2.05 0 2.83L4 21.41c.39.39.9.59 1.41.59.51 0 1.02-.2 1.41-.59l7.78-7.78 2.81-2.81c.8-.78.8-2.07 0-2.86zM5.41 20L4 18.59l7.72-7.72 1.47 1.35L5.41 20z\"/>\n",
              "  </svg>\n",
              "      </button>\n",
              "      \n",
              "  <style>\n",
              "    .colab-df-container {\n",
              "      display:flex;\n",
              "      flex-wrap:wrap;\n",
              "      gap: 12px;\n",
              "    }\n",
              "\n",
              "    .colab-df-convert {\n",
              "      background-color: #E8F0FE;\n",
              "      border: none;\n",
              "      border-radius: 50%;\n",
              "      cursor: pointer;\n",
              "      display: none;\n",
              "      fill: #1967D2;\n",
              "      height: 32px;\n",
              "      padding: 0 0 0 0;\n",
              "      width: 32px;\n",
              "    }\n",
              "\n",
              "    .colab-df-convert:hover {\n",
              "      background-color: #E2EBFA;\n",
              "      box-shadow: 0px 1px 2px rgba(60, 64, 67, 0.3), 0px 1px 3px 1px rgba(60, 64, 67, 0.15);\n",
              "      fill: #174EA6;\n",
              "    }\n",
              "\n",
              "    [theme=dark] .colab-df-convert {\n",
              "      background-color: #3B4455;\n",
              "      fill: #D2E3FC;\n",
              "    }\n",
              "\n",
              "    [theme=dark] .colab-df-convert:hover {\n",
              "      background-color: #434B5C;\n",
              "      box-shadow: 0px 1px 3px 1px rgba(0, 0, 0, 0.15);\n",
              "      filter: drop-shadow(0px 1px 2px rgba(0, 0, 0, 0.3));\n",
              "      fill: #FFFFFF;\n",
              "    }\n",
              "  </style>\n",
              "\n",
              "      <script>\n",
              "        const buttonEl =\n",
              "          document.querySelector('#df-8e9bfe72-1fbe-4e33-aca2-1c1645b33d50 button.colab-df-convert');\n",
              "        buttonEl.style.display =\n",
              "          google.colab.kernel.accessAllowed ? 'block' : 'none';\n",
              "\n",
              "        async function convertToInteractive(key) {\n",
              "          const element = document.querySelector('#df-8e9bfe72-1fbe-4e33-aca2-1c1645b33d50');\n",
              "          const dataTable =\n",
              "            await google.colab.kernel.invokeFunction('convertToInteractive',\n",
              "                                                     [key], {});\n",
              "          if (!dataTable) return;\n",
              "\n",
              "          const docLinkHtml = 'Like what you see? Visit the ' +\n",
              "            '<a target=\"_blank\" href=https://colab.research.google.com/notebooks/data_table.ipynb>data table notebook</a>'\n",
              "            + ' to learn more about interactive tables.';\n",
              "          element.innerHTML = '';\n",
              "          dataTable['output_type'] = 'display_data';\n",
              "          await google.colab.output.renderOutput(dataTable, element);\n",
              "          const docLink = document.createElement('div');\n",
              "          docLink.innerHTML = docLinkHtml;\n",
              "          element.appendChild(docLink);\n",
              "        }\n",
              "      </script>\n",
              "    </div>\n",
              "  </div>\n",
              "  "
            ]
          },
          "metadata": {},
          "execution_count": 6
        }
      ],
      "source": [
        "import pandas as pd\n",
        "import numpy as np\n",
        "import scipy \n",
        "import matplotlib.pyplot as plt\n",
        "import seaborn as sns\n",
        "\n",
        "df_athletes = pd.read_csv(\"https://raw.githubusercontent.com/jaeem006/beduadp/master/Datasets/athlete_olympic_events-clean.csv\")\n",
        "df_athletes.head(2)"
      ]
    },
    {
      "cell_type": "code",
      "source": [
        "# 1. Agrupar por athlete_id las columnas age, height y weight por la media\n",
        "df_grouped_athlete = df_athletes.groupby(by='athlete_id')[['age','height','weight']].mean()\n",
        "df_grouped_athlete.head(2)"
      ],
      "metadata": {
        "id": "2GVWjT6RjQ7Z",
        "colab": {
          "base_uri": "https://localhost:8080/",
          "height": 143
        },
        "outputId": "8319273c-50f0-4e17-ca4b-e50e342e4253"
      },
      "execution_count": 7,
      "outputs": [
        {
          "output_type": "execute_result",
          "data": {
            "text/plain": [
              "             age  height  weight\n",
              "athlete_id                      \n",
              "1           24.0   180.0    80.0\n",
              "2           23.0   170.0    60.0"
            ],
            "text/html": [
              "\n",
              "  <div id=\"df-bb80b64f-750b-4a16-8abc-faa461eb9e17\">\n",
              "    <div class=\"colab-df-container\">\n",
              "      <div>\n",
              "<style scoped>\n",
              "    .dataframe tbody tr th:only-of-type {\n",
              "        vertical-align: middle;\n",
              "    }\n",
              "\n",
              "    .dataframe tbody tr th {\n",
              "        vertical-align: top;\n",
              "    }\n",
              "\n",
              "    .dataframe thead th {\n",
              "        text-align: right;\n",
              "    }\n",
              "</style>\n",
              "<table border=\"1\" class=\"dataframe\">\n",
              "  <thead>\n",
              "    <tr style=\"text-align: right;\">\n",
              "      <th></th>\n",
              "      <th>age</th>\n",
              "      <th>height</th>\n",
              "      <th>weight</th>\n",
              "    </tr>\n",
              "    <tr>\n",
              "      <th>athlete_id</th>\n",
              "      <th></th>\n",
              "      <th></th>\n",
              "      <th></th>\n",
              "    </tr>\n",
              "  </thead>\n",
              "  <tbody>\n",
              "    <tr>\n",
              "      <th>1</th>\n",
              "      <td>24.0</td>\n",
              "      <td>180.0</td>\n",
              "      <td>80.0</td>\n",
              "    </tr>\n",
              "    <tr>\n",
              "      <th>2</th>\n",
              "      <td>23.0</td>\n",
              "      <td>170.0</td>\n",
              "      <td>60.0</td>\n",
              "    </tr>\n",
              "  </tbody>\n",
              "</table>\n",
              "</div>\n",
              "      <button class=\"colab-df-convert\" onclick=\"convertToInteractive('df-bb80b64f-750b-4a16-8abc-faa461eb9e17')\"\n",
              "              title=\"Convert this dataframe to an interactive table.\"\n",
              "              style=\"display:none;\">\n",
              "        \n",
              "  <svg xmlns=\"http://www.w3.org/2000/svg\" height=\"24px\"viewBox=\"0 0 24 24\"\n",
              "       width=\"24px\">\n",
              "    <path d=\"M0 0h24v24H0V0z\" fill=\"none\"/>\n",
              "    <path d=\"M18.56 5.44l.94 2.06.94-2.06 2.06-.94-2.06-.94-.94-2.06-.94 2.06-2.06.94zm-11 1L8.5 8.5l.94-2.06 2.06-.94-2.06-.94L8.5 2.5l-.94 2.06-2.06.94zm10 10l.94 2.06.94-2.06 2.06-.94-2.06-.94-.94-2.06-.94 2.06-2.06.94z\"/><path d=\"M17.41 7.96l-1.37-1.37c-.4-.4-.92-.59-1.43-.59-.52 0-1.04.2-1.43.59L10.3 9.45l-7.72 7.72c-.78.78-.78 2.05 0 2.83L4 21.41c.39.39.9.59 1.41.59.51 0 1.02-.2 1.41-.59l7.78-7.78 2.81-2.81c.8-.78.8-2.07 0-2.86zM5.41 20L4 18.59l7.72-7.72 1.47 1.35L5.41 20z\"/>\n",
              "  </svg>\n",
              "      </button>\n",
              "      \n",
              "  <style>\n",
              "    .colab-df-container {\n",
              "      display:flex;\n",
              "      flex-wrap:wrap;\n",
              "      gap: 12px;\n",
              "    }\n",
              "\n",
              "    .colab-df-convert {\n",
              "      background-color: #E8F0FE;\n",
              "      border: none;\n",
              "      border-radius: 50%;\n",
              "      cursor: pointer;\n",
              "      display: none;\n",
              "      fill: #1967D2;\n",
              "      height: 32px;\n",
              "      padding: 0 0 0 0;\n",
              "      width: 32px;\n",
              "    }\n",
              "\n",
              "    .colab-df-convert:hover {\n",
              "      background-color: #E2EBFA;\n",
              "      box-shadow: 0px 1px 2px rgba(60, 64, 67, 0.3), 0px 1px 3px 1px rgba(60, 64, 67, 0.15);\n",
              "      fill: #174EA6;\n",
              "    }\n",
              "\n",
              "    [theme=dark] .colab-df-convert {\n",
              "      background-color: #3B4455;\n",
              "      fill: #D2E3FC;\n",
              "    }\n",
              "\n",
              "    [theme=dark] .colab-df-convert:hover {\n",
              "      background-color: #434B5C;\n",
              "      box-shadow: 0px 1px 3px 1px rgba(0, 0, 0, 0.15);\n",
              "      filter: drop-shadow(0px 1px 2px rgba(0, 0, 0, 0.3));\n",
              "      fill: #FFFFFF;\n",
              "    }\n",
              "  </style>\n",
              "\n",
              "      <script>\n",
              "        const buttonEl =\n",
              "          document.querySelector('#df-bb80b64f-750b-4a16-8abc-faa461eb9e17 button.colab-df-convert');\n",
              "        buttonEl.style.display =\n",
              "          google.colab.kernel.accessAllowed ? 'block' : 'none';\n",
              "\n",
              "        async function convertToInteractive(key) {\n",
              "          const element = document.querySelector('#df-bb80b64f-750b-4a16-8abc-faa461eb9e17');\n",
              "          const dataTable =\n",
              "            await google.colab.kernel.invokeFunction('convertToInteractive',\n",
              "                                                     [key], {});\n",
              "          if (!dataTable) return;\n",
              "\n",
              "          const docLinkHtml = 'Like what you see? Visit the ' +\n",
              "            '<a target=\"_blank\" href=https://colab.research.google.com/notebooks/data_table.ipynb>data table notebook</a>'\n",
              "            + ' to learn more about interactive tables.';\n",
              "          element.innerHTML = '';\n",
              "          dataTable['output_type'] = 'display_data';\n",
              "          await google.colab.output.renderOutput(dataTable, element);\n",
              "          const docLink = document.createElement('div');\n",
              "          docLink.innerHTML = docLinkHtml;\n",
              "          element.appendChild(docLink);\n",
              "        }\n",
              "      </script>\n",
              "    </div>\n",
              "  </div>\n",
              "  "
            ]
          },
          "metadata": {},
          "execution_count": 7
        }
      ]
    },
    {
      "cell_type": "code",
      "source": [
        "# 2. Extraer columna 'sex'\n",
        "df_grouped_athlete_gender = df_athletes.groupby('athlete_id')['sex'].agg(['last']).rename(columns = {'last':'gender'})\n",
        "df_grouped_athlete_gender.head(2)"
      ],
      "metadata": {
        "id": "Y4K7b3UKk1RI",
        "colab": {
          "base_uri": "https://localhost:8080/",
          "height": 143
        },
        "outputId": "85ebf8a3-bbfb-420a-c92b-87b04f14ef42"
      },
      "execution_count": 8,
      "outputs": [
        {
          "output_type": "execute_result",
          "data": {
            "text/plain": [
              "           gender\n",
              "athlete_id       \n",
              "1               M\n",
              "2               M"
            ],
            "text/html": [
              "\n",
              "  <div id=\"df-771cc630-66bc-477e-8366-75e3d90043b6\">\n",
              "    <div class=\"colab-df-container\">\n",
              "      <div>\n",
              "<style scoped>\n",
              "    .dataframe tbody tr th:only-of-type {\n",
              "        vertical-align: middle;\n",
              "    }\n",
              "\n",
              "    .dataframe tbody tr th {\n",
              "        vertical-align: top;\n",
              "    }\n",
              "\n",
              "    .dataframe thead th {\n",
              "        text-align: right;\n",
              "    }\n",
              "</style>\n",
              "<table border=\"1\" class=\"dataframe\">\n",
              "  <thead>\n",
              "    <tr style=\"text-align: right;\">\n",
              "      <th></th>\n",
              "      <th>gender</th>\n",
              "    </tr>\n",
              "    <tr>\n",
              "      <th>athlete_id</th>\n",
              "      <th></th>\n",
              "    </tr>\n",
              "  </thead>\n",
              "  <tbody>\n",
              "    <tr>\n",
              "      <th>1</th>\n",
              "      <td>M</td>\n",
              "    </tr>\n",
              "    <tr>\n",
              "      <th>2</th>\n",
              "      <td>M</td>\n",
              "    </tr>\n",
              "  </tbody>\n",
              "</table>\n",
              "</div>\n",
              "      <button class=\"colab-df-convert\" onclick=\"convertToInteractive('df-771cc630-66bc-477e-8366-75e3d90043b6')\"\n",
              "              title=\"Convert this dataframe to an interactive table.\"\n",
              "              style=\"display:none;\">\n",
              "        \n",
              "  <svg xmlns=\"http://www.w3.org/2000/svg\" height=\"24px\"viewBox=\"0 0 24 24\"\n",
              "       width=\"24px\">\n",
              "    <path d=\"M0 0h24v24H0V0z\" fill=\"none\"/>\n",
              "    <path d=\"M18.56 5.44l.94 2.06.94-2.06 2.06-.94-2.06-.94-.94-2.06-.94 2.06-2.06.94zm-11 1L8.5 8.5l.94-2.06 2.06-.94-2.06-.94L8.5 2.5l-.94 2.06-2.06.94zm10 10l.94 2.06.94-2.06 2.06-.94-2.06-.94-.94-2.06-.94 2.06-2.06.94z\"/><path d=\"M17.41 7.96l-1.37-1.37c-.4-.4-.92-.59-1.43-.59-.52 0-1.04.2-1.43.59L10.3 9.45l-7.72 7.72c-.78.78-.78 2.05 0 2.83L4 21.41c.39.39.9.59 1.41.59.51 0 1.02-.2 1.41-.59l7.78-7.78 2.81-2.81c.8-.78.8-2.07 0-2.86zM5.41 20L4 18.59l7.72-7.72 1.47 1.35L5.41 20z\"/>\n",
              "  </svg>\n",
              "      </button>\n",
              "      \n",
              "  <style>\n",
              "    .colab-df-container {\n",
              "      display:flex;\n",
              "      flex-wrap:wrap;\n",
              "      gap: 12px;\n",
              "    }\n",
              "\n",
              "    .colab-df-convert {\n",
              "      background-color: #E8F0FE;\n",
              "      border: none;\n",
              "      border-radius: 50%;\n",
              "      cursor: pointer;\n",
              "      display: none;\n",
              "      fill: #1967D2;\n",
              "      height: 32px;\n",
              "      padding: 0 0 0 0;\n",
              "      width: 32px;\n",
              "    }\n",
              "\n",
              "    .colab-df-convert:hover {\n",
              "      background-color: #E2EBFA;\n",
              "      box-shadow: 0px 1px 2px rgba(60, 64, 67, 0.3), 0px 1px 3px 1px rgba(60, 64, 67, 0.15);\n",
              "      fill: #174EA6;\n",
              "    }\n",
              "\n",
              "    [theme=dark] .colab-df-convert {\n",
              "      background-color: #3B4455;\n",
              "      fill: #D2E3FC;\n",
              "    }\n",
              "\n",
              "    [theme=dark] .colab-df-convert:hover {\n",
              "      background-color: #434B5C;\n",
              "      box-shadow: 0px 1px 3px 1px rgba(0, 0, 0, 0.15);\n",
              "      filter: drop-shadow(0px 1px 2px rgba(0, 0, 0, 0.3));\n",
              "      fill: #FFFFFF;\n",
              "    }\n",
              "  </style>\n",
              "\n",
              "      <script>\n",
              "        const buttonEl =\n",
              "          document.querySelector('#df-771cc630-66bc-477e-8366-75e3d90043b6 button.colab-df-convert');\n",
              "        buttonEl.style.display =\n",
              "          google.colab.kernel.accessAllowed ? 'block' : 'none';\n",
              "\n",
              "        async function convertToInteractive(key) {\n",
              "          const element = document.querySelector('#df-771cc630-66bc-477e-8366-75e3d90043b6');\n",
              "          const dataTable =\n",
              "            await google.colab.kernel.invokeFunction('convertToInteractive',\n",
              "                                                     [key], {});\n",
              "          if (!dataTable) return;\n",
              "\n",
              "          const docLinkHtml = 'Like what you see? Visit the ' +\n",
              "            '<a target=\"_blank\" href=https://colab.research.google.com/notebooks/data_table.ipynb>data table notebook</a>'\n",
              "            + ' to learn more about interactive tables.';\n",
              "          element.innerHTML = '';\n",
              "          dataTable['output_type'] = 'display_data';\n",
              "          await google.colab.output.renderOutput(dataTable, element);\n",
              "          const docLink = document.createElement('div');\n",
              "          docLink.innerHTML = docLinkHtml;\n",
              "          element.appendChild(docLink);\n",
              "        }\n",
              "      </script>\n",
              "    </div>\n",
              "  </div>\n",
              "  "
            ]
          },
          "metadata": {},
          "execution_count": 8
        }
      ]
    },
    {
      "cell_type": "code",
      "source": [
        "# 3. merge 'sex' con los promedios\n",
        "df = pd.merge(df_grouped_athlete, df_grouped_athlete_gender, left_on = 'athlete_id', right_index=True)"
      ],
      "metadata": {
        "id": "AxuwNcQ7k3FT"
      },
      "execution_count": 9,
      "outputs": []
    },
    {
      "cell_type": "code",
      "source": [
        "sns.kdeplot(data = df.query(\"gender == 'M'\"), x = 'age', color = 'olive')\n",
        "sns.kdeplot(data = df.query(\"gender == 'F'\"), x = 'age')"
      ],
      "metadata": {
        "id": "J2YlMYqkndxC",
        "colab": {
          "base_uri": "https://localhost:8080/",
          "height": 296
        },
        "outputId": "5e395cb6-ca38-4b79-a28c-360880d92b8d"
      },
      "execution_count": 10,
      "outputs": [
        {
          "output_type": "execute_result",
          "data": {
            "text/plain": [
              "<AxesSubplot:xlabel='age', ylabel='Density'>"
            ]
          },
          "metadata": {},
          "execution_count": 10
        },
        {
          "output_type": "display_data",
          "data": {
            "text/plain": [
              "<Figure size 432x288 with 1 Axes>"
            ],
            "image/png": "[encoded data removed]"
          },
          "metadata": {
            "needs_background": "light"
          }
        }
      ]
    },
    {
      "cell_type": "code",
      "source": [
        "sns.kdeplot(data = df.query(\"gender == 'M'\"), x = 'height', color = 'olive')\n",
        "sns.kdeplot(data = df.query(\"gender == 'F'\"), x = 'height')"
      ],
      "metadata": {
        "id": "wbLwNdwmoIqb",
        "colab": {
          "base_uri": "https://localhost:8080/",
          "height": 296
        },
        "outputId": "29004d6d-f792-4a6d-b026-b96235294705"
      },
      "execution_count": 11,
      "outputs": [
        {
          "output_type": "execute_result",
          "data": {
            "text/plain": [
              "<AxesSubplot:xlabel='height', ylabel='Density'>"
            ]
          },
          "metadata": {},
          "execution_count": 11
        },
        {
          "output_type": "display_data",
          "data": {
            "text/plain": [
              "<Figure size 432x288 with 1 Axes>"
            ],
            "image/png": "[encoded data removed]"
          },
          "metadata": {
            "needs_background": "light"
          }
        }
      ]
    },
    {
      "cell_type": "code",
      "source": [
        "sns.kdeplot(data = df.query(\"gender == 'M'\"), x = 'weight', color = 'olive')\n",
        "sns.kdeplot(data = df.query(\"gender == 'F'\"), x = 'weight')"
      ],
      "metadata": {
        "id": "sfD6SuoSoODj",
        "colab": {
          "base_uri": "https://localhost:8080/",
          "height": 296
        },
        "outputId": "329c512c-997f-4c44-f8ca-cdfe6b2bcbf5"
      },
      "execution_count": 12,
      "outputs": [
        {
          "output_type": "execute_result",
          "data": {
            "text/plain": [
              "<AxesSubplot:xlabel='weight', ylabel='Density'>"
            ]
          },
          "metadata": {},
          "execution_count": 12
        },
        {
          "output_type": "display_data",
          "data": {
            "text/plain": [
              "<Figure size 432x288 with 1 Axes>"
            ],
            "image/png": "[encoded data removed]"
          },
          "metadata": {
            "needs_background": "light"
          }
        }
      ]
    },
    {
      "cell_type": "markdown",
      "source": [
        "***\n",
        "***\n",
        "***"
      ],
      "metadata": {
        "id": "wrhga9vhVg4x"
      }
    },
    {
      "cell_type": "markdown",
      "source": [
        "## **Postwork**"
      ],
      "metadata": {
        "id": "qlulnJwShLQ5"
      }
    },
    {
      "cell_type": "markdown",
      "source": [
        " ## Nombre del Postwork: Introducción a la visualización de datos: Distribuciones\n",
        "\n",
        "### OBJETIVO \n",
        "\n",
        "- Utilizar boxplots para visualizar distribuciones\n",
        "- Filtrar valores atípicos usando el Score de Rango Intercuartílico\n",
        "- Caracterizar nuestras distribuciones usando tablas de frecuencias, histogramas y gráficas de densidad\n",
        "\n",
        "#### REQUISITOS \n",
        "\n",
        "- Tener un dataset limpio\n",
        "- Tener una serie de preguntas que queremos contestar usando nuestro dataset\n",
        "\n",
        "#### DESARROLLO\n",
        "\n",
        "En este Postwork vamos a explorar las distribuciones de las variables numéricas que tengamos en nuestro dataset. Realiza los siguientes procesos en los casos en los que tenga sentido aplicarlos:\n",
        "\n",
        "- Utiliza boxplots para analizar la distribución de tus variables numéricas. Piensa acerca de cuáles son los valores típicos y atípicos y dónde están concentrados el grueso de tus datos.\n",
        "- Utiliza el Score de Rango Intercuartílico para filtrar tus valores atípicos. Compara tus medianas, medias y desviaciones estándares antes y después de realizar la filtración y ve cuánto cambiaron.\n",
        "- Utiliza tablas de frecuencia e histogramas para observar la distribución de tus variables. Caracteriza cada una de las distribuciones usando los términos que aprendiste durante la sesión. Obtén medidas de asimetría y curtosis para ver qué tan alejadas de la distribución normal están tus variables.\n",
        "- Utiliza gráficas de densidad para comparar una variable numérica que pueda ser segmentada en dos o más categorías. Usa esta técnica para entender mejor cómo están distribuidos tus datos en cada uno de los grupos presentes.\n",
        "\n",
        "¡Mucha suerte!"
      ],
      "metadata": {
        "id": "VP6W45Rso0bw"
      }
    },
    {
      "cell_type": "markdown",
      "source": [
        "***\n",
        "***\n",
        "***"
      ],
      "metadata": {
        "id": "XFUppZ_Y_pdw"
      }
    }
  ]
}