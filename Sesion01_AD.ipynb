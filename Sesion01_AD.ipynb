{
  "nbformat": 4,
  "nbformat_minor": 0,
  "metadata": {
    "colab": {
      "provenance": []
    },
    "kernelspec": {
      "name": "python3",
      "display_name": "Python 3"
    },
    "language_info": {
      "name": "python"
    }
  },
  "cells": [
    {
      "cell_type": "markdown",
      "source": [
        "# **Sesión 01: Estimados de Locación y Variabilidad**"
      ],
      "metadata": {
        "id": "8FVfnovj85pA"
      }
    },
    {
      "cell_type": "markdown",
      "source": [
        "***\n",
        "***\n",
        "***"
      ],
      "metadata": {
        "id": "xg0AT4i4MS-L"
      }
    },
    {
      "cell_type": "markdown",
      "source": [
        "## **Work**"
      ],
      "metadata": {
        "id": "J-6pf7G_9S9D"
      }
    },
    {
      "cell_type": "markdown",
      "source": [
        "## **Sesión 01: Estimados de Locación y Variabilidad**\n",
        "\n",
        "### **1. Objetivos**\n",
        "\n",
        "- Utilizar Google Colab en conjunción con Google Drive y Github.\n",
        "- Identificar los tipos de datos estructurados existen.\n",
        "- Identificar los estimados de locación y en qué momento son útiles.\n",
        "- Identificar valores típicos y atípicos.\n",
        "- Realizar cálculos estadísticos robustos.\n",
        "- Identificar los estimados de variabilidad y en qué momento son útiles.\n",
        "- Identificar los estadísticos de orden.\n",
        "\n",
        "### **2. Contenido**\n",
        "\n",
        "**Utilización de software**\n",
        "\n",
        "Antes que nada, vamos a asegurarnos de que las siguientes cosas estén resueltas:\n",
        "\n",
        "a) Todos tenemos una cuenta en Google Drive. b) Todos hemos creado un Acceso Directo desde la carpeta [Datasets](https://drive.google.com/drive/u/0/folders/1WTz3IbVkPlSOTFFVyCVLx8PlH6gN3Cby) a nuestro Drive. c) Todos sabemos cómo montar nuestro Google Drive en un Notebook de Google Colab y leer nuestros conjuntos de datos usando `pandas`. d) Todos sabemos cómo leer Jupyter Notebooks desde el repositorio del módulo en Google Colab.\n",
        "\n",
        "> Las instrucciones para hacer todo esto están en el Prework de la sesión\n",
        "\n",
        "\n",
        "---\n",
        "\n",
        "\n",
        "**Datos estructurados**\n",
        "\n",
        "Hay dos grandes categorías de datos que manejamos en Ciencia de Datos: datos estructurados y datos no estructurados. Por el momento sólo vamos a hablar sobre datos estructurados. Los datos estructurados pueden subdividirse de la siguiente manera:\n",
        "\n",
        "1. Numéricos: Datos representados por números que pueden tomar una cantidad no predefinida de valores. a) Discretos: Datos que sólo pueden tomar el valor de un número entero. b) Continuos: Datos que pueden toman cualquier valor dentro de un intervalo.\n",
        "2. Categóricos: Datos que sólo pueden tomar un conjunto específico de valores que representan un conjunto de posibles categorías. a) Binarios: Datos categóricos que sólo tienen dos categorías posibles. b) Ordinales: Datos categóricos que tienen un orden explícito.\n",
        "\n",
        "> Hay que dar varios ejemplos sobre cada uno de estos tipos de datos para que los alumnos puedan generalizar hacia otras posibilidades. El primer Reto consiste justamente en clasificar diversos conjuntos de datos en alguna de las categorías de datos estructurados. Recomiendo que el Reto se haga en equipos o que al final se realice un debate donde todos puedan compartir sus hipótesis."
      ],
      "metadata": {
        "id": "QkOtytN79jtC"
      }
    },
    {
      "cell_type": "markdown",
      "metadata": {
        "id": "2lWDl5dfCBB5"
      },
      "source": [
        "## Reto 1: Datos estructurados\n",
        "\n",
        "### 1. Objetivos:\n",
        "    - Aprender a diferenciar los diferentes tipos de datos estructurados que existen.\n",
        " \n",
        "---\n",
        "    \n",
        "### 2. Desarrollo:"
      ]
    },
    {
      "cell_type": "code",
      "execution_count": null,
      "metadata": {
        "id": "fk5kvy64CBB7"
      },
      "outputs": [],
      "source": [
        "import pandas as pd"
      ]
    },
    {
      "cell_type": "markdown",
      "metadata": {
        "id": "sXvdhEsGCBB8"
      },
      "source": [
        "### a) Identificando datos estructurados\n",
        "\n",
        "A continuación verás varias muestras de datos y sus descripciones. Asígnales una de las categorías de datos estructurados que acabas de aprender. Después, comparte tus hipótesis con la experta y con tus compañeros.\n",
        "\n",
        "Es muy importante saber identificar tipos de datos estructurados, porque las técnicas y estrategias que aprenderás durante este módulo suelen estar dirigidas hacia un tipo de dato específico. La elección de las mejores herramientas viene después de entender a qué tipo de dato nos estamos enfrentando."
      ]
    },
    {
      "cell_type": "markdown",
      "metadata": {
        "id": "qRrl-G9KCBB8"
      },
      "source": [
        "#### - Muestra 1: Extraída de un conjunto de datos que contiene edades de personas"
      ]
    },
    {
      "cell_type": "code",
      "execution_count": null,
      "metadata": {
        "id": "rhZ5HgfpCBB8"
      },
      "outputs": [],
      "source": [
        "edades = pd.Series([23, 34, 4, 45, 52, 59, 23, 48, 50, 49, 3, 4, 6, 8, 79, 6, 40, 17, 34, 4, 67, 97, 87, 65, 24, 4, 46])"
      ]
    },
    {
      "cell_type": "markdown",
      "metadata": {
        "id": "MFgf1QQBCBB9"
      },
      "source": [
        "¿Qué tipo de dato estructurado tenemos en la serie `edades`?   \n",
        "**Numérico discreto**"
      ]
    },
    {
      "cell_type": "markdown",
      "metadata": {
        "id": "t2zUr377CBB9"
      },
      "source": [
        "#### - Muestra 2: Extraída de un conjunto de datos que contiene evaluaciones de restaurantes hechas por usuarios de una app"
      ]
    },
    {
      "cell_type": "code",
      "execution_count": null,
      "metadata": {
        "id": "BDXtVuKnCBB9"
      },
      "outputs": [],
      "source": [
        "evaluaciones = pd.Series([1, 4, 2, 2, 3, 5, 4, 4, 4, 5, 1, 2, 2, 3, 5, 2, 4, 3, 3, 1, 5, 5, 2, 4, 3, 3, 4, 4, 5, 1, 2])"
      ]
    },
    {
      "cell_type": "markdown",
      "metadata": {
        "id": "SpaozNW_CBB9"
      },
      "source": [
        "¿Qué tipo de dato estructurado tenemos en la serie `evaluaciones`?\n",
        "\n",
        "**Categórico ordinal**"
      ]
    },
    {
      "cell_type": "markdown",
      "metadata": {
        "id": "RRwJmbQBCBB9"
      },
      "source": [
        "#### - Muestra 3: Extraída de un conjunto de datos que contiene códigos de respuesta HTTP obtenidos al realizar llamadas constantes a una API"
      ]
    },
    {
      "cell_type": "code",
      "execution_count": null,
      "metadata": {
        "id": "M_ej3QOFCBB9"
      },
      "outputs": [],
      "source": [
        "codigos = pd.Series([400, 400, 200, 200, 201, 200, 201, 400, 201, 404, 400, 200, 200, 201, 200, 201, 201, 500, 400, 200])"
      ]
    },
    {
      "cell_type": "markdown",
      "metadata": {
        "id": "zDzwbAaeCBB9"
      },
      "source": [
        "¿Qué tipo de dato estructurado tenemos en la serie `codigos`?\n",
        "\n",
        "**Categórico nominal**"
      ]
    },
    {
      "cell_type": "markdown",
      "metadata": {
        "id": "hyNuat_LCBB-"
      },
      "source": [
        "#### - Muestra 4: Extraída de un conjunto de datos que contiene mediciones precisas de temperaturas ambientales hechas durante un verano de la CDMX"
      ]
    },
    {
      "cell_type": "code",
      "execution_count": null,
      "metadata": {
        "id": "-Vhq6WxaCBB-"
      },
      "outputs": [],
      "source": [
        "temperaturas = pd.Series([22.45, 21.34, 20.23, 20.34, 25.54, 24.34, 18.23, 19.35, 18.24, 25.5, 24.33, 20.19, 21.45, 22.45])"
      ]
    },
    {
      "cell_type": "markdown",
      "metadata": {
        "id": "zNkBrK-9CBB-"
      },
      "source": [
        "¿Qué tipo de dato estructurado tenemos en la serie `temperaturas`?\n",
        "\n",
        "**Numérico continuo**"
      ]
    },
    {
      "cell_type": "markdown",
      "metadata": {
        "id": "vdtGVV0-CBB-"
      },
      "source": [
        "#### - Muestra 5: Extraída de un conjunto de datos que contiene resultados de una encuesta cuyas únicas posibles respuestas eran \"sí\" y \"no\""
      ]
    },
    {
      "cell_type": "code",
      "execution_count": null,
      "metadata": {
        "id": "TD64NbaNCBB-"
      },
      "outputs": [],
      "source": [
        "encuesta = pd.Series([0, 0, 1, 1, 1, 0, 1, 0, 0, 0, 1, 1, 1, 0, 0, 0, 1, 0, 1, 1, 1, 1, 0, 0, 0, 1, 0, 1, 0, 1, 0, 0])"
      ]
    },
    {
      "cell_type": "markdown",
      "metadata": {
        "id": "Xlsi-3rDCBB-"
      },
      "source": [
        "¿Qué tipo de dato estructurado tenemos en la serie `encuesta`?\n",
        "\n",
        "**Categórico dicotómico o binario**"
      ]
    },
    {
      "cell_type": "markdown",
      "source": [
        "***\n",
        "***"
      ],
      "metadata": {
        "id": "ksUJcxqwCmrG"
      }
    },
    {
      "cell_type": "markdown",
      "source": [
        "**Estimados de locación**\n",
        "\n",
        "Los estimados de locación nos sirven para determinar qué valor describe mejor un conjunto de datos. A este valor le llamamos el \"valor típico\" de nuestro conjunto. Dos estimados son los más comunes y lo más utilizados:\n",
        "\n",
        "1. Promedio (o media)\n",
        "2. Mediana\n",
        "\n",
        "Veamos cómo se calculan usando `pandas`."
      ],
      "metadata": {
        "id": "nSVbkHAJClVD"
      }
    },
    {
      "cell_type": "markdown",
      "metadata": {
        "id": "8ghegMYQDsRo"
      },
      "source": [
        "## Ejemplo 1: Estimados de Locación\n",
        "\n",
        "### 1. Objetivos:\n",
        "    - Aprender a calcular estimados de locación utilizando `pandas`.\n",
        " \n",
        "---\n",
        "    \n",
        "### 2. Desarrollo:"
      ]
    },
    {
      "cell_type": "markdown",
      "metadata": {
        "id": "iSBCaC5rDsRq"
      },
      "source": [
        "Vamos a utilizar un primer dataset para aprender a calcular estimados de locación usando `pandas`.\n",
        "\n",
        "El dataset que usaremos en esta sesión contiene información acerca de propiedades que estuvieron (o están) en venta en la ciudad de Melbourne, Australia. El dataset contiene las características físicas de la propiedad, su locación, el tipo de vivienda que es y el precio de la propiedad.\n",
        "\n",
        "Vamos a analizar la variable precio para entender cómo están distribuidos los precios de propiedades en esta ciudad."
      ]
    },
    {
      "cell_type": "code",
      "execution_count": null,
      "metadata": {
        "id": "wqjBK92sDsRq"
      },
      "outputs": [],
      "source": [
        "import pandas as pd"
      ]
    },
    {
      "cell_type": "code",
      "source": [
        "from google.colab import drive\n",
        "drive.mount('/content/drive')"
      ],
      "metadata": {
        "colab": {
          "base_uri": "https://localhost:8080/"
        },
        "id": "uMB_fjzhnTrN",
        "outputId": "2dd40e98-fdef-4966-fab7-c290a899d731"
      },
      "execution_count": null,
      "outputs": [
        {
          "output_type": "stream",
          "name": "stdout",
          "text": [
            "Drive already mounted at /content/drive; to attempt to forcibly remount, call drive.mount(\"/content/drive\", force_remount=True).\n"
          ]
        }
      ]
    },
    {
      "cell_type": "code",
      "execution_count": null,
      "metadata": {
        "id": "O_V6xJpIDsRr"
      },
      "outputs": [],
      "source": [
        "df = pd.read_csv('/content/drive/MyDrive/BEDU2023F3/Remoto_Datasets/Remoto melbourne_housing-clean.csv', index_col=0)"
      ]
    },
    {
      "cell_type": "code",
      "execution_count": null,
      "metadata": {
        "id": "jRIbWSzVDsRr",
        "outputId": "1cd3f76a-18e9-42ed-b4c0-d287b5d6d7b4",
        "colab": {
          "base_uri": "https://localhost:8080/",
          "height": 391
        }
      },
      "outputs": [
        {
          "output_type": "execute_result",
          "data": {
            "text/plain": [
              "       suburb           address  rooms type      price method seller_g  \\\n",
              "0  Abbotsford      85 Turner St      2    h  1480000.0      S   Biggin   \n",
              "1  Abbotsford   25 Bloomburg St      2    h  1035000.0      S   Biggin   \n",
              "2  Abbotsford      5 Charles St      3    h  1465000.0     SP   Biggin   \n",
              "3  Abbotsford  40 Federation La      3    h   850000.0     PI   Biggin   \n",
              "4  Abbotsford       55a Park St      4    h  1600000.0     VB   Nelson   \n",
              "\n",
              "        date  distance  postcode  bedroom_2  bathroom  car  land_size  \\\n",
              "0  3/12/2016       2.5    3067.0        2.0       1.0  1.0      202.0   \n",
              "1  4/02/2016       2.5    3067.0        2.0       1.0  0.0      156.0   \n",
              "2  4/03/2017       2.5    3067.0        3.0       2.0  0.0      134.0   \n",
              "3  4/03/2017       2.5    3067.0        3.0       2.0  1.0       94.0   \n",
              "4  4/06/2016       2.5    3067.0        3.0       1.0  2.0      120.0   \n",
              "\n",
              "  council_area  latitude  longitude            region_name  property_count  \n",
              "0        Yarra  -37.7996   144.9984  Northern Metropolitan          4019.0  \n",
              "1        Yarra  -37.8079   144.9934  Northern Metropolitan          4019.0  \n",
              "2        Yarra  -37.8093   144.9944  Northern Metropolitan          4019.0  \n",
              "3        Yarra  -37.7969   144.9969  Northern Metropolitan          4019.0  \n",
              "4        Yarra  -37.8072   144.9941  Northern Metropolitan          4019.0  "
            ],
            "text/html": [
              "\n",
              "  <div id=\"df-a3420556-b394-4d78-ae48-903fe7c42ce2\">\n",
              "    <div class=\"colab-df-container\">\n",
              "      <div>\n",
              "<style scoped>\n",
              "    .dataframe tbody tr th:only-of-type {\n",
              "        vertical-align: middle;\n",
              "    }\n",
              "\n",
              "    .dataframe tbody tr th {\n",
              "        vertical-align: top;\n",
              "    }\n",
              "\n",
              "    .dataframe thead th {\n",
              "        text-align: right;\n",
              "    }\n",
              "</style>\n",
              "<table border=\"1\" class=\"dataframe\">\n",
              "  <thead>\n",
              "    <tr style=\"text-align: right;\">\n",
              "      <th></th>\n",
              "      <th>suburb</th>\n",
              "      <th>address</th>\n",
              "      <th>rooms</th>\n",
              "      <th>type</th>\n",
              "      <th>price</th>\n",
              "      <th>method</th>\n",
              "      <th>seller_g</th>\n",
              "      <th>date</th>\n",
              "      <th>distance</th>\n",
              "      <th>postcode</th>\n",
              "      <th>bedroom_2</th>\n",
              "      <th>bathroom</th>\n",
              "      <th>car</th>\n",
              "      <th>land_size</th>\n",
              "      <th>council_area</th>\n",
              "      <th>latitude</th>\n",
              "      <th>longitude</th>\n",
              "      <th>region_name</th>\n",
              "      <th>property_count</th>\n",
              "    </tr>\n",
              "  </thead>\n",
              "  <tbody>\n",
              "    <tr>\n",
              "      <th>0</th>\n",
              "      <td>Abbotsford</td>\n",
              "      <td>85 Turner St</td>\n",
              "      <td>2</td>\n",
              "      <td>h</td>\n",
              "      <td>1480000.0</td>\n",
              "      <td>S</td>\n",
              "      <td>Biggin</td>\n",
              "      <td>3/12/2016</td>\n",
              "      <td>2.5</td>\n",
              "      <td>3067.0</td>\n",
              "      <td>2.0</td>\n",
              "      <td>1.0</td>\n",
              "      <td>1.0</td>\n",
              "      <td>202.0</td>\n",
              "      <td>Yarra</td>\n",
              "      <td>-37.7996</td>\n",
              "      <td>144.9984</td>\n",
              "      <td>Northern Metropolitan</td>\n",
              "      <td>4019.0</td>\n",
              "    </tr>\n",
              "    <tr>\n",
              "      <th>1</th>\n",
              "      <td>Abbotsford</td>\n",
              "      <td>25 Bloomburg St</td>\n",
              "      <td>2</td>\n",
              "      <td>h</td>\n",
              "      <td>1035000.0</td>\n",
              "      <td>S</td>\n",
              "      <td>Biggin</td>\n",
              "      <td>4/02/2016</td>\n",
              "      <td>2.5</td>\n",
              "      <td>3067.0</td>\n",
              "      <td>2.0</td>\n",
              "      <td>1.0</td>\n",
              "      <td>0.0</td>\n",
              "      <td>156.0</td>\n",
              "      <td>Yarra</td>\n",
              "      <td>-37.8079</td>\n",
              "      <td>144.9934</td>\n",
              "      <td>Northern Metropolitan</td>\n",
              "      <td>4019.0</td>\n",
              "    </tr>\n",
              "    <tr>\n",
              "      <th>2</th>\n",
              "      <td>Abbotsford</td>\n",
              "      <td>5 Charles St</td>\n",
              "      <td>3</td>\n",
              "      <td>h</td>\n",
              "      <td>1465000.0</td>\n",
              "      <td>SP</td>\n",
              "      <td>Biggin</td>\n",
              "      <td>4/03/2017</td>\n",
              "      <td>2.5</td>\n",
              "      <td>3067.0</td>\n",
              "      <td>3.0</td>\n",
              "      <td>2.0</td>\n",
              "      <td>0.0</td>\n",
              "      <td>134.0</td>\n",
              "      <td>Yarra</td>\n",
              "      <td>-37.8093</td>\n",
              "      <td>144.9944</td>\n",
              "      <td>Northern Metropolitan</td>\n",
              "      <td>4019.0</td>\n",
              "    </tr>\n",
              "    <tr>\n",
              "      <th>3</th>\n",
              "      <td>Abbotsford</td>\n",
              "      <td>40 Federation La</td>\n",
              "      <td>3</td>\n",
              "      <td>h</td>\n",
              "      <td>850000.0</td>\n",
              "      <td>PI</td>\n",
              "      <td>Biggin</td>\n",
              "      <td>4/03/2017</td>\n",
              "      <td>2.5</td>\n",
              "      <td>3067.0</td>\n",
              "      <td>3.0</td>\n",
              "      <td>2.0</td>\n",
              "      <td>1.0</td>\n",
              "      <td>94.0</td>\n",
              "      <td>Yarra</td>\n",
              "      <td>-37.7969</td>\n",
              "      <td>144.9969</td>\n",
              "      <td>Northern Metropolitan</td>\n",
              "      <td>4019.0</td>\n",
              "    </tr>\n",
              "    <tr>\n",
              "      <th>4</th>\n",
              "      <td>Abbotsford</td>\n",
              "      <td>55a Park St</td>\n",
              "      <td>4</td>\n",
              "      <td>h</td>\n",
              "      <td>1600000.0</td>\n",
              "      <td>VB</td>\n",
              "      <td>Nelson</td>\n",
              "      <td>4/06/2016</td>\n",
              "      <td>2.5</td>\n",
              "      <td>3067.0</td>\n",
              "      <td>3.0</td>\n",
              "      <td>1.0</td>\n",
              "      <td>2.0</td>\n",
              "      <td>120.0</td>\n",
              "      <td>Yarra</td>\n",
              "      <td>-37.8072</td>\n",
              "      <td>144.9941</td>\n",
              "      <td>Northern Metropolitan</td>\n",
              "      <td>4019.0</td>\n",
              "    </tr>\n",
              "  </tbody>\n",
              "</table>\n",
              "</div>\n",
              "      <button class=\"colab-df-convert\" onclick=\"convertToInteractive('df-a3420556-b394-4d78-ae48-903fe7c42ce2')\"\n",
              "              title=\"Convert this dataframe to an interactive table.\"\n",
              "              style=\"display:none;\">\n",
              "        \n",
              "  <svg xmlns=\"http://www.w3.org/2000/svg\" height=\"24px\"viewBox=\"0 0 24 24\"\n",
              "       width=\"24px\">\n",
              "    <path d=\"M0 0h24v24H0V0z\" fill=\"none\"/>\n",
              "    <path d=\"M18.56 5.44l.94 2.06.94-2.06 2.06-.94-2.06-.94-.94-2.06-.94 2.06-2.06.94zm-11 1L8.5 8.5l.94-2.06 2.06-.94-2.06-.94L8.5 2.5l-.94 2.06-2.06.94zm10 10l.94 2.06.94-2.06 2.06-.94-2.06-.94-.94-2.06-.94 2.06-2.06.94z\"/><path d=\"M17.41 7.96l-1.37-1.37c-.4-.4-.92-.59-1.43-.59-.52 0-1.04.2-1.43.59L10.3 9.45l-7.72 7.72c-.78.78-.78 2.05 0 2.83L4 21.41c.39.39.9.59 1.41.59.51 0 1.02-.2 1.41-.59l7.78-7.78 2.81-2.81c.8-.78.8-2.07 0-2.86zM5.41 20L4 18.59l7.72-7.72 1.47 1.35L5.41 20z\"/>\n",
              "  </svg>\n",
              "      </button>\n",
              "      \n",
              "  <style>\n",
              "    .colab-df-container {\n",
              "      display:flex;\n",
              "      flex-wrap:wrap;\n",
              "      gap: 12px;\n",
              "    }\n",
              "\n",
              "    .colab-df-convert {\n",
              "      background-color: #E8F0FE;\n",
              "      border: none;\n",
              "      border-radius: 50%;\n",
              "      cursor: pointer;\n",
              "      display: none;\n",
              "      fill: #1967D2;\n",
              "      height: 32px;\n",
              "      padding: 0 0 0 0;\n",
              "      width: 32px;\n",
              "    }\n",
              "\n",
              "    .colab-df-convert:hover {\n",
              "      background-color: #E2EBFA;\n",
              "      box-shadow: 0px 1px 2px rgba(60, 64, 67, 0.3), 0px 1px 3px 1px rgba(60, 64, 67, 0.15);\n",
              "      fill: #174EA6;\n",
              "    }\n",
              "\n",
              "    [theme=dark] .colab-df-convert {\n",
              "      background-color: #3B4455;\n",
              "      fill: #D2E3FC;\n",
              "    }\n",
              "\n",
              "    [theme=dark] .colab-df-convert:hover {\n",
              "      background-color: #434B5C;\n",
              "      box-shadow: 0px 1px 3px 1px rgba(0, 0, 0, 0.15);\n",
              "      filter: drop-shadow(0px 1px 2px rgba(0, 0, 0, 0.3));\n",
              "      fill: #FFFFFF;\n",
              "    }\n",
              "  </style>\n",
              "\n",
              "      <script>\n",
              "        const buttonEl =\n",
              "          document.querySelector('#df-a3420556-b394-4d78-ae48-903fe7c42ce2 button.colab-df-convert');\n",
              "        buttonEl.style.display =\n",
              "          google.colab.kernel.accessAllowed ? 'block' : 'none';\n",
              "\n",
              "        async function convertToInteractive(key) {\n",
              "          const element = document.querySelector('#df-a3420556-b394-4d78-ae48-903fe7c42ce2');\n",
              "          const dataTable =\n",
              "            await google.colab.kernel.invokeFunction('convertToInteractive',\n",
              "                                                     [key], {});\n",
              "          if (!dataTable) return;\n",
              "\n",
              "          const docLinkHtml = 'Like what you see? Visit the ' +\n",
              "            '<a target=\"_blank\" href=https://colab.research.google.com/notebooks/data_table.ipynb>data table notebook</a>'\n",
              "            + ' to learn more about interactive tables.';\n",
              "          element.innerHTML = '';\n",
              "          dataTable['output_type'] = 'display_data';\n",
              "          await google.colab.output.renderOutput(dataTable, element);\n",
              "          const docLink = document.createElement('div');\n",
              "          docLink.innerHTML = docLinkHtml;\n",
              "          element.appendChild(docLink);\n",
              "        }\n",
              "      </script>\n",
              "    </div>\n",
              "  </div>\n",
              "  "
            ]
          },
          "metadata": {},
          "execution_count": 3
        }
      ],
      "source": [
        "df.head()"
      ]
    },
    {
      "cell_type": "markdown",
      "metadata": {
        "id": "X7YDb_zMDsRr"
      },
      "source": [
        "### La media o promedio\n",
        "\n",
        "La media o promedio se obtiene sumando todos los valores de un conjunto de datos numéricos y dividiéndolos entre la cantidad de valores que tenemos en nuestro conjunto.\n",
        "\n",
        "Vamos a analizar la columna `price`. Veamos cuál es el \"valor típico\" obtenido usando la media (promedio):"
      ]
    },
    {
      "cell_type": "code",
      "execution_count": null,
      "metadata": {
        "id": "qkxpEqX2DsRs",
        "outputId": "c5768604-da91-4db3-daad-bc14ce6d5ac8",
        "colab": {
          "base_uri": "https://localhost:8080/"
        }
      },
      "outputs": [
        {
          "output_type": "execute_result",
          "data": {
            "text/plain": [
              "1068141.895071269"
            ]
          },
          "metadata": {},
          "execution_count": 6
        }
      ],
      "source": [
        "df['price'].mean()"
      ]
    },
    {
      "cell_type": "markdown",
      "metadata": {
        "id": "XXImlYIBDsRs"
      },
      "source": [
        "### La mediana\n",
        "\n",
        "La mediana se obtiene de la siguiente manera:\n",
        "\n",
        "1. Primero ordenamos de manera ascendente nuestros datos\n",
        "2. Luego tomamos el valor que está justo en medio de nuestra secuencia ordenada de valores.\n",
        "3. Si nuestro conjunto tiene un número par de valores y por lo tanto no tiene un valor justo a la mitad de la secuencia, se toma el promedio de los dos valores que se encuentran a la mitad de la secuencia.\n",
        "\n",
        "Ahora veamos el \"valor típico\" obtenido usando la mediana:"
      ]
    },
    {
      "cell_type": "code",
      "execution_count": null,
      "metadata": {
        "id": "IGeCrcpSDsRs",
        "outputId": "3e510de7-e169-4cfe-c2d0-0c66d32684ed",
        "colab": {
          "base_uri": "https://localhost:8080/"
        }
      },
      "outputs": [
        {
          "output_type": "execute_result",
          "data": {
            "text/plain": [
              "895500.0"
            ]
          },
          "metadata": {},
          "execution_count": 7
        }
      ],
      "source": [
        "df['price'].median()"
      ]
    },
    {
      "cell_type": "markdown",
      "metadata": {
        "id": "CNEC5V8jDsRs"
      },
      "source": [
        "Hemos obtenido valores distintos. Más adelante vamos a aprender qué significa esto y cómo podemos determinar si esta diferencia es relevante o no."
      ]
    },
    {
      "cell_type": "markdown",
      "source": [
        "***"
      ],
      "metadata": {
        "id": "1oAfnxKJD0dm"
      }
    },
    {
      "cell_type": "markdown",
      "metadata": {
        "id": "zvWEoWtWEDdw"
      },
      "source": [
        "## Reto 2: Estimados de locación\n",
        "\n",
        "### 1. Objetivos:\n",
        "    - Practicar el uso de estimados de locación\n",
        " \n",
        "---\n",
        "    \n",
        "### 2. Desarrollo:"
      ]
    },
    {
      "cell_type": "markdown",
      "metadata": {
        "id": "99RVojw8EDdx"
      },
      "source": [
        "#### a) Estimados de locación de diámetros de meteoritos\n",
        "\n",
        "Vamos a utilizar los métodos de pandas para obtener estimados de locación de un conjunto de datos que contiene información acerca de objetos que orbitaron cerca de la Tierra durante el periodo de enero y febrero de 1995.\n",
        "\n",
        "El dataset se llama 'near_earth_objects-jan_feb_1995-clean.csv' y la columna que vamos a analizar se llama 'estimated_diameter.meters.estimated_diameter_max'. Esta columna contiene el diámetro máximo estimado de cada objeto.\n",
        "\n",
        "El reto es el siguiente:\n",
        "\n",
        "1. Lee el dataset usando `pandas`.\n",
        "2. Obtén el promedio y la mediana usando las funciones de pandas y asígnalas a `promedio_diametro` y `mediana_diametro`.\n",
        "3. Corre la celda que contiene el código para verificar tus resultados.\n",
        "4. Responde la pregunta que te regresa la función de verificación."
      ]
    },
    {
      "cell_type": "code",
      "execution_count": null,
      "metadata": {
        "id": "Xl_1KGE6EDdy",
        "colab": {
          "base_uri": "https://localhost:8080/"
        },
        "outputId": "c0939578-4aea-442e-902e-26eef002584c"
      },
      "outputs": [
        {
          "output_type": "stream",
          "name": "stdout",
          "text": [
            "<class 'pandas.core.frame.DataFrame'>\n",
            "Int64Index: 333 entries, 0 to 332\n",
            "Data columns (total 10 columns):\n",
            " #   Column                                            Non-Null Count  Dtype  \n",
            "---  ------                                            --------------  -----  \n",
            " 0   id                                                333 non-null    int64  \n",
            " 1   name                                              333 non-null    object \n",
            " 2   is_potentially_hazardous_asteroid                 333 non-null    bool   \n",
            " 3   estimated_diameter.meters.estimated_diameter_min  333 non-null    float64\n",
            " 4   estimated_diameter.meters.estimated_diameter_max  333 non-null    float64\n",
            " 5   close_approach_date                               333 non-null    object \n",
            " 6   epoch_date_close_approach                         333 non-null    int64  \n",
            " 7   orbiting_body                                     333 non-null    object \n",
            " 8   relative_velocity.kilometers_per_second           333 non-null    float64\n",
            " 9   relative_velocity.kilometers_per_hour             333 non-null    float64\n",
            "dtypes: bool(1), float64(4), int64(2), object(3)\n",
            "memory usage: 26.3+ KB\n"
          ]
        }
      ],
      "source": [
        "# Lee el dataset y asígnalo a esta variable\n",
        "\n",
        "df_meteoritos = pd.read_csv('/content/drive/MyDrive/BEDU2023F3/Remoto_Datasets/Remoto near_earth_objects-jan_feb_1995-clean.csv', index_col=0)\n",
        "df_meteoritos.info()"
      ]
    },
    {
      "cell_type": "code",
      "execution_count": null,
      "metadata": {
        "id": "yJC7hEGxEDdy",
        "colab": {
          "base_uri": "https://localhost:8080/"
        },
        "outputId": "7c725884-0d26-45e6-9bd1-0f1fbb98b62f"
      },
      "outputs": [
        {
          "output_type": "execute_result",
          "data": {
            "text/plain": [
              "410.08604223976545"
            ]
          },
          "metadata": {},
          "execution_count": 41
        }
      ],
      "source": [
        "promedio_diametro = df_meteoritos['estimated_diameter.meters.estimated_diameter_max'].sum() / df_meteoritos['estimated_diameter.meters.estimated_diameter_max'].count()\n",
        "promedio_diametro"
      ]
    },
    {
      "cell_type": "code",
      "execution_count": null,
      "metadata": {
        "id": "af82FKjWEDdz",
        "colab": {
          "base_uri": "https://localhost:8080/"
        },
        "outputId": "8e9ac75c-2756-4671-991d-47b91e94c493"
      },
      "outputs": [
        {
          "output_type": "execute_result",
          "data": {
            "text/plain": [
              "215.7943048444"
            ]
          },
          "metadata": {},
          "execution_count": 49
        }
      ],
      "source": [
        "def mediana(data):\n",
        "    import numpy as np\n",
        "\n",
        "    data_ordenada = data.sort_values(ascending=True)\n",
        "    n = data.count()\n",
        "\n",
        "    if n % 2 == 0:\n",
        "        abajo =int(n / 2)\n",
        "        arriba = int(abajo + 1)\n",
        "        return (data_ordenada.iloc[abajo] + data_ordenada.iloc[arriba]) / 2\n",
        "    else:\n",
        "        index = int(np.ceil(n / 2))\n",
        "        return data_ordenada.iloc[index]\n",
        "\n",
        "mediana(df_meteoritos['estimated_diameter.meters.estimated_diameter_max'])"
      ]
    },
    {
      "cell_type": "code",
      "execution_count": null,
      "metadata": {
        "id": "yLycMMebEDdz",
        "colab": {
          "base_uri": "https://localhost:8080/"
        },
        "outputId": "6fbdf7ff-141d-4e11-c53b-31096d1934a7"
      },
      "outputs": [
        {
          "output_type": "stream",
          "name": "stdout",
          "text": [
            "Los estimados fueron calcualados correctamente.\n",
            "\n",
            "El promedio calculado fue de 410.08604223976545 mientras que la mediana fue de 215.7943048444.\n",
            "¿A qué le atribuyes tú la diferencia?\n"
          ]
        }
      ],
      "source": [
        "# Pídele al experto la función `verificar_resultados` para que puedas correr la siguiente verificación\n",
        "\n",
        "def verificar_resultados(df_meteoritos, promedio_diametro, mediana_diametro):\n",
        "    promedio = df_meteoritos['estimated_diameter.meters.estimated_diameter_max'].mean()\n",
        "    if promedio_diametro != promedio:\n",
        "        print(f'El promedio no fue calculado correctamente.')\n",
        "        print(f'Promedio esperado: {promedio}; Promedio recibido: {promedio_diametro}')\n",
        "        return\n",
        "        \n",
        "\n",
        "    mediana = df_meteoritos['estimated_diameter.meters.estimated_diameter_max'].median()\n",
        "    if mediana_diametro != mediana:\n",
        "        print(f'La mediana no fue calculada correctamente.')\n",
        "        print(f'Mediana esperada: {mediana}; Mediana recibida: {mediana_diametro}')\n",
        "        return\n",
        "        \n",
        "    print(f'Los estimados fueron calcualados correctamente.\\n')\n",
        "    print(f'El promedio calculado fue de {promedio_diametro} mientras que la mediana fue de {mediana_diametro}.')\n",
        "    print(f'¿A qué le atribuyes tú la diferencia?')\n",
        "\n",
        "verificar_resultados(df_meteoritos, promedio_diametro, mediana_diametro)"
      ]
    },
    {
      "cell_type": "markdown",
      "source": [
        "---\n",
        "---"
      ],
      "metadata": {
        "id": "C81xEpu3Eb1e"
      }
    },
    {
      "cell_type": "markdown",
      "source": [
        "**Valores atípicos**\n",
        "\n",
        "Hemos aprendido a conseguir \"valores típicos\" se sirven para describir un conjunto de datos. Así como existen valores que se parecen a la norma, hay también valores que difieren mucho de la norma. Estos valores suelen sobresalir de nuestro conjunto de datos porque se encuentran a mucha distancia del grueso de las muestras.\n",
        "\n",
        "Estos valores son los \"valores atípicos\". Hay veces en las que tener valores atípicos no nos preocupa, pero otras veces pueden ser peligrosos porque modifican nuestros estimados de locación, dándonos descripciones erróneas de nuestro conjunto de datos.\n",
        "\n",
        "Más adelante aprenderemos a detectar valores atípicos, pero por lo pronto vamos a aprender un estimado de locación que es más robusto (menos sensible a valores atípicos) que el promedio y la mediana: la media truncada."
      ],
      "metadata": {
        "id": "D1689MdSE9s3"
      }
    },
    {
      "cell_type": "markdown",
      "metadata": {
        "id": "CJxSZh9VFTqX"
      },
      "source": [
        "## Ejemplo 2: Media Truncada\n",
        "\n",
        "### 1. Objetivos:\n",
        "    - Aprender a estimar la media truncada usando scipy.\n",
        " \n",
        "---\n",
        "    \n",
        "### 2. Desarrollo:"
      ]
    },
    {
      "cell_type": "markdown",
      "metadata": {
        "id": "8iUWnFlmFTqZ"
      },
      "source": [
        "La media truncada es un estimado de locación más *robusto* que el promedio y la mediana. Esto significa que es menos sensible a valores atípicos. La media truncada se obtiene de la siguiente manera:\n",
        "\n",
        "1. Primero ordenamos nuestro conjunto de manera ascendente.\n",
        "2. Después decidimos qué porcentaje de nuestros datos vamos a truncar. Los valores más comunes suelen variar entre 5% y 25%.\n",
        "3. Divide el porcentaje acordado entre dos y elimina esa fracción de tus datos del inicio y del final de tu secuencia. Por ejemplo, si decides truncar un 5%, elimina el 2.5% de tus datos del inicio de tu secuencia y el otro 2.5% del final de tu secuencia.\n",
        "4. Obtén el promedio de los valores restantes.\n",
        "\n",
        "Afortunadamente, no tenemos que hacer esto manualmente. La librería `scipy` ya ofrece un método para obtener la media truncada fácilmente:"
      ]
    },
    {
      "cell_type": "code",
      "execution_count": null,
      "metadata": {
        "id": "TRn8hoD8FTqa"
      },
      "outputs": [],
      "source": [
        "from scipy import stats\n",
        "import pandas as pd"
      ]
    },
    {
      "cell_type": "code",
      "execution_count": null,
      "metadata": {
        "id": "eDBuR-Q5FTqa"
      },
      "outputs": [],
      "source": [
        "df = pd.read_csv('/content/drive/MyDrive/BEDU2023F3/Remoto_Datasets/Remoto melbourne_housing-clean.csv', index_col=0)"
      ]
    },
    {
      "cell_type": "code",
      "execution_count": null,
      "metadata": {
        "id": "fDvY1BG-FTqb",
        "outputId": "572aaa8f-71bd-45ae-ea49-934e8edf8ab8",
        "colab": {
          "base_uri": "https://localhost:8080/",
          "height": 391
        }
      },
      "outputs": [
        {
          "output_type": "execute_result",
          "data": {
            "text/plain": [
              "       suburb           address  rooms type      price method seller_g  \\\n",
              "0  Abbotsford      85 Turner St      2    h  1480000.0      S   Biggin   \n",
              "1  Abbotsford   25 Bloomburg St      2    h  1035000.0      S   Biggin   \n",
              "2  Abbotsford      5 Charles St      3    h  1465000.0     SP   Biggin   \n",
              "3  Abbotsford  40 Federation La      3    h   850000.0     PI   Biggin   \n",
              "4  Abbotsford       55a Park St      4    h  1600000.0     VB   Nelson   \n",
              "\n",
              "        date  distance  postcode  bedroom_2  bathroom  car  land_size  \\\n",
              "0  3/12/2016       2.5    3067.0        2.0       1.0  1.0      202.0   \n",
              "1  4/02/2016       2.5    3067.0        2.0       1.0  0.0      156.0   \n",
              "2  4/03/2017       2.5    3067.0        3.0       2.0  0.0      134.0   \n",
              "3  4/03/2017       2.5    3067.0        3.0       2.0  1.0       94.0   \n",
              "4  4/06/2016       2.5    3067.0        3.0       1.0  2.0      120.0   \n",
              "\n",
              "  council_area  latitude  longitude            region_name  property_count  \n",
              "0        Yarra  -37.7996   144.9984  Northern Metropolitan          4019.0  \n",
              "1        Yarra  -37.8079   144.9934  Northern Metropolitan          4019.0  \n",
              "2        Yarra  -37.8093   144.9944  Northern Metropolitan          4019.0  \n",
              "3        Yarra  -37.7969   144.9969  Northern Metropolitan          4019.0  \n",
              "4        Yarra  -37.8072   144.9941  Northern Metropolitan          4019.0  "
            ],
            "text/html": [
              "\n",
              "  <div id=\"df-8a5336d1-18c9-4354-ba97-32a2f359ad35\">\n",
              "    <div class=\"colab-df-container\">\n",
              "      <div>\n",
              "<style scoped>\n",
              "    .dataframe tbody tr th:only-of-type {\n",
              "        vertical-align: middle;\n",
              "    }\n",
              "\n",
              "    .dataframe tbody tr th {\n",
              "        vertical-align: top;\n",
              "    }\n",
              "\n",
              "    .dataframe thead th {\n",
              "        text-align: right;\n",
              "    }\n",
              "</style>\n",
              "<table border=\"1\" class=\"dataframe\">\n",
              "  <thead>\n",
              "    <tr style=\"text-align: right;\">\n",
              "      <th></th>\n",
              "      <th>suburb</th>\n",
              "      <th>address</th>\n",
              "      <th>rooms</th>\n",
              "      <th>type</th>\n",
              "      <th>price</th>\n",
              "      <th>method</th>\n",
              "      <th>seller_g</th>\n",
              "      <th>date</th>\n",
              "      <th>distance</th>\n",
              "      <th>postcode</th>\n",
              "      <th>bedroom_2</th>\n",
              "      <th>bathroom</th>\n",
              "      <th>car</th>\n",
              "      <th>land_size</th>\n",
              "      <th>council_area</th>\n",
              "      <th>latitude</th>\n",
              "      <th>longitude</th>\n",
              "      <th>region_name</th>\n",
              "      <th>property_count</th>\n",
              "    </tr>\n",
              "  </thead>\n",
              "  <tbody>\n",
              "    <tr>\n",
              "      <th>0</th>\n",
              "      <td>Abbotsford</td>\n",
              "      <td>85 Turner St</td>\n",
              "      <td>2</td>\n",
              "      <td>h</td>\n",
              "      <td>1480000.0</td>\n",
              "      <td>S</td>\n",
              "      <td>Biggin</td>\n",
              "      <td>3/12/2016</td>\n",
              "      <td>2.5</td>\n",
              "      <td>3067.0</td>\n",
              "      <td>2.0</td>\n",
              "      <td>1.0</td>\n",
              "      <td>1.0</td>\n",
              "      <td>202.0</td>\n",
              "      <td>Yarra</td>\n",
              "      <td>-37.7996</td>\n",
              "      <td>144.9984</td>\n",
              "      <td>Northern Metropolitan</td>\n",
              "      <td>4019.0</td>\n",
              "    </tr>\n",
              "    <tr>\n",
              "      <th>1</th>\n",
              "      <td>Abbotsford</td>\n",
              "      <td>25 Bloomburg St</td>\n",
              "      <td>2</td>\n",
              "      <td>h</td>\n",
              "      <td>1035000.0</td>\n",
              "      <td>S</td>\n",
              "      <td>Biggin</td>\n",
              "      <td>4/02/2016</td>\n",
              "      <td>2.5</td>\n",
              "      <td>3067.0</td>\n",
              "      <td>2.0</td>\n",
              "      <td>1.0</td>\n",
              "      <td>0.0</td>\n",
              "      <td>156.0</td>\n",
              "      <td>Yarra</td>\n",
              "      <td>-37.8079</td>\n",
              "      <td>144.9934</td>\n",
              "      <td>Northern Metropolitan</td>\n",
              "      <td>4019.0</td>\n",
              "    </tr>\n",
              "    <tr>\n",
              "      <th>2</th>\n",
              "      <td>Abbotsford</td>\n",
              "      <td>5 Charles St</td>\n",
              "      <td>3</td>\n",
              "      <td>h</td>\n",
              "      <td>1465000.0</td>\n",
              "      <td>SP</td>\n",
              "      <td>Biggin</td>\n",
              "      <td>4/03/2017</td>\n",
              "      <td>2.5</td>\n",
              "      <td>3067.0</td>\n",
              "      <td>3.0</td>\n",
              "      <td>2.0</td>\n",
              "      <td>0.0</td>\n",
              "      <td>134.0</td>\n",
              "      <td>Yarra</td>\n",
              "      <td>-37.8093</td>\n",
              "      <td>144.9944</td>\n",
              "      <td>Northern Metropolitan</td>\n",
              "      <td>4019.0</td>\n",
              "    </tr>\n",
              "    <tr>\n",
              "      <th>3</th>\n",
              "      <td>Abbotsford</td>\n",
              "      <td>40 Federation La</td>\n",
              "      <td>3</td>\n",
              "      <td>h</td>\n",
              "      <td>850000.0</td>\n",
              "      <td>PI</td>\n",
              "      <td>Biggin</td>\n",
              "      <td>4/03/2017</td>\n",
              "      <td>2.5</td>\n",
              "      <td>3067.0</td>\n",
              "      <td>3.0</td>\n",
              "      <td>2.0</td>\n",
              "      <td>1.0</td>\n",
              "      <td>94.0</td>\n",
              "      <td>Yarra</td>\n",
              "      <td>-37.7969</td>\n",
              "      <td>144.9969</td>\n",
              "      <td>Northern Metropolitan</td>\n",
              "      <td>4019.0</td>\n",
              "    </tr>\n",
              "    <tr>\n",
              "      <th>4</th>\n",
              "      <td>Abbotsford</td>\n",
              "      <td>55a Park St</td>\n",
              "      <td>4</td>\n",
              "      <td>h</td>\n",
              "      <td>1600000.0</td>\n",
              "      <td>VB</td>\n",
              "      <td>Nelson</td>\n",
              "      <td>4/06/2016</td>\n",
              "      <td>2.5</td>\n",
              "      <td>3067.0</td>\n",
              "      <td>3.0</td>\n",
              "      <td>1.0</td>\n",
              "      <td>2.0</td>\n",
              "      <td>120.0</td>\n",
              "      <td>Yarra</td>\n",
              "      <td>-37.8072</td>\n",
              "      <td>144.9941</td>\n",
              "      <td>Northern Metropolitan</td>\n",
              "      <td>4019.0</td>\n",
              "    </tr>\n",
              "  </tbody>\n",
              "</table>\n",
              "</div>\n",
              "      <button class=\"colab-df-convert\" onclick=\"convertToInteractive('df-8a5336d1-18c9-4354-ba97-32a2f359ad35')\"\n",
              "              title=\"Convert this dataframe to an interactive table.\"\n",
              "              style=\"display:none;\">\n",
              "        \n",
              "  <svg xmlns=\"http://www.w3.org/2000/svg\" height=\"24px\"viewBox=\"0 0 24 24\"\n",
              "       width=\"24px\">\n",
              "    <path d=\"M0 0h24v24H0V0z\" fill=\"none\"/>\n",
              "    <path d=\"M18.56 5.44l.94 2.06.94-2.06 2.06-.94-2.06-.94-.94-2.06-.94 2.06-2.06.94zm-11 1L8.5 8.5l.94-2.06 2.06-.94-2.06-.94L8.5 2.5l-.94 2.06-2.06.94zm10 10l.94 2.06.94-2.06 2.06-.94-2.06-.94-.94-2.06-.94 2.06-2.06.94z\"/><path d=\"M17.41 7.96l-1.37-1.37c-.4-.4-.92-.59-1.43-.59-.52 0-1.04.2-1.43.59L10.3 9.45l-7.72 7.72c-.78.78-.78 2.05 0 2.83L4 21.41c.39.39.9.59 1.41.59.51 0 1.02-.2 1.41-.59l7.78-7.78 2.81-2.81c.8-.78.8-2.07 0-2.86zM5.41 20L4 18.59l7.72-7.72 1.47 1.35L5.41 20z\"/>\n",
              "  </svg>\n",
              "      </button>\n",
              "      \n",
              "  <style>\n",
              "    .colab-df-container {\n",
              "      display:flex;\n",
              "      flex-wrap:wrap;\n",
              "      gap: 12px;\n",
              "    }\n",
              "\n",
              "    .colab-df-convert {\n",
              "      background-color: #E8F0FE;\n",
              "      border: none;\n",
              "      border-radius: 50%;\n",
              "      cursor: pointer;\n",
              "      display: none;\n",
              "      fill: #1967D2;\n",
              "      height: 32px;\n",
              "      padding: 0 0 0 0;\n",
              "      width: 32px;\n",
              "    }\n",
              "\n",
              "    .colab-df-convert:hover {\n",
              "      background-color: #E2EBFA;\n",
              "      box-shadow: 0px 1px 2px rgba(60, 64, 67, 0.3), 0px 1px 3px 1px rgba(60, 64, 67, 0.15);\n",
              "      fill: #174EA6;\n",
              "    }\n",
              "\n",
              "    [theme=dark] .colab-df-convert {\n",
              "      background-color: #3B4455;\n",
              "      fill: #D2E3FC;\n",
              "    }\n",
              "\n",
              "    [theme=dark] .colab-df-convert:hover {\n",
              "      background-color: #434B5C;\n",
              "      box-shadow: 0px 1px 3px 1px rgba(0, 0, 0, 0.15);\n",
              "      filter: drop-shadow(0px 1px 2px rgba(0, 0, 0, 0.3));\n",
              "      fill: #FFFFFF;\n",
              "    }\n",
              "  </style>\n",
              "\n",
              "      <script>\n",
              "        const buttonEl =\n",
              "          document.querySelector('#df-8a5336d1-18c9-4354-ba97-32a2f359ad35 button.colab-df-convert');\n",
              "        buttonEl.style.display =\n",
              "          google.colab.kernel.accessAllowed ? 'block' : 'none';\n",
              "\n",
              "        async function convertToInteractive(key) {\n",
              "          const element = document.querySelector('#df-8a5336d1-18c9-4354-ba97-32a2f359ad35');\n",
              "          const dataTable =\n",
              "            await google.colab.kernel.invokeFunction('convertToInteractive',\n",
              "                                                     [key], {});\n",
              "          if (!dataTable) return;\n",
              "\n",
              "          const docLinkHtml = 'Like what you see? Visit the ' +\n",
              "            '<a target=\"_blank\" href=https://colab.research.google.com/notebooks/data_table.ipynb>data table notebook</a>'\n",
              "            + ' to learn more about interactive tables.';\n",
              "          element.innerHTML = '';\n",
              "          dataTable['output_type'] = 'display_data';\n",
              "          await google.colab.output.renderOutput(dataTable, element);\n",
              "          const docLink = document.createElement('div');\n",
              "          docLink.innerHTML = docLinkHtml;\n",
              "          element.appendChild(docLink);\n",
              "        }\n",
              "      </script>\n",
              "    </div>\n",
              "  </div>\n",
              "  "
            ]
          },
          "metadata": {},
          "execution_count": 13
        }
      ],
      "source": [
        "df.head()"
      ]
    },
    {
      "cell_type": "code",
      "execution_count": null,
      "metadata": {
        "id": "GRge3ecPFTqb",
        "outputId": "c4cd6b14-5bad-49ab-872f-af498aaaba4a",
        "colab": {
          "base_uri": "https://localhost:8080/"
        }
      },
      "outputs": [
        {
          "output_type": "execute_result",
          "data": {
            "text/plain": [
              "973653.7960935823"
            ]
          },
          "metadata": {},
          "execution_count": 14
        }
      ],
      "source": [
        "stats.trim_mean(df['price'], 0.1)"
      ]
    },
    {
      "cell_type": "markdown",
      "metadata": {
        "id": "yyhKNqVsFTqb"
      },
      "source": [
        "Si obtenemos el promedio y la mediana podemos observar que la distancia entre la media truncada y la mediana es menor que la distancia entre el promedio y la mediana. Esto podría ser indicador de que tenemos valores atípicos en nuestro conjunto. Ya aprendemos después cómo determinar si esto es cierto o no."
      ]
    },
    {
      "cell_type": "code",
      "execution_count": null,
      "metadata": {
        "id": "u917mBdcFTqb",
        "outputId": "2152f87f-ddfa-47bd-eed2-e6a46bb78f32",
        "colab": {
          "base_uri": "https://localhost:8080/"
        }
      },
      "outputs": [
        {
          "output_type": "execute_result",
          "data": {
            "text/plain": [
              "1068141.895071269"
            ]
          },
          "metadata": {},
          "execution_count": 17
        }
      ],
      "source": [
        "df['price'].mean()"
      ]
    },
    {
      "cell_type": "code",
      "execution_count": null,
      "metadata": {
        "id": "mnNWe2ppFTqc",
        "outputId": "741ef888-eefb-4155-ecf2-a59019204ee2",
        "colab": {
          "base_uri": "https://localhost:8080/"
        }
      },
      "outputs": [
        {
          "output_type": "execute_result",
          "data": {
            "text/plain": [
              "895500.0"
            ]
          },
          "metadata": {},
          "execution_count": 18
        }
      ],
      "source": [
        "df['price'].median()"
      ]
    },
    {
      "cell_type": "markdown",
      "source": [
        "***\n",
        "***"
      ],
      "metadata": {
        "id": "P3WMSbf7F13N"
      }
    },
    {
      "cell_type": "markdown",
      "source": [
        "**Estimados de variabilidad**\n",
        "\n",
        "Los estimados de locación se utilizan para intentar encontrar un \"valor típico\" que describa adecuadamente nuestro conjunto de datos. Los estimados de variabilidad, en cambio, nos sirven para determinar qué tan dispersos están los datos alrededor de nuestro valor típico. Nuestros datos pueden estar en general o muy cerca o muy distantes del valor típico, y los estimados de variabilidad nos ayudan a determinar esto.\n",
        "\n",
        "\n",
        "Uno de los estimados más utilizados es la desviación estándar. Veamos cómo funciona."
      ],
      "metadata": {
        "id": "uw13--mxFbud"
      }
    },
    {
      "cell_type": "markdown",
      "metadata": {
        "id": "tq1kUJH0HVHi"
      },
      "source": [
        "## Ejemplo 3: Desviación estándar\n",
        "\n",
        "### 1. Objetivos:\n",
        "    - Aprender cómo se calcula la desviación estándar\n",
        "    - Aprender a usar `pandas` para calcularla\n",
        " \n",
        "---\n",
        "    \n",
        "### 2. Desarrollo:"
      ]
    },
    {
      "cell_type": "markdown",
      "metadata": {
        "id": "f3wmtxQgHVHk"
      },
      "source": [
        "Para obtener la desviación estándar se llevan a cabo los siguientes pasos:\n",
        "\n",
        "1. Primero se obtiene el promedio de nuestros datos.\n",
        "2. Después sacamos todas las diferencias entre cada valor de nuesrto conjunto y nuestro valor típico.\n",
        "3. Después elevamos todos los resultados al cuadrado.\n",
        "4. Luego se suman todos estos valores.\n",
        "5. Luego se dividen entre la cantidad de valores - 1.\n",
        "6. Finalmente se saca la raíz cuadrada del valor resultante.\n",
        "\n",
        "`pandas` tiene un método con el que podemos calcular la desviación estándar rápidamente:"
      ]
    },
    {
      "cell_type": "code",
      "execution_count": null,
      "metadata": {
        "id": "X1YRllbSHVHk"
      },
      "outputs": [],
      "source": [
        "import pandas as pd"
      ]
    },
    {
      "cell_type": "code",
      "execution_count": null,
      "metadata": {
        "id": "yTrIX5ezHVHl"
      },
      "outputs": [],
      "source": [
        "df = pd.read_csv('/content/drive/MyDrive/BEDU2023F3/Remoto_Datasets/Remoto melbourne_housing-clean.csv', index_col=0)"
      ]
    },
    {
      "cell_type": "code",
      "execution_count": null,
      "metadata": {
        "id": "WcclU0oFHVHl",
        "outputId": "dc44d5b7-1c8e-48c0-ec21-6d2fe0809d62",
        "colab": {
          "base_uri": "https://localhost:8080/",
          "height": 391
        }
      },
      "outputs": [
        {
          "output_type": "execute_result",
          "data": {
            "text/plain": [
              "       suburb           address  rooms type      price method seller_g  \\\n",
              "0  Abbotsford      85 Turner St      2    h  1480000.0      S   Biggin   \n",
              "1  Abbotsford   25 Bloomburg St      2    h  1035000.0      S   Biggin   \n",
              "2  Abbotsford      5 Charles St      3    h  1465000.0     SP   Biggin   \n",
              "3  Abbotsford  40 Federation La      3    h   850000.0     PI   Biggin   \n",
              "4  Abbotsford       55a Park St      4    h  1600000.0     VB   Nelson   \n",
              "\n",
              "        date  distance  postcode  bedroom_2  bathroom  car  land_size  \\\n",
              "0  3/12/2016       2.5    3067.0        2.0       1.0  1.0      202.0   \n",
              "1  4/02/2016       2.5    3067.0        2.0       1.0  0.0      156.0   \n",
              "2  4/03/2017       2.5    3067.0        3.0       2.0  0.0      134.0   \n",
              "3  4/03/2017       2.5    3067.0        3.0       2.0  1.0       94.0   \n",
              "4  4/06/2016       2.5    3067.0        3.0       1.0  2.0      120.0   \n",
              "\n",
              "  council_area  latitude  longitude            region_name  property_count  \n",
              "0        Yarra  -37.7996   144.9984  Northern Metropolitan          4019.0  \n",
              "1        Yarra  -37.8079   144.9934  Northern Metropolitan          4019.0  \n",
              "2        Yarra  -37.8093   144.9944  Northern Metropolitan          4019.0  \n",
              "3        Yarra  -37.7969   144.9969  Northern Metropolitan          4019.0  \n",
              "4        Yarra  -37.8072   144.9941  Northern Metropolitan          4019.0  "
            ],
            "text/html": [
              "\n",
              "  <div id=\"df-cdc95d39-18a8-49a1-b1bb-292667526407\">\n",
              "    <div class=\"colab-df-container\">\n",
              "      <div>\n",
              "<style scoped>\n",
              "    .dataframe tbody tr th:only-of-type {\n",
              "        vertical-align: middle;\n",
              "    }\n",
              "\n",
              "    .dataframe tbody tr th {\n",
              "        vertical-align: top;\n",
              "    }\n",
              "\n",
              "    .dataframe thead th {\n",
              "        text-align: right;\n",
              "    }\n",
              "</style>\n",
              "<table border=\"1\" class=\"dataframe\">\n",
              "  <thead>\n",
              "    <tr style=\"text-align: right;\">\n",
              "      <th></th>\n",
              "      <th>suburb</th>\n",
              "      <th>address</th>\n",
              "      <th>rooms</th>\n",
              "      <th>type</th>\n",
              "      <th>price</th>\n",
              "      <th>method</th>\n",
              "      <th>seller_g</th>\n",
              "      <th>date</th>\n",
              "      <th>distance</th>\n",
              "      <th>postcode</th>\n",
              "      <th>bedroom_2</th>\n",
              "      <th>bathroom</th>\n",
              "      <th>car</th>\n",
              "      <th>land_size</th>\n",
              "      <th>council_area</th>\n",
              "      <th>latitude</th>\n",
              "      <th>longitude</th>\n",
              "      <th>region_name</th>\n",
              "      <th>property_count</th>\n",
              "    </tr>\n",
              "  </thead>\n",
              "  <tbody>\n",
              "    <tr>\n",
              "      <th>0</th>\n",
              "      <td>Abbotsford</td>\n",
              "      <td>85 Turner St</td>\n",
              "      <td>2</td>\n",
              "      <td>h</td>\n",
              "      <td>1480000.0</td>\n",
              "      <td>S</td>\n",
              "      <td>Biggin</td>\n",
              "      <td>3/12/2016</td>\n",
              "      <td>2.5</td>\n",
              "      <td>3067.0</td>\n",
              "      <td>2.0</td>\n",
              "      <td>1.0</td>\n",
              "      <td>1.0</td>\n",
              "      <td>202.0</td>\n",
              "      <td>Yarra</td>\n",
              "      <td>-37.7996</td>\n",
              "      <td>144.9984</td>\n",
              "      <td>Northern Metropolitan</td>\n",
              "      <td>4019.0</td>\n",
              "    </tr>\n",
              "    <tr>\n",
              "      <th>1</th>\n",
              "      <td>Abbotsford</td>\n",
              "      <td>25 Bloomburg St</td>\n",
              "      <td>2</td>\n",
              "      <td>h</td>\n",
              "      <td>1035000.0</td>\n",
              "      <td>S</td>\n",
              "      <td>Biggin</td>\n",
              "      <td>4/02/2016</td>\n",
              "      <td>2.5</td>\n",
              "      <td>3067.0</td>\n",
              "      <td>2.0</td>\n",
              "      <td>1.0</td>\n",
              "      <td>0.0</td>\n",
              "      <td>156.0</td>\n",
              "      <td>Yarra</td>\n",
              "      <td>-37.8079</td>\n",
              "      <td>144.9934</td>\n",
              "      <td>Northern Metropolitan</td>\n",
              "      <td>4019.0</td>\n",
              "    </tr>\n",
              "    <tr>\n",
              "      <th>2</th>\n",
              "      <td>Abbotsford</td>\n",
              "      <td>5 Charles St</td>\n",
              "      <td>3</td>\n",
              "      <td>h</td>\n",
              "      <td>1465000.0</td>\n",
              "      <td>SP</td>\n",
              "      <td>Biggin</td>\n",
              "      <td>4/03/2017</td>\n",
              "      <td>2.5</td>\n",
              "      <td>3067.0</td>\n",
              "      <td>3.0</td>\n",
              "      <td>2.0</td>\n",
              "      <td>0.0</td>\n",
              "      <td>134.0</td>\n",
              "      <td>Yarra</td>\n",
              "      <td>-37.8093</td>\n",
              "      <td>144.9944</td>\n",
              "      <td>Northern Metropolitan</td>\n",
              "      <td>4019.0</td>\n",
              "    </tr>\n",
              "    <tr>\n",
              "      <th>3</th>\n",
              "      <td>Abbotsford</td>\n",
              "      <td>40 Federation La</td>\n",
              "      <td>3</td>\n",
              "      <td>h</td>\n",
              "      <td>850000.0</td>\n",
              "      <td>PI</td>\n",
              "      <td>Biggin</td>\n",
              "      <td>4/03/2017</td>\n",
              "      <td>2.5</td>\n",
              "      <td>3067.0</td>\n",
              "      <td>3.0</td>\n",
              "      <td>2.0</td>\n",
              "      <td>1.0</td>\n",
              "      <td>94.0</td>\n",
              "      <td>Yarra</td>\n",
              "      <td>-37.7969</td>\n",
              "      <td>144.9969</td>\n",
              "      <td>Northern Metropolitan</td>\n",
              "      <td>4019.0</td>\n",
              "    </tr>\n",
              "    <tr>\n",
              "      <th>4</th>\n",
              "      <td>Abbotsford</td>\n",
              "      <td>55a Park St</td>\n",
              "      <td>4</td>\n",
              "      <td>h</td>\n",
              "      <td>1600000.0</td>\n",
              "      <td>VB</td>\n",
              "      <td>Nelson</td>\n",
              "      <td>4/06/2016</td>\n",
              "      <td>2.5</td>\n",
              "      <td>3067.0</td>\n",
              "      <td>3.0</td>\n",
              "      <td>1.0</td>\n",
              "      <td>2.0</td>\n",
              "      <td>120.0</td>\n",
              "      <td>Yarra</td>\n",
              "      <td>-37.8072</td>\n",
              "      <td>144.9941</td>\n",
              "      <td>Northern Metropolitan</td>\n",
              "      <td>4019.0</td>\n",
              "    </tr>\n",
              "  </tbody>\n",
              "</table>\n",
              "</div>\n",
              "      <button class=\"colab-df-convert\" onclick=\"convertToInteractive('df-cdc95d39-18a8-49a1-b1bb-292667526407')\"\n",
              "              title=\"Convert this dataframe to an interactive table.\"\n",
              "              style=\"display:none;\">\n",
              "        \n",
              "  <svg xmlns=\"http://www.w3.org/2000/svg\" height=\"24px\"viewBox=\"0 0 24 24\"\n",
              "       width=\"24px\">\n",
              "    <path d=\"M0 0h24v24H0V0z\" fill=\"none\"/>\n",
              "    <path d=\"M18.56 5.44l.94 2.06.94-2.06 2.06-.94-2.06-.94-.94-2.06-.94 2.06-2.06.94zm-11 1L8.5 8.5l.94-2.06 2.06-.94-2.06-.94L8.5 2.5l-.94 2.06-2.06.94zm10 10l.94 2.06.94-2.06 2.06-.94-2.06-.94-.94-2.06-.94 2.06-2.06.94z\"/><path d=\"M17.41 7.96l-1.37-1.37c-.4-.4-.92-.59-1.43-.59-.52 0-1.04.2-1.43.59L10.3 9.45l-7.72 7.72c-.78.78-.78 2.05 0 2.83L4 21.41c.39.39.9.59 1.41.59.51 0 1.02-.2 1.41-.59l7.78-7.78 2.81-2.81c.8-.78.8-2.07 0-2.86zM5.41 20L4 18.59l7.72-7.72 1.47 1.35L5.41 20z\"/>\n",
              "  </svg>\n",
              "      </button>\n",
              "      \n",
              "  <style>\n",
              "    .colab-df-container {\n",
              "      display:flex;\n",
              "      flex-wrap:wrap;\n",
              "      gap: 12px;\n",
              "    }\n",
              "\n",
              "    .colab-df-convert {\n",
              "      background-color: #E8F0FE;\n",
              "      border: none;\n",
              "      border-radius: 50%;\n",
              "      cursor: pointer;\n",
              "      display: none;\n",
              "      fill: #1967D2;\n",
              "      height: 32px;\n",
              "      padding: 0 0 0 0;\n",
              "      width: 32px;\n",
              "    }\n",
              "\n",
              "    .colab-df-convert:hover {\n",
              "      background-color: #E2EBFA;\n",
              "      box-shadow: 0px 1px 2px rgba(60, 64, 67, 0.3), 0px 1px 3px 1px rgba(60, 64, 67, 0.15);\n",
              "      fill: #174EA6;\n",
              "    }\n",
              "\n",
              "    [theme=dark] .colab-df-convert {\n",
              "      background-color: #3B4455;\n",
              "      fill: #D2E3FC;\n",
              "    }\n",
              "\n",
              "    [theme=dark] .colab-df-convert:hover {\n",
              "      background-color: #434B5C;\n",
              "      box-shadow: 0px 1px 3px 1px rgba(0, 0, 0, 0.15);\n",
              "      filter: drop-shadow(0px 1px 2px rgba(0, 0, 0, 0.3));\n",
              "      fill: #FFFFFF;\n",
              "    }\n",
              "  </style>\n",
              "\n",
              "      <script>\n",
              "        const buttonEl =\n",
              "          document.querySelector('#df-cdc95d39-18a8-49a1-b1bb-292667526407 button.colab-df-convert');\n",
              "        buttonEl.style.display =\n",
              "          google.colab.kernel.accessAllowed ? 'block' : 'none';\n",
              "\n",
              "        async function convertToInteractive(key) {\n",
              "          const element = document.querySelector('#df-cdc95d39-18a8-49a1-b1bb-292667526407');\n",
              "          const dataTable =\n",
              "            await google.colab.kernel.invokeFunction('convertToInteractive',\n",
              "                                                     [key], {});\n",
              "          if (!dataTable) return;\n",
              "\n",
              "          const docLinkHtml = 'Like what you see? Visit the ' +\n",
              "            '<a target=\"_blank\" href=https://colab.research.google.com/notebooks/data_table.ipynb>data table notebook</a>'\n",
              "            + ' to learn more about interactive tables.';\n",
              "          element.innerHTML = '';\n",
              "          dataTable['output_type'] = 'display_data';\n",
              "          await google.colab.output.renderOutput(dataTable, element);\n",
              "          const docLink = document.createElement('div');\n",
              "          docLink.innerHTML = docLinkHtml;\n",
              "          element.appendChild(docLink);\n",
              "        }\n",
              "      </script>\n",
              "    </div>\n",
              "  </div>\n",
              "  "
            ]
          },
          "metadata": {},
          "execution_count": 21
        }
      ],
      "source": [
        "df.head()"
      ]
    },
    {
      "cell_type": "code",
      "execution_count": null,
      "metadata": {
        "id": "R-drE_RWHVHl",
        "outputId": "b2fdfb29-b775-40ca-83ef-a751e15ad912",
        "colab": {
          "base_uri": "https://localhost:8080/"
        }
      },
      "outputs": [
        {
          "output_type": "execute_result",
          "data": {
            "text/plain": [
              "643728.1914372843"
            ]
          },
          "metadata": {},
          "execution_count": 22
        }
      ],
      "source": [
        "df['price'].std()"
      ]
    },
    {
      "cell_type": "markdown",
      "metadata": {
        "id": "K57z6VXTHVHl"
      },
      "source": [
        "Entre mayor sea nuestro resultado quiere decir que nuestros datos están más dispersos (es decir, hay muchos datos que se alejan de nuestro valor típico); entre menor sea el resultado quiere decir que nuestros datos están menos dispersos (es decir, están más cerca de nuestro valor típico).\n",
        "\n",
        "Obviamente hay que tomar en cuenta el rango de nuestros valores para determinar si nuestra desviación estándar es pequeña o grande. Por ejemplo, una desviación estándar de 10 es muy pequeña si nuestros valores tienen un rango de 1 000 000. En cambio, una desviación estándar de 10 es mucho mayor si nuestros valores tienen un rango de 40."
      ]
    },
    {
      "cell_type": "code",
      "execution_count": null,
      "metadata": {
        "id": "oc5hXLN2HVHm"
      },
      "outputs": [],
      "source": []
    },
    {
      "cell_type": "markdown",
      "metadata": {
        "id": "vlGxLjEKHjYt"
      },
      "source": [
        "## Reto 3: Desviación estándar\n",
        "\n",
        "### 1. Objetivos:\n",
        "    - Utilizar la desviación estándar para realizar un análisis de dispersión de nuestros datos\n",
        " \n",
        "---\n",
        "    \n",
        "### 2. Desarrollo:"
      ]
    },
    {
      "cell_type": "markdown",
      "metadata": {
        "id": "onl__fmYHjYu"
      },
      "source": [
        "#### a) Desviación estándar y distribución de los datos\n",
        "\n",
        "Como ya vimos, la desviación estándar es la medida que nos da la \"desviación típica\" (o esperada) de nuestros datos a comparación del promedio. Eso quiere decir que normalmente vamos a esperar que una gran parte de nuestros datos se encuentren a 1 desviación estándar de distancia del promedio. Entre más nos alejamos, menos muestras deberíamos de encontrar.\n",
        "\n",
        "Vamos a comprobar esto usando nuestro dataset de meteoritos que orbitan cerca de la Tierra. Tu Reto consiste en los siguientes pasos:\n",
        "\n",
        "1. Crea un DataFrame con el dataset 'near_earth_objects-jan_feb_1995-clean.csv'.\n",
        "2. Obtén la cantidad total de muestras en tu DataFrame.\n",
        "3. Obtén la desviación estándar de la columna 'estimated_diameter.meters.estimated_diameter_max'. Los siguientes pasos realízalos todos utilizando esta columna.\n",
        "4. Obtén el porcentaje de muestras que están a una distancia de 1 desviación estándar del promedio.\n",
        "5. Obtén el porcentaje de muestras que están a una distancia de 2 desviaciones estándares del promedio.\n",
        "6. Obtén el porcentaje de muestras que están a una distancia de 3 desviaciones estándares del promedio.\n",
        "7. Compara los porcentajes obtenidos y comenta con tus compañeros y la experta tus hallazgos. ¿Qué significa esto? ¿La definición de desviación estándar tiene sentido? ¿Qué puedo inferir acerca de la dispersión de mis datos a partir de los valores obtenidos?\n",
        "\n",
        "> Nota: Para obtener los porcentajes de los subconjuntos primero necesitas filtrar el DataFrame original para que sólo permanezcan las muestras que cumplan con los requisitos.\n",
        "\n",
        "> Nota: Este Reto está diseñado para tener una dificultad media. No te frustres si al principio parece demasiado difícil. Comienza poco a poco, resolviendo el problema en pedazos pequeños, y si no tienes la menor idea de cómo proceder recuerda que la experta está ahí para ayudarte."
      ]
    },
    {
      "cell_type": "code",
      "execution_count": null,
      "metadata": {
        "id": "Fry3nYzPHjYv",
        "colab": {
          "base_uri": "https://localhost:8080/",
          "height": 277
        },
        "outputId": "d35a5131-48a2-4562-cc6f-ec96f9b63d35"
      },
      "outputs": [
        {
          "output_type": "execute_result",
          "data": {
            "text/plain": [
              "        id                name  is_potentially_hazardous_asteroid  \\\n",
              "0  2154652  154652 (2004 EP20)                              False   \n",
              "1  3153509           (2003 HM)                               True   \n",
              "2  3516633           (2010 HA)                              False   \n",
              "\n",
              "   estimated_diameter.meters.estimated_diameter_min  \\\n",
              "0                                        483.676488   \n",
              "1                                         96.506147   \n",
              "2                                         44.111820   \n",
              "\n",
              "   estimated_diameter.meters.estimated_diameter_max close_approach_date  \\\n",
              "0                                       1081.533507          1995-01-07   \n",
              "1                                        215.794305          1995-01-07   \n",
              "2                                         98.637028          1995-01-07   \n",
              "\n",
              "   epoch_date_close_approach orbiting_body  \\\n",
              "0               789467580000         Earth   \n",
              "1               789491340000         Earth   \n",
              "2               789446820000         Earth   \n",
              "\n",
              "   relative_velocity.kilometers_per_second  \\\n",
              "0                                16.142864   \n",
              "1                                12.351044   \n",
              "2                                 6.220435   \n",
              "\n",
              "   relative_velocity.kilometers_per_hour  \n",
              "0                           58114.308667  \n",
              "1                           44463.757734  \n",
              "2                           22393.567277  "
            ],
            "text/html": [
              "\n",
              "  <div id=\"df-83794ca5-865a-492c-8731-0787b16a2c59\">\n",
              "    <div class=\"colab-df-container\">\n",
              "      <div>\n",
              "<style scoped>\n",
              "    .dataframe tbody tr th:only-of-type {\n",
              "        vertical-align: middle;\n",
              "    }\n",
              "\n",
              "    .dataframe tbody tr th {\n",
              "        vertical-align: top;\n",
              "    }\n",
              "\n",
              "    .dataframe thead th {\n",
              "        text-align: right;\n",
              "    }\n",
              "</style>\n",
              "<table border=\"1\" class=\"dataframe\">\n",
              "  <thead>\n",
              "    <tr style=\"text-align: right;\">\n",
              "      <th></th>\n",
              "      <th>id</th>\n",
              "      <th>name</th>\n",
              "      <th>is_potentially_hazardous_asteroid</th>\n",
              "      <th>estimated_diameter.meters.estimated_diameter_min</th>\n",
              "      <th>estimated_diameter.meters.estimated_diameter_max</th>\n",
              "      <th>close_approach_date</th>\n",
              "      <th>epoch_date_close_approach</th>\n",
              "      <th>orbiting_body</th>\n",
              "      <th>relative_velocity.kilometers_per_second</th>\n",
              "      <th>relative_velocity.kilometers_per_hour</th>\n",
              "    </tr>\n",
              "  </thead>\n",
              "  <tbody>\n",
              "    <tr>\n",
              "      <th>0</th>\n",
              "      <td>2154652</td>\n",
              "      <td>154652 (2004 EP20)</td>\n",
              "      <td>False</td>\n",
              "      <td>483.676488</td>\n",
              "      <td>1081.533507</td>\n",
              "      <td>1995-01-07</td>\n",
              "      <td>789467580000</td>\n",
              "      <td>Earth</td>\n",
              "      <td>16.142864</td>\n",
              "      <td>58114.308667</td>\n",
              "    </tr>\n",
              "    <tr>\n",
              "      <th>1</th>\n",
              "      <td>3153509</td>\n",
              "      <td>(2003 HM)</td>\n",
              "      <td>True</td>\n",
              "      <td>96.506147</td>\n",
              "      <td>215.794305</td>\n",
              "      <td>1995-01-07</td>\n",
              "      <td>789491340000</td>\n",
              "      <td>Earth</td>\n",
              "      <td>12.351044</td>\n",
              "      <td>44463.757734</td>\n",
              "    </tr>\n",
              "    <tr>\n",
              "      <th>2</th>\n",
              "      <td>3516633</td>\n",
              "      <td>(2010 HA)</td>\n",
              "      <td>False</td>\n",
              "      <td>44.111820</td>\n",
              "      <td>98.637028</td>\n",
              "      <td>1995-01-07</td>\n",
              "      <td>789446820000</td>\n",
              "      <td>Earth</td>\n",
              "      <td>6.220435</td>\n",
              "      <td>22393.567277</td>\n",
              "    </tr>\n",
              "  </tbody>\n",
              "</table>\n",
              "</div>\n",
              "      <button class=\"colab-df-convert\" onclick=\"convertToInteractive('df-83794ca5-865a-492c-8731-0787b16a2c59')\"\n",
              "              title=\"Convert this dataframe to an interactive table.\"\n",
              "              style=\"display:none;\">\n",
              "        \n",
              "  <svg xmlns=\"http://www.w3.org/2000/svg\" height=\"24px\"viewBox=\"0 0 24 24\"\n",
              "       width=\"24px\">\n",
              "    <path d=\"M0 0h24v24H0V0z\" fill=\"none\"/>\n",
              "    <path d=\"M18.56 5.44l.94 2.06.94-2.06 2.06-.94-2.06-.94-.94-2.06-.94 2.06-2.06.94zm-11 1L8.5 8.5l.94-2.06 2.06-.94-2.06-.94L8.5 2.5l-.94 2.06-2.06.94zm10 10l.94 2.06.94-2.06 2.06-.94-2.06-.94-.94-2.06-.94 2.06-2.06.94z\"/><path d=\"M17.41 7.96l-1.37-1.37c-.4-.4-.92-.59-1.43-.59-.52 0-1.04.2-1.43.59L10.3 9.45l-7.72 7.72c-.78.78-.78 2.05 0 2.83L4 21.41c.39.39.9.59 1.41.59.51 0 1.02-.2 1.41-.59l7.78-7.78 2.81-2.81c.8-.78.8-2.07 0-2.86zM5.41 20L4 18.59l7.72-7.72 1.47 1.35L5.41 20z\"/>\n",
              "  </svg>\n",
              "      </button>\n",
              "      \n",
              "  <style>\n",
              "    .colab-df-container {\n",
              "      display:flex;\n",
              "      flex-wrap:wrap;\n",
              "      gap: 12px;\n",
              "    }\n",
              "\n",
              "    .colab-df-convert {\n",
              "      background-color: #E8F0FE;\n",
              "      border: none;\n",
              "      border-radius: 50%;\n",
              "      cursor: pointer;\n",
              "      display: none;\n",
              "      fill: #1967D2;\n",
              "      height: 32px;\n",
              "      padding: 0 0 0 0;\n",
              "      width: 32px;\n",
              "    }\n",
              "\n",
              "    .colab-df-convert:hover {\n",
              "      background-color: #E2EBFA;\n",
              "      box-shadow: 0px 1px 2px rgba(60, 64, 67, 0.3), 0px 1px 3px 1px rgba(60, 64, 67, 0.15);\n",
              "      fill: #174EA6;\n",
              "    }\n",
              "\n",
              "    [theme=dark] .colab-df-convert {\n",
              "      background-color: #3B4455;\n",
              "      fill: #D2E3FC;\n",
              "    }\n",
              "\n",
              "    [theme=dark] .colab-df-convert:hover {\n",
              "      background-color: #434B5C;\n",
              "      box-shadow: 0px 1px 3px 1px rgba(0, 0, 0, 0.15);\n",
              "      filter: drop-shadow(0px 1px 2px rgba(0, 0, 0, 0.3));\n",
              "      fill: #FFFFFF;\n",
              "    }\n",
              "  </style>\n",
              "\n",
              "      <script>\n",
              "        const buttonEl =\n",
              "          document.querySelector('#df-83794ca5-865a-492c-8731-0787b16a2c59 button.colab-df-convert');\n",
              "        buttonEl.style.display =\n",
              "          google.colab.kernel.accessAllowed ? 'block' : 'none';\n",
              "\n",
              "        async function convertToInteractive(key) {\n",
              "          const element = document.querySelector('#df-83794ca5-865a-492c-8731-0787b16a2c59');\n",
              "          const dataTable =\n",
              "            await google.colab.kernel.invokeFunction('convertToInteractive',\n",
              "                                                     [key], {});\n",
              "          if (!dataTable) return;\n",
              "\n",
              "          const docLinkHtml = 'Like what you see? Visit the ' +\n",
              "            '<a target=\"_blank\" href=https://colab.research.google.com/notebooks/data_table.ipynb>data table notebook</a>'\n",
              "            + ' to learn more about interactive tables.';\n",
              "          element.innerHTML = '';\n",
              "          dataTable['output_type'] = 'display_data';\n",
              "          await google.colab.output.renderOutput(dataTable, element);\n",
              "          const docLink = document.createElement('div');\n",
              "          docLink.innerHTML = docLinkHtml;\n",
              "          element.appendChild(docLink);\n",
              "        }\n",
              "      </script>\n",
              "    </div>\n",
              "  </div>\n",
              "  "
            ]
          },
          "metadata": {},
          "execution_count": 83
        }
      ],
      "source": [
        "### Tu código va aquí\n",
        "##\n",
        "## 1. Crea un DataFrame con el dataset 'near_earth_objects-jan_feb_1995-clean.csv'.\n",
        "df_meteoritos = pd.read_csv('/content/drive/MyDrive/BEDU2023F3/Remoto_Datasets/Remoto near_earth_objects-jan_feb_1995-clean.csv', index_col=0)\n",
        "df_meteoritos.head(3)"
      ]
    },
    {
      "cell_type": "code",
      "source": [
        "## 2. Obtén la cantidad total de muestras en tu DataFrame.\n",
        "total_muestras = df_meteoritos.shape[0] \n",
        "total_muestras "
      ],
      "metadata": {
        "colab": {
          "base_uri": "https://localhost:8080/"
        },
        "id": "aqWG1cBLNyO9",
        "outputId": "87d970fd-6595-44fb-f8a3-e70a5c7433ee"
      },
      "execution_count": null,
      "outputs": [
        {
          "output_type": "execute_result",
          "data": {
            "text/plain": [
              "333"
            ]
          },
          "metadata": {},
          "execution_count": 85
        }
      ]
    },
    {
      "cell_type": "code",
      "source": [
        "## 3. Obtén la desviación estándar de la columna 'estimated_diameter.meters.estimated_diameter_max'. Los siguientes pasos realízalos todos utilizando esta columna.\n",
        "desv_est = df_meteoritos['estimated_diameter.meters.estimated_diameter_max'].std()\n",
        "desv_est"
      ],
      "metadata": {
        "colab": {
          "base_uri": "https://localhost:8080/"
        },
        "id": "bB5mmqkWNyFV",
        "outputId": "72e7ea88-8957-4984-bb73-9a80b528bcb7"
      },
      "execution_count": null,
      "outputs": [
        {
          "output_type": "execute_result",
          "data": {
            "text/plain": [
              "614.6915918552232"
            ]
          },
          "metadata": {},
          "execution_count": 59
        }
      ]
    },
    {
      "cell_type": "code",
      "source": [
        "## 4. Obtén el porcentaje de muestras que están a una distancia de 1 desviación estándar del promedio.\n",
        "media = df_meteoritos['estimated_diameter.meters.estimated_diameter_max'].mean()\n",
        "media"
      ],
      "metadata": {
        "colab": {
          "base_uri": "https://localhost:8080/"
        },
        "id": "clydvfQTNx0L",
        "outputId": "48edc518-09f5-44ff-d9b0-ec1d8ea8abd0"
      },
      "execution_count": null,
      "outputs": [
        {
          "output_type": "execute_result",
          "data": {
            "text/plain": [
              "410.08604223976545"
            ]
          },
          "metadata": {},
          "execution_count": 68
        }
      ]
    },
    {
      "cell_type": "code",
      "source": [
        "menos_una_desv_est = df_meteoritos['estimated_diameter.meters.estimated_diameter_max'] >= (media - desv_est)\n",
        "mas_una_desv_est = df_meteoritos['estimated_diameter.meters.estimated_diameter_max'] <= (media + desv_est)\n",
        "dentro_de_masmenos_una_desv_est = df_meteoritos[menos_una_desv_est & mas_una_desv_est]\n",
        "porcentaje_de_datos_a_una_desv_est_del_promedio = dentro_de_masmenos_una_desv_est.shape[0] * 100 / total_muestras\n",
        "porcentaje_de_datos_a_una_desv_est_del_promedio"
      ],
      "metadata": {
        "colab": {
          "base_uri": "https://localhost:8080/"
        },
        "id": "N-FLQoN_B0b_",
        "outputId": "9e7b63f8-fe80-47ed-de86-63ea66ac4682"
      },
      "execution_count": null,
      "outputs": [
        {
          "output_type": "execute_result",
          "data": {
            "text/plain": [
              "90.3903903903904"
            ]
          },
          "metadata": {},
          "execution_count": 86
        }
      ]
    },
    {
      "cell_type": "code",
      "source": [
        "## 5. Obtén el porcentaje de muestras que están a una distancia de 2 desviaciones estándares del promedio.\n",
        "menos_dos_desv_est = df_meteoritos['estimated_diameter.meters.estimated_diameter_max'] >= (media - 2*desv_est)\n",
        "mas_dos_desv_est = df_meteoritos['estimated_diameter.meters.estimated_diameter_max'] <= (media + 2*desv_est)\n",
        "dentro_de_masmenos_dos_desv_est = df_meteoritos[menos_dos_desv_est & mas_dos_desv_est]\n",
        "porcentaje_de_datos_a_dos_desv_est_del_promedio = dentro_de_masmenos_dos_desv_est.shape[0] * 100 / total_muestras\n",
        "porcentaje_de_datos_a_dos_desv_est_del_promedio"
      ],
      "metadata": {
        "colab": {
          "base_uri": "https://localhost:8080/"
        },
        "id": "zqxL6xnoNxpr",
        "outputId": "1a2e074c-701b-4b99-ac97-eb23cbd2575f"
      },
      "execution_count": null,
      "outputs": [
        {
          "output_type": "execute_result",
          "data": {
            "text/plain": [
              "96.3963963963964"
            ]
          },
          "metadata": {},
          "execution_count": 87
        }
      ]
    },
    {
      "cell_type": "code",
      "source": [
        "## 6. Obtén el porcentaje de muestras que están a una distancia de 3 desviaciones estándares del promedio.\n",
        "menos_tres_desv_est = df_meteoritos['estimated_diameter.meters.estimated_diameter_max'] >= (media - 3*desv_est)\n",
        "mas_tres_desv_est = df_meteoritos['estimated_diameter.meters.estimated_diameter_max'] <= (media + 3*desv_est)\n",
        "dentro_de_masmenos_tres_desv_est = df_meteoritos[menos_tres_desv_est & mas_tres_desv_est]\n",
        "porcentaje_de_datos_a_tres_desv_est_del_promedio = dentro_de_masmenos_tres_desv_est.shape[0] * 100 / total_muestras\n",
        "porcentaje_de_datos_a_tres_desv_est_del_promedio"
      ],
      "metadata": {
        "colab": {
          "base_uri": "https://localhost:8080/"
        },
        "id": "5TONwa5WNxal",
        "outputId": "4b13313c-bead-4f88-cdf4-35773b49d958"
      },
      "execution_count": null,
      "outputs": [
        {
          "output_type": "execute_result",
          "data": {
            "text/plain": [
              "97.89789789789789"
            ]
          },
          "metadata": {},
          "execution_count": 88
        }
      ]
    },
    {
      "cell_type": "code",
      "execution_count": null,
      "metadata": {
        "id": "RsUiZ0OrHjYx"
      },
      "outputs": [],
      "source": [
        "## 7. Compara los porcentajes obtenidos y comenta con tus compañeros y la experta tus hallazgos. ¿Qué significa esto? ¿La definición de desviación estándar tiene sentido? ¿Qué puedo inferir acerca de la dispersión de mis datos a partir de los valores obtenidos?\n"
      ]
    },
    {
      "cell_type": "markdown",
      "source": [
        "***\n",
        "***"
      ],
      "metadata": {
        "id": "js3a2g5EHqIw"
      }
    },
    {
      "cell_type": "markdown",
      "source": [
        "**Estadísticos de Orden**\n",
        "\n",
        "Existen otras formas de calcular la dispersión de nuestros datos que requieren que nuestros datos estén ordenados ascendentemente. Estos cálculos nos dan otra perspectiva acerca de la distribución de nuestros datos que puede sernos de mucha utilidad.\n",
        "\n",
        "Tres de los estadísticos de orden más comunes son el **Rango**, los **Percentiles** y el **Rango intercuartílico**. Veamos cómo funcionan."
      ],
      "metadata": {
        "id": "DR17PhFzHrst"
      }
    },
    {
      "cell_type": "markdown",
      "metadata": {
        "id": "NfSmYiGUKKqF"
      },
      "source": [
        "## Ejemplo 4: Estadísticos de Orden\n",
        "\n",
        "### 1. Objetivos:\n",
        "    - Aprender a calcular el rango y los percentiles usando pandas\n",
        " \n",
        "---\n",
        "    \n",
        "### 2. Desarrollo:"
      ]
    },
    {
      "cell_type": "markdown",
      "metadata": {
        "id": "s9Rzmx5uKKqH"
      },
      "source": [
        "#### Rango\n",
        "\n",
        "El rango es simplemente la diferencia entre el valor máximo de un conjunto y el valor mínimo de un conjunto. Por lo tanto, podemos obtenerla de esta manera:"
      ]
    },
    {
      "cell_type": "code",
      "execution_count": null,
      "metadata": {
        "id": "TNvh4s1HKKqH"
      },
      "outputs": [],
      "source": [
        "import pandas as pd"
      ]
    },
    {
      "cell_type": "code",
      "execution_count": null,
      "metadata": {
        "id": "GVHmKMcRKKqI"
      },
      "outputs": [],
      "source": [
        "df = pd.read_csv('/content/drive/MyDrive/BEDU2023F3/Remoto_Datasets/Remoto melbourne_housing-clean.csv', index_col=0)"
      ]
    },
    {
      "cell_type": "code",
      "execution_count": null,
      "metadata": {
        "id": "Ur-W85juKKqI",
        "outputId": "34880a6c-b1f3-490c-8474-26ae472472d6",
        "colab": {
          "base_uri": "https://localhost:8080/",
          "height": 391
        }
      },
      "outputs": [
        {
          "output_type": "execute_result",
          "data": {
            "text/plain": [
              "       suburb           address  rooms type      price method seller_g  \\\n",
              "0  Abbotsford      85 Turner St      2    h  1480000.0      S   Biggin   \n",
              "1  Abbotsford   25 Bloomburg St      2    h  1035000.0      S   Biggin   \n",
              "2  Abbotsford      5 Charles St      3    h  1465000.0     SP   Biggin   \n",
              "3  Abbotsford  40 Federation La      3    h   850000.0     PI   Biggin   \n",
              "4  Abbotsford       55a Park St      4    h  1600000.0     VB   Nelson   \n",
              "\n",
              "        date  distance  postcode  bedroom_2  bathroom  car  land_size  \\\n",
              "0  3/12/2016       2.5    3067.0        2.0       1.0  1.0      202.0   \n",
              "1  4/02/2016       2.5    3067.0        2.0       1.0  0.0      156.0   \n",
              "2  4/03/2017       2.5    3067.0        3.0       2.0  0.0      134.0   \n",
              "3  4/03/2017       2.5    3067.0        3.0       2.0  1.0       94.0   \n",
              "4  4/06/2016       2.5    3067.0        3.0       1.0  2.0      120.0   \n",
              "\n",
              "  council_area  latitude  longitude            region_name  property_count  \n",
              "0        Yarra  -37.7996   144.9984  Northern Metropolitan          4019.0  \n",
              "1        Yarra  -37.8079   144.9934  Northern Metropolitan          4019.0  \n",
              "2        Yarra  -37.8093   144.9944  Northern Metropolitan          4019.0  \n",
              "3        Yarra  -37.7969   144.9969  Northern Metropolitan          4019.0  \n",
              "4        Yarra  -37.8072   144.9941  Northern Metropolitan          4019.0  "
            ],
            "text/html": [
              "\n",
              "  <div id=\"df-6616cd7f-6b4f-4e32-addf-814041f51e24\">\n",
              "    <div class=\"colab-df-container\">\n",
              "      <div>\n",
              "<style scoped>\n",
              "    .dataframe tbody tr th:only-of-type {\n",
              "        vertical-align: middle;\n",
              "    }\n",
              "\n",
              "    .dataframe tbody tr th {\n",
              "        vertical-align: top;\n",
              "    }\n",
              "\n",
              "    .dataframe thead th {\n",
              "        text-align: right;\n",
              "    }\n",
              "</style>\n",
              "<table border=\"1\" class=\"dataframe\">\n",
              "  <thead>\n",
              "    <tr style=\"text-align: right;\">\n",
              "      <th></th>\n",
              "      <th>suburb</th>\n",
              "      <th>address</th>\n",
              "      <th>rooms</th>\n",
              "      <th>type</th>\n",
              "      <th>price</th>\n",
              "      <th>method</th>\n",
              "      <th>seller_g</th>\n",
              "      <th>date</th>\n",
              "      <th>distance</th>\n",
              "      <th>postcode</th>\n",
              "      <th>bedroom_2</th>\n",
              "      <th>bathroom</th>\n",
              "      <th>car</th>\n",
              "      <th>land_size</th>\n",
              "      <th>council_area</th>\n",
              "      <th>latitude</th>\n",
              "      <th>longitude</th>\n",
              "      <th>region_name</th>\n",
              "      <th>property_count</th>\n",
              "    </tr>\n",
              "  </thead>\n",
              "  <tbody>\n",
              "    <tr>\n",
              "      <th>0</th>\n",
              "      <td>Abbotsford</td>\n",
              "      <td>85 Turner St</td>\n",
              "      <td>2</td>\n",
              "      <td>h</td>\n",
              "      <td>1480000.0</td>\n",
              "      <td>S</td>\n",
              "      <td>Biggin</td>\n",
              "      <td>3/12/2016</td>\n",
              "      <td>2.5</td>\n",
              "      <td>3067.0</td>\n",
              "      <td>2.0</td>\n",
              "      <td>1.0</td>\n",
              "      <td>1.0</td>\n",
              "      <td>202.0</td>\n",
              "      <td>Yarra</td>\n",
              "      <td>-37.7996</td>\n",
              "      <td>144.9984</td>\n",
              "      <td>Northern Metropolitan</td>\n",
              "      <td>4019.0</td>\n",
              "    </tr>\n",
              "    <tr>\n",
              "      <th>1</th>\n",
              "      <td>Abbotsford</td>\n",
              "      <td>25 Bloomburg St</td>\n",
              "      <td>2</td>\n",
              "      <td>h</td>\n",
              "      <td>1035000.0</td>\n",
              "      <td>S</td>\n",
              "      <td>Biggin</td>\n",
              "      <td>4/02/2016</td>\n",
              "      <td>2.5</td>\n",
              "      <td>3067.0</td>\n",
              "      <td>2.0</td>\n",
              "      <td>1.0</td>\n",
              "      <td>0.0</td>\n",
              "      <td>156.0</td>\n",
              "      <td>Yarra</td>\n",
              "      <td>-37.8079</td>\n",
              "      <td>144.9934</td>\n",
              "      <td>Northern Metropolitan</td>\n",
              "      <td>4019.0</td>\n",
              "    </tr>\n",
              "    <tr>\n",
              "      <th>2</th>\n",
              "      <td>Abbotsford</td>\n",
              "      <td>5 Charles St</td>\n",
              "      <td>3</td>\n",
              "      <td>h</td>\n",
              "      <td>1465000.0</td>\n",
              "      <td>SP</td>\n",
              "      <td>Biggin</td>\n",
              "      <td>4/03/2017</td>\n",
              "      <td>2.5</td>\n",
              "      <td>3067.0</td>\n",
              "      <td>3.0</td>\n",
              "      <td>2.0</td>\n",
              "      <td>0.0</td>\n",
              "      <td>134.0</td>\n",
              "      <td>Yarra</td>\n",
              "      <td>-37.8093</td>\n",
              "      <td>144.9944</td>\n",
              "      <td>Northern Metropolitan</td>\n",
              "      <td>4019.0</td>\n",
              "    </tr>\n",
              "    <tr>\n",
              "      <th>3</th>\n",
              "      <td>Abbotsford</td>\n",
              "      <td>40 Federation La</td>\n",
              "      <td>3</td>\n",
              "      <td>h</td>\n",
              "      <td>850000.0</td>\n",
              "      <td>PI</td>\n",
              "      <td>Biggin</td>\n",
              "      <td>4/03/2017</td>\n",
              "      <td>2.5</td>\n",
              "      <td>3067.0</td>\n",
              "      <td>3.0</td>\n",
              "      <td>2.0</td>\n",
              "      <td>1.0</td>\n",
              "      <td>94.0</td>\n",
              "      <td>Yarra</td>\n",
              "      <td>-37.7969</td>\n",
              "      <td>144.9969</td>\n",
              "      <td>Northern Metropolitan</td>\n",
              "      <td>4019.0</td>\n",
              "    </tr>\n",
              "    <tr>\n",
              "      <th>4</th>\n",
              "      <td>Abbotsford</td>\n",
              "      <td>55a Park St</td>\n",
              "      <td>4</td>\n",
              "      <td>h</td>\n",
              "      <td>1600000.0</td>\n",
              "      <td>VB</td>\n",
              "      <td>Nelson</td>\n",
              "      <td>4/06/2016</td>\n",
              "      <td>2.5</td>\n",
              "      <td>3067.0</td>\n",
              "      <td>3.0</td>\n",
              "      <td>1.0</td>\n",
              "      <td>2.0</td>\n",
              "      <td>120.0</td>\n",
              "      <td>Yarra</td>\n",
              "      <td>-37.8072</td>\n",
              "      <td>144.9941</td>\n",
              "      <td>Northern Metropolitan</td>\n",
              "      <td>4019.0</td>\n",
              "    </tr>\n",
              "  </tbody>\n",
              "</table>\n",
              "</div>\n",
              "      <button class=\"colab-df-convert\" onclick=\"convertToInteractive('df-6616cd7f-6b4f-4e32-addf-814041f51e24')\"\n",
              "              title=\"Convert this dataframe to an interactive table.\"\n",
              "              style=\"display:none;\">\n",
              "        \n",
              "  <svg xmlns=\"http://www.w3.org/2000/svg\" height=\"24px\"viewBox=\"0 0 24 24\"\n",
              "       width=\"24px\">\n",
              "    <path d=\"M0 0h24v24H0V0z\" fill=\"none\"/>\n",
              "    <path d=\"M18.56 5.44l.94 2.06.94-2.06 2.06-.94-2.06-.94-.94-2.06-.94 2.06-2.06.94zm-11 1L8.5 8.5l.94-2.06 2.06-.94-2.06-.94L8.5 2.5l-.94 2.06-2.06.94zm10 10l.94 2.06.94-2.06 2.06-.94-2.06-.94-.94-2.06-.94 2.06-2.06.94z\"/><path d=\"M17.41 7.96l-1.37-1.37c-.4-.4-.92-.59-1.43-.59-.52 0-1.04.2-1.43.59L10.3 9.45l-7.72 7.72c-.78.78-.78 2.05 0 2.83L4 21.41c.39.39.9.59 1.41.59.51 0 1.02-.2 1.41-.59l7.78-7.78 2.81-2.81c.8-.78.8-2.07 0-2.86zM5.41 20L4 18.59l7.72-7.72 1.47 1.35L5.41 20z\"/>\n",
              "  </svg>\n",
              "      </button>\n",
              "      \n",
              "  <style>\n",
              "    .colab-df-container {\n",
              "      display:flex;\n",
              "      flex-wrap:wrap;\n",
              "      gap: 12px;\n",
              "    }\n",
              "\n",
              "    .colab-df-convert {\n",
              "      background-color: #E8F0FE;\n",
              "      border: none;\n",
              "      border-radius: 50%;\n",
              "      cursor: pointer;\n",
              "      display: none;\n",
              "      fill: #1967D2;\n",
              "      height: 32px;\n",
              "      padding: 0 0 0 0;\n",
              "      width: 32px;\n",
              "    }\n",
              "\n",
              "    .colab-df-convert:hover {\n",
              "      background-color: #E2EBFA;\n",
              "      box-shadow: 0px 1px 2px rgba(60, 64, 67, 0.3), 0px 1px 3px 1px rgba(60, 64, 67, 0.15);\n",
              "      fill: #174EA6;\n",
              "    }\n",
              "\n",
              "    [theme=dark] .colab-df-convert {\n",
              "      background-color: #3B4455;\n",
              "      fill: #D2E3FC;\n",
              "    }\n",
              "\n",
              "    [theme=dark] .colab-df-convert:hover {\n",
              "      background-color: #434B5C;\n",
              "      box-shadow: 0px 1px 3px 1px rgba(0, 0, 0, 0.15);\n",
              "      filter: drop-shadow(0px 1px 2px rgba(0, 0, 0, 0.3));\n",
              "      fill: #FFFFFF;\n",
              "    }\n",
              "  </style>\n",
              "\n",
              "      <script>\n",
              "        const buttonEl =\n",
              "          document.querySelector('#df-6616cd7f-6b4f-4e32-addf-814041f51e24 button.colab-df-convert');\n",
              "        buttonEl.style.display =\n",
              "          google.colab.kernel.accessAllowed ? 'block' : 'none';\n",
              "\n",
              "        async function convertToInteractive(key) {\n",
              "          const element = document.querySelector('#df-6616cd7f-6b4f-4e32-addf-814041f51e24');\n",
              "          const dataTable =\n",
              "            await google.colab.kernel.invokeFunction('convertToInteractive',\n",
              "                                                     [key], {});\n",
              "          if (!dataTable) return;\n",
              "\n",
              "          const docLinkHtml = 'Like what you see? Visit the ' +\n",
              "            '<a target=\"_blank\" href=https://colab.research.google.com/notebooks/data_table.ipynb>data table notebook</a>'\n",
              "            + ' to learn more about interactive tables.';\n",
              "          element.innerHTML = '';\n",
              "          dataTable['output_type'] = 'display_data';\n",
              "          await google.colab.output.renderOutput(dataTable, element);\n",
              "          const docLink = document.createElement('div');\n",
              "          docLink.innerHTML = docLinkHtml;\n",
              "          element.appendChild(docLink);\n",
              "        }\n",
              "      </script>\n",
              "    </div>\n",
              "  </div>\n",
              "  "
            ]
          },
          "metadata": {},
          "execution_count": 29
        }
      ],
      "source": [
        "df.head()"
      ]
    },
    {
      "cell_type": "code",
      "execution_count": null,
      "metadata": {
        "id": "v1lLTGEAKKqI",
        "outputId": "75ce0039-b2fc-47b3-a1f3-55b1ad8674b3",
        "colab": {
          "base_uri": "https://localhost:8080/"
        }
      },
      "outputs": [
        {
          "output_type": "execute_result",
          "data": {
            "text/plain": [
              "8915000.0"
            ]
          },
          "metadata": {},
          "execution_count": 57
        }
      ],
      "source": [
        "df['price'].max() - df['price'].min()"
      ]
    },
    {
      "cell_type": "markdown",
      "metadata": {
        "id": "gP1EitXoKKqJ"
      },
      "source": [
        "#### Percentiles\n",
        "\n",
        "El percentil `P` es un valor que indica que por lo menos `P%` de los valores en el conjunto tienen este valor o un valor menor; mientras que `(100-P)%` de los valores tienen este valor o un valor mayor. Por ejemplo, para obtener el percentil 80 primero ordenamos nuestro conjunto de manera ascendente y después elegimos un valor de manera que el 80% de los valores en nuestro conjunto sean iguales o menores a ese valor.\n",
        "\n",
        "En `pandas`, los percentiles están implementados como cuantiles, que es lo mismo que los percentiles pero en versión fracciones. Es decir, el percentil 80 es lo  mismo que el cuantil 0.8."
      ]
    },
    {
      "cell_type": "code",
      "execution_count": null,
      "metadata": {
        "id": "8ltodacxKKqJ",
        "outputId": "cc183320-3076-443b-b34e-0335d21c769d",
        "colab": {
          "base_uri": "https://localhost:8080/"
        }
      },
      "outputs": [
        {
          "output_type": "execute_result",
          "data": {
            "text/plain": [
              "1440000.0"
            ]
          },
          "metadata": {},
          "execution_count": 30
        }
      ],
      "source": [
        "df['price'].quantile(0.8)"
      ]
    },
    {
      "cell_type": "markdown",
      "metadata": {
        "id": "AQpf1TPCKKqJ"
      },
      "source": [
        "En este caso, el 80% de los valores en nuestro conjunto de datos tienen un valor menor o igual a 1 440 000.\n",
        "\n",
        "Como podrás ya haber imaginado, el valor mínimo equivale al percentil 0 y el valor máximo equivale al percentil 100, mientras que la mediana es exactamente igual que el percentil 50.\n",
        "\n",
        "Sacando los percentiles podemos darnos una idea más o menos precisa de cómo están distribuidos nuestros datos.\n",
        "\n",
        "Por ejemplo:"
      ]
    },
    {
      "cell_type": "code",
      "execution_count": null,
      "metadata": {
        "id": "ycSOAKKxKKqJ",
        "outputId": "408da050-03ae-46b0-9068-6faf8aecdad6",
        "colab": {
          "base_uri": "https://localhost:8080/"
        }
      },
      "outputs": [
        {
          "output_type": "stream",
          "name": "stdout",
          "text": [
            "Valor mínimo: 85000.0\n",
            "Percentil 10: 470000.0\n",
            "Percentil 25: 640000.0\n",
            "Percentil 50: 895500.0\n",
            "Percentil 75: 1325000.0\n",
            "Percentil 90: 1850000.0\n",
            "Valor máximo: 9000000.0\n"
          ]
        }
      ],
      "source": [
        "print(f'Valor mínimo: {df[\"price\"].min()}')\n",
        "print(f'Percentil 10: {df[\"price\"].quantile(0.1)}')\n",
        "print(f'Percentil 25: {df[\"price\"].quantile(0.25)}')\n",
        "print(f'Percentil 50: {df[\"price\"].median()}')\n",
        "print(f'Percentil 75: {df[\"price\"].quantile(0.75)}')\n",
        "print(f'Percentil 90: {df[\"price\"].quantile(0.9)}')\n",
        "print(f'Valor máximo: {df[\"price\"].max()}')"
      ]
    },
    {
      "cell_type": "markdown",
      "metadata": {
        "id": "qf0Pf1PKKKqJ"
      },
      "source": [
        "Viendo estos números podemos inferir varias cosas:\n",
        "\n",
        "- Casi todos nuestros datos están concentrados en valores menores a 2 000 000.\n",
        "- Eso quiere decir que tenemos algunos valores atípicos *demasiado* grandes (si los comparamos con el resto de los valores)\n",
        "- La mediana nos estaba dando un número más cercano al verdadero \"valor típico\" que el promedio.\n",
        "- El promedio tenía un sesgo hacia arriba debido a los valores extremadamente grandes.\n",
        "- El rango entre el valor máximo y mínimo no nos da una medida representativa de qué valores pueden tomar nuestros datos.\n",
        "\n",
        "#### Rango intercuartílico\n",
        "\n",
        "Otra medida muy común es lo que llamamos el rango intercuartílico, que es la diferencia entre el percentil 75 y el percentil 25. Este número nos da una idea del rango que tienen los valores más cercanos al valor típico.\n",
        "\n",
        "En nuestro ejemplo, nuestro rango intercuartílico sería:"
      ]
    },
    {
      "cell_type": "code",
      "execution_count": null,
      "metadata": {
        "id": "t9iWRKnPKKqJ",
        "outputId": "253acb6e-4de8-4f33-d6b2-253b7a4eed53",
        "colab": {
          "base_uri": "https://localhost:8080/"
        }
      },
      "outputs": [
        {
          "output_type": "execute_result",
          "data": {
            "text/plain": [
              "685000.0"
            ]
          },
          "metadata": {},
          "execution_count": 60
        }
      ],
      "source": [
        "df[\"price\"].quantile(0.75) - df[\"price\"].quantile(0.25)"
      ]
    },
    {
      "cell_type": "markdown",
      "metadata": {
        "id": "ru9-B1wFKKqK"
      },
      "source": [
        "Podemos observar que el rango de los \"valores típicos\" es muchísimo menor al rango total de nuestros datos.\n",
        "\n",
        "¡En la próxima sesión vamos a aprender a visualizar estas estadísticas para que las relaciones entre ellas queden mucho más claras!"
      ]
    },
    {
      "cell_type": "code",
      "execution_count": null,
      "metadata": {
        "id": "5dZ7_QI7KKqK"
      },
      "outputs": [],
      "source": []
    },
    {
      "cell_type": "markdown",
      "metadata": {
        "id": "eItFJ4mBKaq1"
      },
      "source": [
        "## Reto 4: Estadísticos de orden\n",
        "\n",
        "### 1. Objetivos:\n",
        "    - \n",
        " \n",
        "---\n",
        "    \n",
        "### 2. Desarrollo:"
      ]
    },
    {
      "cell_type": "markdown",
      "metadata": {
        "id": "dH2XyiOFKaq3"
      },
      "source": [
        "#### a) Percentiles para evaluar la dispersión de nuestros datos\n",
        "\n",
        "Tienes debajo 4 series. Cada una de esas series contiene un conjunto de datos conformado por números enteros en el intervalo de 1 a 10. Los datos en cada una de estas series tienen un tipo de dispersión distinta. Los valores típicos cambian así como los valores atípicos. Las medianas también son diferentes.\n",
        "\n",
        "Usando percentiles, obtén información acerca de cuál es el valor donde están concentrados nuestros datos y cómo está configurada su dispersión. Entre más percentiles utilices, obtienes una descripción más detallada, pero como el dataset es muy pequeño, no necesitas tanta granularidad.\n",
        "\n",
        "Obtén los percentiles y comenta con la experta y tus compañeros qué cosas podemos inferir acerca de nuestros datos utilizando estos valores."
      ]
    },
    {
      "cell_type": "code",
      "execution_count": null,
      "metadata": {
        "id": "Eqc2SDTEKaq4"
      },
      "outputs": [],
      "source": [
        "import pandas as pd"
      ]
    },
    {
      "cell_type": "code",
      "execution_count": null,
      "metadata": {
        "id": "Y9lBIgT2Kaq4"
      },
      "outputs": [],
      "source": [
        "# Pídele a la experta que te comparta las 4 series\n",
        "\n",
        "import pandas as pd\n",
        "\n",
        "serie_1 = pd.Series([1, 1, 1, 1, 1, 2, 2, 2, 2, 2, 2, 3, 3, 3, 3, 3, 3, 3, 4, 4, 4, 4, 4, 4, 4, 4, 5, 5, 5, 5, 5, 5, 5, 5, 5, 5, 5, 6, 6, 6, 6, 6, 6, 6, 6, 7, 7, 7, 7, 7, 7, 7, 7, 7, 8, 8, 8, 8, 8, 8, 8, 9, 9, 9, 9, 9, 9, 10, 10, 10, 10, 10])\n",
        "serie_2 = pd.Series([1, 1, 1, 2, 2, 2, 2, 2, 3, 3, 3, 3, 4, 4, 4, 4, 4, 4, 5, 5, 5, 5, 5, 5, 6, 6, 6, 6, 6, 6, 6, 6, 6, 6, 6, 6, 7, 7, 7, 7, 7, 7, 7, 7, 7, 7, 7, 7, 7, 7, 7, 7, 7, 7, 8, 8, 8, 8, 8, 8, 8, 8, 8, 8, 8, 8, 8, 8, 8, 8, 8, 8, 8, 8, 8, 8, 8, 8, 8, 9, 9, 9, 9, 9, 9, 9, 9, 9, 9, 10, 10, 10, 10, 10, 10, 10, 10, 10, 10])\n",
        "serie_3 = pd.Series([1, 1, 2, 2, 2, 3, 3, 3, 4, 4, 4, 4, 4, 4, 4, 4, 4, 4, 4, 4, 4, 4, 4, 5, 5, 5, 5, 5, 5, 5, 5, 5, 5, 5, 5, 5, 5, 5, 5, 5, 5, 5, 5, 5, 5, 5, 5, 5, 5, 5, 5, 5, 5, 5, 5, 5, 5, 5, 5, 5, 5, 5, 5, 5, 5, 5, 5, 5, 6, 6, 6, 6, 6, 6, 6, 6, 6, 6, 6, 6, 6, 6, 6, 6, 6, 6, 6, 6, 6, 6, 6, 6, 6, 6, 6, 6, 6, 6, 6, 6, 6, 6, 6, 6, 7, 7, 7, 7, 7, 7, 7, 7, 7, 7, 7, 7, 7, 7, 7, 7, 7, 7, 8, 8, 8, 8, 9, 9, 9, 10, 10])\n",
        "serie_4 = pd.Series([1, 1, 1, 1, 1, 1, 1, 2, 2, 2, 2, 2, 2, 2, 2, 2, 2, 2, 2, 2, 2, 2, 2, 2, 2, 3, 3, 3, 3, 3, 3, 3, 3, 3, 3, 3, 3, 3, 3, 3, 3, 3, 3, 3, 3, 3, 3, 3, 3, 3, 3, 3, 4, 4, 4, 4, 4, 4, 4, 4, 4, 4, 4, 4, 4, 4, 5, 5, 5, 5, 5, 5, 5, 5, 5, 6, 6, 6, 6, 6, 6, 6, 7, 7, 7, 7, 7, 8, 8, 8, 8, 8, 9, 9, 9, 9, 10, 10, 10])"
      ]
    },
    {
      "cell_type": "code",
      "source": [
        "print(f'Valor mínimo: {serie_1.min()}')\n",
        "print(f'Percentil 10: {serie_1.quantile(0.1)}')\n",
        "print(f'Percentil 25: {serie_1.quantile(0.25)}')\n",
        "print(f'Percentil 50: {serie_1.median()}')\n",
        "print(f'Percentil 75: {serie_1.quantile(0.75)}')\n",
        "print(f'Percentil 90: {serie_1.quantile(0.9)}')\n",
        "print(f'Valor máximo: {serie_1.max()}')"
      ],
      "metadata": {
        "colab": {
          "base_uri": "https://localhost:8080/"
        },
        "id": "FI5LaNxdxW0S",
        "outputId": "d65be811-2bb7-4a68-c5b2-5fa883d84065"
      },
      "execution_count": null,
      "outputs": [
        {
          "output_type": "stream",
          "name": "stdout",
          "text": [
            "Valor mínimo: 1\n",
            "Percentil 10: 2.0\n",
            "Percentil 25: 3.75\n",
            "Percentil 50: 5.0\n",
            "Percentil 75: 7.25\n",
            "Percentil 90: 9.0\n",
            "Valor máximo: 10\n"
          ]
        }
      ]
    },
    {
      "cell_type": "code",
      "source": [
        "print(f'Valor mínimo: {serie_2.min()}')\n",
        "print(f'Percentil 10: {serie_2.quantile(0.1)}')\n",
        "print(f'Percentil 25: {serie_2.quantile(0.25)}')\n",
        "print(f'Percentil 50: {serie_2.median()}')\n",
        "print(f'Percentil 75: {serie_2.quantile(0.75)}')\n",
        "print(f'Percentil 90: {serie_2.quantile(0.9)}')\n",
        "print(f'Valor máximo: {serie_2.max()}')"
      ],
      "metadata": {
        "colab": {
          "base_uri": "https://localhost:8080/"
        },
        "id": "qly-715PxWxL",
        "outputId": "0ede0a09-8e65-4eee-e760-23d9785c3c87"
      },
      "execution_count": null,
      "outputs": [
        {
          "output_type": "stream",
          "name": "stdout",
          "text": [
            "Valor mínimo: 1\n",
            "Percentil 10: 3.0\n",
            "Percentil 25: 6.0\n",
            "Percentil 50: 7.0\n",
            "Percentil 75: 8.0\n",
            "Percentil 90: 9.200000000000003\n",
            "Valor máximo: 10\n"
          ]
        }
      ]
    },
    {
      "cell_type": "code",
      "source": [
        "print(f'Valor mínimo: {serie_3.min()}')\n",
        "print(f'Percentil 10: {serie_3.quantile(0.1)}')\n",
        "print(f'Percentil 25: {serie_3.quantile(0.25)}')\n",
        "print(f'Percentil 50: {serie_3.median()}')\n",
        "print(f'Percentil 75: {serie_3.quantile(0.75)}')\n",
        "print(f'Percentil 90: {serie_3.quantile(0.9)}')\n",
        "print(f'Valor máximo: {serie_3.max()}')"
      ],
      "metadata": {
        "colab": {
          "base_uri": "https://localhost:8080/"
        },
        "id": "fUcTZ-13xWqO",
        "outputId": "f20456c6-3edf-4ead-a703-b3abee670bb8"
      },
      "execution_count": null,
      "outputs": [
        {
          "output_type": "stream",
          "name": "stdout",
          "text": [
            "Valor mínimo: 1\n",
            "Percentil 10: 4.0\n",
            "Percentil 25: 5.0\n",
            "Percentil 50: 5.0\n",
            "Percentil 75: 6.0\n",
            "Percentil 90: 7.0\n",
            "Valor máximo: 10\n"
          ]
        }
      ]
    },
    {
      "cell_type": "code",
      "source": [
        "print(f'Valor mínimo: {serie_4.min()}')\n",
        "print(f'Percentil 10: {serie_4.quantile(0.1)}')\n",
        "print(f'Percentil 25: {serie_4.quantile(0.25)}')\n",
        "print(f'Percentil 50: {serie_4.median()}')\n",
        "print(f'Percentil 75: {serie_4.quantile(0.75)}')\n",
        "print(f'Percentil 90: {serie_4.quantile(0.9)}')\n",
        "print(f'Valor máximo: {serie_4.max()}')"
      ],
      "metadata": {
        "colab": {
          "base_uri": "https://localhost:8080/"
        },
        "id": "dXVQloQ_1eIO",
        "outputId": "72a61f52-51b0-449b-bffb-7568f33c727d"
      },
      "execution_count": null,
      "outputs": [
        {
          "output_type": "stream",
          "name": "stdout",
          "text": [
            "Valor mínimo: 1\n",
            "Percentil 10: 2.0\n",
            "Percentil 25: 2.5\n",
            "Percentil 50: 3.0\n",
            "Percentil 75: 5.0\n",
            "Percentil 90: 8.0\n",
            "Valor máximo: 10\n"
          ]
        }
      ]
    },
    {
      "cell_type": "markdown",
      "metadata": {
        "id": "V-t5aaSnKaq4"
      },
      "source": [
        "#### b) Percentiles para evaluar nuestro dataset de meteoritos\n",
        "\n",
        "Ahora vamos a aplicar los percentiles a nuestro dataset de objetos que han orbitado cerca de la Tierra. Queremos entender cómo están organizados nuestros datos.\n",
        "\n",
        "En el Reto pasado, usamos la desviación estándar para obtener la \"desviación esperada\" de nuestros datos. Aprendimos que la mayoría de nuestros datos están a una distancia de 1 desviación estándar o menos del promedio. Entre más desviaciones estándares añadíamos, menos datos quedaban fuera de nuestros subconjuntos. Lo que no sabemos es dónde están concentrados nuestros datos.\n",
        "\n",
        "Piensa en lo siguiente:\n",
        "\n",
        "Si tenemos un dataset con rango de 1 a 10, y nuestra desviación estándar es 2.5, los datos pueden estar organizados de maneras muy distintas:\n",
        "\n",
        "- Podría ser que el promedio es 3 y que la mayoría de los datos están en el rango de 0.5 a 5.5. En este caso podría haber datos muy distintos al resto en el parte superior del rango total (los valores entre 5.5 y 10).\n",
        "- Podría ser que el promedio es 7 y que la mayoría de los datos están en el rango de 4.5 a 9.5. En este caso los datos atípicos estarían concentrados en la parte inferior del rango total.\n",
        "- Podría ser que el promedio es 5 y que la mayoría de los datos están concentrados en el rango de 2.5 a 7.5. En este caso, lo más normal es que los datos estén alrededor del valor que está justo a la mitad del rango total y es cada vez más raro encontrar datos muy pequeños o muy grandes.\n",
        "\n",
        "Hay muchas otras posibilidades, pero lo importante es darse cuenta de que saber solamente la desviación estándar nos da aún una descripción muy ambigua de nuestros datos. Saber el promedio ya es un primer indicador de lo que está pasando en realidad. Pero saber además los percentiles nos puede dar una idea muchísimo más clara de cómo están acomodados nuestros datos.\n",
        "\n",
        "Lee el dataset 'near_earth_objects-jan_feb_1995-clean.csv' y obtén percentiles de la columna 'estimated_diameter.meters.estimated_diameter_max'. Comenta con tus compañeros y con la experta tus hallazgos y tus hipótesis acerca de qué podemos aprender sobre la organización de nuestros datos usando los percentiles."
      ]
    },
    {
      "cell_type": "code",
      "execution_count": null,
      "metadata": {
        "id": "GON1aOHZKaq5",
        "colab": {
          "base_uri": "https://localhost:8080/"
        },
        "outputId": "c723c3eb-caf4-4924-aa34-2b708904ddee"
      },
      "outputs": [
        {
          "output_type": "stream",
          "name": "stdout",
          "text": [
            "Valor mínimo: 2.978790628\n",
            "Percentil 10: 28.4472296503\n",
            "Percentil 25: 62.2357573367\n",
            "Percentil 50: 215.7943048444\n",
            "Percentil 75: 517.6544821978\n",
            "Percentil 90: 986.3702813054\n",
            "Valor máximo: 6516.883821679\n"
          ]
        }
      ],
      "source": [
        "df_meteoritos = pd.read_csv('/content/drive/MyDrive/BEDU2023F3/Remoto_Datasets/Remoto near_earth_objects-jan_feb_1995-clean.csv', index_col=0)\n",
        "print(f'Valor mínimo: {df_meteoritos[\"estimated_diameter.meters.estimated_diameter_max\"].min()}')\n",
        "print(f'Percentil 10: {df_meteoritos[\"estimated_diameter.meters.estimated_diameter_max\"].quantile(0.1)}')\n",
        "print(f'Percentil 25: {df_meteoritos[\"estimated_diameter.meters.estimated_diameter_max\"].quantile(0.25)}')\n",
        "print(f'Percentil 50: {df_meteoritos[\"estimated_diameter.meters.estimated_diameter_max\"].median()}')\n",
        "print(f'Percentil 75: {df_meteoritos[\"estimated_diameter.meters.estimated_diameter_max\"].quantile(0.75)}')\n",
        "print(f'Percentil 90: {df_meteoritos[\"estimated_diameter.meters.estimated_diameter_max\"].quantile(0.9)}')\n",
        "print(f'Valor máximo: {df_meteoritos[\"estimated_diameter.meters.estimated_diameter_max\"].max()}')"
      ]
    },
    {
      "cell_type": "markdown",
      "source": [
        "***\n",
        "***\n",
        "***"
      ],
      "metadata": {
        "id": "1Vpd7wzkGbKe"
      }
    },
    {
      "cell_type": "markdown",
      "source": [
        "# **Retos**"
      ],
      "metadata": {
        "id": "B9aOWHODGdcu"
      }
    },
    {
      "cell_type": "markdown",
      "source": [
        "# Reto 2: Estimados de locación\n",
        "\n",
        "## 1. Objetivos:\n",
        "- Implementar los algoritmos para obtener estimados de locación sin utilizar los métodos builtin de pandas\n",
        " \n",
        "---\n",
        "    \n",
        "## 2. Desarrollo:\n",
        "\n",
        "### a) Implementando estimados de locación\n",
        "\n",
        "Este Reto va a consistir en implementar el promedio y la mediana sin utilizar los métodos `mean` y `median` que vienen incluidos en `pandas`. Implementar algoritmos desde 0 es una excelente práctica que nos ayuda a entenderlos mejor y recordarlos con más precisión.\n",
        "\n",
        "Puedes utilizar `pandas` y otras funciones vectorizadas o de reducción. Las únicas funciones que no están permitidas son `mean` y `median`. Las dos funciones que vas a crear deben recibir una serie de `pandas` y regresar un solo número."
      ],
      "metadata": {
        "id": "S3e9TjhxIDrT"
      }
    },
    {
      "cell_type": "code",
      "source": [
        "import pandas as pd\n",
        "import numpy as np\n",
        "\n",
        "def promedio_custom(serie):\n",
        "    lista_values = serie.to_list()\n",
        "    suma_values = sum(lista_values)\n",
        "    numero_de_values = len(lista_values)\n",
        "    promedio = suma_values / numero_de_values\n",
        "    return promedio\n",
        "\n",
        "def mediana_custom(serie):\n",
        "    lista_values = serie.to_list()\n",
        "    lista_values.sort() # Se ordena de menor a mayor\n",
        "    numero_de_values = len(lista_values)\n",
        "    if numero_de_values%2 > 0: # Si es impar\n",
        "        idx_mediana = numero_de_values // 2\n",
        "        mediana = lista_values[idx_mediana]\n",
        "        return mediana\n",
        "    else: # Si es par\n",
        "        idx_mediana_01 = numero_de_values // 2\n",
        "        idx_mediana_02 = idx_mediana_01 - 1\n",
        "        mediana = (lista_values[idx_mediana_01] + lista_values[idx_mediana_02])/2\n",
        "        return mediana"
      ],
      "metadata": {
        "id": "GJNpDPLAvZR8"
      },
      "execution_count": 8,
      "outputs": []
    },
    {
      "cell_type": "markdown",
      "source": [
        "### b) Estimados de locación de diámetros de meteoritos\n",
        "\n",
        "Ahora vamos a utilizar nuestras funciones custom para obtener estimados de locación de un conjunto de datos que contiene información acerca de objetos que orbitaron cerca de la Tierra durante el periodo de enero y febrero de 1995.\n",
        "\n",
        "El dataset se llama 'near_earth_objects-jan_feb_1995-clean.csv' y la columna que vamos a analizar se llama 'estimated_diameter.meters.estimated_diameter_max'. Esta columna contiene el diámetro máximo estimado de cada objeto.\n",
        "\n",
        "El reto es el siguiente:\n",
        "\n",
        "1. Lee el dataset usando `pandas`.\n",
        "2. Obtén el promedio y la mediana usando tus funciones custom y asígnalas a `promedio_diametro` y `mediana_diametro`.\n"
      ],
      "metadata": {
        "id": "BrCZuA1cIjDG"
      }
    },
    {
      "cell_type": "code",
      "source": [
        "# Lee el dataset y asígnalo a esta variable\n",
        "df_meteoritos = pd.read_csv(\"https://raw.githubusercontent.com/jaeem006/beduadp/master/Datasets/near_earth_objects-jan_feb_1995-clean.csv\")"
      ],
      "metadata": {
        "id": "XkDXTCKDIcxu"
      },
      "execution_count": 9,
      "outputs": []
    },
    {
      "cell_type": "code",
      "source": [
        "promedio_diametro = promedio_custom(df_meteoritos['estimated_diameter.meters.estimated_diameter_max'])\n",
        "promedio_diametro"
      ],
      "metadata": {
        "colab": {
          "base_uri": "https://localhost:8080/"
        },
        "id": "qg76-xfaKS2d",
        "outputId": "a68e83f7-e4ff-496b-ddf2-2fcb683ec30c"
      },
      "execution_count": 10,
      "outputs": [
        {
          "output_type": "execute_result",
          "data": {
            "text/plain": [
              "410.0860422397653"
            ]
          },
          "metadata": {},
          "execution_count": 10
        }
      ]
    },
    {
      "cell_type": "code",
      "source": [
        "df_meteoritos['estimated_diameter.meters.estimated_diameter_max'].mean()"
      ],
      "metadata": {
        "colab": {
          "base_uri": "https://localhost:8080/"
        },
        "id": "c77OQ-ZWJdi2",
        "outputId": "b001729a-13d7-4e67-d344-f4dec0e2b4d8"
      },
      "execution_count": 11,
      "outputs": [
        {
          "output_type": "execute_result",
          "data": {
            "text/plain": [
              "410.08604223976545"
            ]
          },
          "metadata": {},
          "execution_count": 11
        }
      ]
    },
    {
      "cell_type": "code",
      "source": [
        "mediana_diametro = mediana_custom(df_meteoritos['estimated_diameter.meters.estimated_diameter_max'])\n",
        "mediana_diametro"
      ],
      "metadata": {
        "colab": {
          "base_uri": "https://localhost:8080/"
        },
        "id": "rm7wLsG0JhLw",
        "outputId": "35fbc971-ebf1-4e77-90db-64945a31d092"
      },
      "execution_count": 12,
      "outputs": [
        {
          "output_type": "execute_result",
          "data": {
            "text/plain": [
              "215.7943048444"
            ]
          },
          "metadata": {},
          "execution_count": 12
        }
      ]
    },
    {
      "cell_type": "code",
      "source": [
        "df_meteoritos['estimated_diameter.meters.estimated_diameter_max'].median()"
      ],
      "metadata": {
        "colab": {
          "base_uri": "https://localhost:8080/"
        },
        "id": "ITZDMVMkKI_D",
        "outputId": "dddfb72f-a002-4ed1-a5e2-2eadf30ce8fd"
      },
      "execution_count": 13,
      "outputs": [
        {
          "output_type": "execute_result",
          "data": {
            "text/plain": [
              "215.7943048444"
            ]
          },
          "metadata": {},
          "execution_count": 13
        }
      ]
    },
    {
      "cell_type": "markdown",
      "source": [
        "***\n",
        "***"
      ],
      "metadata": {
        "id": "Jtl4RvarKXxX"
      }
    },
    {
      "cell_type": "markdown",
      "source": [
        "# Reto 3: Desviación estándar\n",
        "\n",
        "## 1. Objetivos:\n",
        "- Utilizar la desviación estándar para realizar un análisis de dispersión de nuestros datos\n",
        " \n",
        "---\n",
        "    \n",
        "## 2. Desarrollo:\n",
        "\n",
        "### a) Desviación estándar y distribución de los datos\n",
        "\n",
        "Como ya vimos, la desviación estándar es la medida que nos da la \"desviación típica\" (o esperada) de nuestros datos a comparación del promedio. Eso quiere decir que normalmente vamos a esperar que una gran parte de nuestros datos se encuentren a 1 desviación estándar de distancia del promedio. Entre más nos alejamos, menos muestras deberíamos de encontrar.\n",
        "\n",
        "Vamos a comprobar esto usando nuestro dataset de meteoritos que orbitan cerca de la Tierra. Tu Reto consiste en los siguientes pasos:\n",
        "\n",
        "1. Crea un DataFrame con el dataset `near_earth_objects-jan_feb_1995-clean.csv`.\n",
        "2. Obtén la cantidad total de datos en tu DataFrame.\n",
        "3. Obtén la desviación estándar de la columna 'estimated_diameter.meters.estimated_diameter_max'. Los siguientes pasos realízalos todos utilizando esta columna.\n",
        "4. Obtén el porcentaje de muestras que están a una distancia de 1 desviación estándar del promedio.\n",
        "5. Obtén el porcentaje de muestras que están a una distancia de 2 desviaciones estándares del promedio (multiplicar * 2).\n",
        "6. Obtén el porcentaje de muestras que están a una distancia de 3 desviaciones estándares del promedio (multiplicar * 3).\n",
        "7. Compara los porcentajes obtenidos y comenta con tus compañeros y la experta tus hallazgos. ¿Qué significa esto? ¿La definición de desviación estándar tiene sentido? ¿Qué puedo inferir acerca de la dispersión de mis datos a partir de los valores obtenidos?\n",
        "\n",
        "> Nota: Para obtener los porcentajes de los subconjuntos primero necesitas filtrar el DataFrame original para que sólo permanezcan las muestras que cumplan con los requisitos.\n",
        "\n",
        "> Nota: Este Reto está diseñado para tener una dificultad media. No te frustres si al principio parece demasiado difícil. Comienza poco a poco, resolviendo el problema en pedazos pequeños, y si no tienes la menor idea de cómo proceder recuerda que la experta está ahí para ayudarte.\n",
        "\n"
      ],
      "metadata": {
        "id": "fAQ7t8RRRYOQ"
      }
    },
    {
      "cell_type": "markdown",
      "source": [
        "### Puntos 1 al 3"
      ],
      "metadata": {
        "id": "ZIZRcCU-RK9x"
      }
    },
    {
      "cell_type": "code",
      "source": [
        "# Carga de bibliotecas\n",
        "import numpy as np\n",
        "import pandas as pd"
      ],
      "metadata": {
        "id": "KoXNJ83RPd6j"
      },
      "execution_count": 1,
      "outputs": []
    },
    {
      "cell_type": "markdown",
      "source": [
        "### 1. Crear DataFrame"
      ],
      "metadata": {
        "id": "kaLtFfvhQ7f1"
      }
    },
    {
      "cell_type": "code",
      "source": [
        "df_meteoritos = pd.read_csv(\"https://raw.githubusercontent.com/jaeem006/beduadp/master/Datasets/near_earth_objects-jan_feb_1995-clean.csv\", index_col= 0)"
      ],
      "metadata": {
        "id": "FkiiomfTPdp3"
      },
      "execution_count": 2,
      "outputs": []
    },
    {
      "cell_type": "markdown",
      "source": [
        "### 2. Cantidad de datos en el DataFrame (filas)"
      ],
      "metadata": {
        "id": "yOzUMgpHQeJR"
      }
    },
    {
      "cell_type": "code",
      "source": [
        "num_filas = df_meteoritos.shape[0]\n",
        "print(f\"El DataFrame tiene {num_filas} filas\")\n",
        "df_meteoritos"
      ],
      "metadata": {
        "colab": {
          "base_uri": "https://localhost:8080/",
          "height": 713
        },
        "id": "zHGN6aMAPdfb",
        "outputId": "3fc598ec-fd98-45a7-97db-07dc0ca27f4f"
      },
      "execution_count": 3,
      "outputs": [
        {
          "output_type": "stream",
          "name": "stdout",
          "text": [
            "El DataFrame tiene 333 filas\n"
          ]
        },
        {
          "output_type": "execute_result",
          "data": {
            "text/plain": [
              "          id                 name  is_potentially_hazardous_asteroid  \\\n",
              "0    2154652   154652 (2004 EP20)                              False   \n",
              "1    3153509            (2003 HM)                               True   \n",
              "2    3516633            (2010 HA)                              False   \n",
              "3    3837644           (2019 AY3)                              False   \n",
              "4    3843493            (2019 PY)                              False   \n",
              "..       ...                  ...                                ...   \n",
              "328  2267136  267136 (2000 EF104)                              False   \n",
              "329  3360486           (2006 WE4)                              False   \n",
              "330  3656919           (2014 BG3)                              False   \n",
              "331  3803762           (2018 GY4)                              False   \n",
              "332  3989652           (2020 CH1)                              False   \n",
              "\n",
              "     estimated_diameter.meters.estimated_diameter_min  \\\n",
              "0                                          483.676488   \n",
              "1                                           96.506147   \n",
              "2                                           44.111820   \n",
              "3                                           46.190746   \n",
              "4                                           22.108281   \n",
              "..                                                ...   \n",
              "328                                        441.118200   \n",
              "329                                        441.118200   \n",
              "330                                        160.160338   \n",
              "331                                        421.264611   \n",
              "332                                         21.525586   \n",
              "\n",
              "     estimated_diameter.meters.estimated_diameter_max close_approach_date  \\\n",
              "0                                         1081.533507          1995-01-07   \n",
              "1                                          215.794305          1995-01-07   \n",
              "2                                           98.637028          1995-01-07   \n",
              "3                                          103.285648          1995-01-07   \n",
              "4                                           49.435619          1995-01-07   \n",
              "..                                                ...                 ...   \n",
              "328                                        986.370281          1995-02-21   \n",
              "329                                        986.370281          1995-02-21   \n",
              "330                                        358.129403          1995-02-21   \n",
              "331                                        941.976306          1995-02-21   \n",
              "332                                         48.132673          1995-02-21   \n",
              "\n",
              "     epoch_date_close_approach orbiting_body  \\\n",
              "0                 789467580000         Earth   \n",
              "1                 789491340000         Earth   \n",
              "2                 789446820000         Earth   \n",
              "3                 789513900000         Earth   \n",
              "4                 789446700000         Earth   \n",
              "..                         ...           ...   \n",
              "328               793340220000         Earth   \n",
              "329               793381440000         Earth   \n",
              "330               793368480000         Earth   \n",
              "331               793371240000         Earth   \n",
              "332               793404900000         Earth   \n",
              "\n",
              "     relative_velocity.kilometers_per_second  \\\n",
              "0                                  16.142864   \n",
              "1                                  12.351044   \n",
              "2                                   6.220435   \n",
              "3                                  22.478615   \n",
              "4                                   4.998691   \n",
              "..                                       ...   \n",
              "328                                16.180392   \n",
              "329                                15.106140   \n",
              "330                                20.343173   \n",
              "331                                29.732426   \n",
              "332                                 6.998083   \n",
              "\n",
              "     relative_velocity.kilometers_per_hour  \n",
              "0                             58114.308667  \n",
              "1                             44463.757734  \n",
              "2                             22393.567277  \n",
              "3                             80923.015021  \n",
              "4                             17995.288355  \n",
              "..                                     ...  \n",
              "328                           58249.410194  \n",
              "329                           54382.104639  \n",
              "330                           73235.423517  \n",
              "331                          107036.733058  \n",
              "332                           25193.097928  \n",
              "\n",
              "[333 rows x 10 columns]"
            ],
            "text/html": [
              "\n",
              "  <div id=\"df-c7ef83ff-b564-48a7-941b-8fe655a438b3\">\n",
              "    <div class=\"colab-df-container\">\n",
              "      <div>\n",
              "<style scoped>\n",
              "    .dataframe tbody tr th:only-of-type {\n",
              "        vertical-align: middle;\n",
              "    }\n",
              "\n",
              "    .dataframe tbody tr th {\n",
              "        vertical-align: top;\n",
              "    }\n",
              "\n",
              "    .dataframe thead th {\n",
              "        text-align: right;\n",
              "    }\n",
              "</style>\n",
              "<table border=\"1\" class=\"dataframe\">\n",
              "  <thead>\n",
              "    <tr style=\"text-align: right;\">\n",
              "      <th></th>\n",
              "      <th>id</th>\n",
              "      <th>name</th>\n",
              "      <th>is_potentially_hazardous_asteroid</th>\n",
              "      <th>estimated_diameter.meters.estimated_diameter_min</th>\n",
              "      <th>estimated_diameter.meters.estimated_diameter_max</th>\n",
              "      <th>close_approach_date</th>\n",
              "      <th>epoch_date_close_approach</th>\n",
              "      <th>orbiting_body</th>\n",
              "      <th>relative_velocity.kilometers_per_second</th>\n",
              "      <th>relative_velocity.kilometers_per_hour</th>\n",
              "    </tr>\n",
              "  </thead>\n",
              "  <tbody>\n",
              "    <tr>\n",
              "      <th>0</th>\n",
              "      <td>2154652</td>\n",
              "      <td>154652 (2004 EP20)</td>\n",
              "      <td>False</td>\n",
              "      <td>483.676488</td>\n",
              "      <td>1081.533507</td>\n",
              "      <td>1995-01-07</td>\n",
              "      <td>789467580000</td>\n",
              "      <td>Earth</td>\n",
              "      <td>16.142864</td>\n",
              "      <td>58114.308667</td>\n",
              "    </tr>\n",
              "    <tr>\n",
              "      <th>1</th>\n",
              "      <td>3153509</td>\n",
              "      <td>(2003 HM)</td>\n",
              "      <td>True</td>\n",
              "      <td>96.506147</td>\n",
              "      <td>215.794305</td>\n",
              "      <td>1995-01-07</td>\n",
              "      <td>789491340000</td>\n",
              "      <td>Earth</td>\n",
              "      <td>12.351044</td>\n",
              "      <td>44463.757734</td>\n",
              "    </tr>\n",
              "    <tr>\n",
              "      <th>2</th>\n",
              "      <td>3516633</td>\n",
              "      <td>(2010 HA)</td>\n",
              "      <td>False</td>\n",
              "      <td>44.111820</td>\n",
              "      <td>98.637028</td>\n",
              "      <td>1995-01-07</td>\n",
              "      <td>789446820000</td>\n",
              "      <td>Earth</td>\n",
              "      <td>6.220435</td>\n",
              "      <td>22393.567277</td>\n",
              "    </tr>\n",
              "    <tr>\n",
              "      <th>3</th>\n",
              "      <td>3837644</td>\n",
              "      <td>(2019 AY3)</td>\n",
              "      <td>False</td>\n",
              "      <td>46.190746</td>\n",
              "      <td>103.285648</td>\n",
              "      <td>1995-01-07</td>\n",
              "      <td>789513900000</td>\n",
              "      <td>Earth</td>\n",
              "      <td>22.478615</td>\n",
              "      <td>80923.015021</td>\n",
              "    </tr>\n",
              "    <tr>\n",
              "      <th>4</th>\n",
              "      <td>3843493</td>\n",
              "      <td>(2019 PY)</td>\n",
              "      <td>False</td>\n",
              "      <td>22.108281</td>\n",
              "      <td>49.435619</td>\n",
              "      <td>1995-01-07</td>\n",
              "      <td>789446700000</td>\n",
              "      <td>Earth</td>\n",
              "      <td>4.998691</td>\n",
              "      <td>17995.288355</td>\n",
              "    </tr>\n",
              "    <tr>\n",
              "      <th>...</th>\n",
              "      <td>...</td>\n",
              "      <td>...</td>\n",
              "      <td>...</td>\n",
              "      <td>...</td>\n",
              "      <td>...</td>\n",
              "      <td>...</td>\n",
              "      <td>...</td>\n",
              "      <td>...</td>\n",
              "      <td>...</td>\n",
              "      <td>...</td>\n",
              "    </tr>\n",
              "    <tr>\n",
              "      <th>328</th>\n",
              "      <td>2267136</td>\n",
              "      <td>267136 (2000 EF104)</td>\n",
              "      <td>False</td>\n",
              "      <td>441.118200</td>\n",
              "      <td>986.370281</td>\n",
              "      <td>1995-02-21</td>\n",
              "      <td>793340220000</td>\n",
              "      <td>Earth</td>\n",
              "      <td>16.180392</td>\n",
              "      <td>58249.410194</td>\n",
              "    </tr>\n",
              "    <tr>\n",
              "      <th>329</th>\n",
              "      <td>3360486</td>\n",
              "      <td>(2006 WE4)</td>\n",
              "      <td>False</td>\n",
              "      <td>441.118200</td>\n",
              "      <td>986.370281</td>\n",
              "      <td>1995-02-21</td>\n",
              "      <td>793381440000</td>\n",
              "      <td>Earth</td>\n",
              "      <td>15.106140</td>\n",
              "      <td>54382.104639</td>\n",
              "    </tr>\n",
              "    <tr>\n",
              "      <th>330</th>\n",
              "      <td>3656919</td>\n",
              "      <td>(2014 BG3)</td>\n",
              "      <td>False</td>\n",
              "      <td>160.160338</td>\n",
              "      <td>358.129403</td>\n",
              "      <td>1995-02-21</td>\n",
              "      <td>793368480000</td>\n",
              "      <td>Earth</td>\n",
              "      <td>20.343173</td>\n",
              "      <td>73235.423517</td>\n",
              "    </tr>\n",
              "    <tr>\n",
              "      <th>331</th>\n",
              "      <td>3803762</td>\n",
              "      <td>(2018 GY4)</td>\n",
              "      <td>False</td>\n",
              "      <td>421.264611</td>\n",
              "      <td>941.976306</td>\n",
              "      <td>1995-02-21</td>\n",
              "      <td>793371240000</td>\n",
              "      <td>Earth</td>\n",
              "      <td>29.732426</td>\n",
              "      <td>107036.733058</td>\n",
              "    </tr>\n",
              "    <tr>\n",
              "      <th>332</th>\n",
              "      <td>3989652</td>\n",
              "      <td>(2020 CH1)</td>\n",
              "      <td>False</td>\n",
              "      <td>21.525586</td>\n",
              "      <td>48.132673</td>\n",
              "      <td>1995-02-21</td>\n",
              "      <td>793404900000</td>\n",
              "      <td>Earth</td>\n",
              "      <td>6.998083</td>\n",
              "      <td>25193.097928</td>\n",
              "    </tr>\n",
              "  </tbody>\n",
              "</table>\n",
              "<p>333 rows × 10 columns</p>\n",
              "</div>\n",
              "      <button class=\"colab-df-convert\" onclick=\"convertToInteractive('df-c7ef83ff-b564-48a7-941b-8fe655a438b3')\"\n",
              "              title=\"Convert this dataframe to an interactive table.\"\n",
              "              style=\"display:none;\">\n",
              "        \n",
              "  <svg xmlns=\"http://www.w3.org/2000/svg\" height=\"24px\"viewBox=\"0 0 24 24\"\n",
              "       width=\"24px\">\n",
              "    <path d=\"M0 0h24v24H0V0z\" fill=\"none\"/>\n",
              "    <path d=\"M18.56 5.44l.94 2.06.94-2.06 2.06-.94-2.06-.94-.94-2.06-.94 2.06-2.06.94zm-11 1L8.5 8.5l.94-2.06 2.06-.94-2.06-.94L8.5 2.5l-.94 2.06-2.06.94zm10 10l.94 2.06.94-2.06 2.06-.94-2.06-.94-.94-2.06-.94 2.06-2.06.94z\"/><path d=\"M17.41 7.96l-1.37-1.37c-.4-.4-.92-.59-1.43-.59-.52 0-1.04.2-1.43.59L10.3 9.45l-7.72 7.72c-.78.78-.78 2.05 0 2.83L4 21.41c.39.39.9.59 1.41.59.51 0 1.02-.2 1.41-.59l7.78-7.78 2.81-2.81c.8-.78.8-2.07 0-2.86zM5.41 20L4 18.59l7.72-7.72 1.47 1.35L5.41 20z\"/>\n",
              "  </svg>\n",
              "      </button>\n",
              "      \n",
              "  <style>\n",
              "    .colab-df-container {\n",
              "      display:flex;\n",
              "      flex-wrap:wrap;\n",
              "      gap: 12px;\n",
              "    }\n",
              "\n",
              "    .colab-df-convert {\n",
              "      background-color: #E8F0FE;\n",
              "      border: none;\n",
              "      border-radius: 50%;\n",
              "      cursor: pointer;\n",
              "      display: none;\n",
              "      fill: #1967D2;\n",
              "      height: 32px;\n",
              "      padding: 0 0 0 0;\n",
              "      width: 32px;\n",
              "    }\n",
              "\n",
              "    .colab-df-convert:hover {\n",
              "      background-color: #E2EBFA;\n",
              "      box-shadow: 0px 1px 2px rgba(60, 64, 67, 0.3), 0px 1px 3px 1px rgba(60, 64, 67, 0.15);\n",
              "      fill: #174EA6;\n",
              "    }\n",
              "\n",
              "    [theme=dark] .colab-df-convert {\n",
              "      background-color: #3B4455;\n",
              "      fill: #D2E3FC;\n",
              "    }\n",
              "\n",
              "    [theme=dark] .colab-df-convert:hover {\n",
              "      background-color: #434B5C;\n",
              "      box-shadow: 0px 1px 3px 1px rgba(0, 0, 0, 0.15);\n",
              "      filter: drop-shadow(0px 1px 2px rgba(0, 0, 0, 0.3));\n",
              "      fill: #FFFFFF;\n",
              "    }\n",
              "  </style>\n",
              "\n",
              "      <script>\n",
              "        const buttonEl =\n",
              "          document.querySelector('#df-c7ef83ff-b564-48a7-941b-8fe655a438b3 button.colab-df-convert');\n",
              "        buttonEl.style.display =\n",
              "          google.colab.kernel.accessAllowed ? 'block' : 'none';\n",
              "\n",
              "        async function convertToInteractive(key) {\n",
              "          const element = document.querySelector('#df-c7ef83ff-b564-48a7-941b-8fe655a438b3');\n",
              "          const dataTable =\n",
              "            await google.colab.kernel.invokeFunction('convertToInteractive',\n",
              "                                                     [key], {});\n",
              "          if (!dataTable) return;\n",
              "\n",
              "          const docLinkHtml = 'Like what you see? Visit the ' +\n",
              "            '<a target=\"_blank\" href=https://colab.research.google.com/notebooks/data_table.ipynb>data table notebook</a>'\n",
              "            + ' to learn more about interactive tables.';\n",
              "          element.innerHTML = '';\n",
              "          dataTable['output_type'] = 'display_data';\n",
              "          await google.colab.output.renderOutput(dataTable, element);\n",
              "          const docLink = document.createElement('div');\n",
              "          docLink.innerHTML = docLinkHtml;\n",
              "          element.appendChild(docLink);\n",
              "        }\n",
              "      </script>\n",
              "    </div>\n",
              "  </div>\n",
              "  "
            ]
          },
          "metadata": {},
          "execution_count": 3
        }
      ]
    },
    {
      "cell_type": "markdown",
      "source": [
        "### 3. Obtén la desviación estándar de la columna 'estimated_diameter.meters.estimated_diameter_max'. \n",
        "\n",
        "### Los siguientes pasos realízalos todos utilizando esta columna."
      ],
      "metadata": {
        "id": "wbn_liRoP293"
      }
    },
    {
      "cell_type": "code",
      "source": [
        "std_diametros = df_meteoritos['estimated_diameter.meters.estimated_diameter_max'].std()\n",
        "\n",
        "# Tambien la media\n",
        "media_diametros = df_meteoritos['estimated_diameter.meters.estimated_diameter_max'].mean()\n",
        "\n",
        "print(f\"La media aritmetica es {media_diametros}\")\n",
        "print(f\"La desviacion estandar es {std_diametros}\")"
      ],
      "metadata": {
        "colab": {
          "base_uri": "https://localhost:8080/"
        },
        "id": "acP5MYN0PdSs",
        "outputId": "33292a32-d15b-486c-dd18-24939a7fce9e"
      },
      "execution_count": 14,
      "outputs": [
        {
          "output_type": "stream",
          "name": "stdout",
          "text": [
            "La media aritmetica es 410.08604223976545\n",
            "La desviacion estandar es 614.6915918552232\n"
          ]
        }
      ]
    },
    {
      "cell_type": "markdown",
      "source": [
        "### ¿Qué significa que un dato esté a 1, 2 o 3 desviaciones estándar?\n",
        "\n",
        "Supongamos que contamos con una arreglo (lista, vector, columna, `pandas.Series` o lo que gustes). Vamos a llamar a este arreglo $\\vec{\\mathrm{x}}$, el cual esta conformado por $n$ número de elementos.\n",
        "\n",
        "Entonces una vista de $\\vec{\\mathrm{x}}$ sería:\n",
        "\n",
        "\n",
        "\\begin{equation*}\n",
        "\\vec{\\mathrm{x}} = \\{x_1, x_2, x_3, \\cdots , x_n\\}\n",
        "\\end{equation*}\n",
        "\n",
        "Este arreglo de elementos o conjunto de datos $\\vec{\\mathrm{x}}$, tiene un promedio $\\mu$ y una desviación estándar $\\sigma$. \n",
        "\n",
        "\n",
        "Ahora ¿cómo sabemos que tan dispersos están nuestros datos? ¿cuánta variabilidad hay de lo \"típico (que tan alejados del promedio $\\mu$ están)?\n",
        "\n",
        "Es importante definir una métrica, algo con que medir que tan lejos están los datos del promedio. Nuestra _regla_ o con lo que vamos a medir será la desviación estándar $\\sigma$. Es por eso que se dice que un dato se encuentra a 1$\\sigma$, 2$\\sigma$ o 3$\\sigma$.\n",
        "\n",
        "Tomemos en cuenta que los elementos de un conjunto de datos se pueden expresar como la media $\\mu$ más o menos $z$ veces la desviación estándar $\\sigma$\n",
        "\n",
        "\\begin{equation*}\n",
        "x_i = \\mu \\, + \\, z_i \\sigma\n",
        "\\end{equation*}\n",
        "\n",
        "Donde $x_i$ es un dato de nuestro conjunto $\\vec{\\mathrm{x}}$ y $z_i$ la podemos llamar nuestra distancia, es a cuántas desviaciones estándar $\\sigma$ esta nuestro dato del promedio $\\mu$. En algunas ocasiones $z_i$ será negativa, en ese caso, tomaremos el valor absoluto, ya que solo no importa el número, no tanto el signo que tenga y la representaremos como $\\mathbf{z_i}$.\n",
        "\n",
        "### ¿Y como podemos calcular $z_i$ en nuestro conjunto de datos?\n",
        "\n",
        "Bueno, empecemos tomando la ecuación que se mostró anteriormente. Como es una ecuación, significa que lo que está de un lado es igual a lo que está del otro. Esto nos dice que si modificamos un lado, tenemos que hacer lo mismo del otro lado, sea sumar, restar, dividir o multiplicar, lo que hago de un lado, lo tengo que hacer del otro.\n",
        "\n",
        "\\begin{align*}\n",
        "x_i &= \\mu \\, + \\, z_i \\sigma \\\\\n",
        "x_i - \\mu &= \\mu \\, + \\, z_i \\sigma - \\mu \\\\\n",
        "x_i - \\mu &=  \\, z_i \\sigma \\\\\n",
        "\\frac{x_i - \\mu}{\\sigma} &=  \\frac{z_i \\sigma}{\\sigma} \\\\\n",
        "\\frac{x_i - \\mu}{\\sigma} &=  z_i\n",
        "\\end{align*}\n",
        "\n",
        "De la última ecuación, tomaremos solo el valor absoluto de los resultados para poder obtener $\\mathbf{z_i}$.\n",
        "\n",
        "\\begin{equation*}\n",
        "\\mathbf{z_i} = \\left| \\frac{x_i - \\mu}{\\sigma} \\right| =  \\left| z_i \\right|\n",
        "\\end{equation*}\n",
        "\n",
        "Bueno, esta ecuación dice que para encontrar a cuántas desviaciones estándar se encuentra un dato del _dataset_ hay que encontrar la diferencia (o resta) entre el dato y el promedio, y después dividirlo entre la desviación estándar.\n"
      ],
      "metadata": {
        "id": "1_F5fOHAOzE3"
      }
    },
    {
      "cell_type": "markdown",
      "source": [
        "### Ejemplo con código\n",
        "\n",
        "Vamos a ver un ejemplo con código. Para ello vamos a dar un promedio y desviación estándar, de esta manera usaremos pocos datos para poder ver bien lo que estamos haciendo"
      ],
      "metadata": {
        "id": "daEoQB2GOUAC"
      }
    },
    {
      "cell_type": "code",
      "source": [
        "mu_ejemplo = 10   # Promedio\n",
        "sigma_ejemplo = 3 # Desviación estándar\n",
        "\n",
        "x = [7,9,12,15,11,10,12,6,4] # Conjunto de datos"
      ],
      "metadata": {
        "id": "i6W1TwLROLu-"
      },
      "execution_count": 5,
      "outputs": []
    },
    {
      "cell_type": "code",
      "source": [
        "# Crear funcion que calcule distancias en terminos de desviacion estandar\n",
        "def distancia_en_desviacion_estandar(xi, promedio = mu_ejemplo, desviacion_estandar = sigma_ejemplo):\n",
        "    diferencia_dato_promedio = xi - promedio\n",
        "    ai = diferencia_dato_promedio / desviacion_estandar\n",
        "    distancia_desviacion_estandar = abs(ai)\n",
        "    return distancia_desviacion_estandar\n",
        "\n",
        "print(\"Conjunto de datos\")\n",
        "print(x)\n",
        "print(\" \")\n",
        "print(\"Número de desviaciones estándar entre los datos y el promedio\")\n",
        "print(list(map(distancia_en_desviacion_estandar, x)))"
      ],
      "metadata": {
        "colab": {
          "base_uri": "https://localhost:8080/"
        },
        "id": "x9MPExZLN6DO",
        "outputId": "09b75dda-4fa5-41fa-979a-ef6ded5162a6"
      },
      "execution_count": 15,
      "outputs": [
        {
          "output_type": "stream",
          "name": "stdout",
          "text": [
            "Conjunto de datos\n",
            "[7, 9, 12, 15, 11, 10, 12, 6, 4]\n",
            " \n",
            "Número de desviaciones estándar entre los datos y el promedio\n",
            "[1.0, 0.3333333333333333, 0.6666666666666666, 1.6666666666666667, 0.3333333333333333, 0.0, 0.6666666666666666, 1.3333333333333333, 2.0]\n"
          ]
        }
      ]
    },
    {
      "cell_type": "markdown",
      "source": [
        "### Resto de los puntos\n",
        "\n",
        "Para poder encontrar los datos que se encuentran a 1, 2 y 3 desviaciones estándar, vamos a crear una columna que se llame `'numero_std_de_media'` que contenga las distancias entre el dato y el promedio en términos de desviaciones estándar.\n",
        "\n",
        "No es necesario crear una función como la de la explicación. Podemos trabajar directamente con las columnas."
      ],
      "metadata": {
        "id": "2sZ521INNQIq"
      }
    },
    {
      "cell_type": "code",
      "source": [
        "df_meteoritos['numero_std_de_media'] = abs((df_meteoritos['estimated_diameter.meters.estimated_diameter_max'] \\\n",
        "                                            - df_meteoritos['estimated_diameter.meters.estimated_diameter_max'].mean())\\\n",
        "                                           /df_meteoritos['estimated_diameter.meters.estimated_diameter_max'].std())"
      ],
      "metadata": {
        "id": "xGGGC07oNOg4"
      },
      "execution_count": 16,
      "outputs": []
    },
    {
      "cell_type": "code",
      "source": [
        "# 4. Obtén el porcentaje de muestras que están a una distancia de 1 desviación estándar del promedio.\n",
        "mask_1 = df_meteoritos['numero_std_de_media'] <= 1\n",
        "df_meteoritos[mask_1].shape[0] / num_filas"
      ],
      "metadata": {
        "colab": {
          "base_uri": "https://localhost:8080/"
        },
        "id": "Kty_PYvIMo40",
        "outputId": "bb6c359e-a6ba-4942-f20c-66e59c47ce4c"
      },
      "execution_count": 17,
      "outputs": [
        {
          "output_type": "execute_result",
          "data": {
            "text/plain": [
              "0.9039039039039038"
            ]
          },
          "metadata": {},
          "execution_count": 17
        }
      ]
    },
    {
      "cell_type": "code",
      "source": [
        "# 5. Obtén el porcentaje de muestras que están a una distancia de 2 desviaciones estándares del promedio (multiplicar * 2).\n",
        "mask_2 = df_meteoritos['numero_std_de_media'] <= 2\n",
        "df_meteoritos[mask_2].shape[0] / num_filas"
      ],
      "metadata": {
        "colab": {
          "base_uri": "https://localhost:8080/"
        },
        "id": "25HDbCh1Mogo",
        "outputId": "c4b9a81c-ddcc-4059-bb2b-ce42b756b2c6"
      },
      "execution_count": 18,
      "outputs": [
        {
          "output_type": "execute_result",
          "data": {
            "text/plain": [
              "0.963963963963964"
            ]
          },
          "metadata": {},
          "execution_count": 18
        }
      ]
    },
    {
      "cell_type": "code",
      "source": [
        "# 6. Obtén el porcentaje de muestras que están a una distancia de 3 desviaciones estándares del promedio (multiplicar * 3).\n",
        "mask_3 = df_meteoritos['numero_std_de_media'] <= 3\n",
        "df_meteoritos[mask_3].shape[0] / num_filas"
      ],
      "metadata": {
        "colab": {
          "base_uri": "https://localhost:8080/"
        },
        "id": "C_VYCFhSMoYI",
        "outputId": "89e56af5-8451-4bb3-a3d5-6a360853a03c"
      },
      "execution_count": 19,
      "outputs": [
        {
          "output_type": "execute_result",
          "data": {
            "text/plain": [
              "0.978978978978979"
            ]
          },
          "metadata": {},
          "execution_count": 19
        }
      ]
    },
    {
      "cell_type": "code",
      "source": [
        "# 7. Compara los porcentajes obtenidos y comenta con tus compañeros y la experta tus hallazgos. ¿Qué significa esto?\n",
        "#    ¿La definición de desviación estándar tiene sentido? ¿Qué puedo inferir acerca de la dispersión de mis datos a partir \n",
        "#    de los valores obtenidos?"
      ],
      "metadata": {
        "id": "RC9a3saJMoOU"
      },
      "execution_count": null,
      "outputs": []
    },
    {
      "cell_type": "markdown",
      "source": [
        "***\n",
        "***"
      ],
      "metadata": {
        "id": "He0JnYP1K11s"
      }
    },
    {
      "cell_type": "markdown",
      "source": [
        "# Reto 4: Estadísticos de orden\n",
        "   \n",
        "## 1. Desarrollo:\n",
        "\n",
        "#### a) Percentiles para evaluar la dispersión de nuestros datos\n",
        "\n",
        "Tienes debajo 4 series. Cada una de esas series contiene un conjunto de datos conformado por números enteros en el intervalo de 1 a 10. Los datos en cada una de estas series tienen un tipo de dispersión distinta. Los valores típicos cambian así como los valores atípicos. Las medianas también son diferentes.\n",
        "\n",
        "Usando percentiles, obtén información acerca de cuál es el valor donde están concentrados nuestros datos y cómo está configurada su dispersión. Entre más percentiles utilices, obtienes una descripción más detallada, pero como el dataset es muy pequeño, no necesitas tanta granularidad.\n",
        "\n",
        "Obtén los percentiles y comenta con la experta y tus compañeros qué cosas podemos inferir acerca de nuestros datos utilizando estos valores."
      ],
      "metadata": {
        "id": "o1afI548K3mY"
      }
    },
    {
      "cell_type": "code",
      "source": [
        "import pandas as pd\n",
        "\n",
        "serie_1 = pd.Series([1, 1, 1, 1, 1, 2, 2, 2, 2, 2, 2, 3, 3, 3, 3, 3, 3, 3, 4, 4, 4, 4, 4, 4, 4, 4, 5, 5, 5, 5, 5, 5, 5, 5, 5, 5, 5, 6, 6, 6, 6, 6, 6, 6, 6, 7, 7, 7, 7, 7, 7, 7, 7, 7, 8, 8, 8, 8, 8, 8, 8, 9, 9, 9, 9, 9, 9, 10, 10, 10, 10, 10])\n",
        "serie_2 = pd.Series([1, 1, 1, 2, 2, 2, 2, 2, 3, 3, 3, 3, 4, 4, 4, 4, 4, 4, 5, 5, 5, 5, 5, 5, 6, 6, 6, 6, 6, 6, 6, 6, 6, 6, 6, 6, 7, 7, 7, 7, 7, 7, 7, 7, 7, 7, 7, 7, 7, 7, 7, 7, 7, 7, 8, 8, 8, 8, 8, 8, 8, 8, 8, 8, 8, 8, 8, 8, 8, 8, 8, 8, 8, 8, 8, 8, 8, 8, 8, 9, 9, 9, 9, 9, 9, 9, 9, 9, 9, 10, 10, 10, 10, 10, 10, 10, 10, 10, 10])\n",
        "serie_3 = pd.Series([1, 1, 2, 2, 2, 3, 3, 3, 4, 4, 4, 4, 4, 4, 4, 4, 4, 4, 4, 4, 4, 4, 4, 5, 5, 5, 5, 5, 5, 5, 5, 5, 5, 5, 5, 5, 5, 5, 5, 5, 5, 5, 5, 5, 5, 5, 5, 5, 5, 5, 5, 5, 5, 5, 5, 5, 5, 5, 5, 5, 5, 5, 5, 5, 5, 5, 5, 5, 6, 6, 6, 6, 6, 6, 6, 6, 6, 6, 6, 6, 6, 6, 6, 6, 6, 6, 6, 6, 6, 6, 6, 6, 6, 6, 6, 6, 6, 6, 6, 6, 6, 6, 6, 6, 7, 7, 7, 7, 7, 7, 7, 7, 7, 7, 7, 7, 7, 7, 7, 7, 7, 7, 8, 8, 8, 8, 9, 9, 9, 10, 10])\n",
        "serie_4 = pd.Series([1, 1, 1, 1, 1, 1, 1, 2, 2, 2, 2, 2, 2, 2, 2, 2, 2, 2, 2, 2, 2, 2, 2, 2, 2, 3, 3, 3, 3, 3, 3, 3, 3, 3, 3, 3, 3, 3, 3, 3, 3, 3, 3, 3, 3, 3, 3, 3, 3, 3, 3, 3, 4, 4, 4, 4, 4, 4, 4, 4, 4, 4, 4, 4, 4, 4, 5, 5, 5, 5, 5, 5, 5, 5, 5, 6, 6, 6, 6, 6, 6, 6, 7, 7, 7, 7, 7, 8, 8, 8, 8, 8, 9, 9, 9, 9, 10, 10, 10])\n"
      ],
      "metadata": {
        "id": "qtenFe99CLtc"
      },
      "execution_count": 20,
      "outputs": []
    },
    {
      "cell_type": "code",
      "source": [
        "# Primera pandas.Series\n",
        "serie_1.quantile([0.05, 0.25, 0.5, 0.75, 0.95])"
      ],
      "metadata": {
        "colab": {
          "base_uri": "https://localhost:8080/"
        },
        "id": "0cd6Oza4CX9e",
        "outputId": "17965210-59ea-4e4b-a936-b5302c66e6f0"
      },
      "execution_count": 21,
      "outputs": [
        {
          "output_type": "execute_result",
          "data": {
            "text/plain": [
              "0.05     1.00\n",
              "0.25     3.75\n",
              "0.50     5.00\n",
              "0.75     7.25\n",
              "0.95    10.00\n",
              "dtype: float64"
            ]
          },
          "metadata": {},
          "execution_count": 21
        }
      ]
    },
    {
      "cell_type": "code",
      "source": [
        "# Segunda pandas.Series\n",
        "serie_2.quantile([0.05, 0.25, 0.5, 0.75, 0.95])"
      ],
      "metadata": {
        "colab": {
          "base_uri": "https://localhost:8080/"
        },
        "id": "9JMAE2pQCXx6",
        "outputId": "9c1823ca-40b5-466e-95b3-2b0532659b6e"
      },
      "execution_count": 22,
      "outputs": [
        {
          "output_type": "execute_result",
          "data": {
            "text/plain": [
              "0.05     2.0\n",
              "0.25     6.0\n",
              "0.50     7.0\n",
              "0.75     8.0\n",
              "0.95    10.0\n",
              "dtype: float64"
            ]
          },
          "metadata": {},
          "execution_count": 22
        }
      ]
    },
    {
      "cell_type": "code",
      "source": [
        "# Tercera pandas.Series\n",
        "serie_3.quantile([0.05, 0.25, 0.5, 0.75, 0.95])"
      ],
      "metadata": {
        "colab": {
          "base_uri": "https://localhost:8080/"
        },
        "id": "pZhTnbMzCXmO",
        "outputId": "cc878344-7ded-46df-c41c-211c7ff6d11d"
      },
      "execution_count": 23,
      "outputs": [
        {
          "output_type": "execute_result",
          "data": {
            "text/plain": [
              "0.05    3.0\n",
              "0.25    5.0\n",
              "0.50    5.0\n",
              "0.75    6.0\n",
              "0.95    8.0\n",
              "dtype: float64"
            ]
          },
          "metadata": {},
          "execution_count": 23
        }
      ]
    },
    {
      "cell_type": "code",
      "source": [
        "# Cuarta pandas.Series\n",
        "serie_4.quantile([0.05, 0.25, 0.5, 0.75, 0.95])"
      ],
      "metadata": {
        "colab": {
          "base_uri": "https://localhost:8080/"
        },
        "id": "s9W8-sDtCXjn",
        "outputId": "d525096a-50b4-4df4-a075-bc7dc1ab7b1a"
      },
      "execution_count": 24,
      "outputs": [
        {
          "output_type": "execute_result",
          "data": {
            "text/plain": [
              "0.05    1.0\n",
              "0.25    2.5\n",
              "0.50    3.0\n",
              "0.75    5.0\n",
              "0.95    9.0\n",
              "dtype: float64"
            ]
          },
          "metadata": {},
          "execution_count": 24
        }
      ]
    },
    {
      "cell_type": "markdown",
      "source": [
        "***\n",
        "***\n",
        "***"
      ],
      "metadata": {
        "id": "l7kCk83OLiom"
      }
    },
    {
      "cell_type": "markdown",
      "source": [
        "## **Postwork**"
      ],
      "metadata": {
        "id": "ubi2IajMLETq"
      }
    },
    {
      "cell_type": "markdown",
      "source": [
        "## Nombre del Postwork: Obteniendo estimados de locación y variabilidad\n",
        "\n",
        "### OBJETIVO \n",
        "\n",
        "- Utilizar estimados de locación y variabilidad para describir las columnas numéricas de un dataset.\n",
        "\n",
        "#### REQUISITOS \n",
        "\n",
        "- Niguno\n",
        "\n",
        "#### DESARROLLO\n",
        "\n",
        "Si estuviste en el módulo anterior, eso quiere decir que ya tienes identificado un problema, te has planteado preguntas acerca del problema, has encontrado un conjunto de datos que crees que te puede ayudar a responder tus preguntas y lo has limpiado y estructurado de manera que está listo para ser analizado.\n",
        "\n",
        "Si no estuviste en el módulo anterior, no te preocupes. Puedes tomarte un poco de tiempo para plantearte qué proyecto quieres realizar durante este módulo.\n",
        "\n",
        "---\n",
        "\n",
        "**Si NO estuviste en el módulo de Procesamiento de Datos realiza antes la siguiente actividad con la ayuda de tu experta**\n",
        "\n",
        "---\n",
        "\n",
        "1. Elige un problema que te parezca interesante o atractivo. Ayuda que sea un tema que conozcas bien, pero no es absolutamente necesario que esa condición se cumpla.\n",
        "2. Plantéate una serie de preguntas acerca de este problema o situación que te parezca que tal vez puedas responder usando análisis de datos.\n",
        "3. Encuentra un dataset que tenga datos que te puedan ser útiles para responder a tus preguntas. Puedes buscar en las siguientes fuentes:\n",
        "\n",
        "- [Kaggle](https://www.kaggle.com/)\n",
        "- [FiveThirtyEight](https://data.fivethirtyeight.com/)\n",
        "- [BuzzFeed News](https://github.com/BuzzFeedNews)\n",
        "- [Awesome Public Datasets](https://github.com/awesomedata/awesome-public-datasets)\n",
        "- [UCL Machine Learning Repository](http://archive.ics.uci.edu/ml/index.php)\n",
        "- [Academic Torrents](http://academictorrents.com/browse.php)\n",
        "- [Quandl](https://www.quandl.com/search)\n",
        "\n",
        "4. Realiza una limpieza general de tu dataset (eliminación de NaNs, renombramiento de índice y columnas, formateo de strings, etc) para que esté listo para ser analizado\n",
        "\n",
        "---\n",
        "\n",
        "**Lo que sigue es para TODOS los estudiantes, hayan estado en el módulo de Procesamiento de Datos o no.**\n",
        "\n",
        "---\n",
        "\n",
        "Vamos a usar estimados de locación y variabilidad para describir nuestro dataset. Ya tenemos un dataset limpio, así que ahora toca extraer información útil de él.\n",
        "\n",
        "Recuerda que sólo es posible obtener estimados de locación y variabilidad cuando tenemos datos numéricos (tanto discretos como continuos). La actividad consiste en lo siguiente:\n",
        "\n",
        "1. Identifica las columnas de tu dataset que tengan datos numéricos.\n",
        "2. Identifica la relevancia de esas columnas (qué tan importantes son para responder a tus preguntas).\n",
        "3. Obtén los siguientes estimados de tus columnas numéricas:\n",
        "\n",
        "  a) Promedio\n",
        "  b) Mediana\n",
        "  c) Media Truncada\n",
        "  d) Desviación estándar\n",
        "  e) Rango\n",
        "  f) Percentiles 25 y 75 (por lo menos)\n",
        "  g) Rango intercuartil\n",
        "  \n",
        "Comenta con tus compañeros qué has aprendido sobre tus datos al estudiar estas medidas."
      ],
      "metadata": {
        "id": "xRD5mhJULIqL"
      }
    }
  ]
}