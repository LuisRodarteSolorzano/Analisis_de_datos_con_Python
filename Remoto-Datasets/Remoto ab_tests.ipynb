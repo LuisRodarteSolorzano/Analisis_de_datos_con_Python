{
 "cells": [
  {
   "cell_type": "code",
   "execution_count": 1,
   "metadata": {},
   "outputs": [],
   "source": [
    "import numpy as np\n",
    "import pandas as pd"
   ]
  },
  {
   "cell_type": "code",
   "execution_count": 2,
   "metadata": {},
   "outputs": [],
   "source": [
    "test_a_conversion = []\n",
    "test_a_no_conversion = []\n",
    "\n",
    "for _ in range(34739):\n",
    "    conv = 1 if np.random.rand() < 0.120425 else 0\n",
    "    no_conv = 1 if conv == 0 else 0\n",
    "    \n",
    "    test_a_conversion.append(conv)\n",
    "    test_a_no_conversion.append(no_conv)\n",
    "    \n",
    "df = pd.DataFrame(\n",
    "    {'conversion': test_a_conversion,\n",
    "    'no conversion': test_a_no_conversion}\n",
    ")\n",
    "\n",
    "df['test'] = 'A'"
   ]
  },
  {
   "cell_type": "code",
   "execution_count": 3,
   "metadata": {},
   "outputs": [],
   "source": [
    "test_b_conversion = []\n",
    "test_b_no_conversion = []\n",
    "\n",
    "for _ in range(41588):\n",
    "    conv = 1 if np.random.rand() < 0.118057 else 0\n",
    "    no_conv = 1 if conv == 0 else 0\n",
    "    \n",
    "    test_b_conversion.append(conv)\n",
    "    test_b_no_conversion.append(no_conv)\n",
    "    \n",
    "df_2 = pd.DataFrame(\n",
    "    {'conversion': test_b_conversion,\n",
    "    'no conversion': test_b_no_conversion}\n",
    ")\n",
    "\n",
    "df_2['test'] = 'B'"
   ]
  },
  {
   "cell_type": "code",
   "execution_count": 4,
   "metadata": {},
   "outputs": [],
   "source": [
    "df_full = pd.concat([df, df_2], axis=0)"
   ]
  },
  {
   "cell_type": "code",
   "execution_count": 5,
   "metadata": {},
   "outputs": [],
   "source": [
    "df_full = df_full.sample(frac=1).reset_index(drop=True)"
   ]
  },
  {
   "cell_type": "code",
   "execution_count": 6,
   "metadata": {},
   "outputs": [],
   "source": [
    "df_full = df_full[['test', 'conversion', 'no conversion']]"
   ]
  },
  {
   "cell_type": "code",
   "execution_count": 7,
   "metadata": {},
   "outputs": [],
   "source": [
    "df_full.to_csv('./ab_test-sales_pipeline-2.csv', index=False)"
   ]
  }
 ],
 "metadata": {
  "kernelspec": {
   "display_name": "Python (data_science)",
   "language": "python",
   "name": "data_science"
  },
  "language_info": {
   "codemirror_mode": {
    "name": "ipython",
    "version": 3
   },
   "file_extension": ".py",
   "mimetype": "text/x-python",
   "name": "python",
   "nbconvert_exporter": "python",
   "pygments_lexer": "ipython3",
   "version": "3.7.6"
  }
 },
 "nbformat": 4,
 "nbformat_minor": 4
}
