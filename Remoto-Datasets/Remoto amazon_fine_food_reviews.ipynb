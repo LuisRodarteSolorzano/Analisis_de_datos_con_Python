{
 "cells": [
  {
   "cell_type": "code",
   "execution_count": 2,
   "metadata": {},
   "outputs": [],
   "source": [
    "import pandas as pd"
   ]
  },
  {
   "cell_type": "code",
   "execution_count": 10,
   "metadata": {},
   "outputs": [
    {
     "data": {
      "text/html": [
       "<div>\n",
       "<style scoped>\n",
       "    .dataframe tbody tr th:only-of-type {\n",
       "        vertical-align: middle;\n",
       "    }\n",
       "\n",
       "    .dataframe tbody tr th {\n",
       "        vertical-align: top;\n",
       "    }\n",
       "\n",
       "    .dataframe thead th {\n",
       "        text-align: right;\n",
       "    }\n",
       "</style>\n",
       "<table border=\"1\" class=\"dataframe\">\n",
       "  <thead>\n",
       "    <tr style=\"text-align: right;\">\n",
       "      <th></th>\n",
       "      <th>id</th>\n",
       "      <th>product_id</th>\n",
       "      <th>user_id</th>\n",
       "      <th>profile_name</th>\n",
       "      <th>helpfulness_numerator</th>\n",
       "      <th>helpfulness_denominator</th>\n",
       "      <th>score</th>\n",
       "      <th>time</th>\n",
       "      <th>summary</th>\n",
       "      <th>text</th>\n",
       "    </tr>\n",
       "  </thead>\n",
       "  <tbody>\n",
       "    <tr>\n",
       "      <th>0</th>\n",
       "      <td>533099</td>\n",
       "      <td>B009E7YC54</td>\n",
       "      <td>A1N2Z0HOPD4Y11</td>\n",
       "      <td>NWOOD</td>\n",
       "      <td>0</td>\n",
       "      <td>0</td>\n",
       "      <td>1</td>\n",
       "      <td>1350864000</td>\n",
       "      <td>Yuck</td>\n",
       "      <td>Does not taste like peanut butter at all.  Lea...</td>\n",
       "    </tr>\n",
       "    <tr>\n",
       "      <th>1</th>\n",
       "      <td>379703</td>\n",
       "      <td>B005GBIXZM</td>\n",
       "      <td>A9NXTC0HTPSDO</td>\n",
       "      <td>Maggie</td>\n",
       "      <td>0</td>\n",
       "      <td>0</td>\n",
       "      <td>4</td>\n",
       "      <td>1320624000</td>\n",
       "      <td>Move Over Ban Roll On Deoderant:  lol  Here is...</td>\n",
       "      <td>OK, so my dog loves this and she is a picky ea...</td>\n",
       "    </tr>\n",
       "    <tr>\n",
       "      <th>2</th>\n",
       "      <td>389827</td>\n",
       "      <td>B0008IT4OM</td>\n",
       "      <td>AX94KT3Z9LD6Z</td>\n",
       "      <td>Nancy L. Bowie \"chocfreak\"</td>\n",
       "      <td>1</td>\n",
       "      <td>1</td>\n",
       "      <td>3</td>\n",
       "      <td>1174003200</td>\n",
       "      <td>Somebody made a booboo</td>\n",
       "      <td>When the truffles came I opened them right awa...</td>\n",
       "    </tr>\n",
       "    <tr>\n",
       "      <th>3</th>\n",
       "      <td>267404</td>\n",
       "      <td>B008MPC2LK</td>\n",
       "      <td>A1AG6A3IJMB6RW</td>\n",
       "      <td>G G Tuens</td>\n",
       "      <td>1</td>\n",
       "      <td>1</td>\n",
       "      <td>5</td>\n",
       "      <td>1301270400</td>\n",
       "      <td>great white kidney beans</td>\n",
       "      <td>I've been using these beans for years and they...</td>\n",
       "    </tr>\n",
       "    <tr>\n",
       "      <th>4</th>\n",
       "      <td>489249</td>\n",
       "      <td>B001BDD278</td>\n",
       "      <td>ACODV53O17NL9</td>\n",
       "      <td>LightShineOn \"Annie\"</td>\n",
       "      <td>1</td>\n",
       "      <td>1</td>\n",
       "      <td>5</td>\n",
       "      <td>1270425600</td>\n",
       "      <td>MY SCHNAUZERS LOVE IT!</td>\n",
       "      <td>My Schnauzers are sometimes very picky about w...</td>\n",
       "    </tr>\n",
       "    <tr>\n",
       "      <th>...</th>\n",
       "      <td>...</td>\n",
       "      <td>...</td>\n",
       "      <td>...</td>\n",
       "      <td>...</td>\n",
       "      <td>...</td>\n",
       "      <td>...</td>\n",
       "      <td>...</td>\n",
       "      <td>...</td>\n",
       "      <td>...</td>\n",
       "      <td>...</td>\n",
       "    </tr>\n",
       "    <tr>\n",
       "      <th>28417</th>\n",
       "      <td>322654</td>\n",
       "      <td>B003AO5Q2A</td>\n",
       "      <td>A3JQ58CZBV3FOZ</td>\n",
       "      <td>M. Wang</td>\n",
       "      <td>1</td>\n",
       "      <td>3</td>\n",
       "      <td>3</td>\n",
       "      <td>1271203200</td>\n",
       "      <td>Better choices abound</td>\n",
       "      <td>I ordered this for this household's resident C...</td>\n",
       "    </tr>\n",
       "    <tr>\n",
       "      <th>28418</th>\n",
       "      <td>475304</td>\n",
       "      <td>B003KEZDD2</td>\n",
       "      <td>A1IUK1ZZ5NW5P</td>\n",
       "      <td>Frank Cannonito</td>\n",
       "      <td>0</td>\n",
       "      <td>0</td>\n",
       "      <td>5</td>\n",
       "      <td>1307232000</td>\n",
       "      <td>Sicilian's Delight</td>\n",
       "      <td>I use anchovy paste in place of added salt in ...</td>\n",
       "    </tr>\n",
       "    <tr>\n",
       "      <th>28419</th>\n",
       "      <td>3363</td>\n",
       "      <td>B005K4Q1VI</td>\n",
       "      <td>A3IGJXAAJN2A9V</td>\n",
       "      <td>Carole R. NAPOLI</td>\n",
       "      <td>0</td>\n",
       "      <td>0</td>\n",
       "      <td>5</td>\n",
       "      <td>1326326400</td>\n",
       "      <td>good and tasty</td>\n",
       "      <td>I love the flavor that this hot chocolate has....</td>\n",
       "    </tr>\n",
       "    <tr>\n",
       "      <th>28420</th>\n",
       "      <td>127859</td>\n",
       "      <td>B001OCBTKI</td>\n",
       "      <td>A86OLWB212NSD</td>\n",
       "      <td>Eve Dallas</td>\n",
       "      <td>0</td>\n",
       "      <td>0</td>\n",
       "      <td>5</td>\n",
       "      <td>1267920000</td>\n",
       "      <td>Tazo Organic Spicy Ginger Tea - LOVE!</td>\n",
       "      <td>I love this tea.  It's delicate.  I don't care...</td>\n",
       "    </tr>\n",
       "    <tr>\n",
       "      <th>28421</th>\n",
       "      <td>524271</td>\n",
       "      <td>B004JGQ15E</td>\n",
       "      <td>A1EARN5PUVIF1S</td>\n",
       "      <td>Jerry P. Danzig</td>\n",
       "      <td>3</td>\n",
       "      <td>4</td>\n",
       "      <td>2</td>\n",
       "      <td>1304294400</td>\n",
       "      <td>Painful Pleasure</td>\n",
       "      <td>I originally wrote a positive review of this S...</td>\n",
       "    </tr>\n",
       "  </tbody>\n",
       "</table>\n",
       "<p>28422 rows × 10 columns</p>\n",
       "</div>"
      ],
      "text/plain": [
       "           id  product_id         user_id                profile_name  \\\n",
       "0      533099  B009E7YC54  A1N2Z0HOPD4Y11                       NWOOD   \n",
       "1      379703  B005GBIXZM   A9NXTC0HTPSDO                      Maggie   \n",
       "2      389827  B0008IT4OM   AX94KT3Z9LD6Z  Nancy L. Bowie \"chocfreak\"   \n",
       "3      267404  B008MPC2LK  A1AG6A3IJMB6RW                   G G Tuens   \n",
       "4      489249  B001BDD278   ACODV53O17NL9        LightShineOn \"Annie\"   \n",
       "...       ...         ...             ...                         ...   \n",
       "28417  322654  B003AO5Q2A  A3JQ58CZBV3FOZ                     M. Wang   \n",
       "28418  475304  B003KEZDD2   A1IUK1ZZ5NW5P             Frank Cannonito   \n",
       "28419    3363  B005K4Q1VI  A3IGJXAAJN2A9V            Carole R. NAPOLI   \n",
       "28420  127859  B001OCBTKI   A86OLWB212NSD                  Eve Dallas   \n",
       "28421  524271  B004JGQ15E  A1EARN5PUVIF1S             Jerry P. Danzig   \n",
       "\n",
       "       helpfulness_numerator  helpfulness_denominator  score        time  \\\n",
       "0                          0                        0      1  1350864000   \n",
       "1                          0                        0      4  1320624000   \n",
       "2                          1                        1      3  1174003200   \n",
       "3                          1                        1      5  1301270400   \n",
       "4                          1                        1      5  1270425600   \n",
       "...                      ...                      ...    ...         ...   \n",
       "28417                      1                        3      3  1271203200   \n",
       "28418                      0                        0      5  1307232000   \n",
       "28419                      0                        0      5  1326326400   \n",
       "28420                      0                        0      5  1267920000   \n",
       "28421                      3                        4      2  1304294400   \n",
       "\n",
       "                                                 summary  \\\n",
       "0                                                   Yuck   \n",
       "1      Move Over Ban Roll On Deoderant:  lol  Here is...   \n",
       "2                                 Somebody made a booboo   \n",
       "3                               great white kidney beans   \n",
       "4                                 MY SCHNAUZERS LOVE IT!   \n",
       "...                                                  ...   \n",
       "28417                              Better choices abound   \n",
       "28418                                 Sicilian's Delight   \n",
       "28419                                     good and tasty   \n",
       "28420              Tazo Organic Spicy Ginger Tea - LOVE!   \n",
       "28421                                   Painful Pleasure   \n",
       "\n",
       "                                                    text  \n",
       "0      Does not taste like peanut butter at all.  Lea...  \n",
       "1      OK, so my dog loves this and she is a picky ea...  \n",
       "2      When the truffles came I opened them right awa...  \n",
       "3      I've been using these beans for years and they...  \n",
       "4      My Schnauzers are sometimes very picky about w...  \n",
       "...                                                  ...  \n",
       "28417  I ordered this for this household's resident C...  \n",
       "28418  I use anchovy paste in place of added salt in ...  \n",
       "28419  I love the flavor that this hot chocolate has....  \n",
       "28420  I love this tea.  It's delicate.  I don't care...  \n",
       "28421  I originally wrote a positive review of this S...  \n",
       "\n",
       "[28422 rows x 10 columns]"
      ]
     },
     "execution_count": 10,
     "metadata": {},
     "output_type": "execute_result"
    }
   ],
   "source": [
    "df = pd.read_csv('amazon_fine_food_reviews-clean.csv')\n",
    "\n",
    "df"
   ]
  },
  {
   "cell_type": "code",
   "execution_count": 34,
   "metadata": {},
   "outputs": [
    {
     "data": {
      "text/plain": [
       "array([3, 5, 1, 4, 2])"
      ]
     },
     "execution_count": 34,
     "metadata": {},
     "output_type": "execute_result"
    }
   ],
   "source": [
    "df['score'].unique()"
   ]
  },
  {
   "cell_type": "code",
   "execution_count": 11,
   "metadata": {},
   "outputs": [],
   "source": [
    "df = df.sample(frac=0.5, replace=False)"
   ]
  },
  {
   "cell_type": "code",
   "execution_count": 12,
   "metadata": {},
   "outputs": [],
   "source": [
    "# df.to_csv('amazon_fine_food_reviews-clean.csv', index=False)"
   ]
  },
  {
   "cell_type": "code",
   "execution_count": 13,
   "metadata": {},
   "outputs": [],
   "source": [
    "reviews = df['text']"
   ]
  },
  {
   "cell_type": "code",
   "execution_count": 14,
   "metadata": {},
   "outputs": [],
   "source": [
    "import nltk\n",
    "\n",
    "tokenized = reviews.apply(nltk.word_tokenize)"
   ]
  },
  {
   "cell_type": "code",
   "execution_count": 15,
   "metadata": {},
   "outputs": [],
   "source": [
    "all_words = tokenized.sum()\n",
    "text = nltk.Text(all_words)"
   ]
  },
  {
   "cell_type": "code",
   "execution_count": 28,
   "metadata": {},
   "outputs": [
    {
     "name": "stdout",
     "output_type": "stream",
     "text": [
      "Displaying 25 of 73 matches:\n",
      "ll his life . Plus , both he and his girl friend love the taste ! I recently p\n",
      "railers were coming over ; I had the girl with three boobs from the freak show\n",
      "... my tiny little Italian Greyhound girl gets a greenie at bedtime , and some\n",
      " < br / > Nothing else compares . My girl has loved these for two years . When\n",
      " This is one of the few treats Wilhi Girl enjoys . Just opened this package an\n",
      "lly i am a made from scratch kind of girl but wanted to try these flavors and \n",
      "wrapped candies I bought as a little girl from the corner store for 5 cents a \n",
      "ed by my wife and I ( and our little girl , Poppy ) without reservation - if y\n",
      "hearing about this product on Hungry Girl . I love peanut butter but not all t\n",
      "e something extra when she 's a good girl and not have to worry if she will ge\n",
      "able shop.Nice to deal with ! My Chi girl loves these . She gets excited when \n",
      "n China. < br / > < br / > My little girl was having trouble with `` dry stool\n",
      "dogs as they age . I want my special girl to stay healthy , pain free , and ha\n",
      "hese as a suggestion from the Hungry Girl Website , my husband and I Love them\n",
      "pping like this since I was a little girl . Other brands have been artifical a\n",
      "le Shih Tzu and he ate them , but my girl was n't impressed . I am still searc\n",
      "e ( reminds me of the chocolate mint Girl Scout Cookies with less sugar ) . < \n",
      " enjoy this mustard . I am an island girl and this is a product where I feel I\n",
      "r on-the-go guarantee that my little girl gets her fruits and veggies . She lo\n",
      " food to be a life-saver for her old girl . One of the big challenges of the l\n",
      "hank you for helping me save my baby girl ! ! ! ! ! I like Pepitas and when I \n",
      "eds some work . My overweight little girl not only got down to a healthy size \n",
      " the taste of the food , and even my girl who we used to have to push to finis\n",
      "ortbread cookies ! I was involved in Girl Scouts for 9 years and had my share \n",
      "ies. < br / > They taste almost like Girl Scout Thin Mint patty cookies ! They\n"
     ]
    }
   ],
   "source": [
    "text.concordance('girl')"
   ]
  },
  {
   "cell_type": "code",
   "execution_count": 29,
   "metadata": {},
   "outputs": [
    {
     "name": "stdout",
     "output_type": "stream",
     "text": [
      "dog food tea and br taste cat coffee one flavor mouth time dogs\n",
      "product wife daughter door packaging but price\n"
     ]
    }
   ],
   "source": [
    "text.similar('girl')"
   ]
  },
  {
   "cell_type": "code",
   "execution_count": 30,
   "metadata": {},
   "outputs": [
    {
     "name": "stdout",
     "output_type": "stream",
     "text": [
      "Displaying 25 of 78 matches:\n",
      "aking of one down to the letter , and boy oh boy ... not only was my husband th\n",
      "f one down to the letter , and boy oh boy ... not only was my husband thrilled \n",
      " . Yes , they 're chewy and gooey and boy are they sweet . A bit too sweet for \n",
      "ult , I had to throw it out My little boy is 10month , and I got this puff for \n",
      "ck on track . So , I ordered more and boy , did she love it . It even smells go\n",
      " so in love with this mix ! ! My baby boy wo n't have to eat yucky hard so-call\n",
      "e pet waste BioBag can be tossed in . Boy , I am glad I called the city before \n",
      "ould never have made the purchase and boy was I glad to take the advice ! Prior\n",
      "but I thought I would give it a try . Boy , was I amazed by the refreshing flav\n",
      "e this would be OK. < br / > < br / > Boy was I wrong . This stuff is now on my\n",
      "ave ordered a bonsai tree from Bonsai Boy ! It arrived within a week . The tree\n",
      "orward from ordering more from Bonsai Boy . : ) You probably already know wheth\n",
      "or half the price at JellyBelly.com ! Boy , did I feel ripped off when I discov\n",
      "d to be as good as their others - and boy was I right ! I made the mix into cup\n",
      " vet after my 5 year old Russian Blue boy developed chrystals in hir urine and \n",
      " catfood . Had some problems with the boy kitty after neutering and he went off\n",
      "e reviews in here , Amazon ... and oh boy , it trully works ! ! ! My face had m\n",
      "do n't they ? Well our three-year-old boy certainly does . So my wife picked up\n",
      "e are just as much for her as for the boy . Well , what can you do ? We already\n",
      "Nice snack or treat ! Of course , the boy loves them ! I 'm going to have probl\n",
      "t I might singe my nose hairs because boy is it strong ! You people who drink i\n",
      "the past with store bought brands and boy did I regret it haha if you do n't ha\n",
      "r Quadratini Lemon Wafer Cookies . Oh boy , are these good ! They disappear rea\n",
      "h by telling his teammates that every boy at the academy gets a shot at playing\n",
      " , and Jameson can barely look at the boy without cringing . Coopersmith 's dar\n"
     ]
    }
   ],
   "source": [
    "text.concordance('boy')"
   ]
  },
  {
   "cell_type": "code",
   "execution_count": 32,
   "metadata": {},
   "outputs": [
    {
     "name": "stdout",
     "output_type": "stream",
     "text": [
      "i it and that flavor there this br taste he dog so she but one price\n",
      "what amazon bag product\n"
     ]
    }
   ],
   "source": [
    "text.similar('boy')"
   ]
  },
  {
   "cell_type": "code",
   "execution_count": 33,
   "metadata": {},
   "outputs": [
    {
     "name": "stdout",
     "output_type": "stream",
     "text": [
      "little_i\n"
     ]
    }
   ],
   "source": [
    "text.common_contexts(['boy', 'girl'])"
   ]
  },
  {
   "cell_type": "code",
   "execution_count": null,
   "metadata": {},
   "outputs": [],
   "source": []
  }
 ],
 "metadata": {
  "kernelspec": {
   "display_name": "Python (data_science)",
   "language": "python",
   "name": "data_science"
  },
  "language_info": {
   "codemirror_mode": {
    "name": "ipython",
    "version": 3
   },
   "file_extension": ".py",
   "mimetype": "text/x-python",
   "name": "python",
   "nbconvert_exporter": "python",
   "pygments_lexer": "ipython3",
   "version": "3.7.6"
  }
 },
 "nbformat": 4,
 "nbformat_minor": 4
}
